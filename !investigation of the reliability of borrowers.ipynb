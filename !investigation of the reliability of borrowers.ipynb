{
 "cells": [
  {
   "cell_type": "markdown",
   "id": "396a0cb6",
   "metadata": {},
   "source": [
    "# Исследование надежности заемщиков."
   ]
  },
  {
   "cell_type": "markdown",
   "id": "b0533dae",
   "metadata": {},
   "source": [
    "**Цель исследования**\n",
    "Провести исследование на основе входных данных от банка по статистике о платёжеспособности клиентов.\n",
    "\n",
    "**Данные**\n",
    "Файл с данными *(data.csv)* со статистикой о платёжеспособности банковских клиентов.\n",
    "\n",
    "**Задача**\n",
    "Определить,  влияет ли семейное положение и количество детей клиента на факт погашения кредита в срок.\n",
    "\n",
    "**Описание данных**\n",
    "\n",
    "*children* — количество детей в семье\n",
    "\n",
    "*days_employed* — общий трудовой стаж в днях\n",
    "\n",
    "*dob_years* — возраст клиента в годах\n",
    "\n",
    "*education* — уровень образования клиента\n",
    "\n",
    "*education_id* — идентификатор уровня образования\n",
    "\n",
    "*family_status* — семейное положение\n",
    "\n",
    "*family_status_id* — идентификатор семейного положения\n",
    "\n",
    "*gender* — пол клиента\n",
    "\n",
    "*income_type* — тип занятости\n",
    "\n",
    "*debt* — имел ли задолженность по возврату кредитов\n",
    "\n",
    "*total_income* — ежемесячный доход\n",
    "\n",
    "*purpose* — цель получения кредита\n"
   ]
  },
  {
   "cell_type": "markdown",
   "id": "3cb6cc19",
   "metadata": {},
   "source": [
    "### Шаг 1. Обзор данных"
   ]
  },
  {
   "cell_type": "markdown",
   "id": "ab6147de",
   "metadata": {},
   "source": [
    "Импортируем библиотеку pandas и читаем файл с исходными данными</div>"
   ]
  },
  {
   "cell_type": "code",
   "execution_count": 1,
   "id": "5cae5c0b",
   "metadata": {
    "scrolled": true
   },
   "outputs": [],
   "source": [
    "import pandas as pd\n",
    "\n",
    "data = pd.read_csv('/datasets/data.csv')"
   ]
  },
  {
   "cell_type": "markdown",
   "id": "395ecf9e",
   "metadata": {},
   "source": [
    " Изучаем общую информацию о данных с помощью метода info(), рассмотрим первые 20 строк датасета</div>"
   ]
  },
  {
   "cell_type": "code",
   "execution_count": 2,
   "id": "9a32c570",
   "metadata": {},
   "outputs": [
    {
     "name": "stdout",
     "output_type": "stream",
     "text": [
      "<class 'pandas.core.frame.DataFrame'>\n",
      "RangeIndex: 21525 entries, 0 to 21524\n",
      "Data columns (total 12 columns):\n",
      "children            21525 non-null int64\n",
      "days_employed       19351 non-null float64\n",
      "dob_years           21525 non-null int64\n",
      "education           21525 non-null object\n",
      "education_id        21525 non-null int64\n",
      "family_status       21525 non-null object\n",
      "family_status_id    21525 non-null int64\n",
      "gender              21525 non-null object\n",
      "income_type         21525 non-null object\n",
      "debt                21525 non-null int64\n",
      "total_income        19351 non-null float64\n",
      "purpose             21525 non-null object\n",
      "dtypes: float64(2), int64(5), object(5)\n",
      "memory usage: 2.0+ MB\n"
     ]
    },
    {
     "data": {
      "text/html": [
       "<div>\n",
       "<style scoped>\n",
       "    .dataframe tbody tr th:only-of-type {\n",
       "        vertical-align: middle;\n",
       "    }\n",
       "\n",
       "    .dataframe tbody tr th {\n",
       "        vertical-align: top;\n",
       "    }\n",
       "\n",
       "    .dataframe thead th {\n",
       "        text-align: right;\n",
       "    }\n",
       "</style>\n",
       "<table border=\"1\" class=\"dataframe\">\n",
       "  <thead>\n",
       "    <tr style=\"text-align: right;\">\n",
       "      <th></th>\n",
       "      <th>children</th>\n",
       "      <th>days_employed</th>\n",
       "      <th>dob_years</th>\n",
       "      <th>education</th>\n",
       "      <th>education_id</th>\n",
       "      <th>family_status</th>\n",
       "      <th>family_status_id</th>\n",
       "      <th>gender</th>\n",
       "      <th>income_type</th>\n",
       "      <th>debt</th>\n",
       "      <th>total_income</th>\n",
       "      <th>purpose</th>\n",
       "    </tr>\n",
       "  </thead>\n",
       "  <tbody>\n",
       "    <tr>\n",
       "      <td>0</td>\n",
       "      <td>1</td>\n",
       "      <td>-8437.673028</td>\n",
       "      <td>42</td>\n",
       "      <td>высшее</td>\n",
       "      <td>0</td>\n",
       "      <td>женат / замужем</td>\n",
       "      <td>0</td>\n",
       "      <td>F</td>\n",
       "      <td>сотрудник</td>\n",
       "      <td>0</td>\n",
       "      <td>253875.639453</td>\n",
       "      <td>покупка жилья</td>\n",
       "    </tr>\n",
       "    <tr>\n",
       "      <td>1</td>\n",
       "      <td>1</td>\n",
       "      <td>-4024.803754</td>\n",
       "      <td>36</td>\n",
       "      <td>среднее</td>\n",
       "      <td>1</td>\n",
       "      <td>женат / замужем</td>\n",
       "      <td>0</td>\n",
       "      <td>F</td>\n",
       "      <td>сотрудник</td>\n",
       "      <td>0</td>\n",
       "      <td>112080.014102</td>\n",
       "      <td>приобретение автомобиля</td>\n",
       "    </tr>\n",
       "    <tr>\n",
       "      <td>2</td>\n",
       "      <td>0</td>\n",
       "      <td>-5623.422610</td>\n",
       "      <td>33</td>\n",
       "      <td>Среднее</td>\n",
       "      <td>1</td>\n",
       "      <td>женат / замужем</td>\n",
       "      <td>0</td>\n",
       "      <td>M</td>\n",
       "      <td>сотрудник</td>\n",
       "      <td>0</td>\n",
       "      <td>145885.952297</td>\n",
       "      <td>покупка жилья</td>\n",
       "    </tr>\n",
       "    <tr>\n",
       "      <td>3</td>\n",
       "      <td>3</td>\n",
       "      <td>-4124.747207</td>\n",
       "      <td>32</td>\n",
       "      <td>среднее</td>\n",
       "      <td>1</td>\n",
       "      <td>женат / замужем</td>\n",
       "      <td>0</td>\n",
       "      <td>M</td>\n",
       "      <td>сотрудник</td>\n",
       "      <td>0</td>\n",
       "      <td>267628.550329</td>\n",
       "      <td>дополнительное образование</td>\n",
       "    </tr>\n",
       "    <tr>\n",
       "      <td>4</td>\n",
       "      <td>0</td>\n",
       "      <td>340266.072047</td>\n",
       "      <td>53</td>\n",
       "      <td>среднее</td>\n",
       "      <td>1</td>\n",
       "      <td>гражданский брак</td>\n",
       "      <td>1</td>\n",
       "      <td>F</td>\n",
       "      <td>пенсионер</td>\n",
       "      <td>0</td>\n",
       "      <td>158616.077870</td>\n",
       "      <td>сыграть свадьбу</td>\n",
       "    </tr>\n",
       "    <tr>\n",
       "      <td>5</td>\n",
       "      <td>0</td>\n",
       "      <td>-926.185831</td>\n",
       "      <td>27</td>\n",
       "      <td>высшее</td>\n",
       "      <td>0</td>\n",
       "      <td>гражданский брак</td>\n",
       "      <td>1</td>\n",
       "      <td>M</td>\n",
       "      <td>компаньон</td>\n",
       "      <td>0</td>\n",
       "      <td>255763.565419</td>\n",
       "      <td>покупка жилья</td>\n",
       "    </tr>\n",
       "    <tr>\n",
       "      <td>6</td>\n",
       "      <td>0</td>\n",
       "      <td>-2879.202052</td>\n",
       "      <td>43</td>\n",
       "      <td>высшее</td>\n",
       "      <td>0</td>\n",
       "      <td>женат / замужем</td>\n",
       "      <td>0</td>\n",
       "      <td>F</td>\n",
       "      <td>компаньон</td>\n",
       "      <td>0</td>\n",
       "      <td>240525.971920</td>\n",
       "      <td>операции с жильем</td>\n",
       "    </tr>\n",
       "    <tr>\n",
       "      <td>7</td>\n",
       "      <td>0</td>\n",
       "      <td>-152.779569</td>\n",
       "      <td>50</td>\n",
       "      <td>СРЕДНЕЕ</td>\n",
       "      <td>1</td>\n",
       "      <td>женат / замужем</td>\n",
       "      <td>0</td>\n",
       "      <td>M</td>\n",
       "      <td>сотрудник</td>\n",
       "      <td>0</td>\n",
       "      <td>135823.934197</td>\n",
       "      <td>образование</td>\n",
       "    </tr>\n",
       "    <tr>\n",
       "      <td>8</td>\n",
       "      <td>2</td>\n",
       "      <td>-6929.865299</td>\n",
       "      <td>35</td>\n",
       "      <td>ВЫСШЕЕ</td>\n",
       "      <td>0</td>\n",
       "      <td>гражданский брак</td>\n",
       "      <td>1</td>\n",
       "      <td>F</td>\n",
       "      <td>сотрудник</td>\n",
       "      <td>0</td>\n",
       "      <td>95856.832424</td>\n",
       "      <td>на проведение свадьбы</td>\n",
       "    </tr>\n",
       "    <tr>\n",
       "      <td>9</td>\n",
       "      <td>0</td>\n",
       "      <td>-2188.756445</td>\n",
       "      <td>41</td>\n",
       "      <td>среднее</td>\n",
       "      <td>1</td>\n",
       "      <td>женат / замужем</td>\n",
       "      <td>0</td>\n",
       "      <td>M</td>\n",
       "      <td>сотрудник</td>\n",
       "      <td>0</td>\n",
       "      <td>144425.938277</td>\n",
       "      <td>покупка жилья для семьи</td>\n",
       "    </tr>\n",
       "    <tr>\n",
       "      <td>10</td>\n",
       "      <td>2</td>\n",
       "      <td>-4171.483647</td>\n",
       "      <td>36</td>\n",
       "      <td>высшее</td>\n",
       "      <td>0</td>\n",
       "      <td>женат / замужем</td>\n",
       "      <td>0</td>\n",
       "      <td>M</td>\n",
       "      <td>компаньон</td>\n",
       "      <td>0</td>\n",
       "      <td>113943.491460</td>\n",
       "      <td>покупка недвижимости</td>\n",
       "    </tr>\n",
       "    <tr>\n",
       "      <td>11</td>\n",
       "      <td>0</td>\n",
       "      <td>-792.701887</td>\n",
       "      <td>40</td>\n",
       "      <td>среднее</td>\n",
       "      <td>1</td>\n",
       "      <td>женат / замужем</td>\n",
       "      <td>0</td>\n",
       "      <td>F</td>\n",
       "      <td>сотрудник</td>\n",
       "      <td>0</td>\n",
       "      <td>77069.234271</td>\n",
       "      <td>покупка коммерческой недвижимости</td>\n",
       "    </tr>\n",
       "    <tr>\n",
       "      <td>12</td>\n",
       "      <td>0</td>\n",
       "      <td>NaN</td>\n",
       "      <td>65</td>\n",
       "      <td>среднее</td>\n",
       "      <td>1</td>\n",
       "      <td>гражданский брак</td>\n",
       "      <td>1</td>\n",
       "      <td>M</td>\n",
       "      <td>пенсионер</td>\n",
       "      <td>0</td>\n",
       "      <td>NaN</td>\n",
       "      <td>сыграть свадьбу</td>\n",
       "    </tr>\n",
       "    <tr>\n",
       "      <td>13</td>\n",
       "      <td>0</td>\n",
       "      <td>-1846.641941</td>\n",
       "      <td>54</td>\n",
       "      <td>неоконченное высшее</td>\n",
       "      <td>2</td>\n",
       "      <td>женат / замужем</td>\n",
       "      <td>0</td>\n",
       "      <td>F</td>\n",
       "      <td>сотрудник</td>\n",
       "      <td>0</td>\n",
       "      <td>130458.228857</td>\n",
       "      <td>приобретение автомобиля</td>\n",
       "    </tr>\n",
       "    <tr>\n",
       "      <td>14</td>\n",
       "      <td>0</td>\n",
       "      <td>-1844.956182</td>\n",
       "      <td>56</td>\n",
       "      <td>высшее</td>\n",
       "      <td>0</td>\n",
       "      <td>гражданский брак</td>\n",
       "      <td>1</td>\n",
       "      <td>F</td>\n",
       "      <td>компаньон</td>\n",
       "      <td>1</td>\n",
       "      <td>165127.911772</td>\n",
       "      <td>покупка жилой недвижимости</td>\n",
       "    </tr>\n",
       "    <tr>\n",
       "      <td>15</td>\n",
       "      <td>1</td>\n",
       "      <td>-972.364419</td>\n",
       "      <td>26</td>\n",
       "      <td>среднее</td>\n",
       "      <td>1</td>\n",
       "      <td>женат / замужем</td>\n",
       "      <td>0</td>\n",
       "      <td>F</td>\n",
       "      <td>сотрудник</td>\n",
       "      <td>0</td>\n",
       "      <td>116820.904450</td>\n",
       "      <td>строительство собственной недвижимости</td>\n",
       "    </tr>\n",
       "    <tr>\n",
       "      <td>16</td>\n",
       "      <td>0</td>\n",
       "      <td>-1719.934226</td>\n",
       "      <td>35</td>\n",
       "      <td>среднее</td>\n",
       "      <td>1</td>\n",
       "      <td>женат / замужем</td>\n",
       "      <td>0</td>\n",
       "      <td>F</td>\n",
       "      <td>сотрудник</td>\n",
       "      <td>0</td>\n",
       "      <td>289202.704229</td>\n",
       "      <td>недвижимость</td>\n",
       "    </tr>\n",
       "    <tr>\n",
       "      <td>17</td>\n",
       "      <td>0</td>\n",
       "      <td>-2369.999720</td>\n",
       "      <td>33</td>\n",
       "      <td>высшее</td>\n",
       "      <td>0</td>\n",
       "      <td>гражданский брак</td>\n",
       "      <td>1</td>\n",
       "      <td>M</td>\n",
       "      <td>сотрудник</td>\n",
       "      <td>0</td>\n",
       "      <td>90410.586745</td>\n",
       "      <td>строительство недвижимости</td>\n",
       "    </tr>\n",
       "    <tr>\n",
       "      <td>18</td>\n",
       "      <td>0</td>\n",
       "      <td>400281.136913</td>\n",
       "      <td>53</td>\n",
       "      <td>среднее</td>\n",
       "      <td>1</td>\n",
       "      <td>вдовец / вдова</td>\n",
       "      <td>2</td>\n",
       "      <td>F</td>\n",
       "      <td>пенсионер</td>\n",
       "      <td>0</td>\n",
       "      <td>56823.777243</td>\n",
       "      <td>на покупку подержанного автомобиля</td>\n",
       "    </tr>\n",
       "    <tr>\n",
       "      <td>19</td>\n",
       "      <td>0</td>\n",
       "      <td>-10038.818549</td>\n",
       "      <td>48</td>\n",
       "      <td>СРЕДНЕЕ</td>\n",
       "      <td>1</td>\n",
       "      <td>в разводе</td>\n",
       "      <td>3</td>\n",
       "      <td>F</td>\n",
       "      <td>сотрудник</td>\n",
       "      <td>0</td>\n",
       "      <td>242831.107982</td>\n",
       "      <td>на покупку своего автомобиля</td>\n",
       "    </tr>\n",
       "  </tbody>\n",
       "</table>\n",
       "</div>"
      ],
      "text/plain": [
       "    children  days_employed  dob_years            education  education_id  \\\n",
       "0          1   -8437.673028         42               высшее             0   \n",
       "1          1   -4024.803754         36              среднее             1   \n",
       "2          0   -5623.422610         33              Среднее             1   \n",
       "3          3   -4124.747207         32              среднее             1   \n",
       "4          0  340266.072047         53              среднее             1   \n",
       "5          0    -926.185831         27               высшее             0   \n",
       "6          0   -2879.202052         43               высшее             0   \n",
       "7          0    -152.779569         50              СРЕДНЕЕ             1   \n",
       "8          2   -6929.865299         35               ВЫСШЕЕ             0   \n",
       "9          0   -2188.756445         41              среднее             1   \n",
       "10         2   -4171.483647         36               высшее             0   \n",
       "11         0    -792.701887         40              среднее             1   \n",
       "12         0            NaN         65              среднее             1   \n",
       "13         0   -1846.641941         54  неоконченное высшее             2   \n",
       "14         0   -1844.956182         56               высшее             0   \n",
       "15         1    -972.364419         26              среднее             1   \n",
       "16         0   -1719.934226         35              среднее             1   \n",
       "17         0   -2369.999720         33               высшее             0   \n",
       "18         0  400281.136913         53              среднее             1   \n",
       "19         0  -10038.818549         48              СРЕДНЕЕ             1   \n",
       "\n",
       "       family_status  family_status_id gender income_type  debt  \\\n",
       "0    женат / замужем                 0      F   сотрудник     0   \n",
       "1    женат / замужем                 0      F   сотрудник     0   \n",
       "2    женат / замужем                 0      M   сотрудник     0   \n",
       "3    женат / замужем                 0      M   сотрудник     0   \n",
       "4   гражданский брак                 1      F   пенсионер     0   \n",
       "5   гражданский брак                 1      M   компаньон     0   \n",
       "6    женат / замужем                 0      F   компаньон     0   \n",
       "7    женат / замужем                 0      M   сотрудник     0   \n",
       "8   гражданский брак                 1      F   сотрудник     0   \n",
       "9    женат / замужем                 0      M   сотрудник     0   \n",
       "10   женат / замужем                 0      M   компаньон     0   \n",
       "11   женат / замужем                 0      F   сотрудник     0   \n",
       "12  гражданский брак                 1      M   пенсионер     0   \n",
       "13   женат / замужем                 0      F   сотрудник     0   \n",
       "14  гражданский брак                 1      F   компаньон     1   \n",
       "15   женат / замужем                 0      F   сотрудник     0   \n",
       "16   женат / замужем                 0      F   сотрудник     0   \n",
       "17  гражданский брак                 1      M   сотрудник     0   \n",
       "18    вдовец / вдова                 2      F   пенсионер     0   \n",
       "19         в разводе                 3      F   сотрудник     0   \n",
       "\n",
       "     total_income                                 purpose  \n",
       "0   253875.639453                           покупка жилья  \n",
       "1   112080.014102                 приобретение автомобиля  \n",
       "2   145885.952297                           покупка жилья  \n",
       "3   267628.550329              дополнительное образование  \n",
       "4   158616.077870                         сыграть свадьбу  \n",
       "5   255763.565419                           покупка жилья  \n",
       "6   240525.971920                       операции с жильем  \n",
       "7   135823.934197                             образование  \n",
       "8    95856.832424                   на проведение свадьбы  \n",
       "9   144425.938277                 покупка жилья для семьи  \n",
       "10  113943.491460                    покупка недвижимости  \n",
       "11   77069.234271       покупка коммерческой недвижимости  \n",
       "12            NaN                         сыграть свадьбу  \n",
       "13  130458.228857                 приобретение автомобиля  \n",
       "14  165127.911772              покупка жилой недвижимости  \n",
       "15  116820.904450  строительство собственной недвижимости  \n",
       "16  289202.704229                            недвижимость  \n",
       "17   90410.586745              строительство недвижимости  \n",
       "18   56823.777243      на покупку подержанного автомобиля  \n",
       "19  242831.107982            на покупку своего автомобиля  "
      ]
     },
     "execution_count": 2,
     "metadata": {},
     "output_type": "execute_result"
    }
   ],
   "source": [
    "data.info()\n",
    "data.head(20)"
   ]
  },
  {
   "cell_type": "markdown",
   "id": "931d9cdf",
   "metadata": {},
   "source": [
    " Общее количество значений в данных 21525. В двух параметрах (опыта работы и дохода) значений существенно меньше: 19351. Проверим, какую долю составляют пропущенные значения в каждом из столбцов с пропусками   .</div>"
   ]
  },
  {
   "cell_type": "code",
   "execution_count": 3,
   "id": "5b1b07d3",
   "metadata": {},
   "outputs": [
    {
     "data": {
      "text/plain": [
       "children               0\n",
       "days_employed       2174\n",
       "dob_years              0\n",
       "education              0\n",
       "education_id           0\n",
       "family_status          0\n",
       "family_status_id       0\n",
       "gender                 0\n",
       "income_type            0\n",
       "debt                   0\n",
       "total_income        2174\n",
       "purpose                0\n",
       "dtype: int64"
      ]
     },
     "execution_count": 3,
     "metadata": {},
     "output_type": "execute_result"
    }
   ],
   "source": [
    "data.isnull().sum()"
   ]
  },
  {
   "cell_type": "code",
   "execution_count": 4,
   "id": "59f3c8ab",
   "metadata": {},
   "outputs": [
    {
     "data": {
      "text/plain": [
       "'Доля пропущенных в столбце с общим трудовым стажем: 10.1%'"
      ]
     },
     "execution_count": 4,
     "metadata": {},
     "output_type": "execute_result"
    }
   ],
   "source": [
    "data_null = data[data['days_employed'].isnull()]\n",
    "'Доля пропущенных в столбце с общим трудовым стажем: {:.1%}' .format(len(data_null) / len(data))"
   ]
  },
  {
   "cell_type": "code",
   "execution_count": 5,
   "id": "e2eb7d02",
   "metadata": {},
   "outputs": [
    {
     "data": {
      "text/plain": [
       "'Доля пропущенных в столбце с ежемесячным доходом: 10.1%'"
      ]
     },
     "execution_count": 5,
     "metadata": {},
     "output_type": "execute_result"
    }
   ],
   "source": [
    "data_null = data[data['total_income'].isnull()]\n",
    "'Доля пропущенных в столбце с ежемесячным доходом: {:.1%}' .format(len(data_null) / len(data))"
   ]
  },
  {
   "cell_type": "markdown",
   "id": "eee0d305",
   "metadata": {},
   "source": [
    " Доля пропусков составляет ориентировочно 10% в каждом исследуемом столбце. Причиной пропусков может служить информация по безработным людям, не имеющим трудового стажа. В данном случае предпочтительнее заполнить пропуски по этим количественным значениям медианным значением каждой из двух выборок .</div>\n"
   ]
  },
  {
   "cell_type": "markdown",
   "id": "2b2dd6a7",
   "metadata": {},
   "source": [
    " Изучим уникальные значения данных для каждого столбца. .</div>"
   ]
  },
  {
   "cell_type": "code",
   "execution_count": 6,
   "id": "942f13be",
   "metadata": {},
   "outputs": [
    {
     "data": {
      "text/plain": [
       " 0     14149\n",
       " 1      4818\n",
       " 2      2055\n",
       " 3       330\n",
       " 20       76\n",
       "-1        47\n",
       " 4        41\n",
       " 5         9\n",
       "Name: children, dtype: int64"
      ]
     },
     "metadata": {},
     "output_type": "display_data"
    },
    {
     "data": {
      "text/plain": [
       "-986.927316     1\n",
       "-7026.359174    1\n",
       "-4236.274243    1\n",
       "-6620.396473    1\n",
       "-1238.560080    1\n",
       "               ..\n",
       "-2849.351119    1\n",
       "-5619.328204    1\n",
       "-448.829898     1\n",
       "-1687.038672    1\n",
       "-582.538413     1\n",
       "Name: days_employed, Length: 19351, dtype: int64"
      ]
     },
     "metadata": {},
     "output_type": "display_data"
    },
    {
     "data": {
      "text/plain": [
       "35    617\n",
       "40    609\n",
       "41    607\n",
       "34    603\n",
       "38    598\n",
       "42    597\n",
       "33    581\n",
       "39    573\n",
       "31    560\n",
       "36    555\n",
       "44    547\n",
       "29    545\n",
       "30    540\n",
       "48    538\n",
       "37    537\n",
       "50    514\n",
       "43    513\n",
       "32    510\n",
       "49    508\n",
       "28    503\n",
       "45    497\n",
       "27    493\n",
       "56    487\n",
       "52    484\n",
       "47    480\n",
       "54    479\n",
       "46    475\n",
       "58    461\n",
       "57    460\n",
       "53    459\n",
       "51    448\n",
       "59    444\n",
       "55    443\n",
       "26    408\n",
       "60    377\n",
       "25    357\n",
       "61    355\n",
       "62    352\n",
       "63    269\n",
       "64    265\n",
       "24    264\n",
       "23    254\n",
       "65    194\n",
       "66    183\n",
       "22    183\n",
       "67    167\n",
       "21    111\n",
       "0     101\n",
       "68     99\n",
       "69     85\n",
       "70     65\n",
       "71     58\n",
       "20     51\n",
       "72     33\n",
       "19     14\n",
       "73      8\n",
       "74      6\n",
       "75      1\n",
       "Name: dob_years, dtype: int64"
      ]
     },
     "metadata": {},
     "output_type": "display_data"
    },
    {
     "data": {
      "text/plain": [
       "среднее                13750\n",
       "высшее                  4718\n",
       "СРЕДНЕЕ                  772\n",
       "Среднее                  711\n",
       "неоконченное высшее      668\n",
       "ВЫСШЕЕ                   274\n",
       "Высшее                   268\n",
       "начальное                250\n",
       "Неоконченное высшее       47\n",
       "НЕОКОНЧЕННОЕ ВЫСШЕЕ       29\n",
       "НАЧАЛЬНОЕ                 17\n",
       "Начальное                 15\n",
       "ученая степень             4\n",
       "УЧЕНАЯ СТЕПЕНЬ             1\n",
       "Ученая степень             1\n",
       "Name: education, dtype: int64"
      ]
     },
     "metadata": {},
     "output_type": "display_data"
    },
    {
     "data": {
      "text/plain": [
       "1    15233\n",
       "0     5260\n",
       "2      744\n",
       "3      282\n",
       "4        6\n",
       "Name: education_id, dtype: int64"
      ]
     },
     "metadata": {},
     "output_type": "display_data"
    },
    {
     "data": {
      "text/plain": [
       "женат / замужем          12380\n",
       "гражданский брак          4177\n",
       "Не женат / не замужем     2813\n",
       "в разводе                 1195\n",
       "вдовец / вдова             960\n",
       "Name: family_status, dtype: int64"
      ]
     },
     "metadata": {},
     "output_type": "display_data"
    },
    {
     "data": {
      "text/plain": [
       "0    12380\n",
       "1     4177\n",
       "4     2813\n",
       "3     1195\n",
       "2      960\n",
       "Name: family_status_id, dtype: int64"
      ]
     },
     "metadata": {},
     "output_type": "display_data"
    },
    {
     "data": {
      "text/plain": [
       "F      14236\n",
       "M       7288\n",
       "XNA        1\n",
       "Name: gender, dtype: int64"
      ]
     },
     "metadata": {},
     "output_type": "display_data"
    },
    {
     "data": {
      "text/plain": [
       "сотрудник          11119\n",
       "компаньон           5085\n",
       "пенсионер           3856\n",
       "госслужащий         1459\n",
       "безработный            2\n",
       "предприниматель        2\n",
       "в декрете              1\n",
       "студент                1\n",
       "Name: income_type, dtype: int64"
      ]
     },
     "metadata": {},
     "output_type": "display_data"
    },
    {
     "data": {
      "text/plain": [
       "0    19784\n",
       "1     1741\n",
       "Name: debt, dtype: int64"
      ]
     },
     "metadata": {},
     "output_type": "display_data"
    },
    {
     "data": {
      "text/plain": [
       "112874.418757    1\n",
       "133912.272223    1\n",
       "182036.676828    1\n",
       "122421.963500    1\n",
       "198271.837248    1\n",
       "                ..\n",
       "133299.194693    1\n",
       "115080.782380    1\n",
       "84896.781597     1\n",
       "153838.839212    1\n",
       "150014.128510    1\n",
       "Name: total_income, Length: 19351, dtype: int64"
      ]
     },
     "metadata": {},
     "output_type": "display_data"
    },
    {
     "data": {
      "text/plain": [
       "свадьба                                   797\n",
       "на проведение свадьбы                     777\n",
       "сыграть свадьбу                           774\n",
       "операции с недвижимостью                  676\n",
       "покупка коммерческой недвижимости         664\n",
       "покупка жилья для сдачи                   653\n",
       "операции с жильем                         653\n",
       "операции с коммерческой недвижимостью     651\n",
       "жилье                                     647\n",
       "покупка жилья                             647\n",
       "покупка жилья для семьи                   641\n",
       "строительство собственной недвижимости    635\n",
       "недвижимость                              634\n",
       "операции со своей недвижимостью           630\n",
       "строительство жилой недвижимости          626\n",
       "покупка недвижимости                      624\n",
       "покупка своего жилья                      620\n",
       "строительство недвижимости                620\n",
       "ремонт жилью                              612\n",
       "покупка жилой недвижимости                607\n",
       "на покупку своего автомобиля              505\n",
       "заняться высшим образованием              496\n",
       "автомобиль                                495\n",
       "сделка с подержанным автомобилем          489\n",
       "свой автомобиль                           480\n",
       "на покупку подержанного автомобиля        479\n",
       "автомобили                                478\n",
       "на покупку автомобиля                     472\n",
       "дополнительное образование                462\n",
       "приобретение автомобиля                   462\n",
       "сделка с автомобилем                      455\n",
       "высшее образование                        453\n",
       "образование                               447\n",
       "получение дополнительного образования     447\n",
       "получение образования                     443\n",
       "профильное образование                    436\n",
       "получение высшего образования             426\n",
       "заняться образованием                     412\n",
       "Name: purpose, dtype: int64"
      ]
     },
     "metadata": {},
     "output_type": "display_data"
    }
   ],
   "source": [
    "for row in data: \n",
    "  display(data[row].value_counts())"
   ]
  },
  {
   "cell_type": "markdown",
   "id": "08af9209",
   "metadata": {},
   "source": [
    "\n",
    "    \n",
    "### Выводы. Обзор данных\n",
    "Столбец \"children\" - значения -1 и 20 не могут быть корректными, их следует заменить на 1 и 2 соответственно.\n",
    "\n",
    "Столбец \"days_employed\" - присутствуют отрицательные значения (м.б. только типа int).\n",
    "\n",
    "Столбец \"dob_years\" - присутствуют нулевые значения (101).\n",
    "\n",
    "Столбец \"education\" - содержит дубликаты в названиях, необходимо привести к единому регистру.\n",
    "\n",
    "Столбец \"gender\" - содержит строки с пропущенными данными (XNA - 1)\n",
    "\n",
    "Столбец \"days_employed\" - пропущенные значения (2174)\n",
    "\n",
    "Столбец \"total_income\" - пропущенные значения (2174)\n",
    "\n",
    "Столбец \"purpose\" - содержит множество дубликатов с одинаковыми или похожими целями получения кредита, необъходимо привести их к единым значениям по каждой цели"
   ]
  },
  {
   "cell_type": "markdown",
   "id": "9c3c95f8",
   "metadata": {},
   "source": [
    "### Шаг 2.1 Заполнение пропусков"
   ]
  },
  {
   "cell_type": "markdown",
   "id": "1392b309",
   "metadata": {},
   "source": [
    "Самый очевидный пропуск в столбце \"gender\".Узнаем количество пропусков в столбце с полом заёмщика.</div>"
   ]
  },
  {
   "cell_type": "code",
   "execution_count": 7,
   "id": "0123953f",
   "metadata": {},
   "outputs": [
    {
     "data": {
      "text/plain": [
       "children            1\n",
       "days_employed       1\n",
       "dob_years           1\n",
       "education           1\n",
       "education_id        1\n",
       "family_status       1\n",
       "family_status_id    1\n",
       "gender              1\n",
       "income_type         1\n",
       "debt                1\n",
       "total_income        1\n",
       "purpose             1\n",
       "dtype: int64"
      ]
     },
     "execution_count": 7,
     "metadata": {},
     "output_type": "execute_result"
    }
   ],
   "source": [
    "data[data['gender'] == 'XNA'].count()"
   ]
  },
  {
   "cell_type": "markdown",
   "id": "ac400a28",
   "metadata": {},
   "source": [
    "Строка с пропущенным значением пола в выборке всего одна, исключаем ее. Ее возникновение, скорее всего связано с технологической причиной при считывании или записи данных</div>"
   ]
  },
  {
   "cell_type": "code",
   "execution_count": 8,
   "id": "ad036f0a",
   "metadata": {},
   "outputs": [
    {
     "data": {
      "text/plain": [
       "array(['F', 'M'], dtype=object)"
      ]
     },
     "execution_count": 8,
     "metadata": {},
     "output_type": "execute_result"
    }
   ],
   "source": [
    "data = data[data['gender'] != 'XNA']\n",
    "data['gender'].unique()"
   ]
  },
  {
   "cell_type": "markdown",
   "id": "df300976",
   "metadata": {},
   "source": [
    " Пропущенные значения (101 пропуск) в столбце с возрастом клиента заполним медианным значением. Для корректных расчетов посчитаем медиану возраста клиента для каждого типа занятости. Причиной также может служить технологическая природа ошибок</div>"
   ]
  },
  {
   "cell_type": "code",
   "execution_count": 9,
   "id": "f1b760d7",
   "metadata": {},
   "outputs": [
    {
     "data": {
      "text/plain": [
       "0"
      ]
     },
     "execution_count": 9,
     "metadata": {},
     "output_type": "execute_result"
    }
   ],
   "source": [
    "data['dob_years'].min()"
   ]
  },
  {
   "cell_type": "code",
   "execution_count": 10,
   "id": "9b03e208",
   "metadata": {},
   "outputs": [
    {
     "data": {
      "text/plain": [
       "75"
      ]
     },
     "execution_count": 10,
     "metadata": {},
     "output_type": "execute_result"
    }
   ],
   "source": [
    "data['dob_years'].max()"
   ]
  },
  {
   "cell_type": "markdown",
   "id": "a4d46525",
   "metadata": {},
   "source": [
    " Проверка минимальных и максимальных значений показала, что некорректные данные соответстуют нулевым значениям. Сгруппируем данные по типу занятости для получения медианного значения возраста заемщика.</div>"
   ]
  },
  {
   "cell_type": "code",
   "execution_count": 11,
   "id": "b1d9670f",
   "metadata": {},
   "outputs": [
    {
     "data": {
      "text/plain": [
       "income_type\n",
       "безработный        38.0\n",
       "в декрете          39.0\n",
       "госслужащий        40.0\n",
       "компаньон          39.0\n",
       "пенсионер          60.0\n",
       "предприниматель    42.5\n",
       "сотрудник          39.0\n",
       "студент            22.0\n",
       "Name: dob_years, dtype: float64"
      ]
     },
     "execution_count": 11,
     "metadata": {},
     "output_type": "execute_result"
    }
   ],
   "source": [
    "income_type_grouped = data.groupby('income_type')['dob_years'].median()\n",
    "income_type_grouped"
   ]
  },
  {
   "cell_type": "markdown",
   "id": "f8c46d60",
   "metadata": {},
   "source": [
    "Заполним пропуски медианными значениями возраста и сделаем проверку.</div>"
   ]
  },
  {
   "cell_type": "code",
   "execution_count": 12,
   "id": "a8f57e22",
   "metadata": {},
   "outputs": [
    {
     "data": {
      "text/plain": [
       "0"
      ]
     },
     "execution_count": 12,
     "metadata": {},
     "output_type": "execute_result"
    }
   ],
   "source": [
    "data.loc[(data['income_type'] == 'безработный') & (data['dob_years'] == 0), 'dob_years'] = 38.0\n",
    "data.loc[(data['income_type'] == 'в декрете') & (data['dob_years'] == 0), 'dob_years'] = 39.0\n",
    "data.loc[(data['income_type'] == 'госслужащий') & (data['dob_years'] == 0), 'dob_years'] = 40.0\n",
    "data.loc[(data['income_type'] == 'компаньон') & (data['dob_years'] == 0), 'dob_years'] = 39.0\n",
    "data.loc[(data['income_type'] == 'пенсионер') & (data['dob_years'] == 0), 'dob_years'] = 60.0\n",
    "data.loc[(data['income_type'] == 'предприниматель') & (data['dob_years'] == 0), 'dob_years'] = 42.5\n",
    "data.loc[(data['income_type'] == 'сотрудник') & (data['dob_years'] == 0), 'dob_years'] = 39.0\n",
    "data.loc[(data['income_type'] == 'студент') & (data['dob_years'] == 0), 'dob_years'] = 22.0\n",
    "data['dob_years'].isnull().sum()"
   ]
  },
  {
   "cell_type": "markdown",
   "id": "2516b024",
   "metadata": {},
   "source": [
    " Произведём графическую проверку распределения возраста клиентов.Для этого подключим библиотеку matplotlib с модулем pyplot для построения графика простой функции </div>"
   ]
  },
  {
   "cell_type": "code",
   "execution_count": 13,
   "id": "ff20ad0f",
   "metadata": {},
   "outputs": [
    {
     "data": {
      "image/png": "[encoded data removed]",
      "text/plain": [
       "<Figure size 432x288 with 1 Axes>"
      ]
     },
     "metadata": {
      "needs_background": "light"
     },
     "output_type": "display_data"
    }
   ],
   "source": [
    "import matplotlib.pyplot as plt\n",
    "\n",
    "diag = data['dob_years']\n",
    "plt.hist(diag, bins=20)\n",
    "plt.xlabel('Возраст заёмщиков')\n",
    "plt.ylabel('Кол-во заёмщиков')\n",
    "plt.show()"
   ]
  },
  {
   "cell_type": "markdown",
   "id": "abd10399",
   "metadata": {},
   "source": [
    " Графическая проверка иллюстрирует, что данные по возрасту заёмщиков теперь распределены верно в интервале [19; 75].</div>"
   ]
  },
  {
   "cell_type": "markdown",
   "id": "b3763f0e",
   "metadata": {},
   "source": [
    "Для заполнения пропусков в столбце по трудовому стажу аналогично возьмем медианное значение для каждой группы возраста заёмщика. Создадим новый столбец с группировкой \"age_group\".</div>"
   ]
  },
  {
   "cell_type": "markdown",
   "id": "2a622de4",
   "metadata": {},
   "source": [
    " Группы распределим следующим образом I - [19, 30], II - (30, 40], III - (40, 55], IV - (55, 75]. Напишем функцию, которая будет возвращать значение категории определенного возраста</div>"
   ]
  },
  {
   "cell_type": "code",
   "execution_count": 14,
   "id": "b289a4c2",
   "metadata": {},
   "outputs": [],
   "source": [
    "def days_employed(row):\n",
    "    age = row['dob_years']\n",
    "    if age <= 30:\n",
    "        return 'I'\n",
    "    if 30 < age <= 40:\n",
    "        return 'II'\n",
    "    if 40 < age <= 55:\n",
    "        return 'III'\n",
    "    if 50 < age:\n",
    "        return 'IV'"
   ]
  },
  {
   "cell_type": "code",
   "execution_count": 15,
   "id": "0ce9e71e",
   "metadata": {},
   "outputs": [],
   "source": [
    "data['age_group'] = data.apply(days_employed, axis=1)"
   ]
  },
  {
   "cell_type": "code",
   "execution_count": 16,
   "id": "27f31647",
   "metadata": {},
   "outputs": [],
   "source": [
    "data['days_employed'] = data['days_employed'].fillna(0)"
   ]
  },
  {
   "cell_type": "code",
   "execution_count": 17,
   "id": "c507d838",
   "metadata": {},
   "outputs": [
    {
     "data": {
      "text/plain": [
       "children               0\n",
       "days_employed          0\n",
       "dob_years              0\n",
       "education              0\n",
       "education_id           0\n",
       "family_status          0\n",
       "family_status_id       0\n",
       "gender                 0\n",
       "income_type            0\n",
       "debt                   0\n",
       "total_income        2174\n",
       "purpose                0\n",
       "age_group              0\n",
       "dtype: int64"
      ]
     },
     "execution_count": 17,
     "metadata": {},
     "output_type": "execute_result"
    }
   ],
   "source": [
    "data.isnull().sum()"
   ]
  },
  {
   "cell_type": "markdown",
   "id": "50bdf97a",
   "metadata": {},
   "source": [
    " Сгруппируем по новому столбцу для получения медианного значения трудового стажа, избавимся от отрицательных значений, взяв по модулю abs().</div>"
   ]
  },
  {
   "cell_type": "code",
   "execution_count": 18,
   "id": "d91458db",
   "metadata": {},
   "outputs": [
    {
     "data": {
      "text/plain": [
       "-1379.5098164496849"
      ]
     },
     "execution_count": 18,
     "metadata": {},
     "output_type": "execute_result"
    }
   ],
   "source": [
    "data.groupby('age_group')['days_employed'].median()[1]"
   ]
  },
  {
   "cell_type": "code",
   "execution_count": 19,
   "id": "e98c826b",
   "metadata": {},
   "outputs": [],
   "source": [
    "data.loc[(data['age_group'] == 'I') & (data['days_employed'] == 0 ), 'days_employed'] = abs(data.groupby('age_group')['days_employed'].median()[0])\n",
    "data.loc[(data['age_group'] == 'II') & (data['days_employed'] == 0 ), 'days_employed'] = abs(data.groupby('age_group')['days_employed'].median()[1])\n",
    "data.loc[(data['age_group'] == 'III') & (data['days_employed'] == 0 ), 'days_employed'] = abs(data.groupby('age_group')['days_employed'].median()[2])\n",
    "data.loc[(data['age_group'] == 'IV') & (data['days_employed'] == 0 ), 'days_employed'] = abs(data.groupby('age_group')['days_employed'].median()[3])"
   ]
  },
  {
   "cell_type": "code",
   "execution_count": 20,
   "id": "87a732f7",
   "metadata": {},
   "outputs": [
    {
     "data": {
      "text/plain": [
       "children            0\n",
       "days_employed       0\n",
       "dob_years           0\n",
       "education           0\n",
       "education_id        0\n",
       "family_status       0\n",
       "family_status_id    0\n",
       "gender              0\n",
       "income_type         0\n",
       "debt                0\n",
       "total_income        0\n",
       "purpose             0\n",
       "age_group           0\n",
       "dtype: int64"
      ]
     },
     "execution_count": 20,
     "metadata": {},
     "output_type": "execute_result"
    }
   ],
   "source": [
    "data[data['days_employed'] == 0].count()"
   ]
  },
  {
   "cell_type": "code",
   "execution_count": 21,
   "id": "5632cf2f",
   "metadata": {},
   "outputs": [
    {
     "data": {
      "image/png": "[encoded data removed]",
      "text/plain": [
       "<Figure size 432x288 with 1 Axes>"
      ]
     },
     "metadata": {
      "needs_background": "light"
     },
     "output_type": "display_data"
    }
   ],
   "source": [
    "diag = abs(data['days_employed'])\n",
    "plt.hist(diag, bins=10)\n",
    "plt.xlabel('Кол-во дней')\n",
    "plt.ylabel('Кол-во заёмщиков')\n",
    "plt.show()"
   ]
  },
  {
   "cell_type": "markdown",
   "id": "005a291d",
   "metadata": {},
   "source": [
    " На графике видны аномальные сверхвысокие значения по количеству дней трудового стажа - ими можно пренебречь, так как на ход исследования они не влияют. Их причина заключается, вероятно, что значения представлены не в днях, а в часах</div>"
   ]
  },
  {
   "cell_type": "markdown",
   "id": "2b7d2631",
   "metadata": {},
   "source": [
    " Для заполнения пропусков в столбце \"total_income\" будем использовать медианное значение дохода для каждого типа дохода.</div>"
   ]
  },
  {
   "cell_type": "code",
   "execution_count": 22,
   "id": "881673e2",
   "metadata": {},
   "outputs": [
    {
     "data": {
      "text/plain": [
       "income_type\n",
       "безработный        131339.751676\n",
       "в декрете           53829.130729\n",
       "госслужащий        139034.452386\n",
       "компаньон          162379.674930\n",
       "пенсионер          110179.690761\n",
       "предприниматель    249581.572474\n",
       "сотрудник          133546.457238\n",
       "студент             98201.625314\n",
       "Name: total_income, dtype: float64"
      ]
     },
     "execution_count": 22,
     "metadata": {},
     "output_type": "execute_result"
    }
   ],
   "source": [
    "data['total_income'] = data['total_income'].fillna(0)\n",
    "data.groupby('income_type')['total_income'].median()"
   ]
  },
  {
   "cell_type": "code",
   "execution_count": 23,
   "id": "30ab45a6",
   "metadata": {},
   "outputs": [],
   "source": [
    "data.loc[(data['total_income'] == 0) & (data['income_type'] == 'безработный'), 'total_income'] = data.groupby('income_type')['total_income'].median()[0]\n",
    "data.loc[(data['total_income'] == 0) & (data['income_type'] == 'в декрете'), 'total_income'] = data.groupby('income_type')['total_income'].median()[1]\n",
    "data.loc[(data['total_income'] == 0) & (data['income_type'] == 'госслужащий'), 'total_income'] = data.groupby('income_type')['total_income'].median()[2]\n",
    "data.loc[(data['total_income'] == 0) & (data['income_type'] == 'компаньон'), 'total_income'] = data.groupby('income_type')['total_income'].median()[3]\n",
    "data.loc[(data['total_income'] == 0) & (data['income_type'] == 'пенсионер'), 'total_income'] = data.groupby('income_type')['total_income'].median()[4]\n",
    "data.loc[(data['total_income'] == 0) & (data['income_type'] == 'предприниматель'), 'total_income'] = data.groupby('income_type')['total_income'].median()[5]\n",
    "data.loc[(data['total_income'] == 0) & (data['income_type'] == 'сотрудник'), 'total_income'] = data.groupby('income_type')['total_income'].median()[6]\n",
    "data.loc[(data['total_income'] == 0) & (data['income_type'] == 'студент'), 'total_income'] = data.groupby('income_type')['total_income'].median()[7]"
   ]
  },
  {
   "cell_type": "markdown",
   "id": "e5988a27",
   "metadata": {},
   "source": [
    " Рассмотрим на графике распределение суммы дохода после удаления пропущенных значений.</div>"
   ]
  },
  {
   "cell_type": "code",
   "execution_count": 24,
   "id": "41a308e9",
   "metadata": {},
   "outputs": [
    {
     "data": {
      "image/png": "[encoded data removed]",
      "text/plain": [
       "<Figure size 432x288 with 1 Axes>"
      ]
     },
     "metadata": {
      "needs_background": "light"
     },
     "output_type": "display_data"
    }
   ],
   "source": [
    "diag = data['total_income']\n",
    "plt.hist(diag, bins=20)\n",
    "plt.xlabel('Сумма дохода')\n",
    "plt.ylabel('Кол-во заёмщиков')\n",
    "plt.show()"
   ]
  },
  {
   "cell_type": "markdown",
   "id": "183dba3a",
   "metadata": {},
   "source": [
    "### Шаг 2.2 Проверка данных на аномалии и исправления."
   ]
  },
  {
   "cell_type": "code",
   "execution_count": 25,
   "id": "6b49e8c3",
   "metadata": {},
   "outputs": [],
   "source": [
    "data['days_employed'] = abs(data['days_employed'])"
   ]
  },
  {
   "cell_type": "code",
   "execution_count": 26,
   "id": "1d3e766c",
   "metadata": {},
   "outputs": [
    {
     "data": {
      "text/plain": [
       "0          8437.673028\n",
       "1          4024.803754\n",
       "2          5623.422610\n",
       "3          4124.747207\n",
       "4        340266.072047\n",
       "             ...      \n",
       "21520      4529.316663\n",
       "21521    343937.404131\n",
       "21522      2113.346888\n",
       "21523      3112.481705\n",
       "21524      1984.507589\n",
       "Name: days_employed, Length: 21524, dtype: float64"
      ]
     },
     "execution_count": 26,
     "metadata": {},
     "output_type": "execute_result"
    }
   ],
   "source": [
    "data['days_employed'] "
   ]
  },
  {
   "cell_type": "code",
   "execution_count": 27,
   "id": "4d8cd8df",
   "metadata": {},
   "outputs": [
    {
     "data": {
      "image/png": "[encoded data removed]",
      "text/plain": [
       "<Figure size 432x288 with 1 Axes>"
      ]
     },
     "metadata": {
      "needs_background": "light"
     },
     "output_type": "display_data"
    }
   ],
   "source": [
    "diag = data['days_employed']\n",
    "plt.hist(diag, bins=100)\n",
    "plt.xlabel('Кол-во дней')\n",
    "plt.ylabel('Кол-во заёмщиков')\n",
    "plt.show()"
   ]
  },
  {
   "cell_type": "markdown",
   "id": "df7d7339",
   "metadata": {},
   "source": [
    "### Шаг 2.3. Изменение типов данных."
   ]
  },
  {
   "cell_type": "markdown",
   "id": "205f1f01",
   "metadata": {},
   "source": [
    "Изучим типы данных, вызовем метод .info() </div>"
   ]
  },
  {
   "cell_type": "code",
   "execution_count": 28,
   "id": "2060c2cf",
   "metadata": {},
   "outputs": [
    {
     "name": "stdout",
     "output_type": "stream",
     "text": [
      "<class 'pandas.core.frame.DataFrame'>\n",
      "Int64Index: 21524 entries, 0 to 21524\n",
      "Data columns (total 13 columns):\n",
      "children            21524 non-null int64\n",
      "days_employed       21524 non-null float64\n",
      "dob_years           21524 non-null float64\n",
      "education           21524 non-null object\n",
      "education_id        21524 non-null int64\n",
      "family_status       21524 non-null object\n",
      "family_status_id    21524 non-null int64\n",
      "gender              21524 non-null object\n",
      "income_type         21524 non-null object\n",
      "debt                21524 non-null int64\n",
      "total_income        21524 non-null float64\n",
      "purpose             21524 non-null object\n",
      "age_group           21524 non-null object\n",
      "dtypes: float64(3), int64(4), object(6)\n",
      "memory usage: 2.3+ MB\n"
     ]
    }
   ],
   "source": [
    "data.info()"
   ]
  },
  {
   "cell_type": "markdown",
   "id": "0ab36747",
   "metadata": {},
   "source": [
    " Тип данных в столбце с ежемесячным доходом заменим на int </div>"
   ]
  },
  {
   "cell_type": "code",
   "execution_count": 29,
   "id": "e7f90aa1",
   "metadata": {},
   "outputs": [
    {
     "name": "stdout",
     "output_type": "stream",
     "text": [
      "<class 'pandas.core.frame.DataFrame'>\n",
      "Int64Index: 21524 entries, 0 to 21524\n",
      "Data columns (total 13 columns):\n",
      "children            21524 non-null int64\n",
      "days_employed       21524 non-null float64\n",
      "dob_years           21524 non-null float64\n",
      "education           21524 non-null object\n",
      "education_id        21524 non-null int64\n",
      "family_status       21524 non-null object\n",
      "family_status_id    21524 non-null int64\n",
      "gender              21524 non-null object\n",
      "income_type         21524 non-null object\n",
      "debt                21524 non-null int64\n",
      "total_income        21524 non-null int64\n",
      "purpose             21524 non-null object\n",
      "age_group           21524 non-null object\n",
      "dtypes: float64(2), int64(5), object(6)\n",
      "memory usage: 2.3+ MB\n"
     ]
    }
   ],
   "source": [
    "data['total_income'] = data['total_income'].astype('int')\n",
    "data.info()"
   ]
  },
  {
   "cell_type": "markdown",
   "id": "13e0764f",
   "metadata": {},
   "source": [
    "Заменили вещественный тип данных в столбце total_income на целочисленный с помощью метода astype()."
   ]
  },
  {
   "cell_type": "markdown",
   "id": "dc967d68",
   "metadata": {},
   "source": [
    "### Шаг 2.4. Удаление дубликатов."
   ]
  },
  {
   "cell_type": "markdown",
   "id": "ea200f06",
   "metadata": {},
   "source": [
    " В столбце с количеством детей находятся неявные дубликаты, требующие замены. Их причиной, скорее всего, может служить человеческий фактор (при записи добавлен ноль и минус). Неправильные и альтернативные написания значений исправим методом replace(). В первом аргументе ему передадим некорректное значение кол-во детей (-1 и 20). Во втором — новое значение, которое должно заменить дубликат (будем считать, что это 1 и 2 ребенка соответственно): </div>"
   ]
  },
  {
   "cell_type": "code",
   "execution_count": 30,
   "id": "17156b5a",
   "metadata": {},
   "outputs": [],
   "source": [
    "data['children'] = data['children'].replace(20, 2)\n",
    "data['children'] = data['children'].replace(-1, 1)"
   ]
  },
  {
   "cell_type": "markdown",
   "id": "1a6caf86",
   "metadata": {},
   "source": [
    " Произведём графическую проверку распределения количества детей у заёмщиков.  </div>"
   ]
  },
  {
   "cell_type": "code",
   "execution_count": 31,
   "id": "c68ef962",
   "metadata": {},
   "outputs": [
    {
     "data": {
      "image/png": "[encoded data removed]",
      "text/plain": [
       "<Figure size 432x288 with 1 Axes>"
      ]
     },
     "metadata": {
      "needs_background": "light"
     },
     "output_type": "display_data"
    }
   ],
   "source": [
    "diag = data['children']\n",
    "plt.hist(diag, bins=20)\n",
    "plt.xlabel('Кол-во детей')\n",
    "plt.ylabel('Кол-во заёмщиков')\n",
    "plt.show()"
   ]
  },
  {
   "cell_type": "markdown",
   "id": "b5264913",
   "metadata": {},
   "source": [
    " Проверка показала, что некорректные значения в столбце заменены. Большинство заёмщиков не имеет детей. </div>"
   ]
  },
  {
   "cell_type": "markdown",
   "id": "1fbe0b92",
   "metadata": {},
   "source": [
    " В столбце \"education\" также находятся неявные дубликаты, обработаем их, вызвав к столбцу метод .str.lower(). Приведем в столбце с образованием все значения к единому регистру и проверим количество уникальных значений после. </div>"
   ]
  },
  {
   "cell_type": "code",
   "execution_count": 32,
   "id": "83ecc820",
   "metadata": {},
   "outputs": [
    {
     "data": {
      "text/plain": [
       "array(['высшее', 'среднее', 'Среднее', 'СРЕДНЕЕ', 'ВЫСШЕЕ',\n",
       "       'неоконченное высшее', 'начальное', 'Высшее',\n",
       "       'НЕОКОНЧЕННОЕ ВЫСШЕЕ', 'Неоконченное высшее', 'НАЧАЛЬНОЕ',\n",
       "       'Начальное', 'Ученая степень', 'УЧЕНАЯ СТЕПЕНЬ', 'ученая степень'],\n",
       "      dtype=object)"
      ]
     },
     "execution_count": 32,
     "metadata": {},
     "output_type": "execute_result"
    }
   ],
   "source": [
    "data['education'].unique()"
   ]
  },
  {
   "cell_type": "code",
   "execution_count": 33,
   "id": "1a66d6c4",
   "metadata": {},
   "outputs": [
    {
     "data": {
      "text/plain": [
       "array(['высшее', 'среднее', 'неоконченное высшее', 'начальное',\n",
       "       'ученая степень'], dtype=object)"
      ]
     },
     "execution_count": 33,
     "metadata": {},
     "output_type": "execute_result"
    }
   ],
   "source": [
    "data['education'] = data['education'].str.lower()\n",
    "data['education'].unique()"
   ]
  },
  {
   "cell_type": "markdown",
   "id": "03d79be4",
   "metadata": {},
   "source": [
    " Получили 5 уникальных значений в столбце \"education\".</div>"
   ]
  },
  {
   "cell_type": "markdown",
   "id": "3201f0ae",
   "metadata": {},
   "source": [
    " Произведем категоризацию целей кредита в соответственном для этого пункте проекта 2.7, реализуем это с помощью функции и метода apply(), также сохраним новые данные в столбец с категориями. </div>"
   ]
  },
  {
   "cell_type": "markdown",
   "id": "c7696385",
   "metadata": {},
   "source": [
    " Посчитаем количество дубликатов в наборе данных. Дубликаты в категориях были исключены выше для каждого столбца.</div>"
   ]
  },
  {
   "cell_type": "code",
   "execution_count": 34,
   "id": "05e20d95",
   "metadata": {},
   "outputs": [
    {
     "data": {
      "text/plain": [
       "71"
      ]
     },
     "execution_count": 34,
     "metadata": {},
     "output_type": "execute_result"
    }
   ],
   "source": [
    "data.duplicated().sum()"
   ]
  },
  {
   "cell_type": "markdown",
   "id": "2ca7aa08",
   "metadata": {},
   "source": [
    " Удалим дубликаты используя метод drop_duplicates() с новой индексацией.</div>"
   ]
  },
  {
   "cell_type": "code",
   "execution_count": 35,
   "id": "84593a3c",
   "metadata": {},
   "outputs": [
    {
     "data": {
      "text/plain": [
       "0"
      ]
     },
     "execution_count": 35,
     "metadata": {},
     "output_type": "execute_result"
    }
   ],
   "source": [
    "data = data.drop_duplicates().reset_index(drop=True)\n",
    "data.duplicated().sum()"
   ]
  },
  {
   "cell_type": "code",
   "execution_count": 36,
   "id": "938bca73",
   "metadata": {},
   "outputs": [
    {
     "data": {
      "text/html": [
       "<div>\n",
       "<style scoped>\n",
       "    .dataframe tbody tr th:only-of-type {\n",
       "        vertical-align: middle;\n",
       "    }\n",
       "\n",
       "    .dataframe tbody tr th {\n",
       "        vertical-align: top;\n",
       "    }\n",
       "\n",
       "    .dataframe thead th {\n",
       "        text-align: right;\n",
       "    }\n",
       "</style>\n",
       "<table border=\"1\" class=\"dataframe\">\n",
       "  <thead>\n",
       "    <tr style=\"text-align: right;\">\n",
       "      <th></th>\n",
       "      <th>children</th>\n",
       "      <th>days_employed</th>\n",
       "      <th>dob_years</th>\n",
       "      <th>education</th>\n",
       "      <th>education_id</th>\n",
       "      <th>family_status</th>\n",
       "      <th>family_status_id</th>\n",
       "      <th>gender</th>\n",
       "      <th>income_type</th>\n",
       "      <th>debt</th>\n",
       "      <th>total_income</th>\n",
       "      <th>purpose</th>\n",
       "      <th>age_group</th>\n",
       "    </tr>\n",
       "  </thead>\n",
       "  <tbody>\n",
       "    <tr>\n",
       "      <td>0</td>\n",
       "      <td>1</td>\n",
       "      <td>8437.673028</td>\n",
       "      <td>42.0</td>\n",
       "      <td>высшее</td>\n",
       "      <td>0</td>\n",
       "      <td>женат / замужем</td>\n",
       "      <td>0</td>\n",
       "      <td>F</td>\n",
       "      <td>сотрудник</td>\n",
       "      <td>0</td>\n",
       "      <td>253875</td>\n",
       "      <td>покупка жилья</td>\n",
       "      <td>III</td>\n",
       "    </tr>\n",
       "    <tr>\n",
       "      <td>1</td>\n",
       "      <td>1</td>\n",
       "      <td>4024.803754</td>\n",
       "      <td>36.0</td>\n",
       "      <td>среднее</td>\n",
       "      <td>1</td>\n",
       "      <td>женат / замужем</td>\n",
       "      <td>0</td>\n",
       "      <td>F</td>\n",
       "      <td>сотрудник</td>\n",
       "      <td>0</td>\n",
       "      <td>112080</td>\n",
       "      <td>приобретение автомобиля</td>\n",
       "      <td>II</td>\n",
       "    </tr>\n",
       "    <tr>\n",
       "      <td>2</td>\n",
       "      <td>0</td>\n",
       "      <td>5623.422610</td>\n",
       "      <td>33.0</td>\n",
       "      <td>среднее</td>\n",
       "      <td>1</td>\n",
       "      <td>женат / замужем</td>\n",
       "      <td>0</td>\n",
       "      <td>M</td>\n",
       "      <td>сотрудник</td>\n",
       "      <td>0</td>\n",
       "      <td>145885</td>\n",
       "      <td>покупка жилья</td>\n",
       "      <td>II</td>\n",
       "    </tr>\n",
       "    <tr>\n",
       "      <td>3</td>\n",
       "      <td>3</td>\n",
       "      <td>4124.747207</td>\n",
       "      <td>32.0</td>\n",
       "      <td>среднее</td>\n",
       "      <td>1</td>\n",
       "      <td>женат / замужем</td>\n",
       "      <td>0</td>\n",
       "      <td>M</td>\n",
       "      <td>сотрудник</td>\n",
       "      <td>0</td>\n",
       "      <td>267628</td>\n",
       "      <td>дополнительное образование</td>\n",
       "      <td>II</td>\n",
       "    </tr>\n",
       "    <tr>\n",
       "      <td>4</td>\n",
       "      <td>0</td>\n",
       "      <td>340266.072047</td>\n",
       "      <td>53.0</td>\n",
       "      <td>среднее</td>\n",
       "      <td>1</td>\n",
       "      <td>гражданский брак</td>\n",
       "      <td>1</td>\n",
       "      <td>F</td>\n",
       "      <td>пенсионер</td>\n",
       "      <td>0</td>\n",
       "      <td>158616</td>\n",
       "      <td>сыграть свадьбу</td>\n",
       "      <td>III</td>\n",
       "    </tr>\n",
       "    <tr>\n",
       "      <td>...</td>\n",
       "      <td>...</td>\n",
       "      <td>...</td>\n",
       "      <td>...</td>\n",
       "      <td>...</td>\n",
       "      <td>...</td>\n",
       "      <td>...</td>\n",
       "      <td>...</td>\n",
       "      <td>...</td>\n",
       "      <td>...</td>\n",
       "      <td>...</td>\n",
       "      <td>...</td>\n",
       "      <td>...</td>\n",
       "      <td>...</td>\n",
       "    </tr>\n",
       "    <tr>\n",
       "      <td>21448</td>\n",
       "      <td>1</td>\n",
       "      <td>4529.316663</td>\n",
       "      <td>43.0</td>\n",
       "      <td>среднее</td>\n",
       "      <td>1</td>\n",
       "      <td>гражданский брак</td>\n",
       "      <td>1</td>\n",
       "      <td>F</td>\n",
       "      <td>компаньон</td>\n",
       "      <td>0</td>\n",
       "      <td>224791</td>\n",
       "      <td>операции с жильем</td>\n",
       "      <td>III</td>\n",
       "    </tr>\n",
       "    <tr>\n",
       "      <td>21449</td>\n",
       "      <td>0</td>\n",
       "      <td>343937.404131</td>\n",
       "      <td>67.0</td>\n",
       "      <td>среднее</td>\n",
       "      <td>1</td>\n",
       "      <td>женат / замужем</td>\n",
       "      <td>0</td>\n",
       "      <td>F</td>\n",
       "      <td>пенсионер</td>\n",
       "      <td>0</td>\n",
       "      <td>155999</td>\n",
       "      <td>сделка с автомобилем</td>\n",
       "      <td>IV</td>\n",
       "    </tr>\n",
       "    <tr>\n",
       "      <td>21450</td>\n",
       "      <td>1</td>\n",
       "      <td>2113.346888</td>\n",
       "      <td>38.0</td>\n",
       "      <td>среднее</td>\n",
       "      <td>1</td>\n",
       "      <td>гражданский брак</td>\n",
       "      <td>1</td>\n",
       "      <td>M</td>\n",
       "      <td>сотрудник</td>\n",
       "      <td>1</td>\n",
       "      <td>89672</td>\n",
       "      <td>недвижимость</td>\n",
       "      <td>II</td>\n",
       "    </tr>\n",
       "    <tr>\n",
       "      <td>21451</td>\n",
       "      <td>3</td>\n",
       "      <td>3112.481705</td>\n",
       "      <td>38.0</td>\n",
       "      <td>среднее</td>\n",
       "      <td>1</td>\n",
       "      <td>женат / замужем</td>\n",
       "      <td>0</td>\n",
       "      <td>M</td>\n",
       "      <td>сотрудник</td>\n",
       "      <td>1</td>\n",
       "      <td>244093</td>\n",
       "      <td>на покупку своего автомобиля</td>\n",
       "      <td>II</td>\n",
       "    </tr>\n",
       "    <tr>\n",
       "      <td>21452</td>\n",
       "      <td>2</td>\n",
       "      <td>1984.507589</td>\n",
       "      <td>40.0</td>\n",
       "      <td>среднее</td>\n",
       "      <td>1</td>\n",
       "      <td>женат / замужем</td>\n",
       "      <td>0</td>\n",
       "      <td>F</td>\n",
       "      <td>сотрудник</td>\n",
       "      <td>0</td>\n",
       "      <td>82047</td>\n",
       "      <td>на покупку автомобиля</td>\n",
       "      <td>II</td>\n",
       "    </tr>\n",
       "  </tbody>\n",
       "</table>\n",
       "<p>21453 rows × 13 columns</p>\n",
       "</div>"
      ],
      "text/plain": [
       "       children  days_employed  dob_years education  education_id  \\\n",
       "0             1    8437.673028       42.0    высшее             0   \n",
       "1             1    4024.803754       36.0   среднее             1   \n",
       "2             0    5623.422610       33.0   среднее             1   \n",
       "3             3    4124.747207       32.0   среднее             1   \n",
       "4             0  340266.072047       53.0   среднее             1   \n",
       "...         ...            ...        ...       ...           ...   \n",
       "21448         1    4529.316663       43.0   среднее             1   \n",
       "21449         0  343937.404131       67.0   среднее             1   \n",
       "21450         1    2113.346888       38.0   среднее             1   \n",
       "21451         3    3112.481705       38.0   среднее             1   \n",
       "21452         2    1984.507589       40.0   среднее             1   \n",
       "\n",
       "          family_status  family_status_id gender income_type  debt  \\\n",
       "0       женат / замужем                 0      F   сотрудник     0   \n",
       "1       женат / замужем                 0      F   сотрудник     0   \n",
       "2       женат / замужем                 0      M   сотрудник     0   \n",
       "3       женат / замужем                 0      M   сотрудник     0   \n",
       "4      гражданский брак                 1      F   пенсионер     0   \n",
       "...                 ...               ...    ...         ...   ...   \n",
       "21448  гражданский брак                 1      F   компаньон     0   \n",
       "21449   женат / замужем                 0      F   пенсионер     0   \n",
       "21450  гражданский брак                 1      M   сотрудник     1   \n",
       "21451   женат / замужем                 0      M   сотрудник     1   \n",
       "21452   женат / замужем                 0      F   сотрудник     0   \n",
       "\n",
       "       total_income                       purpose age_group  \n",
       "0            253875                 покупка жилья       III  \n",
       "1            112080       приобретение автомобиля        II  \n",
       "2            145885                 покупка жилья        II  \n",
       "3            267628    дополнительное образование        II  \n",
       "4            158616               сыграть свадьбу       III  \n",
       "...             ...                           ...       ...  \n",
       "21448        224791             операции с жильем       III  \n",
       "21449        155999          сделка с автомобилем        IV  \n",
       "21450         89672                  недвижимость        II  \n",
       "21451        244093  на покупку своего автомобиля        II  \n",
       "21452         82047         на покупку автомобиля        II  \n",
       "\n",
       "[21453 rows x 13 columns]"
      ]
     },
     "execution_count": 36,
     "metadata": {},
     "output_type": "execute_result"
    }
   ],
   "source": [
    "data"
   ]
  },
  {
   "cell_type": "markdown",
   "id": "fda88f64",
   "metadata": {},
   "source": [
    "### Шаг 2.5. Формирование дополнительных датафреймов словарей, декомпозиция исходного датафрейма."
   ]
  },
  {
   "cell_type": "markdown",
   "id": "0de30e5f",
   "metadata": {},
   "source": [
    " Создадим два новых датафрейма со столбцами \"education_id\" и \"education\" — в первом; \"family_status_id\" и \"family_status\" — во втором..</div>"
   ]
  },
  {
   "cell_type": "code",
   "execution_count": 37,
   "id": "f9ae891f",
   "metadata": {},
   "outputs": [
    {
     "data": {
      "text/plain": [
       "21448"
      ]
     },
     "execution_count": 37,
     "metadata": {},
     "output_type": "execute_result"
    }
   ],
   "source": [
    "education_table = data[['education_id', 'education']]\n",
    "education_table.duplicated().sum()\n"
   ]
  },
  {
   "cell_type": "code",
   "execution_count": 38,
   "id": "20aed6d7",
   "metadata": {},
   "outputs": [
    {
     "data": {
      "text/plain": [
       "0"
      ]
     },
     "execution_count": 38,
     "metadata": {},
     "output_type": "execute_result"
    }
   ],
   "source": [
    "education_table = education_table.drop_duplicates().reset_index(drop=True)\n",
    "education_table.duplicated().sum()"
   ]
  },
  {
   "cell_type": "code",
   "execution_count": 39,
   "id": "1017d8ee",
   "metadata": {},
   "outputs": [
    {
     "data": {
      "text/html": [
       "<div>\n",
       "<style scoped>\n",
       "    .dataframe tbody tr th:only-of-type {\n",
       "        vertical-align: middle;\n",
       "    }\n",
       "\n",
       "    .dataframe tbody tr th {\n",
       "        vertical-align: top;\n",
       "    }\n",
       "\n",
       "    .dataframe thead th {\n",
       "        text-align: right;\n",
       "    }\n",
       "</style>\n",
       "<table border=\"1\" class=\"dataframe\">\n",
       "  <thead>\n",
       "    <tr style=\"text-align: right;\">\n",
       "      <th></th>\n",
       "      <th>education_id</th>\n",
       "      <th>education</th>\n",
       "    </tr>\n",
       "  </thead>\n",
       "  <tbody>\n",
       "    <tr>\n",
       "      <td>0</td>\n",
       "      <td>0</td>\n",
       "      <td>высшее</td>\n",
       "    </tr>\n",
       "    <tr>\n",
       "      <td>1</td>\n",
       "      <td>1</td>\n",
       "      <td>среднее</td>\n",
       "    </tr>\n",
       "    <tr>\n",
       "      <td>2</td>\n",
       "      <td>2</td>\n",
       "      <td>неоконченное высшее</td>\n",
       "    </tr>\n",
       "    <tr>\n",
       "      <td>3</td>\n",
       "      <td>3</td>\n",
       "      <td>начальное</td>\n",
       "    </tr>\n",
       "    <tr>\n",
       "      <td>4</td>\n",
       "      <td>4</td>\n",
       "      <td>ученая степень</td>\n",
       "    </tr>\n",
       "  </tbody>\n",
       "</table>\n",
       "</div>"
      ],
      "text/plain": [
       "   education_id            education\n",
       "0             0               высшее\n",
       "1             1              среднее\n",
       "2             2  неоконченное высшее\n",
       "3             3            начальное\n",
       "4             4       ученая степень"
      ]
     },
     "execution_count": 39,
     "metadata": {},
     "output_type": "execute_result"
    }
   ],
   "source": [
    "education_table"
   ]
  },
  {
   "cell_type": "code",
   "execution_count": 40,
   "id": "c5bbd704",
   "metadata": {},
   "outputs": [
    {
     "data": {
      "text/plain": [
       "21448"
      ]
     },
     "execution_count": 40,
     "metadata": {},
     "output_type": "execute_result"
    }
   ],
   "source": [
    "family_table = data[['family_status_id', 'family_status']]\n",
    "family_table.duplicated().sum()"
   ]
  },
  {
   "cell_type": "code",
   "execution_count": 41,
   "id": "f8dd1f68",
   "metadata": {},
   "outputs": [
    {
     "data": {
      "text/plain": [
       "0"
      ]
     },
     "execution_count": 41,
     "metadata": {},
     "output_type": "execute_result"
    }
   ],
   "source": [
    "family_table = family_table.drop_duplicates().reset_index(drop=True)\n",
    "family_table.duplicated().sum()"
   ]
  },
  {
   "cell_type": "code",
   "execution_count": 42,
   "id": "303ad275",
   "metadata": {},
   "outputs": [
    {
     "data": {
      "text/html": [
       "<div>\n",
       "<style scoped>\n",
       "    .dataframe tbody tr th:only-of-type {\n",
       "        vertical-align: middle;\n",
       "    }\n",
       "\n",
       "    .dataframe tbody tr th {\n",
       "        vertical-align: top;\n",
       "    }\n",
       "\n",
       "    .dataframe thead th {\n",
       "        text-align: right;\n",
       "    }\n",
       "</style>\n",
       "<table border=\"1\" class=\"dataframe\">\n",
       "  <thead>\n",
       "    <tr style=\"text-align: right;\">\n",
       "      <th></th>\n",
       "      <th>family_status_id</th>\n",
       "      <th>family_status</th>\n",
       "    </tr>\n",
       "  </thead>\n",
       "  <tbody>\n",
       "    <tr>\n",
       "      <td>0</td>\n",
       "      <td>0</td>\n",
       "      <td>женат / замужем</td>\n",
       "    </tr>\n",
       "    <tr>\n",
       "      <td>1</td>\n",
       "      <td>1</td>\n",
       "      <td>гражданский брак</td>\n",
       "    </tr>\n",
       "    <tr>\n",
       "      <td>2</td>\n",
       "      <td>2</td>\n",
       "      <td>вдовец / вдова</td>\n",
       "    </tr>\n",
       "    <tr>\n",
       "      <td>3</td>\n",
       "      <td>3</td>\n",
       "      <td>в разводе</td>\n",
       "    </tr>\n",
       "    <tr>\n",
       "      <td>4</td>\n",
       "      <td>4</td>\n",
       "      <td>Не женат / не замужем</td>\n",
       "    </tr>\n",
       "  </tbody>\n",
       "</table>\n",
       "</div>"
      ],
      "text/plain": [
       "   family_status_id          family_status\n",
       "0                 0        женат / замужем\n",
       "1                 1       гражданский брак\n",
       "2                 2         вдовец / вдова\n",
       "3                 3              в разводе\n",
       "4                 4  Не женат / не замужем"
      ]
     },
     "execution_count": 42,
     "metadata": {},
     "output_type": "execute_result"
    }
   ],
   "source": [
    "family_table"
   ]
  },
  {
   "cell_type": "markdown",
   "id": "1f03996e",
   "metadata": {},
   "source": [
    " Удалим из исходного датафрейма столбцы \"education\" и \"family_status\", оставив только их идентификаторы: \"education_id\" и \"family_status_id\".</div>"
   ]
  },
  {
   "cell_type": "code",
   "execution_count": 43,
   "id": "10a97ef4",
   "metadata": {},
   "outputs": [
    {
     "data": {
      "text/html": [
       "<div>\n",
       "<style scoped>\n",
       "    .dataframe tbody tr th:only-of-type {\n",
       "        vertical-align: middle;\n",
       "    }\n",
       "\n",
       "    .dataframe tbody tr th {\n",
       "        vertical-align: top;\n",
       "    }\n",
       "\n",
       "    .dataframe thead th {\n",
       "        text-align: right;\n",
       "    }\n",
       "</style>\n",
       "<table border=\"1\" class=\"dataframe\">\n",
       "  <thead>\n",
       "    <tr style=\"text-align: right;\">\n",
       "      <th></th>\n",
       "      <th>children</th>\n",
       "      <th>days_employed</th>\n",
       "      <th>dob_years</th>\n",
       "      <th>education_id</th>\n",
       "      <th>family_status_id</th>\n",
       "      <th>gender</th>\n",
       "      <th>income_type</th>\n",
       "      <th>debt</th>\n",
       "      <th>total_income</th>\n",
       "      <th>purpose</th>\n",
       "      <th>age_group</th>\n",
       "    </tr>\n",
       "  </thead>\n",
       "  <tbody>\n",
       "    <tr>\n",
       "      <td>0</td>\n",
       "      <td>1</td>\n",
       "      <td>8437.673028</td>\n",
       "      <td>42.0</td>\n",
       "      <td>0</td>\n",
       "      <td>0</td>\n",
       "      <td>F</td>\n",
       "      <td>сотрудник</td>\n",
       "      <td>0</td>\n",
       "      <td>253875</td>\n",
       "      <td>покупка жилья</td>\n",
       "      <td>III</td>\n",
       "    </tr>\n",
       "    <tr>\n",
       "      <td>1</td>\n",
       "      <td>1</td>\n",
       "      <td>4024.803754</td>\n",
       "      <td>36.0</td>\n",
       "      <td>1</td>\n",
       "      <td>0</td>\n",
       "      <td>F</td>\n",
       "      <td>сотрудник</td>\n",
       "      <td>0</td>\n",
       "      <td>112080</td>\n",
       "      <td>приобретение автомобиля</td>\n",
       "      <td>II</td>\n",
       "    </tr>\n",
       "    <tr>\n",
       "      <td>2</td>\n",
       "      <td>0</td>\n",
       "      <td>5623.422610</td>\n",
       "      <td>33.0</td>\n",
       "      <td>1</td>\n",
       "      <td>0</td>\n",
       "      <td>M</td>\n",
       "      <td>сотрудник</td>\n",
       "      <td>0</td>\n",
       "      <td>145885</td>\n",
       "      <td>покупка жилья</td>\n",
       "      <td>II</td>\n",
       "    </tr>\n",
       "    <tr>\n",
       "      <td>3</td>\n",
       "      <td>3</td>\n",
       "      <td>4124.747207</td>\n",
       "      <td>32.0</td>\n",
       "      <td>1</td>\n",
       "      <td>0</td>\n",
       "      <td>M</td>\n",
       "      <td>сотрудник</td>\n",
       "      <td>0</td>\n",
       "      <td>267628</td>\n",
       "      <td>дополнительное образование</td>\n",
       "      <td>II</td>\n",
       "    </tr>\n",
       "    <tr>\n",
       "      <td>4</td>\n",
       "      <td>0</td>\n",
       "      <td>340266.072047</td>\n",
       "      <td>53.0</td>\n",
       "      <td>1</td>\n",
       "      <td>1</td>\n",
       "      <td>F</td>\n",
       "      <td>пенсионер</td>\n",
       "      <td>0</td>\n",
       "      <td>158616</td>\n",
       "      <td>сыграть свадьбу</td>\n",
       "      <td>III</td>\n",
       "    </tr>\n",
       "    <tr>\n",
       "      <td>...</td>\n",
       "      <td>...</td>\n",
       "      <td>...</td>\n",
       "      <td>...</td>\n",
       "      <td>...</td>\n",
       "      <td>...</td>\n",
       "      <td>...</td>\n",
       "      <td>...</td>\n",
       "      <td>...</td>\n",
       "      <td>...</td>\n",
       "      <td>...</td>\n",
       "      <td>...</td>\n",
       "    </tr>\n",
       "    <tr>\n",
       "      <td>21448</td>\n",
       "      <td>1</td>\n",
       "      <td>4529.316663</td>\n",
       "      <td>43.0</td>\n",
       "      <td>1</td>\n",
       "      <td>1</td>\n",
       "      <td>F</td>\n",
       "      <td>компаньон</td>\n",
       "      <td>0</td>\n",
       "      <td>224791</td>\n",
       "      <td>операции с жильем</td>\n",
       "      <td>III</td>\n",
       "    </tr>\n",
       "    <tr>\n",
       "      <td>21449</td>\n",
       "      <td>0</td>\n",
       "      <td>343937.404131</td>\n",
       "      <td>67.0</td>\n",
       "      <td>1</td>\n",
       "      <td>0</td>\n",
       "      <td>F</td>\n",
       "      <td>пенсионер</td>\n",
       "      <td>0</td>\n",
       "      <td>155999</td>\n",
       "      <td>сделка с автомобилем</td>\n",
       "      <td>IV</td>\n",
       "    </tr>\n",
       "    <tr>\n",
       "      <td>21450</td>\n",
       "      <td>1</td>\n",
       "      <td>2113.346888</td>\n",
       "      <td>38.0</td>\n",
       "      <td>1</td>\n",
       "      <td>1</td>\n",
       "      <td>M</td>\n",
       "      <td>сотрудник</td>\n",
       "      <td>1</td>\n",
       "      <td>89672</td>\n",
       "      <td>недвижимость</td>\n",
       "      <td>II</td>\n",
       "    </tr>\n",
       "    <tr>\n",
       "      <td>21451</td>\n",
       "      <td>3</td>\n",
       "      <td>3112.481705</td>\n",
       "      <td>38.0</td>\n",
       "      <td>1</td>\n",
       "      <td>0</td>\n",
       "      <td>M</td>\n",
       "      <td>сотрудник</td>\n",
       "      <td>1</td>\n",
       "      <td>244093</td>\n",
       "      <td>на покупку своего автомобиля</td>\n",
       "      <td>II</td>\n",
       "    </tr>\n",
       "    <tr>\n",
       "      <td>21452</td>\n",
       "      <td>2</td>\n",
       "      <td>1984.507589</td>\n",
       "      <td>40.0</td>\n",
       "      <td>1</td>\n",
       "      <td>0</td>\n",
       "      <td>F</td>\n",
       "      <td>сотрудник</td>\n",
       "      <td>0</td>\n",
       "      <td>82047</td>\n",
       "      <td>на покупку автомобиля</td>\n",
       "      <td>II</td>\n",
       "    </tr>\n",
       "  </tbody>\n",
       "</table>\n",
       "<p>21453 rows × 11 columns</p>\n",
       "</div>"
      ],
      "text/plain": [
       "       children  days_employed  dob_years  education_id  family_status_id  \\\n",
       "0             1    8437.673028       42.0             0                 0   \n",
       "1             1    4024.803754       36.0             1                 0   \n",
       "2             0    5623.422610       33.0             1                 0   \n",
       "3             3    4124.747207       32.0             1                 0   \n",
       "4             0  340266.072047       53.0             1                 1   \n",
       "...         ...            ...        ...           ...               ...   \n",
       "21448         1    4529.316663       43.0             1                 1   \n",
       "21449         0  343937.404131       67.0             1                 0   \n",
       "21450         1    2113.346888       38.0             1                 1   \n",
       "21451         3    3112.481705       38.0             1                 0   \n",
       "21452         2    1984.507589       40.0             1                 0   \n",
       "\n",
       "      gender income_type  debt  total_income                       purpose  \\\n",
       "0          F   сотрудник     0        253875                 покупка жилья   \n",
       "1          F   сотрудник     0        112080       приобретение автомобиля   \n",
       "2          M   сотрудник     0        145885                 покупка жилья   \n",
       "3          M   сотрудник     0        267628    дополнительное образование   \n",
       "4          F   пенсионер     0        158616               сыграть свадьбу   \n",
       "...      ...         ...   ...           ...                           ...   \n",
       "21448      F   компаньон     0        224791             операции с жильем   \n",
       "21449      F   пенсионер     0        155999          сделка с автомобилем   \n",
       "21450      M   сотрудник     1         89672                  недвижимость   \n",
       "21451      M   сотрудник     1        244093  на покупку своего автомобиля   \n",
       "21452      F   сотрудник     0         82047         на покупку автомобиля   \n",
       "\n",
       "      age_group  \n",
       "0           III  \n",
       "1            II  \n",
       "2            II  \n",
       "3            II  \n",
       "4           III  \n",
       "...         ...  \n",
       "21448       III  \n",
       "21449        IV  \n",
       "21450        II  \n",
       "21451        II  \n",
       "21452        II  \n",
       "\n",
       "[21453 rows x 11 columns]"
      ]
     },
     "execution_count": 43,
     "metadata": {},
     "output_type": "execute_result"
    }
   ],
   "source": [
    "data = data.drop(['education', 'family_status'], axis = 'columns')\n",
    "data"
   ]
  },
  {
   "cell_type": "markdown",
   "id": "9ab1c611",
   "metadata": {},
   "source": [
    " Удалили дубликаты в словарях</div>"
   ]
  },
  {
   "cell_type": "markdown",
   "id": "a767b8f1",
   "metadata": {},
   "source": [
    "### Шаг 2.6. Категоризация дохода."
   ]
  },
  {
   "cell_type": "markdown",
   "id": "b4d370c8",
   "metadata": {},
   "source": [
    " На основании диапазонов создадим столбец \"total_income_category\" с категориями:\n",
    " \n",
    "0–30000 — 'E';\n",
    "\n",
    "30001–50000 — 'D';\n",
    "\n",
    "50001–200000 — 'C';\n",
    "\n",
    "200001–1000000 — 'B';\n",
    "\n",
    "1000001 и выше — 'A'.</div>"
   ]
  },
  {
   "cell_type": "code",
   "execution_count": 44,
   "id": "a8ec7fc7",
   "metadata": {},
   "outputs": [
    {
     "data": {
      "text/html": [
       "<div>\n",
       "<style scoped>\n",
       "    .dataframe tbody tr th:only-of-type {\n",
       "        vertical-align: middle;\n",
       "    }\n",
       "\n",
       "    .dataframe tbody tr th {\n",
       "        vertical-align: top;\n",
       "    }\n",
       "\n",
       "    .dataframe thead th {\n",
       "        text-align: right;\n",
       "    }\n",
       "</style>\n",
       "<table border=\"1\" class=\"dataframe\">\n",
       "  <thead>\n",
       "    <tr style=\"text-align: right;\">\n",
       "      <th></th>\n",
       "      <th>children</th>\n",
       "      <th>days_employed</th>\n",
       "      <th>dob_years</th>\n",
       "      <th>education_id</th>\n",
       "      <th>family_status_id</th>\n",
       "      <th>gender</th>\n",
       "      <th>income_type</th>\n",
       "      <th>debt</th>\n",
       "      <th>total_income</th>\n",
       "      <th>purpose</th>\n",
       "      <th>age_group</th>\n",
       "      <th>total_income_category</th>\n",
       "    </tr>\n",
       "  </thead>\n",
       "  <tbody>\n",
       "    <tr>\n",
       "      <td>0</td>\n",
       "      <td>1</td>\n",
       "      <td>8437.673028</td>\n",
       "      <td>42.0</td>\n",
       "      <td>0</td>\n",
       "      <td>0</td>\n",
       "      <td>F</td>\n",
       "      <td>сотрудник</td>\n",
       "      <td>0</td>\n",
       "      <td>253875</td>\n",
       "      <td>покупка жилья</td>\n",
       "      <td>III</td>\n",
       "      <td>B</td>\n",
       "    </tr>\n",
       "    <tr>\n",
       "      <td>1</td>\n",
       "      <td>1</td>\n",
       "      <td>4024.803754</td>\n",
       "      <td>36.0</td>\n",
       "      <td>1</td>\n",
       "      <td>0</td>\n",
       "      <td>F</td>\n",
       "      <td>сотрудник</td>\n",
       "      <td>0</td>\n",
       "      <td>112080</td>\n",
       "      <td>приобретение автомобиля</td>\n",
       "      <td>II</td>\n",
       "      <td>C</td>\n",
       "    </tr>\n",
       "    <tr>\n",
       "      <td>2</td>\n",
       "      <td>0</td>\n",
       "      <td>5623.422610</td>\n",
       "      <td>33.0</td>\n",
       "      <td>1</td>\n",
       "      <td>0</td>\n",
       "      <td>M</td>\n",
       "      <td>сотрудник</td>\n",
       "      <td>0</td>\n",
       "      <td>145885</td>\n",
       "      <td>покупка жилья</td>\n",
       "      <td>II</td>\n",
       "      <td>C</td>\n",
       "    </tr>\n",
       "    <tr>\n",
       "      <td>3</td>\n",
       "      <td>3</td>\n",
       "      <td>4124.747207</td>\n",
       "      <td>32.0</td>\n",
       "      <td>1</td>\n",
       "      <td>0</td>\n",
       "      <td>M</td>\n",
       "      <td>сотрудник</td>\n",
       "      <td>0</td>\n",
       "      <td>267628</td>\n",
       "      <td>дополнительное образование</td>\n",
       "      <td>II</td>\n",
       "      <td>B</td>\n",
       "    </tr>\n",
       "    <tr>\n",
       "      <td>4</td>\n",
       "      <td>0</td>\n",
       "      <td>340266.072047</td>\n",
       "      <td>53.0</td>\n",
       "      <td>1</td>\n",
       "      <td>1</td>\n",
       "      <td>F</td>\n",
       "      <td>пенсионер</td>\n",
       "      <td>0</td>\n",
       "      <td>158616</td>\n",
       "      <td>сыграть свадьбу</td>\n",
       "      <td>III</td>\n",
       "      <td>C</td>\n",
       "    </tr>\n",
       "    <tr>\n",
       "      <td>...</td>\n",
       "      <td>...</td>\n",
       "      <td>...</td>\n",
       "      <td>...</td>\n",
       "      <td>...</td>\n",
       "      <td>...</td>\n",
       "      <td>...</td>\n",
       "      <td>...</td>\n",
       "      <td>...</td>\n",
       "      <td>...</td>\n",
       "      <td>...</td>\n",
       "      <td>...</td>\n",
       "      <td>...</td>\n",
       "    </tr>\n",
       "    <tr>\n",
       "      <td>21448</td>\n",
       "      <td>1</td>\n",
       "      <td>4529.316663</td>\n",
       "      <td>43.0</td>\n",
       "      <td>1</td>\n",
       "      <td>1</td>\n",
       "      <td>F</td>\n",
       "      <td>компаньон</td>\n",
       "      <td>0</td>\n",
       "      <td>224791</td>\n",
       "      <td>операции с жильем</td>\n",
       "      <td>III</td>\n",
       "      <td>B</td>\n",
       "    </tr>\n",
       "    <tr>\n",
       "      <td>21449</td>\n",
       "      <td>0</td>\n",
       "      <td>343937.404131</td>\n",
       "      <td>67.0</td>\n",
       "      <td>1</td>\n",
       "      <td>0</td>\n",
       "      <td>F</td>\n",
       "      <td>пенсионер</td>\n",
       "      <td>0</td>\n",
       "      <td>155999</td>\n",
       "      <td>сделка с автомобилем</td>\n",
       "      <td>IV</td>\n",
       "      <td>C</td>\n",
       "    </tr>\n",
       "    <tr>\n",
       "      <td>21450</td>\n",
       "      <td>1</td>\n",
       "      <td>2113.346888</td>\n",
       "      <td>38.0</td>\n",
       "      <td>1</td>\n",
       "      <td>1</td>\n",
       "      <td>M</td>\n",
       "      <td>сотрудник</td>\n",
       "      <td>1</td>\n",
       "      <td>89672</td>\n",
       "      <td>недвижимость</td>\n",
       "      <td>II</td>\n",
       "      <td>C</td>\n",
       "    </tr>\n",
       "    <tr>\n",
       "      <td>21451</td>\n",
       "      <td>3</td>\n",
       "      <td>3112.481705</td>\n",
       "      <td>38.0</td>\n",
       "      <td>1</td>\n",
       "      <td>0</td>\n",
       "      <td>M</td>\n",
       "      <td>сотрудник</td>\n",
       "      <td>1</td>\n",
       "      <td>244093</td>\n",
       "      <td>на покупку своего автомобиля</td>\n",
       "      <td>II</td>\n",
       "      <td>B</td>\n",
       "    </tr>\n",
       "    <tr>\n",
       "      <td>21452</td>\n",
       "      <td>2</td>\n",
       "      <td>1984.507589</td>\n",
       "      <td>40.0</td>\n",
       "      <td>1</td>\n",
       "      <td>0</td>\n",
       "      <td>F</td>\n",
       "      <td>сотрудник</td>\n",
       "      <td>0</td>\n",
       "      <td>82047</td>\n",
       "      <td>на покупку автомобиля</td>\n",
       "      <td>II</td>\n",
       "      <td>C</td>\n",
       "    </tr>\n",
       "  </tbody>\n",
       "</table>\n",
       "<p>21453 rows × 12 columns</p>\n",
       "</div>"
      ],
      "text/plain": [
       "       children  days_employed  dob_years  education_id  family_status_id  \\\n",
       "0             1    8437.673028       42.0             0                 0   \n",
       "1             1    4024.803754       36.0             1                 0   \n",
       "2             0    5623.422610       33.0             1                 0   \n",
       "3             3    4124.747207       32.0             1                 0   \n",
       "4             0  340266.072047       53.0             1                 1   \n",
       "...         ...            ...        ...           ...               ...   \n",
       "21448         1    4529.316663       43.0             1                 1   \n",
       "21449         0  343937.404131       67.0             1                 0   \n",
       "21450         1    2113.346888       38.0             1                 1   \n",
       "21451         3    3112.481705       38.0             1                 0   \n",
       "21452         2    1984.507589       40.0             1                 0   \n",
       "\n",
       "      gender income_type  debt  total_income                       purpose  \\\n",
       "0          F   сотрудник     0        253875                 покупка жилья   \n",
       "1          F   сотрудник     0        112080       приобретение автомобиля   \n",
       "2          M   сотрудник     0        145885                 покупка жилья   \n",
       "3          M   сотрудник     0        267628    дополнительное образование   \n",
       "4          F   пенсионер     0        158616               сыграть свадьбу   \n",
       "...      ...         ...   ...           ...                           ...   \n",
       "21448      F   компаньон     0        224791             операции с жильем   \n",
       "21449      F   пенсионер     0        155999          сделка с автомобилем   \n",
       "21450      M   сотрудник     1         89672                  недвижимость   \n",
       "21451      M   сотрудник     1        244093  на покупку своего автомобиля   \n",
       "21452      F   сотрудник     0         82047         на покупку автомобиля   \n",
       "\n",
       "      age_group total_income_category  \n",
       "0           III                     B  \n",
       "1            II                     C  \n",
       "2            II                     C  \n",
       "3            II                     B  \n",
       "4           III                     C  \n",
       "...         ...                   ...  \n",
       "21448       III                     B  \n",
       "21449        IV                     C  \n",
       "21450        II                     C  \n",
       "21451        II                     B  \n",
       "21452        II                     C  \n",
       "\n",
       "[21453 rows x 12 columns]"
      ]
     },
     "execution_count": 44,
     "metadata": {},
     "output_type": "execute_result"
    }
   ],
   "source": [
    "def income_cat(row):\n",
    "    income = row['total_income']\n",
    "    if income <= 30000:\n",
    "        return 'E'\n",
    "    if 30001<= income <= 50000:\n",
    "        return 'D'\n",
    "    if 50001 <= income <= 200000:\n",
    "        return 'C'\n",
    "    if 200001 <= income <= 1000000:\n",
    "        return 'B'\n",
    "    if income >= 1000001:\n",
    "        return 'A'\n",
    "        \n",
    "data['total_income_category'] = data.apply(income_cat, axis = 1)\n",
    "\n",
    "data"
   ]
  },
  {
   "cell_type": "markdown",
   "id": "8d76062a",
   "metadata": {},
   "source": [
    "### Шаг 2.7. Категоризация целей кредита."
   ]
  },
  {
   "cell_type": "markdown",
   "id": "209de451",
   "metadata": {},
   "source": [
    " При изучении столбца с целями кредитования видим множество различных написаний цели, которые можно привести к единообразию.</div>"
   ]
  },
  {
   "cell_type": "code",
   "execution_count": 45,
   "id": "831d0e58",
   "metadata": {},
   "outputs": [
    {
     "data": {
      "text/plain": [
       "array(['покупка жилья', 'приобретение автомобиля',\n",
       "       'дополнительное образование', 'сыграть свадьбу',\n",
       "       'операции с жильем', 'образование', 'на проведение свадьбы',\n",
       "       'покупка жилья для семьи', 'покупка недвижимости',\n",
       "       'покупка коммерческой недвижимости', 'покупка жилой недвижимости',\n",
       "       'строительство собственной недвижимости', 'недвижимость',\n",
       "       'строительство недвижимости', 'на покупку подержанного автомобиля',\n",
       "       'на покупку своего автомобиля',\n",
       "       'операции с коммерческой недвижимостью',\n",
       "       'строительство жилой недвижимости', 'жилье',\n",
       "       'операции со своей недвижимостью', 'автомобили',\n",
       "       'заняться образованием', 'сделка с подержанным автомобилем',\n",
       "       'получение образования', 'автомобиль', 'свадьба',\n",
       "       'получение дополнительного образования', 'покупка своего жилья',\n",
       "       'операции с недвижимостью', 'получение высшего образования',\n",
       "       'свой автомобиль', 'сделка с автомобилем',\n",
       "       'профильное образование', 'высшее образование',\n",
       "       'покупка жилья для сдачи', 'на покупку автомобиля', 'ремонт жилью',\n",
       "       'заняться высшим образованием'], dtype=object)"
      ]
     },
     "execution_count": 45,
     "metadata": {},
     "output_type": "execute_result"
    }
   ],
   "source": [
    "data['purpose'].unique()"
   ]
  },
  {
   "cell_type": "markdown",
   "id": "491e1646",
   "metadata": {},
   "source": [
    " Создадим функцию, которая на основании данных из столбца purpose сформирует новый столбец purpose_category, в который войдут следующие категории:\n",
    " \n",
    "'операции с автомобилем',\n",
    "\n",
    "'операции с недвижимостью',\n",
    "\n",
    "'проведение свадьбы',\n",
    "\n",
    "'получение образования'</div>"
   ]
  },
  {
   "cell_type": "code",
   "execution_count": 46,
   "id": "f947c526",
   "metadata": {},
   "outputs": [
    {
     "data": {
      "text/html": [
       "<div>\n",
       "<style scoped>\n",
       "    .dataframe tbody tr th:only-of-type {\n",
       "        vertical-align: middle;\n",
       "    }\n",
       "\n",
       "    .dataframe tbody tr th {\n",
       "        vertical-align: top;\n",
       "    }\n",
       "\n",
       "    .dataframe thead th {\n",
       "        text-align: right;\n",
       "    }\n",
       "</style>\n",
       "<table border=\"1\" class=\"dataframe\">\n",
       "  <thead>\n",
       "    <tr style=\"text-align: right;\">\n",
       "      <th></th>\n",
       "      <th>children</th>\n",
       "      <th>days_employed</th>\n",
       "      <th>dob_years</th>\n",
       "      <th>education_id</th>\n",
       "      <th>family_status_id</th>\n",
       "      <th>gender</th>\n",
       "      <th>income_type</th>\n",
       "      <th>debt</th>\n",
       "      <th>total_income</th>\n",
       "      <th>purpose</th>\n",
       "      <th>age_group</th>\n",
       "      <th>total_income_category</th>\n",
       "      <th>purpose_category</th>\n",
       "    </tr>\n",
       "  </thead>\n",
       "  <tbody>\n",
       "    <tr>\n",
       "      <td>0</td>\n",
       "      <td>1</td>\n",
       "      <td>8437.673028</td>\n",
       "      <td>42.0</td>\n",
       "      <td>0</td>\n",
       "      <td>0</td>\n",
       "      <td>F</td>\n",
       "      <td>сотрудник</td>\n",
       "      <td>0</td>\n",
       "      <td>253875</td>\n",
       "      <td>покупка жилья</td>\n",
       "      <td>III</td>\n",
       "      <td>B</td>\n",
       "      <td>операции с недвижимостью</td>\n",
       "    </tr>\n",
       "    <tr>\n",
       "      <td>1</td>\n",
       "      <td>1</td>\n",
       "      <td>4024.803754</td>\n",
       "      <td>36.0</td>\n",
       "      <td>1</td>\n",
       "      <td>0</td>\n",
       "      <td>F</td>\n",
       "      <td>сотрудник</td>\n",
       "      <td>0</td>\n",
       "      <td>112080</td>\n",
       "      <td>приобретение автомобиля</td>\n",
       "      <td>II</td>\n",
       "      <td>C</td>\n",
       "      <td>операции с автомобилем</td>\n",
       "    </tr>\n",
       "    <tr>\n",
       "      <td>2</td>\n",
       "      <td>0</td>\n",
       "      <td>5623.422610</td>\n",
       "      <td>33.0</td>\n",
       "      <td>1</td>\n",
       "      <td>0</td>\n",
       "      <td>M</td>\n",
       "      <td>сотрудник</td>\n",
       "      <td>0</td>\n",
       "      <td>145885</td>\n",
       "      <td>покупка жилья</td>\n",
       "      <td>II</td>\n",
       "      <td>C</td>\n",
       "      <td>операции с недвижимостью</td>\n",
       "    </tr>\n",
       "    <tr>\n",
       "      <td>3</td>\n",
       "      <td>3</td>\n",
       "      <td>4124.747207</td>\n",
       "      <td>32.0</td>\n",
       "      <td>1</td>\n",
       "      <td>0</td>\n",
       "      <td>M</td>\n",
       "      <td>сотрудник</td>\n",
       "      <td>0</td>\n",
       "      <td>267628</td>\n",
       "      <td>дополнительное образование</td>\n",
       "      <td>II</td>\n",
       "      <td>B</td>\n",
       "      <td>получение образования</td>\n",
       "    </tr>\n",
       "    <tr>\n",
       "      <td>4</td>\n",
       "      <td>0</td>\n",
       "      <td>340266.072047</td>\n",
       "      <td>53.0</td>\n",
       "      <td>1</td>\n",
       "      <td>1</td>\n",
       "      <td>F</td>\n",
       "      <td>пенсионер</td>\n",
       "      <td>0</td>\n",
       "      <td>158616</td>\n",
       "      <td>сыграть свадьбу</td>\n",
       "      <td>III</td>\n",
       "      <td>C</td>\n",
       "      <td>проведение свадьбы</td>\n",
       "    </tr>\n",
       "    <tr>\n",
       "      <td>5</td>\n",
       "      <td>0</td>\n",
       "      <td>926.185831</td>\n",
       "      <td>27.0</td>\n",
       "      <td>0</td>\n",
       "      <td>1</td>\n",
       "      <td>M</td>\n",
       "      <td>компаньон</td>\n",
       "      <td>0</td>\n",
       "      <td>255763</td>\n",
       "      <td>покупка жилья</td>\n",
       "      <td>I</td>\n",
       "      <td>B</td>\n",
       "      <td>операции с недвижимостью</td>\n",
       "    </tr>\n",
       "    <tr>\n",
       "      <td>6</td>\n",
       "      <td>0</td>\n",
       "      <td>2879.202052</td>\n",
       "      <td>43.0</td>\n",
       "      <td>0</td>\n",
       "      <td>0</td>\n",
       "      <td>F</td>\n",
       "      <td>компаньон</td>\n",
       "      <td>0</td>\n",
       "      <td>240525</td>\n",
       "      <td>операции с жильем</td>\n",
       "      <td>III</td>\n",
       "      <td>B</td>\n",
       "      <td>операции с недвижимостью</td>\n",
       "    </tr>\n",
       "    <tr>\n",
       "      <td>7</td>\n",
       "      <td>0</td>\n",
       "      <td>152.779569</td>\n",
       "      <td>50.0</td>\n",
       "      <td>1</td>\n",
       "      <td>0</td>\n",
       "      <td>M</td>\n",
       "      <td>сотрудник</td>\n",
       "      <td>0</td>\n",
       "      <td>135823</td>\n",
       "      <td>образование</td>\n",
       "      <td>III</td>\n",
       "      <td>C</td>\n",
       "      <td>получение образования</td>\n",
       "    </tr>\n",
       "    <tr>\n",
       "      <td>8</td>\n",
       "      <td>2</td>\n",
       "      <td>6929.865299</td>\n",
       "      <td>35.0</td>\n",
       "      <td>0</td>\n",
       "      <td>1</td>\n",
       "      <td>F</td>\n",
       "      <td>сотрудник</td>\n",
       "      <td>0</td>\n",
       "      <td>95856</td>\n",
       "      <td>на проведение свадьбы</td>\n",
       "      <td>II</td>\n",
       "      <td>C</td>\n",
       "      <td>проведение свадьбы</td>\n",
       "    </tr>\n",
       "    <tr>\n",
       "      <td>9</td>\n",
       "      <td>0</td>\n",
       "      <td>2188.756445</td>\n",
       "      <td>41.0</td>\n",
       "      <td>1</td>\n",
       "      <td>0</td>\n",
       "      <td>M</td>\n",
       "      <td>сотрудник</td>\n",
       "      <td>0</td>\n",
       "      <td>144425</td>\n",
       "      <td>покупка жилья для семьи</td>\n",
       "      <td>III</td>\n",
       "      <td>C</td>\n",
       "      <td>операции с недвижимостью</td>\n",
       "    </tr>\n",
       "  </tbody>\n",
       "</table>\n",
       "</div>"
      ],
      "text/plain": [
       "   children  days_employed  dob_years  education_id  family_status_id gender  \\\n",
       "0         1    8437.673028       42.0             0                 0      F   \n",
       "1         1    4024.803754       36.0             1                 0      F   \n",
       "2         0    5623.422610       33.0             1                 0      M   \n",
       "3         3    4124.747207       32.0             1                 0      M   \n",
       "4         0  340266.072047       53.0             1                 1      F   \n",
       "5         0     926.185831       27.0             0                 1      M   \n",
       "6         0    2879.202052       43.0             0                 0      F   \n",
       "7         0     152.779569       50.0             1                 0      M   \n",
       "8         2    6929.865299       35.0             0                 1      F   \n",
       "9         0    2188.756445       41.0             1                 0      M   \n",
       "\n",
       "  income_type  debt  total_income                     purpose age_group  \\\n",
       "0   сотрудник     0        253875               покупка жилья       III   \n",
       "1   сотрудник     0        112080     приобретение автомобиля        II   \n",
       "2   сотрудник     0        145885               покупка жилья        II   \n",
       "3   сотрудник     0        267628  дополнительное образование        II   \n",
       "4   пенсионер     0        158616             сыграть свадьбу       III   \n",
       "5   компаньон     0        255763               покупка жилья         I   \n",
       "6   компаньон     0        240525           операции с жильем       III   \n",
       "7   сотрудник     0        135823                 образование       III   \n",
       "8   сотрудник     0         95856       на проведение свадьбы        II   \n",
       "9   сотрудник     0        144425     покупка жилья для семьи       III   \n",
       "\n",
       "  total_income_category          purpose_category  \n",
       "0                     B  операции с недвижимостью  \n",
       "1                     C    операции с автомобилем  \n",
       "2                     C  операции с недвижимостью  \n",
       "3                     B     получение образования  \n",
       "4                     C        проведение свадьбы  \n",
       "5                     B  операции с недвижимостью  \n",
       "6                     B  операции с недвижимостью  \n",
       "7                     C     получение образования  \n",
       "8                     C        проведение свадьбы  \n",
       "9                     C  операции с недвижимостью  "
      ]
     },
     "execution_count": 46,
     "metadata": {},
     "output_type": "execute_result"
    }
   ],
   "source": [
    "def purpose_category(list):\n",
    "    if 'авто' in list:\n",
    "        return 'операции с автомобилем'\n",
    "    if 'образован' in list:\n",
    "        return 'получение образования'\n",
    "    if 'свадьб' in list:\n",
    "        return 'проведение свадьбы'\n",
    "    if \"недвиж\" or 'жиль' in list:\n",
    "        return 'операции с недвижимостью'\n",
    "data['purpose_category'] = data['purpose'].apply(purpose_category)\n",
    "data.head(10)"
   ]
  },
  {
   "cell_type": "markdown",
   "id": "ccda26ef",
   "metadata": {},
   "source": [
    "### Ответы на вопросы."
   ]
  },
  {
   "cell_type": "markdown",
   "id": "f58648e9",
   "metadata": {},
   "source": [
    "##### Вопрос 1: Есть ли зависимость между количеством детей и возвратом кредита в срок?"
   ]
  },
  {
   "cell_type": "markdown",
   "id": "3cdf4c91",
   "metadata": {},
   "source": [
    " Определим общий процент невыплаты кредита в срок.</div>"
   ]
  },
  {
   "cell_type": "code",
   "execution_count": 47,
   "id": "09995fe6",
   "metadata": {},
   "outputs": [
    {
     "data": {
      "text/plain": [
       "0.08832183441558442"
      ]
     },
     "execution_count": 47,
     "metadata": {},
     "output_type": "execute_result"
    }
   ],
   "source": [
    "late_payment = data[(data['debt'] == 1)].count() / data[(data['debt'] == 0)].count()\n",
    "late_payment['debt']"
   ]
  },
  {
   "cell_type": "markdown",
   "id": "6e90423c",
   "metadata": {},
   "source": [
    " Выходит, что 8,9% всех случаев займы не выплачиваются вовремя. Рассмотрим, как меняется эта величина в зависимости от других факторов. Рассмотрим сводную таблицу для ответа на первый вопрос</div>"
   ]
  },
  {
   "cell_type": "code",
   "execution_count": 48,
   "id": "cf2d6655",
   "metadata": {},
   "outputs": [
    {
     "data": {
      "text/plain": [
       "'7.54%  возврат кредита не в срок, если нет детей'"
      ]
     },
     "metadata": {},
     "output_type": "display_data"
    },
    {
     "data": {
      "text/plain": [
       "'9.17%  возврат кредита не в срок, если один ребенок'"
      ]
     },
     "metadata": {},
     "output_type": "display_data"
    },
    {
     "data": {
      "text/plain": [
       "'9.49%  возврат кредита не в срок, если двое детей'"
      ]
     },
     "metadata": {},
     "output_type": "display_data"
    },
    {
     "data": {
      "text/plain": [
       "'8.18%  возврат кредита не в срок, если трое детей'"
      ]
     },
     "metadata": {},
     "output_type": "display_data"
    },
    {
     "data": {
      "text/plain": [
       "'9.76%  возврат кредита не в срок, если четверо детей'"
      ]
     },
     "metadata": {},
     "output_type": "display_data"
    }
   ],
   "source": [
    "data_pivot1 = data.pivot_table(index=['children'], columns='debt', values = 'family_status_id', aggfunc='count')\n",
    "ch0 = data_pivot1[1][0] / (data_pivot1[0][0]+data_pivot1[1][0])\n",
    "ch1 = data_pivot1[1][1] / (data_pivot1[0][1]+data_pivot1[1][1])\n",
    "ch2 = data_pivot1[1][2] / (data_pivot1[0][2]+data_pivot1[1][2])\n",
    "ch3 = data_pivot1[1][3] / (data_pivot1[0][3]+data_pivot1[1][3])\n",
    "ch4 = data_pivot1[1][4] / (data_pivot1[0][4]+data_pivot1[1][4])\n",
    "display('{0:.2f}%  возврат кредита не в срок, если нет детей'.format(ch0*100))\n",
    "display('{0:.2f}%  возврат кредита не в срок, если один ребенок'.format(ch1*100))\n",
    "display('{0:.2f}%  возврат кредита не в срок, если двое детей'.format(ch2*100))\n",
    "display('{0:.2f}%  возврат кредита не в срок, если трое детей'.format(ch3*100))\n",
    "display('{0:.2f}%  возврат кредита не в срок, если четверо детей'.format(ch4*100))\n"
   ]
  },
  {
   "cell_type": "markdown",
   "id": "81922f21",
   "metadata": {},
   "source": [
    "Рассчитали долю, исходя из общего количества плательщиков по каждой категории</div>"
   ]
  },
  {
   "cell_type": "markdown",
   "id": "62754e6e",
   "metadata": {},
   "source": [
    "\n",
    "    \n",
    "##### Вывод 1: \n",
    "На основании данных расчетов можно сделать следующие выводы:\n",
    "\n",
    "1). В целом наличие (либо появление) ребенка у заёмщика увеличивает риск просрочки платежа.\n",
    "\n",
    "2). Семьи, считающиеся многодетными (имеющие трех детей), приближены к семьям, не имеющих детей. Вероятно благодаря государственным льготам."
   ]
  },
  {
   "cell_type": "markdown",
   "id": "27164932",
   "metadata": {},
   "source": [
    "##### Вопрос 2: Есть ли зависимость между семейным положением и возвратом кредита в срок?"
   ]
  },
  {
   "cell_type": "markdown",
   "id": "5db30144",
   "metadata": {},
   "source": [
    " Рассмотрим сводную таблицу для ответа на второй вопрос. Рассмотрим категории состоящих в законном браке и не состоящих в браке вообще по разным причинам</div>"
   ]
  },
  {
   "cell_type": "code",
   "execution_count": 49,
   "id": "d1b45a64",
   "metadata": {},
   "outputs": [
    {
     "data": {
      "text/plain": [
       "'Возврат кредита не в срок в процентах, если заемщик:'"
      ]
     },
     "metadata": {},
     "output_type": "display_data"
    },
    {
     "data": {
      "text/plain": [
       "'7.55%  женат/замужем'"
      ]
     },
     "metadata": {},
     "output_type": "display_data"
    },
    {
     "data": {
      "text/plain": [
       "'9.35%  состоит в гражданском браке'"
      ]
     },
     "metadata": {},
     "output_type": "display_data"
    },
    {
     "data": {
      "text/plain": [
       "'6.57%  вдовец/вдова'"
      ]
     },
     "metadata": {},
     "output_type": "display_data"
    },
    {
     "data": {
      "text/plain": [
       "'7.11%  в разводе'"
      ]
     },
     "metadata": {},
     "output_type": "display_data"
    },
    {
     "data": {
      "text/plain": [
       "'9.75%  не женат/не замужем'"
      ]
     },
     "metadata": {},
     "output_type": "display_data"
    }
   ],
   "source": [
    "data_pivot2 = data.pivot_table(index=['family_status_id'], columns='debt', values='age_group', aggfunc='count')\n",
    "married = data_pivot2[1][0] / (data_pivot2[1][0]+data_pivot2[0][0])\n",
    "civil_marriage = data_pivot2[1][1] / (data_pivot2[1][1]+data_pivot2[0][1])\n",
    "widower = data_pivot2[1][2] / (data_pivot2[1][2]+data_pivot2[0][2])\n",
    "divorced = data_pivot2[1][3] / (data_pivot2[1][3]+data_pivot2[0][3])\n",
    "not_married = data_pivot2[1][4] / (data_pivot2[1][4]+data_pivot2[0][4])\n",
    "display('Возврат кредита не в срок в процентах, если заемщик:')\n",
    "display('{0:.2f}%  женат/замужем'.format(married*100))\n",
    "display('{0:.2f}%  состоит в гражданском браке'.format(civil_marriage*100))\n",
    "display('{0:.2f}%  вдовец/вдова'.format(widower*100))\n",
    "display('{0:.2f}%  в разводе'.format(divorced*100))\n",
    "display('{0:.2f}%  не женат/не замужем'.format(not_married*100))"
   ]
  },
  {
   "cell_type": "markdown",
   "id": "f373f316",
   "metadata": {},
   "source": [
    "\n",
    "    \n",
    "##### Вывод 2:\n",
    "Люди, не состоящие в браке, реже выплачивают займы в срок"
   ]
  },
  {
   "cell_type": "markdown",
   "id": "05ffe7b6",
   "metadata": {},
   "source": [
    "##### Вопрос 3: Есть ли зависимость между уровнем дохода и возвратом кредита в срок?"
   ]
  },
  {
   "cell_type": "markdown",
   "id": "2c0374ba",
   "metadata": {},
   "source": [
    "Рассмотрим сводную таблицу для ответа на третий вопрос.</div>"
   ]
  },
  {
   "cell_type": "code",
   "execution_count": 50,
   "id": "ffd3f366",
   "metadata": {},
   "outputs": [
    {
     "data": {
      "text/plain": [
       "'8.00% Доход заёмщика более 1 млн.руб'"
      ]
     },
     "metadata": {},
     "output_type": "display_data"
    },
    {
     "data": {
      "text/plain": [
       "'7.06% Доход заёмщика от 200 тыс.руб до 1 млн.руб'"
      ]
     },
     "metadata": {},
     "output_type": "display_data"
    },
    {
     "data": {
      "text/plain": [
       "'8.49% Доход заёмщика от 50 тыс.руб до 200 тыс.руб '"
      ]
     },
     "metadata": {},
     "output_type": "display_data"
    },
    {
     "data": {
      "text/plain": [
       "'6.00% Доход заёмщика от 30 тыс.руб до 50 тыс.руб'"
      ]
     },
     "metadata": {},
     "output_type": "display_data"
    },
    {
     "data": {
      "text/plain": [
       "'9.09% Доход заёмщика менее 30 тыс.руб'"
      ]
     },
     "metadata": {},
     "output_type": "display_data"
    }
   ],
   "source": [
    "data_pivot3 = data.pivot_table(index=['total_income_category'], columns='debt', values='age_group', aggfunc='count')\n",
    "inc1 = data_pivot3[1]['A'] / (data_pivot3[0]['A']+data_pivot3[1]['A'])\n",
    "inc2 = data_pivot3[1]['B'] / (data_pivot3[0]['B']+data_pivot3[1]['B'])\n",
    "inc3 = data_pivot3[1]['C'] / (data_pivot3[0]['C']+data_pivot3[1]['C'])\n",
    "inc4 = data_pivot3[1]['D'] / (data_pivot3[0]['D']+data_pivot3[1]['D'])\n",
    "inc5 = data_pivot3[1]['E'] / (data_pivot3[0]['E']+data_pivot3[1]['E'])\n",
    "display('{0:.2f}% Доход заёмщика более 1 млн.руб'.format(inc1*100))\n",
    "display('{0:.2f}% Доход заёмщика от 200 тыс.руб до 1 млн.руб'.format(inc2*100))\n",
    "display('{0:.2f}% Доход заёмщика от 50 тыс.руб до 200 тыс.руб '.format(inc3*100))\n",
    "display('{0:.2f}% Доход заёмщика от 30 тыс.руб до 50 тыс.руб'.format(inc4*100))\n",
    "display('{0:.2f}% Доход заёмщика менее 30 тыс.руб'.format(inc5*100))"
   ]
  },
  {
   "cell_type": "markdown",
   "id": "3426c3de",
   "metadata": {},
   "source": [
    "\n",
    "    \n",
    "##### Вывод 3:\n",
    "Удивительно, но люди с доходом ниже среднего (30-50 тыс.руб) чаще остальных выплачивают заёмные средства в срок"
   ]
  },
  {
   "cell_type": "markdown",
   "id": "bc59efe3",
   "metadata": {},
   "source": [
    "##### Вопрос 4: Как разные цели кредита влияют на его возврат в срок?"
   ]
  },
  {
   "cell_type": "markdown",
   "id": "6d654484",
   "metadata": {},
   "source": [
    "Рассмотрим сводную таблицу для ответа на четвертый вопрос.</div>"
   ]
  },
  {
   "cell_type": "code",
   "execution_count": 51,
   "id": "fabf4745",
   "metadata": {},
   "outputs": [
    {
     "data": {
      "text/plain": [
       "'Просрочка в процентах при получении кредита на:'"
      ]
     },
     "metadata": {},
     "output_type": "display_data"
    },
    {
     "data": {
      "text/plain": [
       "'9.36% операции с автомобилем'"
      ]
     },
     "metadata": {},
     "output_type": "display_data"
    },
    {
     "data": {
      "text/plain": [
       "'7.23% операции с недвижимостью'"
      ]
     },
     "metadata": {},
     "output_type": "display_data"
    },
    {
     "data": {
      "text/plain": [
       "'9.22% получение образования'"
      ]
     },
     "metadata": {},
     "output_type": "display_data"
    },
    {
     "data": {
      "text/plain": [
       "'8.00% проведение свадьбы'"
      ]
     },
     "metadata": {},
     "output_type": "display_data"
    }
   ],
   "source": [
    "data_pivot4 = data.pivot_table(index=['purpose_category'], columns='debt', values='age_group', aggfunc='count')\n",
    "in1 = data_pivot4[1]['операции с автомобилем'] / (data_pivot4[0]['операции с автомобилем']+data_pivot4[1]['операции с автомобилем'])\n",
    "in2 = data_pivot4[1]['операции с недвижимостью'] / (data_pivot4[0]['операции с недвижимостью']+data_pivot4[1]['операции с недвижимостью'])\n",
    "in3 = data_pivot4[1]['получение образования'] / (data_pivot4[0]['получение образования']+data_pivot4[1]['получение образования'])\n",
    "in4 = data_pivot4[1]['проведение свадьбы'] / (data_pivot4[0]['проведение свадьбы']+data_pivot4[1]['проведение свадьбы'])\n",
    "display('Просрочка в процентах при получении кредита на:')\n",
    "display('{0:.2f}% операции с автомобилем'.format(in1*100))\n",
    "display('{0:.2f}% операции с недвижимостью'.format(in2*100))\n",
    "display('{0:.2f}% получение образования'.format(in3*100))\n",
    "display('{0:.2f}% проведение свадьбы'.format(in4*100))"
   ]
  },
  {
   "cell_type": "markdown",
   "id": "13ca9b76",
   "metadata": {},
   "source": [
    "\n",
    "    \n",
    "##### Вывод 4:\n",
    "Заёмщики с большей вероятностью выплачивают кредит в срок, если он взят на операции с недвижимостью или проведение свадьбы\n"
   ]
  },
  {
   "cell_type": "markdown",
   "id": "b54a5626",
   "metadata": {},
   "source": [
    "## Общий вывод:"
   ]
  },
  {
   "cell_type": "markdown",
   "id": "721c8200",
   "metadata": {},
   "source": [
    "\n",
    "\n",
    "Проведенное исследование позволяет нам скомпилировать следующие выводы:\n",
    "\n",
    "1. 8,9% всех взятых займов не выплачиваются в срок.\n",
    "2. На просрочку кредита влияет количество или появление детей у заёмщика.  Многодетные семей с тремя детьми чаще остальных семей с детьми оплачивают кредит в срок, поскольку, вероятно, пользуются гос.льготами.\n",
    "3. Заёмщики, не состоящие в официальном браке, чаще  допускают просрочку выплаты. Это может свидетельствовать об общем уровне ответственности категории населения. Исправнее всего выплачивают вдовцы/вдовы и разведенные люди.\n",
    "4. Реже всего в срок выплачивают заёмщики с минимальным уровнем дохода (очевидно) и с уровнем дохода выше среднего (пародоксально). Самые надежные плательщики принадлежат к категории дохода ниже среднего (что также свидетельствует об уровне ответственности).\n",
    "5. В срок выплачиваются кредиты, взятые на операции с жильем (здесь строгая зона ответственности ипотечного займа) и на проведение свадьбы (здесь возврат долга, вероятно, связан со средствами, подаренными на этом мероприятии)\n",
    "\n",
    "\n",
    "\n",
    "\n"
   ]
  },
  {
   "cell_type": "code",
   "execution_count": null,
   "id": "beff46bc",
   "metadata": {},
   "outputs": [],
   "source": []
  }
 ],
 "metadata": {
  "ExecuteTimeLog": [
   {
    "duration": 996,
    "start_time": "2022-02-25T11:33:22.504Z"
   },
   {
    "duration": 237,
    "start_time": "2022-02-25T11:56:05.378Z"
   },
   {
    "duration": 88,
    "start_time": "2022-02-25T12:02:36.888Z"
   },
   {
    "duration": 82,
    "start_time": "2022-02-25T12:03:21.849Z"
   },
   {
    "duration": 28,
    "start_time": "2022-02-25T12:04:00.756Z"
   },
   {
    "duration": 22,
    "start_time": "2022-02-25T12:04:19.779Z"
   },
   {
    "duration": 21,
    "start_time": "2022-02-25T12:04:27.702Z"
   },
   {
    "duration": 26,
    "start_time": "2022-02-25T12:05:26.295Z"
   },
   {
    "duration": 6,
    "start_time": "2022-02-25T12:12:43.561Z"
   },
   {
    "duration": 6,
    "start_time": "2022-02-25T12:12:49.847Z"
   },
   {
    "duration": 6,
    "start_time": "2022-02-25T12:13:14.413Z"
   },
   {
    "duration": 6,
    "start_time": "2022-02-25T12:13:19.412Z"
   },
   {
    "duration": 15,
    "start_time": "2022-02-25T12:13:36.365Z"
   },
   {
    "duration": 405,
    "start_time": "2022-02-25T12:14:18.958Z"
   },
   {
    "duration": 8,
    "start_time": "2022-02-25T12:14:26.893Z"
   },
   {
    "duration": 7,
    "start_time": "2022-02-25T12:14:48.867Z"
   },
   {
    "duration": 6,
    "start_time": "2022-02-25T12:15:11.988Z"
   },
   {
    "duration": 6,
    "start_time": "2022-02-25T12:15:12.563Z"
   },
   {
    "duration": 15,
    "start_time": "2022-02-25T12:15:13.076Z"
   },
   {
    "duration": 7,
    "start_time": "2022-02-25T12:15:14.125Z"
   },
   {
    "duration": 6,
    "start_time": "2022-02-25T12:15:22.706Z"
   },
   {
    "duration": 6,
    "start_time": "2022-02-25T12:16:04.763Z"
   },
   {
    "duration": 7,
    "start_time": "2022-02-25T12:16:05.268Z"
   },
   {
    "duration": 16,
    "start_time": "2022-02-25T12:16:05.760Z"
   },
   {
    "duration": 8,
    "start_time": "2022-02-25T12:16:06.480Z"
   },
   {
    "duration": 8,
    "start_time": "2022-02-25T12:16:07.541Z"
   },
   {
    "duration": 323,
    "start_time": "2022-02-25T12:19:56.115Z"
   },
   {
    "duration": 362,
    "start_time": "2022-02-25T12:20:03.391Z"
   },
   {
    "duration": 6,
    "start_time": "2022-02-25T12:20:11.689Z"
   },
   {
    "duration": 8,
    "start_time": "2022-02-25T12:20:21.100Z"
   },
   {
    "duration": 15,
    "start_time": "2022-02-25T12:20:23.997Z"
   },
   {
    "duration": 7,
    "start_time": "2022-02-25T12:20:25.078Z"
   },
   {
    "duration": 927,
    "start_time": "2022-02-25T12:20:58.763Z"
   },
   {
    "duration": 3470,
    "start_time": "2022-02-25T12:20:56.224Z"
   },
   {
    "duration": 18,
    "start_time": "2022-02-25T12:21:00.337Z"
   },
   {
    "duration": 7,
    "start_time": "2022-02-25T12:21:00.969Z"
   },
   {
    "duration": 122,
    "start_time": "2022-02-25T12:21:15.340Z"
   },
   {
    "duration": 6,
    "start_time": "2022-02-25T12:21:20.275Z"
   },
   {
    "duration": 5,
    "start_time": "2022-02-25T12:21:25.210Z"
   },
   {
    "duration": 14,
    "start_time": "2022-02-25T12:21:26.610Z"
   },
   {
    "duration": 7,
    "start_time": "2022-02-25T12:21:27.687Z"
   },
   {
    "duration": 7,
    "start_time": "2022-02-25T12:21:36.985Z"
   },
   {
    "duration": 7,
    "start_time": "2022-02-25T12:22:37.198Z"
   },
   {
    "duration": 343,
    "start_time": "2022-02-25T12:24:07.437Z"
   },
   {
    "duration": 6,
    "start_time": "2022-02-25T12:24:14.573Z"
   },
   {
    "duration": 7,
    "start_time": "2022-02-25T12:24:29.000Z"
   },
   {
    "duration": 6,
    "start_time": "2022-02-25T12:24:30.941Z"
   },
   {
    "duration": 15,
    "start_time": "2022-02-25T12:24:31.837Z"
   },
   {
    "duration": 6,
    "start_time": "2022-02-25T12:24:32.671Z"
   },
   {
    "duration": 321,
    "start_time": "2022-02-25T12:24:58.520Z"
   },
   {
    "duration": 7,
    "start_time": "2022-02-25T12:25:32.288Z"
   },
   {
    "duration": 6,
    "start_time": "2022-02-25T12:25:35.151Z"
   },
   {
    "duration": 17,
    "start_time": "2022-02-25T12:25:36.007Z"
   },
   {
    "duration": 9,
    "start_time": "2022-02-25T12:25:36.901Z"
   },
   {
    "duration": 9,
    "start_time": "2022-02-25T12:26:24.660Z"
   },
   {
    "duration": 9,
    "start_time": "2022-02-25T12:26:51.542Z"
   },
   {
    "duration": 90,
    "start_time": "2022-02-25T12:34:21.013Z"
   },
   {
    "duration": 25,
    "start_time": "2022-02-25T12:34:22.075Z"
   },
   {
    "duration": 9,
    "start_time": "2022-02-25T12:35:32.759Z"
   },
   {
    "duration": 10,
    "start_time": "2022-02-25T12:36:18.980Z"
   },
   {
    "duration": 9,
    "start_time": "2022-02-25T12:36:25.614Z"
   },
   {
    "duration": 7,
    "start_time": "2022-02-25T12:40:25.842Z"
   },
   {
    "duration": 6,
    "start_time": "2022-02-25T12:41:05.757Z"
   },
   {
    "duration": 7,
    "start_time": "2022-02-25T12:41:21.380Z"
   },
   {
    "duration": 75,
    "start_time": "2022-02-25T12:41:38.284Z"
   },
   {
    "duration": 6,
    "start_time": "2022-02-25T12:41:44.477Z"
   },
   {
    "duration": 20,
    "start_time": "2022-02-25T12:43:39.397Z"
   },
   {
    "duration": 11,
    "start_time": "2022-02-25T12:43:47.981Z"
   },
   {
    "duration": 13,
    "start_time": "2022-02-25T12:44:07.566Z"
   },
   {
    "duration": 7,
    "start_time": "2022-02-25T12:44:20.436Z"
   },
   {
    "duration": 3508,
    "start_time": "2022-02-25T12:47:36.290Z"
   },
   {
    "duration": 7,
    "start_time": "2022-02-25T12:47:48.962Z"
   },
   {
    "duration": 9,
    "start_time": "2022-02-25T12:50:09.391Z"
   },
   {
    "duration": 6,
    "start_time": "2022-02-25T12:50:36.281Z"
   },
   {
    "duration": 125,
    "start_time": "2022-02-25T12:50:56.138Z"
   },
   {
    "duration": 127,
    "start_time": "2022-02-25T12:51:09.030Z"
   },
   {
    "duration": 6,
    "start_time": "2022-02-25T12:51:20.820Z"
   },
   {
    "duration": 7,
    "start_time": "2022-02-25T12:52:41.029Z"
   },
   {
    "duration": 6,
    "start_time": "2022-02-25T12:53:52.918Z"
   },
   {
    "duration": 7,
    "start_time": "2022-02-25T12:54:00.386Z"
   },
   {
    "duration": 7,
    "start_time": "2022-02-25T12:54:15.877Z"
   },
   {
    "duration": 7,
    "start_time": "2022-02-25T12:54:24.523Z"
   },
   {
    "duration": 8,
    "start_time": "2022-02-25T12:56:12.299Z"
   },
   {
    "duration": 8,
    "start_time": "2022-02-25T12:57:08.508Z"
   },
   {
    "duration": 106,
    "start_time": "2022-02-25T12:57:39.955Z"
   },
   {
    "duration": 7,
    "start_time": "2022-02-25T12:57:56.393Z"
   },
   {
    "duration": 8,
    "start_time": "2022-02-25T12:59:56.642Z"
   },
   {
    "duration": 8,
    "start_time": "2022-02-25T13:00:00.202Z"
   },
   {
    "duration": 877,
    "start_time": "2022-02-25T13:10:26.656Z"
   },
   {
    "duration": 10,
    "start_time": "2022-02-25T13:10:43.286Z"
   },
   {
    "duration": 11,
    "start_time": "2022-02-25T13:11:35.646Z"
   },
   {
    "duration": 272,
    "start_time": "2022-02-25T13:11:47.872Z"
   },
   {
    "duration": 10,
    "start_time": "2022-02-25T13:12:15.846Z"
   },
   {
    "duration": 457,
    "start_time": "2022-02-25T13:24:24.686Z"
   },
   {
    "duration": 9,
    "start_time": "2022-02-25T13:24:46.727Z"
   },
   {
    "duration": 10,
    "start_time": "2022-02-25T13:26:09.227Z"
   },
   {
    "duration": 406,
    "start_time": "2022-02-25T13:28:13.146Z"
   },
   {
    "duration": 11,
    "start_time": "2022-02-25T13:29:23.073Z"
   },
   {
    "duration": 7,
    "start_time": "2022-02-25T13:30:00.861Z"
   },
   {
    "duration": 85,
    "start_time": "2022-02-25T13:33:27.891Z"
   },
   {
    "duration": 10,
    "start_time": "2022-02-25T13:33:39.192Z"
   },
   {
    "duration": 5,
    "start_time": "2022-02-25T13:34:46.226Z"
   },
   {
    "duration": 7,
    "start_time": "2022-02-25T13:35:03.150Z"
   },
   {
    "duration": 7,
    "start_time": "2022-02-25T13:35:10.350Z"
   },
   {
    "duration": 8,
    "start_time": "2022-02-25T13:35:11.169Z"
   },
   {
    "duration": 8,
    "start_time": "2022-02-25T13:35:21.906Z"
   },
   {
    "duration": 6,
    "start_time": "2022-02-25T13:35:45.170Z"
   },
   {
    "duration": 7,
    "start_time": "2022-02-25T13:35:52.422Z"
   },
   {
    "duration": 8,
    "start_time": "2022-02-25T13:36:52.464Z"
   },
   {
    "duration": 10,
    "start_time": "2022-02-25T13:38:16.132Z"
   },
   {
    "duration": 4,
    "start_time": "2022-02-25T13:38:45.337Z"
   },
   {
    "duration": 11,
    "start_time": "2022-02-25T13:38:46.381Z"
   },
   {
    "duration": 12,
    "start_time": "2022-02-25T13:39:35.029Z"
   },
   {
    "duration": 5,
    "start_time": "2022-02-25T13:41:22.135Z"
   },
   {
    "duration": 10,
    "start_time": "2022-02-25T13:41:23.122Z"
   },
   {
    "duration": 498,
    "start_time": "2022-02-25T13:47:54.128Z"
   },
   {
    "duration": 119,
    "start_time": "2022-02-25T13:48:50.173Z"
   },
   {
    "duration": 524,
    "start_time": "2022-02-25T13:49:03.722Z"
   },
   {
    "duration": 386,
    "start_time": "2022-02-25T13:50:30.038Z"
   },
   {
    "duration": 78,
    "start_time": "2022-02-25T13:52:48.704Z"
   },
   {
    "duration": 7,
    "start_time": "2022-02-25T13:52:50.444Z"
   },
   {
    "duration": 7,
    "start_time": "2022-02-25T13:52:51.113Z"
   },
   {
    "duration": 4,
    "start_time": "2022-02-25T13:52:53.178Z"
   },
   {
    "duration": 11,
    "start_time": "2022-02-25T13:52:53.970Z"
   },
   {
    "duration": 5,
    "start_time": "2022-02-25T13:52:55.250Z"
   },
   {
    "duration": 9,
    "start_time": "2022-02-25T13:52:55.887Z"
   },
   {
    "duration": 24,
    "start_time": "2022-02-25T13:53:00.072Z"
   },
   {
    "duration": 27,
    "start_time": "2022-02-25T13:53:08.772Z"
   },
   {
    "duration": 11,
    "start_time": "2022-02-25T13:53:46.920Z"
   },
   {
    "duration": 10,
    "start_time": "2022-02-25T13:54:02.478Z"
   },
   {
    "duration": 5,
    "start_time": "2022-02-25T13:54:06.262Z"
   },
   {
    "duration": 13,
    "start_time": "2022-02-25T13:54:06.819Z"
   },
   {
    "duration": 5,
    "start_time": "2022-02-25T13:54:08.032Z"
   },
   {
    "duration": 9,
    "start_time": "2022-02-25T13:54:08.966Z"
   },
   {
    "duration": 17,
    "start_time": "2022-02-25T13:54:11.565Z"
   },
   {
    "duration": 5,
    "start_time": "2022-02-25T13:55:45.736Z"
   },
   {
    "duration": 342,
    "start_time": "2022-02-25T13:56:08.424Z"
   },
   {
    "duration": 17,
    "start_time": "2022-02-25T13:56:14.596Z"
   },
   {
    "duration": 25,
    "start_time": "2022-02-25T14:02:28.954Z"
   },
   {
    "duration": 28,
    "start_time": "2022-02-25T14:06:37.385Z"
   },
   {
    "duration": 49,
    "start_time": "2022-02-25T14:06:51.443Z"
   },
   {
    "duration": 352,
    "start_time": "2022-02-25T14:08:00.348Z"
   },
   {
    "duration": 7,
    "start_time": "2022-02-25T14:08:06.784Z"
   },
   {
    "duration": 16,
    "start_time": "2022-02-25T14:09:46.876Z"
   },
   {
    "duration": 21,
    "start_time": "2022-02-25T14:10:10.658Z"
   },
   {
    "duration": 22,
    "start_time": "2022-02-25T14:12:07.728Z"
   },
   {
    "duration": 7,
    "start_time": "2022-02-25T14:14:15.745Z"
   },
   {
    "duration": 6,
    "start_time": "2022-02-25T14:14:23.823Z"
   },
   {
    "duration": 6,
    "start_time": "2022-02-25T14:16:48.998Z"
   },
   {
    "duration": 3605,
    "start_time": "2022-02-25T14:17:38.516Z"
   },
   {
    "duration": 8,
    "start_time": "2022-02-25T14:17:54.720Z"
   },
   {
    "duration": 100,
    "start_time": "2022-02-25T14:18:25.947Z"
   },
   {
    "duration": 8,
    "start_time": "2022-02-25T14:18:30.827Z"
   },
   {
    "duration": 8,
    "start_time": "2022-02-25T14:19:43.545Z"
   },
   {
    "duration": 7,
    "start_time": "2022-02-25T14:20:06.405Z"
   },
   {
    "duration": 7,
    "start_time": "2022-02-25T14:20:38.308Z"
   },
   {
    "duration": 30,
    "start_time": "2022-02-25T14:26:47.282Z"
   },
   {
    "duration": 114,
    "start_time": "2022-02-25T14:37:49.973Z"
   },
   {
    "duration": 511,
    "start_time": "2022-02-25T14:37:56.460Z"
   },
   {
    "duration": 533,
    "start_time": "2022-02-25T14:38:15.255Z"
   },
   {
    "duration": 572,
    "start_time": "2022-02-25T14:41:19.867Z"
   },
   {
    "duration": 39,
    "start_time": "2022-02-25T14:42:03.051Z"
   },
   {
    "duration": 357,
    "start_time": "2022-02-25T14:42:52.830Z"
   },
   {
    "duration": 441,
    "start_time": "2022-02-25T14:42:59.134Z"
   },
   {
    "duration": 38,
    "start_time": "2022-02-25T14:43:16.293Z"
   },
   {
    "duration": 41,
    "start_time": "2022-02-25T14:45:00.497Z"
   },
   {
    "duration": 358,
    "start_time": "2022-02-25T14:48:47.141Z"
   },
   {
    "duration": 54,
    "start_time": "2022-02-25T14:49:37.015Z"
   },
   {
    "duration": 59,
    "start_time": "2022-02-25T14:51:19.164Z"
   },
   {
    "duration": 80,
    "start_time": "2022-02-25T14:52:57.087Z"
   },
   {
    "duration": 32,
    "start_time": "2022-02-25T14:53:18.846Z"
   },
   {
    "duration": 8494,
    "start_time": "2022-02-25T14:59:04.582Z"
   },
   {
    "duration": 8671,
    "start_time": "2022-02-25T14:59:24.772Z"
   },
   {
    "duration": 9644,
    "start_time": "2022-02-25T15:00:03.762Z"
   },
   {
    "duration": 16,
    "start_time": "2022-02-25T15:02:54.800Z"
   },
   {
    "duration": 15,
    "start_time": "2022-02-25T15:04:28.546Z"
   },
   {
    "duration": 7,
    "start_time": "2022-02-25T15:07:31.268Z"
   },
   {
    "duration": 317,
    "start_time": "2022-02-25T15:07:34.485Z"
   },
   {
    "duration": 320,
    "start_time": "2022-02-25T15:08:54.603Z"
   },
   {
    "duration": 333,
    "start_time": "2022-02-25T15:09:00.216Z"
   },
   {
    "duration": 318,
    "start_time": "2022-02-25T15:09:14.118Z"
   },
   {
    "duration": 351,
    "start_time": "2022-02-25T15:11:34.906Z"
   },
   {
    "duration": 366,
    "start_time": "2022-02-25T15:11:45.435Z"
   },
   {
    "duration": 332,
    "start_time": "2022-02-25T15:13:36.154Z"
   },
   {
    "duration": 314,
    "start_time": "2022-02-25T15:13:49.277Z"
   },
   {
    "duration": 313,
    "start_time": "2022-02-25T15:15:39.100Z"
   },
   {
    "duration": 327,
    "start_time": "2022-02-25T15:16:18.000Z"
   },
   {
    "duration": 352,
    "start_time": "2022-02-25T15:19:08.275Z"
   },
   {
    "duration": 320,
    "start_time": "2022-02-25T15:20:41.865Z"
   },
   {
    "duration": 358,
    "start_time": "2022-02-25T15:21:05.372Z"
   },
   {
    "duration": 584,
    "start_time": "2022-02-25T15:21:11.596Z"
   },
   {
    "duration": 322,
    "start_time": "2022-02-25T15:21:21.933Z"
   },
   {
    "duration": 310,
    "start_time": "2022-02-25T15:21:29.108Z"
   },
   {
    "duration": 343,
    "start_time": "2022-02-25T15:29:52.927Z"
   },
   {
    "duration": 326,
    "start_time": "2022-02-25T15:30:04.916Z"
   },
   {
    "duration": 399,
    "start_time": "2022-02-26T04:07:15.783Z"
   },
   {
    "duration": 887,
    "start_time": "2022-02-26T04:07:36.341Z"
   },
   {
    "duration": 7,
    "start_time": "2022-02-26T04:07:42.004Z"
   },
   {
    "duration": 7,
    "start_time": "2022-02-26T04:07:42.639Z"
   },
   {
    "duration": 5,
    "start_time": "2022-02-26T04:07:44.299Z"
   },
   {
    "duration": 12,
    "start_time": "2022-02-26T04:07:44.907Z"
   },
   {
    "duration": 5,
    "start_time": "2022-02-26T04:07:46.124Z"
   },
   {
    "duration": 9,
    "start_time": "2022-02-26T04:07:46.703Z"
   },
   {
    "duration": 16,
    "start_time": "2022-02-26T04:07:48.200Z"
   },
   {
    "duration": 18,
    "start_time": "2022-02-26T04:07:51.426Z"
   },
   {
    "duration": 25,
    "start_time": "2022-02-26T04:07:53.910Z"
   },
   {
    "duration": 53,
    "start_time": "2022-02-26T04:07:54.614Z"
   },
   {
    "duration": 6,
    "start_time": "2022-02-26T04:07:55.442Z"
   },
   {
    "duration": 7,
    "start_time": "2022-02-26T04:07:56.345Z"
   },
   {
    "duration": 9,
    "start_time": "2022-02-26T04:07:57.209Z"
   },
   {
    "duration": 6,
    "start_time": "2022-02-26T04:07:58.154Z"
   },
   {
    "duration": 8,
    "start_time": "2022-02-26T04:07:59.152Z"
   },
   {
    "duration": 6,
    "start_time": "2022-02-26T04:07:59.995Z"
   },
   {
    "duration": 8,
    "start_time": "2022-02-26T04:08:01.227Z"
   },
   {
    "duration": 77,
    "start_time": "2022-02-26T04:08:02.272Z"
   },
   {
    "duration": 7,
    "start_time": "2022-02-26T04:08:03.186Z"
   },
   {
    "duration": 25,
    "start_time": "2022-02-26T04:08:03.989Z"
   },
   {
    "duration": 37,
    "start_time": "2022-02-26T04:08:04.859Z"
   },
   {
    "duration": 16,
    "start_time": "2022-02-26T04:08:06.682Z"
   },
   {
    "duration": 15,
    "start_time": "2022-02-26T04:08:07.543Z"
   },
   {
    "duration": 24,
    "start_time": "2022-02-26T04:08:08.470Z"
   },
   {
    "duration": 45,
    "start_time": "2022-02-26T04:08:57.615Z"
   },
   {
    "duration": 360,
    "start_time": "2022-02-26T04:19:21.900Z"
   },
   {
    "duration": 323,
    "start_time": "2022-02-26T04:19:31.599Z"
   },
   {
    "duration": 332,
    "start_time": "2022-02-26T04:19:43.788Z"
   },
   {
    "duration": 310,
    "start_time": "2022-02-26T04:19:58.104Z"
   },
   {
    "duration": 343,
    "start_time": "2022-02-26T04:20:06.702Z"
   },
   {
    "duration": 325,
    "start_time": "2022-02-26T04:20:24.095Z"
   },
   {
    "duration": 463,
    "start_time": "2022-02-26T04:20:36.261Z"
   },
   {
    "duration": 308,
    "start_time": "2022-02-26T04:33:23.672Z"
   },
   {
    "duration": 26,
    "start_time": "2022-02-26T04:34:14.920Z"
   },
   {
    "duration": 67,
    "start_time": "2022-02-26T04:57:34.168Z"
   },
   {
    "duration": 35,
    "start_time": "2022-02-26T05:00:02.573Z"
   },
   {
    "duration": 113,
    "start_time": "2022-02-26T05:01:36.323Z"
   },
   {
    "duration": 96,
    "start_time": "2022-02-26T05:01:44.221Z"
   },
   {
    "duration": 128,
    "start_time": "2022-02-26T05:02:00.006Z"
   },
   {
    "duration": 107,
    "start_time": "2022-02-26T05:02:07.901Z"
   },
   {
    "duration": 7,
    "start_time": "2022-02-26T05:07:36.974Z"
   },
   {
    "duration": 7,
    "start_time": "2022-02-26T05:07:40.844Z"
   },
   {
    "duration": 14,
    "start_time": "2022-02-26T05:07:52.877Z"
   },
   {
    "duration": 8,
    "start_time": "2022-02-26T05:08:37.126Z"
   },
   {
    "duration": 9,
    "start_time": "2022-02-26T05:09:34.411Z"
   },
   {
    "duration": 8,
    "start_time": "2022-02-26T05:10:28.135Z"
   },
   {
    "duration": 313,
    "start_time": "2022-02-26T05:16:15.983Z"
   },
   {
    "duration": 67,
    "start_time": "2022-02-26T05:16:24.328Z"
   },
   {
    "duration": 6,
    "start_time": "2022-02-26T05:43:40.699Z"
   },
   {
    "duration": 112,
    "start_time": "2022-02-26T05:49:16.675Z"
   },
   {
    "duration": 3390,
    "start_time": "2022-02-26T05:49:13.405Z"
   },
   {
    "duration": 3383,
    "start_time": "2022-02-26T05:49:13.413Z"
   },
   {
    "duration": 3381,
    "start_time": "2022-02-26T05:49:13.418Z"
   },
   {
    "duration": 3379,
    "start_time": "2022-02-26T05:49:13.422Z"
   },
   {
    "duration": 3375,
    "start_time": "2022-02-26T05:49:13.427Z"
   },
   {
    "duration": 3373,
    "start_time": "2022-02-26T05:49:13.431Z"
   },
   {
    "duration": 3369,
    "start_time": "2022-02-26T05:49:13.436Z"
   },
   {
    "duration": 3366,
    "start_time": "2022-02-26T05:49:13.441Z"
   },
   {
    "duration": 62,
    "start_time": "2022-02-26T05:49:22.234Z"
   },
   {
    "duration": 34,
    "start_time": "2022-02-26T05:49:23.240Z"
   },
   {
    "duration": 12,
    "start_time": "2022-02-26T05:49:25.154Z"
   },
   {
    "duration": 8,
    "start_time": "2022-02-26T05:49:26.002Z"
   },
   {
    "duration": 8,
    "start_time": "2022-02-26T05:49:29.246Z"
   },
   {
    "duration": 68,
    "start_time": "2022-02-26T05:49:31.952Z"
   },
   {
    "duration": 10,
    "start_time": "2022-02-26T05:49:35.743Z"
   },
   {
    "duration": 6,
    "start_time": "2022-02-26T05:49:45.771Z"
   },
   {
    "duration": 11,
    "start_time": "2022-02-26T05:49:47.906Z"
   },
   {
    "duration": 366,
    "start_time": "2022-02-26T05:50:27.978Z"
   },
   {
    "duration": 108,
    "start_time": "2022-02-26T05:50:39.019Z"
   },
   {
    "duration": 330,
    "start_time": "2022-02-26T05:50:42.633Z"
   },
   {
    "duration": 11,
    "start_time": "2022-02-26T05:51:10.192Z"
   },
   {
    "duration": 10,
    "start_time": "2022-02-26T05:52:47.633Z"
   },
   {
    "duration": 6,
    "start_time": "2022-02-26T06:06:42.866Z"
   },
   {
    "duration": 6,
    "start_time": "2022-02-26T06:06:56.698Z"
   },
   {
    "duration": 296,
    "start_time": "2022-02-26T06:07:40.128Z"
   },
   {
    "duration": 6,
    "start_time": "2022-02-26T06:07:51.694Z"
   },
   {
    "duration": 3411,
    "start_time": "2022-02-26T06:08:24.591Z"
   },
   {
    "duration": 403,
    "start_time": "2022-02-26T06:08:32.725Z"
   },
   {
    "duration": 5,
    "start_time": "2022-02-26T06:09:10.375Z"
   },
   {
    "duration": 6,
    "start_time": "2022-02-26T06:09:22.472Z"
   },
   {
    "duration": 21,
    "start_time": "2022-02-26T06:14:15.273Z"
   },
   {
    "duration": 12,
    "start_time": "2022-02-26T06:25:23.235Z"
   },
   {
    "duration": 57,
    "start_time": "2022-02-26T06:32:30.402Z"
   },
   {
    "duration": 499,
    "start_time": "2022-02-26T06:33:57.667Z"
   },
   {
    "duration": 327,
    "start_time": "2022-02-26T06:35:46.502Z"
   },
   {
    "duration": 323,
    "start_time": "2022-02-26T06:37:01.350Z"
   },
   {
    "duration": 382,
    "start_time": "2022-02-26T06:46:33.915Z"
   },
   {
    "duration": 317,
    "start_time": "2022-02-26T06:47:06.845Z"
   },
   {
    "duration": 322,
    "start_time": "2022-02-26T06:56:34.065Z"
   },
   {
    "duration": 318,
    "start_time": "2022-02-26T06:57:24.135Z"
   },
   {
    "duration": 110,
    "start_time": "2022-02-26T06:59:19.775Z"
   },
   {
    "duration": 14,
    "start_time": "2022-02-26T07:00:33.122Z"
   },
   {
    "duration": 1085,
    "start_time": "2022-02-26T07:23:45.546Z"
   },
   {
    "duration": 356,
    "start_time": "2022-02-26T07:24:46.002Z"
   },
   {
    "duration": 42,
    "start_time": "2022-02-26T07:24:48.527Z"
   },
   {
    "duration": 14,
    "start_time": "2022-02-26T07:24:58.634Z"
   },
   {
    "duration": 13,
    "start_time": "2022-02-26T07:25:03.539Z"
   },
   {
    "duration": 9,
    "start_time": "2022-02-26T07:25:04.850Z"
   },
   {
    "duration": 66,
    "start_time": "2022-02-26T07:25:08.661Z"
   },
   {
    "duration": 12,
    "start_time": "2022-02-26T07:25:16.216Z"
   },
   {
    "duration": 12,
    "start_time": "2022-02-26T07:25:19.628Z"
   },
   {
    "duration": 22,
    "start_time": "2022-02-26T07:25:21.597Z"
   },
   {
    "duration": 6,
    "start_time": "2022-02-26T07:25:28.014Z"
   },
   {
    "duration": 6,
    "start_time": "2022-02-26T07:25:28.521Z"
   },
   {
    "duration": 13,
    "start_time": "2022-02-26T07:25:29.575Z"
   },
   {
    "duration": 55,
    "start_time": "2022-02-26T07:25:31.074Z"
   },
   {
    "duration": 343,
    "start_time": "2022-02-26T07:25:32.761Z"
   },
   {
    "duration": 6,
    "start_time": "2022-02-26T07:25:38.770Z"
   },
   {
    "duration": 320,
    "start_time": "2022-02-26T07:25:39.906Z"
   },
   {
    "duration": 331,
    "start_time": "2022-02-26T07:26:33.308Z"
   },
   {
    "duration": 344,
    "start_time": "2022-02-26T07:26:48.200Z"
   },
   {
    "duration": 28,
    "start_time": "2022-02-26T07:35:26.597Z"
   },
   {
    "duration": 325,
    "start_time": "2022-02-26T07:38:10.177Z"
   },
   {
    "duration": 29,
    "start_time": "2022-02-26T07:38:19.460Z"
   },
   {
    "duration": 5,
    "start_time": "2022-02-26T07:50:00.864Z"
   },
   {
    "duration": 4,
    "start_time": "2022-02-26T07:51:23.834Z"
   },
   {
    "duration": 389,
    "start_time": "2022-02-26T07:51:24.290Z"
   },
   {
    "duration": 6,
    "start_time": "2022-02-26T07:51:24.983Z"
   },
   {
    "duration": 17,
    "start_time": "2022-02-26T07:51:25.897Z"
   },
   {
    "duration": 74,
    "start_time": "2022-02-26T07:52:22.345Z"
   },
   {
    "duration": 40,
    "start_time": "2022-02-26T07:54:54.582Z"
   },
   {
    "duration": 11,
    "start_time": "2022-02-26T07:55:07.613Z"
   },
   {
    "duration": 10,
    "start_time": "2022-02-26T08:02:15.368Z"
   },
   {
    "duration": 9,
    "start_time": "2022-02-26T08:05:06.656Z"
   },
   {
    "duration": 8,
    "start_time": "2022-02-26T08:05:11.608Z"
   },
   {
    "duration": 10,
    "start_time": "2022-02-26T08:05:24.173Z"
   },
   {
    "duration": 9,
    "start_time": "2022-02-26T08:05:29.146Z"
   },
   {
    "duration": 9,
    "start_time": "2022-02-26T08:05:32.960Z"
   },
   {
    "duration": 174,
    "start_time": "2022-02-26T08:05:41.059Z"
   },
   {
    "duration": 9,
    "start_time": "2022-02-26T08:05:49.318Z"
   },
   {
    "duration": 10,
    "start_time": "2022-02-26T08:05:54.720Z"
   },
   {
    "duration": 9,
    "start_time": "2022-02-26T08:05:58.423Z"
   },
   {
    "duration": 10,
    "start_time": "2022-02-26T08:06:03.019Z"
   },
   {
    "duration": 12,
    "start_time": "2022-02-26T08:07:34.570Z"
   },
   {
    "duration": 11,
    "start_time": "2022-02-26T08:08:50.818Z"
   },
   {
    "duration": 9,
    "start_time": "2022-02-26T08:09:09.884Z"
   },
   {
    "duration": 9,
    "start_time": "2022-02-26T08:09:15.934Z"
   },
   {
    "duration": 9,
    "start_time": "2022-02-26T08:11:07.811Z"
   },
   {
    "duration": 38,
    "start_time": "2022-02-26T08:12:10.054Z"
   },
   {
    "duration": 8,
    "start_time": "2022-02-26T08:12:13.067Z"
   },
   {
    "duration": 7,
    "start_time": "2022-02-26T08:12:37.470Z"
   },
   {
    "duration": 5,
    "start_time": "2022-02-26T08:25:50.462Z"
   },
   {
    "duration": 11,
    "start_time": "2022-02-26T08:26:06.006Z"
   },
   {
    "duration": 51,
    "start_time": "2022-02-26T08:26:52.133Z"
   },
   {
    "duration": 49,
    "start_time": "2022-02-26T08:26:54.867Z"
   },
   {
    "duration": 339,
    "start_time": "2022-02-26T08:27:00.592Z"
   },
   {
    "duration": 5,
    "start_time": "2022-02-26T08:27:04.485Z"
   },
   {
    "duration": 459,
    "start_time": "2022-02-26T08:27:05.330Z"
   },
   {
    "duration": 5,
    "start_time": "2022-02-26T08:27:05.867Z"
   },
   {
    "duration": 14,
    "start_time": "2022-02-26T08:27:06.455Z"
   },
   {
    "duration": 10,
    "start_time": "2022-02-26T08:27:07.975Z"
   },
   {
    "duration": 40,
    "start_time": "2022-02-26T08:27:09.497Z"
   },
   {
    "duration": 8,
    "start_time": "2022-02-26T08:27:10.829Z"
   },
   {
    "duration": 5,
    "start_time": "2022-02-26T08:27:14.987Z"
   },
   {
    "duration": 12,
    "start_time": "2022-02-26T08:27:15.661Z"
   },
   {
    "duration": 76,
    "start_time": "2022-02-26T08:30:38.942Z"
   },
   {
    "duration": 432,
    "start_time": "2022-02-26T08:31:22.223Z"
   },
   {
    "duration": 101,
    "start_time": "2022-02-26T08:32:06.955Z"
   },
   {
    "duration": 539,
    "start_time": "2022-02-26T08:32:17.465Z"
   },
   {
    "duration": 589,
    "start_time": "2022-02-26T08:33:09.359Z"
   },
   {
    "duration": 345,
    "start_time": "2022-02-26T08:33:14.245Z"
   },
   {
    "duration": 382,
    "start_time": "2022-02-26T08:35:01.754Z"
   },
   {
    "duration": 380,
    "start_time": "2022-02-26T08:35:28.120Z"
   },
   {
    "duration": 330,
    "start_time": "2022-02-26T08:36:21.262Z"
   },
   {
    "duration": 751,
    "start_time": "2022-02-26T08:37:01.518Z"
   },
   {
    "duration": 312,
    "start_time": "2022-02-26T08:37:44.964Z"
   },
   {
    "duration": 328,
    "start_time": "2022-02-26T08:41:21.260Z"
   },
   {
    "duration": 6,
    "start_time": "2022-02-26T08:42:33.358Z"
   },
   {
    "duration": 15,
    "start_time": "2022-02-26T08:42:33.864Z"
   },
   {
    "duration": 78,
    "start_time": "2022-02-26T08:42:34.565Z"
   },
   {
    "duration": 319,
    "start_time": "2022-02-26T08:42:40.037Z"
   },
   {
    "duration": 102,
    "start_time": "2022-02-26T08:43:54.320Z"
   },
   {
    "duration": 40,
    "start_time": "2022-02-26T08:48:11.135Z"
   },
   {
    "duration": 9,
    "start_time": "2022-02-26T08:48:12.258Z"
   },
   {
    "duration": 333,
    "start_time": "2022-02-26T08:48:25.611Z"
   },
   {
    "duration": 305,
    "start_time": "2022-02-26T08:48:37.471Z"
   },
   {
    "duration": 10,
    "start_time": "2022-02-26T08:49:38.228Z"
   },
   {
    "duration": 38,
    "start_time": "2022-02-26T08:49:41.907Z"
   },
   {
    "duration": 9,
    "start_time": "2022-02-26T08:49:43.202Z"
   },
   {
    "duration": 297,
    "start_time": "2022-02-26T08:49:46.681Z"
   },
   {
    "duration": 10,
    "start_time": "2022-02-26T08:50:04.861Z"
   },
   {
    "duration": 9,
    "start_time": "2022-02-26T08:50:14.603Z"
   },
   {
    "duration": 10,
    "start_time": "2022-02-26T08:51:40.292Z"
   },
   {
    "duration": 39,
    "start_time": "2022-02-26T08:51:42.070Z"
   },
   {
    "duration": 9,
    "start_time": "2022-02-26T08:51:44.975Z"
   },
   {
    "duration": 298,
    "start_time": "2022-02-26T08:51:47.376Z"
   },
   {
    "duration": 318,
    "start_time": "2022-02-26T08:58:04.792Z"
   },
   {
    "duration": 610,
    "start_time": "2022-02-27T07:16:40.522Z"
   },
   {
    "duration": 30,
    "start_time": "2022-02-27T07:16:41.594Z"
   },
   {
    "duration": 11,
    "start_time": "2022-02-27T07:16:43.101Z"
   },
   {
    "duration": 6,
    "start_time": "2022-02-27T07:16:43.817Z"
   },
   {
    "duration": 6,
    "start_time": "2022-02-27T07:16:44.421Z"
   },
   {
    "duration": 47,
    "start_time": "2022-02-27T07:16:46.825Z"
   },
   {
    "duration": 9,
    "start_time": "2022-02-27T07:16:50.159Z"
   },
   {
    "duration": 9,
    "start_time": "2022-02-27T07:16:52.472Z"
   },
   {
    "duration": 5,
    "start_time": "2022-02-27T07:16:53.723Z"
   },
   {
    "duration": 5,
    "start_time": "2022-02-27T07:16:54.323Z"
   },
   {
    "duration": 8,
    "start_time": "2022-02-27T07:16:55.722Z"
   },
   {
    "duration": 38,
    "start_time": "2022-02-27T07:16:56.990Z"
   },
   {
    "duration": 228,
    "start_time": "2022-02-27T07:16:58.840Z"
   },
   {
    "duration": 286,
    "start_time": "2022-02-27T07:18:46.064Z"
   },
   {
    "duration": 4,
    "start_time": "2022-02-27T07:19:08.644Z"
   },
   {
    "duration": 245,
    "start_time": "2022-02-27T07:19:09.159Z"
   },
   {
    "duration": 4,
    "start_time": "2022-02-27T07:19:09.628Z"
   },
   {
    "duration": 14,
    "start_time": "2022-02-27T07:19:10.237Z"
   },
   {
    "duration": 7,
    "start_time": "2022-02-27T07:19:12.880Z"
   },
   {
    "duration": 28,
    "start_time": "2022-02-27T07:19:14.037Z"
   },
   {
    "duration": 6,
    "start_time": "2022-02-27T07:19:14.822Z"
   },
   {
    "duration": 172,
    "start_time": "2022-02-27T07:19:15.716Z"
   },
   {
    "duration": 193,
    "start_time": "2022-02-27T07:19:49.256Z"
   },
   {
    "duration": 6,
    "start_time": "2022-02-27T07:20:10.948Z"
   },
   {
    "duration": 245,
    "start_time": "2022-02-27T07:20:12.223Z"
   },
   {
    "duration": 181,
    "start_time": "2022-02-27T07:25:35.668Z"
   },
   {
    "duration": 186,
    "start_time": "2022-02-27T07:27:23.681Z"
   },
   {
    "duration": 1390,
    "start_time": "2022-02-27T07:27:45.772Z"
   },
   {
    "duration": 153,
    "start_time": "2022-02-27T07:27:59.000Z"
   },
   {
    "duration": 207,
    "start_time": "2022-02-27T07:28:02.934Z"
   },
   {
    "duration": 13,
    "start_time": "2022-02-27T07:36:21.138Z"
   },
   {
    "duration": 148,
    "start_time": "2022-02-27T07:39:04.194Z"
   },
   {
    "duration": 3,
    "start_time": "2022-02-27T07:40:55.090Z"
   },
   {
    "duration": 6,
    "start_time": "2022-02-27T07:41:01.931Z"
   },
   {
    "duration": 194,
    "start_time": "2022-02-27T07:44:37.819Z"
   },
   {
    "duration": 9,
    "start_time": "2022-02-27T07:46:43.541Z"
   },
   {
    "duration": 189,
    "start_time": "2022-02-27T07:47:16.483Z"
   },
   {
    "duration": 4,
    "start_time": "2022-02-27T07:47:59.739Z"
   },
   {
    "duration": 5,
    "start_time": "2022-02-27T07:48:00.147Z"
   },
   {
    "duration": 10,
    "start_time": "2022-02-27T07:48:01.087Z"
   },
   {
    "duration": 11,
    "start_time": "2022-02-27T07:48:19.816Z"
   },
   {
    "duration": 10,
    "start_time": "2022-02-27T07:49:12.286Z"
   },
   {
    "duration": 192,
    "start_time": "2022-02-27T07:49:17.687Z"
   },
   {
    "duration": 146,
    "start_time": "2022-02-27T07:57:33.636Z"
   },
   {
    "duration": 48,
    "start_time": "2022-02-27T07:58:12.231Z"
   },
   {
    "duration": 25,
    "start_time": "2022-02-27T07:58:13.467Z"
   },
   {
    "duration": 11,
    "start_time": "2022-02-27T07:58:15.118Z"
   },
   {
    "duration": 7,
    "start_time": "2022-02-27T07:58:15.842Z"
   },
   {
    "duration": 6,
    "start_time": "2022-02-27T07:58:16.409Z"
   },
   {
    "duration": 46,
    "start_time": "2022-02-27T07:58:18.255Z"
   },
   {
    "duration": 8,
    "start_time": "2022-02-27T07:58:20.788Z"
   },
   {
    "duration": 10,
    "start_time": "2022-02-27T07:58:22.308Z"
   },
   {
    "duration": 4,
    "start_time": "2022-02-27T07:58:24.271Z"
   },
   {
    "duration": 5,
    "start_time": "2022-02-27T07:58:25.080Z"
   },
   {
    "duration": 10,
    "start_time": "2022-02-27T07:58:30.014Z"
   },
   {
    "duration": 40,
    "start_time": "2022-02-27T07:58:31.448Z"
   },
   {
    "duration": 200,
    "start_time": "2022-02-27T07:58:32.854Z"
   },
   {
    "duration": 5,
    "start_time": "2022-02-27T07:58:37.849Z"
   },
   {
    "duration": 241,
    "start_time": "2022-02-27T07:58:38.676Z"
   },
   {
    "duration": 5,
    "start_time": "2022-02-27T07:58:39.656Z"
   },
   {
    "duration": 15,
    "start_time": "2022-02-27T07:58:40.345Z"
   },
   {
    "duration": 7,
    "start_time": "2022-02-27T07:58:42.099Z"
   },
   {
    "duration": 28,
    "start_time": "2022-02-27T07:58:47.380Z"
   },
   {
    "duration": 6,
    "start_time": "2022-02-27T07:58:49.726Z"
   },
   {
    "duration": 192,
    "start_time": "2022-02-27T07:58:50.611Z"
   },
   {
    "duration": 4,
    "start_time": "2022-02-27T07:58:53.939Z"
   },
   {
    "duration": 7,
    "start_time": "2022-02-27T07:58:54.640Z"
   },
   {
    "duration": 54,
    "start_time": "2022-02-27T07:58:55.645Z"
   },
   {
    "duration": 181,
    "start_time": "2022-02-27T07:58:57.224Z"
   },
   {
    "duration": 5,
    "start_time": "2022-02-27T07:58:59.653Z"
   },
   {
    "duration": 206,
    "start_time": "2022-02-27T07:59:00.975Z"
   },
   {
    "duration": 4,
    "start_time": "2022-02-27T07:59:03.405Z"
   },
   {
    "duration": 6,
    "start_time": "2022-02-27T07:59:04.069Z"
   },
   {
    "duration": 10,
    "start_time": "2022-02-27T07:59:05.234Z"
   },
   {
    "duration": 193,
    "start_time": "2022-02-27T07:59:09.429Z"
   },
   {
    "duration": 13,
    "start_time": "2022-02-27T07:59:17.137Z"
   },
   {
    "duration": 2,
    "start_time": "2022-02-27T08:02:09.908Z"
   },
   {
    "duration": 8,
    "start_time": "2022-02-27T08:02:10.420Z"
   },
   {
    "duration": 57,
    "start_time": "2022-02-27T08:02:15.902Z"
   },
   {
    "duration": 187,
    "start_time": "2022-02-27T08:02:17.651Z"
   },
   {
    "duration": 5,
    "start_time": "2022-02-27T08:02:34.989Z"
   },
   {
    "duration": 269,
    "start_time": "2022-02-27T08:02:36.249Z"
   },
   {
    "duration": 4,
    "start_time": "2022-02-27T08:02:37.624Z"
   },
   {
    "duration": 6,
    "start_time": "2022-02-27T08:02:38.168Z"
   },
   {
    "duration": 9,
    "start_time": "2022-02-27T08:02:38.925Z"
   },
   {
    "duration": 202,
    "start_time": "2022-02-27T08:02:39.652Z"
   },
   {
    "duration": 13,
    "start_time": "2022-02-27T08:02:43.205Z"
   },
   {
    "duration": 5,
    "start_time": "2022-02-27T08:02:45.950Z"
   },
   {
    "duration": 4,
    "start_time": "2022-02-27T08:02:52.747Z"
   },
   {
    "duration": 15,
    "start_time": "2022-02-27T08:03:13.097Z"
   },
   {
    "duration": 9,
    "start_time": "2022-02-27T08:08:19.629Z"
   },
   {
    "duration": 56,
    "start_time": "2022-02-27T08:08:20.286Z"
   },
   {
    "duration": 188,
    "start_time": "2022-02-27T08:08:25.651Z"
   },
   {
    "duration": 5,
    "start_time": "2022-02-27T08:08:29.749Z"
   },
   {
    "duration": 212,
    "start_time": "2022-02-27T08:08:31.707Z"
   },
   {
    "duration": 4,
    "start_time": "2022-02-27T08:08:33.353Z"
   },
   {
    "duration": 6,
    "start_time": "2022-02-27T08:08:35.557Z"
   },
   {
    "duration": 10,
    "start_time": "2022-02-27T08:08:37.460Z"
   },
   {
    "duration": 22,
    "start_time": "2022-02-27T08:18:27.836Z"
   },
   {
    "duration": 198,
    "start_time": "2022-02-27T08:18:42.416Z"
   },
   {
    "duration": 9,
    "start_time": "2022-02-27T08:19:07.169Z"
   },
   {
    "duration": 517,
    "start_time": "2022-02-27T08:19:11.842Z"
   },
   {
    "duration": 11,
    "start_time": "2022-02-27T08:20:18.880Z"
   },
   {
    "duration": 10,
    "start_time": "2022-02-27T08:20:33.721Z"
   },
   {
    "duration": 27,
    "start_time": "2022-02-27T08:20:38.422Z"
   },
   {
    "duration": 600,
    "start_time": "2022-02-27T08:20:48.249Z"
   },
   {
    "duration": 7,
    "start_time": "2022-02-27T08:20:55.823Z"
   },
   {
    "duration": 4,
    "start_time": "2022-02-27T08:21:04.671Z"
   },
   {
    "duration": 6,
    "start_time": "2022-02-27T08:21:05.157Z"
   },
   {
    "duration": 4,
    "start_time": "2022-02-27T08:21:22.073Z"
   },
   {
    "duration": 6,
    "start_time": "2022-02-27T08:21:22.599Z"
   },
   {
    "duration": 9,
    "start_time": "2022-02-27T08:21:23.564Z"
   },
   {
    "duration": 52,
    "start_time": "2022-02-27T08:21:45.309Z"
   },
   {
    "duration": 27,
    "start_time": "2022-02-27T08:21:53.575Z"
   },
   {
    "duration": 12,
    "start_time": "2022-02-27T08:21:54.940Z"
   },
   {
    "duration": 7,
    "start_time": "2022-02-27T08:21:55.484Z"
   },
   {
    "duration": 6,
    "start_time": "2022-02-27T08:21:56.008Z"
   },
   {
    "duration": 48,
    "start_time": "2022-02-27T08:21:57.734Z"
   },
   {
    "duration": 8,
    "start_time": "2022-02-27T08:21:59.761Z"
   },
   {
    "duration": 10,
    "start_time": "2022-02-27T08:22:01.542Z"
   },
   {
    "duration": 5,
    "start_time": "2022-02-27T08:22:02.619Z"
   },
   {
    "duration": 5,
    "start_time": "2022-02-27T08:22:03.208Z"
   },
   {
    "duration": 9,
    "start_time": "2022-02-27T08:22:04.412Z"
   },
   {
    "duration": 37,
    "start_time": "2022-02-27T08:22:05.549Z"
   },
   {
    "duration": 213,
    "start_time": "2022-02-27T08:22:10.051Z"
   },
   {
    "duration": 3,
    "start_time": "2022-02-27T08:22:13.832Z"
   },
   {
    "duration": 244,
    "start_time": "2022-02-27T08:22:14.584Z"
   },
   {
    "duration": 4,
    "start_time": "2022-02-27T08:22:16.108Z"
   },
   {
    "duration": 16,
    "start_time": "2022-02-27T08:22:16.699Z"
   },
   {
    "duration": 7,
    "start_time": "2022-02-27T08:22:18.014Z"
   },
   {
    "duration": 29,
    "start_time": "2022-02-27T08:22:18.627Z"
   },
   {
    "duration": 8,
    "start_time": "2022-02-27T08:22:19.347Z"
   },
   {
    "duration": 193,
    "start_time": "2022-02-27T08:22:20.041Z"
   },
   {
    "duration": 9,
    "start_time": "2022-02-27T08:22:22.271Z"
   },
   {
    "duration": 55,
    "start_time": "2022-02-27T08:22:22.921Z"
   },
   {
    "duration": 200,
    "start_time": "2022-02-27T08:22:24.273Z"
   },
   {
    "duration": 6,
    "start_time": "2022-02-27T08:22:27.997Z"
   },
   {
    "duration": 208,
    "start_time": "2022-02-27T08:22:30.030Z"
   },
   {
    "duration": 4,
    "start_time": "2022-02-27T08:22:35.963Z"
   },
   {
    "duration": 6,
    "start_time": "2022-02-27T08:22:36.743Z"
   },
   {
    "duration": 10,
    "start_time": "2022-02-27T08:22:39.952Z"
   },
   {
    "duration": 273,
    "start_time": "2022-02-27T08:22:40.989Z"
   },
   {
    "duration": 10,
    "start_time": "2022-02-27T08:31:44.591Z"
   },
   {
    "duration": 12,
    "start_time": "2022-02-27T08:32:32.054Z"
   },
   {
    "duration": 209,
    "start_time": "2022-02-27T08:33:42.100Z"
   },
   {
    "duration": 192,
    "start_time": "2022-02-27T08:34:02.331Z"
   },
   {
    "duration": 167,
    "start_time": "2022-02-27T08:34:25.423Z"
   },
   {
    "duration": 8,
    "start_time": "2022-02-27T08:34:29.757Z"
   },
   {
    "duration": 173,
    "start_time": "2022-02-27T08:34:30.376Z"
   },
   {
    "duration": 46,
    "start_time": "2022-02-27T08:35:12.749Z"
   },
   {
    "duration": 49,
    "start_time": "2022-02-27T08:37:27.932Z"
   },
   {
    "duration": 28,
    "start_time": "2022-02-27T08:37:28.761Z"
   },
   {
    "duration": 12,
    "start_time": "2022-02-27T08:37:29.692Z"
   },
   {
    "duration": 8,
    "start_time": "2022-02-27T08:37:30.161Z"
   },
   {
    "duration": 6,
    "start_time": "2022-02-27T08:37:30.653Z"
   },
   {
    "duration": 48,
    "start_time": "2022-02-27T08:37:32.582Z"
   },
   {
    "duration": 9,
    "start_time": "2022-02-27T08:37:34.677Z"
   },
   {
    "duration": 10,
    "start_time": "2022-02-27T08:37:35.654Z"
   },
   {
    "duration": 5,
    "start_time": "2022-02-27T08:37:36.613Z"
   },
   {
    "duration": 5,
    "start_time": "2022-02-27T08:37:37.094Z"
   },
   {
    "duration": 8,
    "start_time": "2022-02-27T08:37:38.123Z"
   },
   {
    "duration": 41,
    "start_time": "2022-02-27T08:37:39.185Z"
   },
   {
    "duration": 209,
    "start_time": "2022-02-27T08:37:40.591Z"
   },
   {
    "duration": 4,
    "start_time": "2022-02-27T08:37:42.995Z"
   },
   {
    "duration": 241,
    "start_time": "2022-02-27T08:37:52.708Z"
   },
   {
    "duration": 4,
    "start_time": "2022-02-27T08:38:00.834Z"
   },
   {
    "duration": 14,
    "start_time": "2022-02-27T08:38:01.802Z"
   },
   {
    "duration": 8,
    "start_time": "2022-02-27T08:38:05.132Z"
   },
   {
    "duration": 30,
    "start_time": "2022-02-27T08:38:07.985Z"
   },
   {
    "duration": 7,
    "start_time": "2022-02-27T08:38:08.663Z"
   },
   {
    "duration": 201,
    "start_time": "2022-02-27T08:38:09.625Z"
   },
   {
    "duration": 8,
    "start_time": "2022-02-27T08:38:12.721Z"
   },
   {
    "duration": 53,
    "start_time": "2022-02-27T08:38:13.534Z"
   },
   {
    "duration": 207,
    "start_time": "2022-02-27T08:38:14.967Z"
   },
   {
    "duration": 6,
    "start_time": "2022-02-27T08:38:20.978Z"
   },
   {
    "duration": 199,
    "start_time": "2022-02-27T08:38:22.218Z"
   },
   {
    "duration": 4,
    "start_time": "2022-02-27T08:38:23.493Z"
   },
   {
    "duration": 6,
    "start_time": "2022-02-27T08:38:49.521Z"
   },
   {
    "duration": 206,
    "start_time": "2022-02-27T08:38:50.420Z"
   },
   {
    "duration": 452,
    "start_time": "2022-02-27T08:39:00.965Z"
   },
   {
    "duration": 20,
    "start_time": "2022-02-27T08:42:55.706Z"
   },
   {
    "duration": 255,
    "start_time": "2022-02-27T08:42:57.220Z"
   },
   {
    "duration": 12,
    "start_time": "2022-02-27T08:44:07.999Z"
   },
   {
    "duration": 65,
    "start_time": "2022-02-27T08:44:09.987Z"
   },
   {
    "duration": 199,
    "start_time": "2022-02-27T08:44:12.567Z"
   },
   {
    "duration": 5,
    "start_time": "2022-02-27T08:44:16.669Z"
   },
   {
    "duration": 199,
    "start_time": "2022-02-27T08:44:18.079Z"
   },
   {
    "duration": 4,
    "start_time": "2022-02-27T08:44:20.082Z"
   },
   {
    "duration": 6,
    "start_time": "2022-02-27T08:44:22.385Z"
   },
   {
    "duration": 344,
    "start_time": "2022-02-27T08:44:26.023Z"
   },
   {
    "duration": 13,
    "start_time": "2022-02-27T08:44:29.490Z"
   },
   {
    "duration": 18,
    "start_time": "2022-02-27T08:44:31.256Z"
   },
   {
    "duration": 5,
    "start_time": "2022-02-27T08:45:19.341Z"
   },
   {
    "duration": 26,
    "start_time": "2022-02-27T08:45:20.476Z"
   },
   {
    "duration": 19,
    "start_time": "2022-02-27T08:45:22.564Z"
   },
   {
    "duration": 21,
    "start_time": "2022-02-27T08:45:23.764Z"
   },
   {
    "duration": 50,
    "start_time": "2022-02-27T08:51:11.827Z"
   },
   {
    "duration": 6,
    "start_time": "2022-02-27T08:56:36.692Z"
   },
   {
    "duration": 17,
    "start_time": "2022-02-27T08:56:37.241Z"
   },
   {
    "duration": 20,
    "start_time": "2022-02-27T08:56:45.143Z"
   },
   {
    "duration": 23,
    "start_time": "2022-02-27T08:56:49.066Z"
   },
   {
    "duration": 12,
    "start_time": "2022-02-27T09:00:12.333Z"
   },
   {
    "duration": 12,
    "start_time": "2022-02-27T09:00:16.117Z"
   },
   {
    "duration": 24,
    "start_time": "2022-02-27T09:00:19.029Z"
   },
   {
    "duration": 6,
    "start_time": "2022-02-27T09:09:40.626Z"
   },
   {
    "duration": 51,
    "start_time": "2022-02-27T09:09:42.619Z"
   },
   {
    "duration": 52,
    "start_time": "2022-02-27T09:11:35.672Z"
   },
   {
    "duration": 16,
    "start_time": "2022-02-27T09:11:49.424Z"
   },
   {
    "duration": 16,
    "start_time": "2022-02-27T09:11:57.967Z"
   },
   {
    "duration": 30,
    "start_time": "2022-02-27T09:12:10.818Z"
   },
   {
    "duration": 29,
    "start_time": "2022-02-27T09:12:33.397Z"
   },
   {
    "duration": 335,
    "start_time": "2022-02-27T09:13:53.553Z"
   },
   {
    "duration": 155,
    "start_time": "2022-02-27T09:15:07.352Z"
   },
   {
    "duration": 183,
    "start_time": "2022-02-27T09:15:34.384Z"
   },
   {
    "duration": 3879,
    "start_time": "2022-02-27T09:16:04.890Z"
   },
   {
    "duration": 6,
    "start_time": "2022-02-27T09:18:58.577Z"
   },
   {
    "duration": 17,
    "start_time": "2022-02-27T09:21:57.598Z"
   },
   {
    "duration": 19,
    "start_time": "2022-02-27T09:22:03.788Z"
   },
   {
    "duration": 396,
    "start_time": "2022-02-27T09:22:04.248Z"
   },
   {
    "duration": 6,
    "start_time": "2022-02-27T09:22:30.177Z"
   },
   {
    "duration": 6,
    "start_time": "2022-02-27T09:22:34.364Z"
   },
   {
    "duration": 46,
    "start_time": "2022-02-27T09:22:45.071Z"
   },
   {
    "duration": 26,
    "start_time": "2022-02-27T09:22:45.884Z"
   },
   {
    "duration": 11,
    "start_time": "2022-02-27T09:22:46.785Z"
   },
   {
    "duration": 7,
    "start_time": "2022-02-27T09:22:47.204Z"
   },
   {
    "duration": 6,
    "start_time": "2022-02-27T09:22:47.664Z"
   },
   {
    "duration": 45,
    "start_time": "2022-02-27T09:22:48.958Z"
   },
   {
    "duration": 8,
    "start_time": "2022-02-27T09:22:50.740Z"
   },
   {
    "duration": 9,
    "start_time": "2022-02-27T09:22:52.170Z"
   },
   {
    "duration": 5,
    "start_time": "2022-02-27T09:22:53.508Z"
   },
   {
    "duration": 5,
    "start_time": "2022-02-27T09:22:54.046Z"
   },
   {
    "duration": 9,
    "start_time": "2022-02-27T09:22:55.150Z"
   },
   {
    "duration": 37,
    "start_time": "2022-02-27T09:22:56.264Z"
   },
   {
    "duration": 198,
    "start_time": "2022-02-27T09:22:57.434Z"
   },
   {
    "duration": 3,
    "start_time": "2022-02-27T09:22:59.646Z"
   },
   {
    "duration": 234,
    "start_time": "2022-02-27T09:23:00.176Z"
   },
   {
    "duration": 5,
    "start_time": "2022-02-27T09:23:00.702Z"
   },
   {
    "duration": 16,
    "start_time": "2022-02-27T09:23:01.284Z"
   },
   {
    "duration": 7,
    "start_time": "2022-02-27T09:23:02.832Z"
   },
   {
    "duration": 30,
    "start_time": "2022-02-27T09:23:03.380Z"
   },
   {
    "duration": 7,
    "start_time": "2022-02-27T09:23:07.012Z"
   },
   {
    "duration": 197,
    "start_time": "2022-02-27T09:23:08.372Z"
   },
   {
    "duration": 10,
    "start_time": "2022-02-27T09:23:14.879Z"
   },
   {
    "duration": 55,
    "start_time": "2022-02-27T09:23:16.484Z"
   },
   {
    "duration": 195,
    "start_time": "2022-02-27T09:23:20.239Z"
   },
   {
    "duration": 4,
    "start_time": "2022-02-27T09:23:24.499Z"
   },
   {
    "duration": 7,
    "start_time": "2022-02-27T09:23:25.683Z"
   },
   {
    "duration": 427,
    "start_time": "2022-02-27T09:23:26.988Z"
   },
   {
    "duration": 161,
    "start_time": "2022-02-27T09:29:31.986Z"
   },
   {
    "duration": 175,
    "start_time": "2022-02-27T09:30:02.323Z"
   },
   {
    "duration": 94,
    "start_time": "2022-02-27T09:35:44.738Z"
   },
   {
    "duration": 45,
    "start_time": "2022-02-27T09:35:58.754Z"
   },
   {
    "duration": 26,
    "start_time": "2022-02-27T09:35:59.611Z"
   },
   {
    "duration": 11,
    "start_time": "2022-02-27T09:36:02.351Z"
   },
   {
    "duration": 8,
    "start_time": "2022-02-27T09:36:02.972Z"
   },
   {
    "duration": 7,
    "start_time": "2022-02-27T09:36:03.520Z"
   },
   {
    "duration": 51,
    "start_time": "2022-02-27T09:36:05.085Z"
   },
   {
    "duration": 9,
    "start_time": "2022-02-27T09:36:07.295Z"
   },
   {
    "duration": 10,
    "start_time": "2022-02-27T09:36:08.479Z"
   },
   {
    "duration": 4,
    "start_time": "2022-02-27T09:36:09.516Z"
   },
   {
    "duration": 6,
    "start_time": "2022-02-27T09:36:10.068Z"
   },
   {
    "duration": 12,
    "start_time": "2022-02-27T09:36:11.139Z"
   },
   {
    "duration": 66,
    "start_time": "2022-02-27T09:36:12.093Z"
   },
   {
    "duration": 345,
    "start_time": "2022-02-27T09:36:13.249Z"
   },
   {
    "duration": 5,
    "start_time": "2022-02-27T09:36:15.421Z"
   },
   {
    "duration": 261,
    "start_time": "2022-02-27T09:36:15.993Z"
   },
   {
    "duration": 5,
    "start_time": "2022-02-27T09:36:17.450Z"
   },
   {
    "duration": 22,
    "start_time": "2022-02-27T09:36:17.994Z"
   },
   {
    "duration": 8,
    "start_time": "2022-02-27T09:36:19.366Z"
   },
   {
    "duration": 31,
    "start_time": "2022-02-27T09:36:20.026Z"
   },
   {
    "duration": 7,
    "start_time": "2022-02-27T09:36:20.670Z"
   },
   {
    "duration": 211,
    "start_time": "2022-02-27T09:36:23.463Z"
   },
   {
    "duration": 11,
    "start_time": "2022-02-27T09:36:26.733Z"
   },
   {
    "duration": 57,
    "start_time": "2022-02-27T09:36:28.223Z"
   },
   {
    "duration": 204,
    "start_time": "2022-02-27T09:36:30.939Z"
   },
   {
    "duration": 4,
    "start_time": "2022-02-27T09:36:32.597Z"
   },
   {
    "duration": 6,
    "start_time": "2022-02-27T09:36:33.122Z"
   },
   {
    "duration": 365,
    "start_time": "2022-02-27T09:36:33.793Z"
   },
   {
    "duration": 20,
    "start_time": "2022-02-27T09:36:36.464Z"
   },
   {
    "duration": 16,
    "start_time": "2022-02-27T09:36:37.587Z"
   },
   {
    "duration": 5,
    "start_time": "2022-02-27T09:36:39.647Z"
   },
   {
    "duration": 216,
    "start_time": "2022-02-27T09:36:40.613Z"
   },
   {
    "duration": 6,
    "start_time": "2022-02-27T09:36:42.416Z"
   },
   {
    "duration": 27,
    "start_time": "2022-02-27T09:36:42.983Z"
   },
   {
    "duration": 8,
    "start_time": "2022-02-27T09:36:45.448Z"
   },
   {
    "duration": 54,
    "start_time": "2022-02-27T09:36:46.944Z"
   },
   {
    "duration": 3933,
    "start_time": "2022-02-27T09:36:48.117Z"
   },
   {
    "duration": 9,
    "start_time": "2022-02-27T09:39:40.754Z"
   },
   {
    "duration": 19,
    "start_time": "2022-02-27T09:39:46.322Z"
   },
   {
    "duration": 39,
    "start_time": "2022-02-27T09:39:48.205Z"
   },
   {
    "duration": 23,
    "start_time": "2022-02-27T09:39:51.138Z"
   },
   {
    "duration": 11,
    "start_time": "2022-02-27T09:41:06.262Z"
   },
   {
    "duration": 12,
    "start_time": "2022-02-27T09:41:06.695Z"
   },
   {
    "duration": 23,
    "start_time": "2022-02-27T09:41:10.132Z"
   },
   {
    "duration": 6,
    "start_time": "2022-02-27T09:49:54.380Z"
   },
   {
    "duration": 257,
    "start_time": "2022-02-27T10:01:46.774Z"
   },
   {
    "duration": 19,
    "start_time": "2022-02-27T10:08:53.192Z"
   },
   {
    "duration": 54,
    "start_time": "2022-02-27T10:10:52.062Z"
   },
   {
    "duration": 14,
    "start_time": "2022-02-27T10:13:41.823Z"
   },
   {
    "duration": 17,
    "start_time": "2022-02-27T10:14:06.335Z"
   },
   {
    "duration": 19,
    "start_time": "2022-02-27T10:14:25.249Z"
   },
   {
    "duration": 18,
    "start_time": "2022-02-27T10:14:34.089Z"
   },
   {
    "duration": 19,
    "start_time": "2022-02-27T10:14:53.809Z"
   },
   {
    "duration": 22,
    "start_time": "2022-02-27T10:15:59.312Z"
   },
   {
    "duration": 166,
    "start_time": "2022-02-27T10:29:19.173Z"
   },
   {
    "duration": 175,
    "start_time": "2022-02-27T10:31:19.847Z"
   },
   {
    "duration": 239,
    "start_time": "2022-02-27T10:31:25.483Z"
   },
   {
    "duration": 53,
    "start_time": "2022-02-27T10:31:35.048Z"
   },
   {
    "duration": 25,
    "start_time": "2022-02-27T10:31:36.282Z"
   },
   {
    "duration": 11,
    "start_time": "2022-02-27T10:31:38.376Z"
   },
   {
    "duration": 7,
    "start_time": "2022-02-27T10:31:39.200Z"
   },
   {
    "duration": 6,
    "start_time": "2022-02-27T10:31:39.815Z"
   },
   {
    "duration": 54,
    "start_time": "2022-02-27T10:31:41.646Z"
   },
   {
    "duration": 9,
    "start_time": "2022-02-27T10:31:44.035Z"
   },
   {
    "duration": 10,
    "start_time": "2022-02-27T10:31:45.221Z"
   },
   {
    "duration": 4,
    "start_time": "2022-02-27T10:31:46.285Z"
   },
   {
    "duration": 4,
    "start_time": "2022-02-27T10:31:46.781Z"
   },
   {
    "duration": 9,
    "start_time": "2022-02-27T10:31:47.906Z"
   },
   {
    "duration": 40,
    "start_time": "2022-02-27T10:31:49.052Z"
   },
   {
    "duration": 205,
    "start_time": "2022-02-27T10:31:50.253Z"
   },
   {
    "duration": 4,
    "start_time": "2022-02-27T10:31:52.941Z"
   },
   {
    "duration": 242,
    "start_time": "2022-02-27T10:31:53.474Z"
   },
   {
    "duration": 4,
    "start_time": "2022-02-27T10:31:54.060Z"
   },
   {
    "duration": 15,
    "start_time": "2022-02-27T10:31:54.604Z"
   },
   {
    "duration": 7,
    "start_time": "2022-02-27T10:31:55.728Z"
   },
   {
    "duration": 29,
    "start_time": "2022-02-27T10:31:56.301Z"
   },
   {
    "duration": 8,
    "start_time": "2022-02-27T10:31:56.966Z"
   },
   {
    "duration": 197,
    "start_time": "2022-02-27T10:31:57.752Z"
   },
   {
    "duration": 10,
    "start_time": "2022-02-27T10:32:05.504Z"
   },
   {
    "duration": 139,
    "start_time": "2022-02-27T10:32:06.108Z"
   },
   {
    "duration": 189,
    "start_time": "2022-02-27T10:32:07.269Z"
   },
   {
    "duration": 4,
    "start_time": "2022-02-27T10:32:09.157Z"
   },
   {
    "duration": 6,
    "start_time": "2022-02-27T10:32:09.688Z"
   },
   {
    "duration": 360,
    "start_time": "2022-02-27T10:32:10.318Z"
   },
   {
    "duration": 6,
    "start_time": "2022-02-27T10:33:26.122Z"
   },
   {
    "duration": 203,
    "start_time": "2022-02-27T10:33:26.960Z"
   },
   {
    "duration": 5,
    "start_time": "2022-02-27T10:33:28.866Z"
   },
   {
    "duration": 15,
    "start_time": "2022-02-27T10:33:29.459Z"
   },
   {
    "duration": 6,
    "start_time": "2022-02-27T10:33:31.409Z"
   },
   {
    "duration": 55,
    "start_time": "2022-02-27T10:33:32.827Z"
   },
   {
    "duration": 7,
    "start_time": "2022-02-27T10:33:33.703Z"
   },
   {
    "duration": 18,
    "start_time": "2022-02-27T10:33:36.374Z"
   },
   {
    "duration": 35,
    "start_time": "2022-02-27T10:33:38.517Z"
   },
   {
    "duration": 23,
    "start_time": "2022-02-27T10:33:41.543Z"
   },
   {
    "duration": 12,
    "start_time": "2022-02-27T10:33:52.467Z"
   },
   {
    "duration": 9,
    "start_time": "2022-02-27T10:33:55.060Z"
   },
   {
    "duration": 23,
    "start_time": "2022-02-27T10:34:06.776Z"
   },
   {
    "duration": 269,
    "start_time": "2022-02-27T10:34:14.809Z"
   },
   {
    "duration": 7,
    "start_time": "2022-02-27T10:34:21.104Z"
   },
   {
    "duration": 17,
    "start_time": "2022-02-27T10:34:25.576Z"
   },
   {
    "duration": 22,
    "start_time": "2022-02-27T10:34:27.451Z"
   },
   {
    "duration": 193,
    "start_time": "2022-02-27T10:34:42.352Z"
   },
   {
    "duration": 186,
    "start_time": "2022-02-27T10:36:39.153Z"
   },
   {
    "duration": 947,
    "start_time": "2022-02-27T10:38:08.885Z"
   },
   {
    "duration": 3146,
    "start_time": "2022-02-27T10:38:17.900Z"
   },
   {
    "duration": 3326,
    "start_time": "2022-02-27T10:39:56.335Z"
   },
   {
    "duration": 19,
    "start_time": "2022-02-27T10:40:28.049Z"
   },
   {
    "duration": 19,
    "start_time": "2022-02-27T10:41:16.271Z"
   },
   {
    "duration": 16,
    "start_time": "2022-02-27T10:41:59.562Z"
   },
   {
    "duration": 18,
    "start_time": "2022-02-27T10:42:08.706Z"
   },
   {
    "duration": 21,
    "start_time": "2022-02-27T10:51:39.260Z"
   },
   {
    "duration": 25,
    "start_time": "2022-02-27T10:52:56.578Z"
   },
   {
    "duration": 24,
    "start_time": "2022-02-27T10:53:39.545Z"
   },
   {
    "duration": 25,
    "start_time": "2022-02-27T10:54:47.396Z"
   },
   {
    "duration": 5055,
    "start_time": "2022-02-27T11:00:21.493Z"
   },
   {
    "duration": 185,
    "start_time": "2022-02-27T11:02:56.001Z"
   },
   {
    "duration": 179,
    "start_time": "2022-02-27T11:03:52.706Z"
   },
   {
    "duration": 22,
    "start_time": "2022-02-27T11:04:06.958Z"
   },
   {
    "duration": 23,
    "start_time": "2022-02-27T11:04:59.727Z"
   },
   {
    "duration": 44,
    "start_time": "2022-02-27T11:07:04.325Z"
   },
   {
    "duration": 25,
    "start_time": "2022-02-27T11:07:05.251Z"
   },
   {
    "duration": 11,
    "start_time": "2022-02-27T11:07:06.211Z"
   },
   {
    "duration": 6,
    "start_time": "2022-02-27T11:07:06.669Z"
   },
   {
    "duration": 7,
    "start_time": "2022-02-27T11:07:07.120Z"
   },
   {
    "duration": 48,
    "start_time": "2022-02-27T11:07:08.626Z"
   },
   {
    "duration": 10,
    "start_time": "2022-02-27T11:07:10.588Z"
   },
   {
    "duration": 11,
    "start_time": "2022-02-27T11:07:11.513Z"
   },
   {
    "duration": 5,
    "start_time": "2022-02-27T11:07:12.520Z"
   },
   {
    "duration": 5,
    "start_time": "2022-02-27T11:07:13.017Z"
   },
   {
    "duration": 8,
    "start_time": "2022-02-27T11:07:14.006Z"
   },
   {
    "duration": 42,
    "start_time": "2022-02-27T11:07:15.006Z"
   },
   {
    "duration": 202,
    "start_time": "2022-02-27T11:07:15.940Z"
   },
   {
    "duration": 3,
    "start_time": "2022-02-27T11:07:17.961Z"
   },
   {
    "duration": 246,
    "start_time": "2022-02-27T11:07:18.474Z"
   },
   {
    "duration": 4,
    "start_time": "2022-02-27T11:07:19.071Z"
   },
   {
    "duration": 14,
    "start_time": "2022-02-27T11:07:19.608Z"
   },
   {
    "duration": 7,
    "start_time": "2022-02-27T11:07:20.688Z"
   },
   {
    "duration": 28,
    "start_time": "2022-02-27T11:07:21.201Z"
   },
   {
    "duration": 7,
    "start_time": "2022-02-27T11:07:21.890Z"
   },
   {
    "duration": 195,
    "start_time": "2022-02-27T11:07:22.708Z"
   },
   {
    "duration": 13,
    "start_time": "2022-02-27T11:12:32.059Z"
   },
   {
    "duration": 203,
    "start_time": "2022-02-27T11:12:37.140Z"
   },
   {
    "duration": 51,
    "start_time": "2022-02-27T11:13:08.112Z"
   },
   {
    "duration": 27,
    "start_time": "2022-02-27T11:13:09.185Z"
   },
   {
    "duration": 12,
    "start_time": "2022-02-27T11:13:10.455Z"
   },
   {
    "duration": 8,
    "start_time": "2022-02-27T11:13:11.013Z"
   },
   {
    "duration": 7,
    "start_time": "2022-02-27T11:13:11.539Z"
   },
   {
    "duration": 49,
    "start_time": "2022-02-27T11:13:13.217Z"
   },
   {
    "duration": 8,
    "start_time": "2022-02-27T11:13:15.476Z"
   },
   {
    "duration": 10,
    "start_time": "2022-02-27T11:13:16.562Z"
   },
   {
    "duration": 5,
    "start_time": "2022-02-27T11:13:17.669Z"
   },
   {
    "duration": 5,
    "start_time": "2022-02-27T11:13:18.213Z"
   },
   {
    "duration": 9,
    "start_time": "2022-02-27T11:13:19.291Z"
   },
   {
    "duration": 38,
    "start_time": "2022-02-27T11:13:20.612Z"
   },
   {
    "duration": 205,
    "start_time": "2022-02-27T11:13:21.888Z"
   },
   {
    "duration": 3,
    "start_time": "2022-02-27T11:13:25.262Z"
   },
   {
    "duration": 249,
    "start_time": "2022-02-27T11:13:26.019Z"
   },
   {
    "duration": 4,
    "start_time": "2022-02-27T11:13:26.741Z"
   },
   {
    "duration": 14,
    "start_time": "2022-02-27T11:13:27.376Z"
   },
   {
    "duration": 7,
    "start_time": "2022-02-27T11:13:29.142Z"
   },
   {
    "duration": 28,
    "start_time": "2022-02-27T11:13:29.830Z"
   },
   {
    "duration": 7,
    "start_time": "2022-02-27T11:13:30.570Z"
   },
   {
    "duration": 196,
    "start_time": "2022-02-27T11:13:33.571Z"
   },
   {
    "duration": 10,
    "start_time": "2022-02-27T11:13:36.849Z"
   },
   {
    "duration": 57,
    "start_time": "2022-02-27T11:13:37.772Z"
   },
   {
    "duration": 200,
    "start_time": "2022-02-27T11:13:39.077Z"
   },
   {
    "duration": 5,
    "start_time": "2022-02-27T11:13:40.426Z"
   },
   {
    "duration": 6,
    "start_time": "2022-02-27T11:13:41.045Z"
   },
   {
    "duration": 410,
    "start_time": "2022-02-27T11:13:42.532Z"
   },
   {
    "duration": 13,
    "start_time": "2022-02-27T11:13:46.744Z"
   },
   {
    "duration": 18,
    "start_time": "2022-02-27T11:13:48.192Z"
   },
   {
    "duration": 5,
    "start_time": "2022-02-27T11:14:05.756Z"
   },
   {
    "duration": 5,
    "start_time": "2022-02-27T11:14:56.074Z"
   },
   {
    "duration": 208,
    "start_time": "2022-02-27T11:14:57.142Z"
   },
   {
    "duration": 6,
    "start_time": "2022-02-27T11:14:59.510Z"
   },
   {
    "duration": 17,
    "start_time": "2022-02-27T11:15:00.265Z"
   },
   {
    "duration": 7,
    "start_time": "2022-02-27T11:15:02.183Z"
   },
   {
    "duration": 56,
    "start_time": "2022-02-27T11:15:04.100Z"
   },
   {
    "duration": 9,
    "start_time": "2022-02-27T11:15:04.816Z"
   },
   {
    "duration": 4410,
    "start_time": "2022-02-27T11:15:10.251Z"
   },
   {
    "duration": 232,
    "start_time": "2022-02-27T11:15:14.431Z"
   },
   {
    "duration": 218,
    "start_time": "2022-02-27T11:15:14.446Z"
   },
   {
    "duration": 4053,
    "start_time": "2022-02-27T11:15:37.408Z"
   },
   {
    "duration": 9,
    "start_time": "2022-02-27T11:15:46.701Z"
   },
   {
    "duration": 3839,
    "start_time": "2022-02-27T11:15:52.834Z"
   },
   {
    "duration": 4658,
    "start_time": "2022-02-27T11:16:05.780Z"
   },
   {
    "duration": 230,
    "start_time": "2022-02-27T11:16:10.210Z"
   },
   {
    "duration": 226,
    "start_time": "2022-02-27T11:16:10.216Z"
   },
   {
    "duration": 38,
    "start_time": "2022-02-27T11:17:27.150Z"
   },
   {
    "duration": 23,
    "start_time": "2022-02-27T11:17:27.978Z"
   },
   {
    "duration": 4757,
    "start_time": "2022-02-27T11:17:59.471Z"
   },
   {
    "duration": 3936,
    "start_time": "2022-02-27T11:18:22.302Z"
   },
   {
    "duration": 47,
    "start_time": "2022-02-27T11:18:58.243Z"
   },
   {
    "duration": 26,
    "start_time": "2022-02-27T11:18:59.639Z"
   },
   {
    "duration": 11,
    "start_time": "2022-02-27T11:19:01.423Z"
   },
   {
    "duration": 7,
    "start_time": "2022-02-27T11:19:02.250Z"
   },
   {
    "duration": 7,
    "start_time": "2022-02-27T11:19:05.862Z"
   },
   {
    "duration": 52,
    "start_time": "2022-02-27T11:19:10.501Z"
   },
   {
    "duration": 9,
    "start_time": "2022-02-27T11:19:13.487Z"
   },
   {
    "duration": 10,
    "start_time": "2022-02-27T11:19:16.236Z"
   },
   {
    "duration": 4,
    "start_time": "2022-02-27T11:19:17.707Z"
   },
   {
    "duration": 5,
    "start_time": "2022-02-27T11:19:18.355Z"
   },
   {
    "duration": 9,
    "start_time": "2022-02-27T11:19:19.643Z"
   },
   {
    "duration": 38,
    "start_time": "2022-02-27T11:19:21.081Z"
   },
   {
    "duration": 223,
    "start_time": "2022-02-27T11:19:22.681Z"
   },
   {
    "duration": 4,
    "start_time": "2022-02-27T11:19:27.403Z"
   },
   {
    "duration": 251,
    "start_time": "2022-02-27T11:19:28.067Z"
   },
   {
    "duration": 5,
    "start_time": "2022-02-27T11:19:29.001Z"
   },
   {
    "duration": 14,
    "start_time": "2022-02-27T11:19:29.689Z"
   },
   {
    "duration": 8,
    "start_time": "2022-02-27T11:19:31.481Z"
   },
   {
    "duration": 30,
    "start_time": "2022-02-27T11:19:32.151Z"
   },
   {
    "duration": 7,
    "start_time": "2022-02-27T11:19:32.900Z"
   },
   {
    "duration": 198,
    "start_time": "2022-02-27T11:19:34.065Z"
   },
   {
    "duration": 10,
    "start_time": "2022-02-27T11:19:43.411Z"
   },
   {
    "duration": 56,
    "start_time": "2022-02-27T11:19:50.717Z"
   },
   {
    "duration": 196,
    "start_time": "2022-02-27T11:19:58.128Z"
   },
   {
    "duration": 4,
    "start_time": "2022-02-27T11:20:00.347Z"
   },
   {
    "duration": 6,
    "start_time": "2022-02-27T11:20:01.002Z"
   },
   {
    "duration": 357,
    "start_time": "2022-02-27T11:20:02.583Z"
   },
   {
    "duration": 13,
    "start_time": "2022-02-27T11:20:15.761Z"
   },
   {
    "duration": 15,
    "start_time": "2022-02-27T11:20:21.154Z"
   },
   {
    "duration": 5,
    "start_time": "2022-02-27T11:20:23.869Z"
   },
   {
    "duration": 195,
    "start_time": "2022-02-27T11:20:25.249Z"
   },
   {
    "duration": 6,
    "start_time": "2022-02-27T11:20:29.219Z"
   },
   {
    "duration": 19,
    "start_time": "2022-02-27T11:20:29.999Z"
   },
   {
    "duration": 7,
    "start_time": "2022-02-27T11:20:32.637Z"
   },
   {
    "duration": 65,
    "start_time": "2022-02-27T11:20:39.171Z"
   },
   {
    "duration": 8,
    "start_time": "2022-02-27T11:20:45.874Z"
   },
   {
    "duration": 20,
    "start_time": "2022-02-27T11:20:50.379Z"
   },
   {
    "duration": 38,
    "start_time": "2022-02-27T11:20:52.510Z"
   },
   {
    "duration": 21,
    "start_time": "2022-02-27T11:20:54.866Z"
   },
   {
    "duration": 11,
    "start_time": "2022-02-27T11:21:01.298Z"
   },
   {
    "duration": 9,
    "start_time": "2022-02-27T11:21:01.993Z"
   },
   {
    "duration": 22,
    "start_time": "2022-02-27T11:21:04.229Z"
   },
   {
    "duration": 263,
    "start_time": "2022-02-27T11:21:06.695Z"
   },
   {
    "duration": 6,
    "start_time": "2022-02-27T11:21:09.812Z"
   },
   {
    "duration": 17,
    "start_time": "2022-02-27T11:21:15.866Z"
   },
   {
    "duration": 21,
    "start_time": "2022-02-27T11:21:18.702Z"
   },
   {
    "duration": 24,
    "start_time": "2022-02-27T11:23:41.460Z"
   },
   {
    "duration": 4390,
    "start_time": "2022-02-27T11:24:08.988Z"
   },
   {
    "duration": 262,
    "start_time": "2022-02-27T11:24:27.692Z"
   },
   {
    "duration": 3950,
    "start_time": "2022-02-27T11:24:34.185Z"
   },
   {
    "duration": 3888,
    "start_time": "2022-02-27T11:25:23.439Z"
   },
   {
    "duration": 4934,
    "start_time": "2022-02-27T11:25:27.470Z"
   },
   {
    "duration": 23,
    "start_time": "2022-02-27T11:25:44.583Z"
   },
   {
    "duration": 23,
    "start_time": "2022-02-27T11:26:14.128Z"
   },
   {
    "duration": 18,
    "start_time": "2022-02-27T11:26:35.262Z"
   },
   {
    "duration": 25,
    "start_time": "2022-02-27T11:26:38.618Z"
   },
   {
    "duration": 24,
    "start_time": "2022-02-27T11:26:45.514Z"
   },
   {
    "duration": 816,
    "start_time": "2022-03-07T13:28:46.700Z"
   },
   {
    "duration": 56,
    "start_time": "2022-03-07T13:28:47.519Z"
   },
   {
    "duration": 15,
    "start_time": "2022-03-07T13:28:47.578Z"
   },
   {
    "duration": 9,
    "start_time": "2022-03-07T13:28:47.596Z"
   },
   {
    "duration": 10,
    "start_time": "2022-03-07T13:28:47.608Z"
   },
   {
    "duration": 108,
    "start_time": "2022-03-07T13:28:47.621Z"
   },
   {
    "duration": 43,
    "start_time": "2022-03-07T13:28:47.731Z"
   },
   {
    "duration": 13,
    "start_time": "2022-03-07T13:28:47.778Z"
   },
   {
    "duration": 6,
    "start_time": "2022-03-07T13:28:47.793Z"
   },
   {
    "duration": 7,
    "start_time": "2022-03-07T13:28:47.801Z"
   },
   {
    "duration": 13,
    "start_time": "2022-03-07T13:28:47.811Z"
   },
   {
    "duration": 103,
    "start_time": "2022-03-07T13:28:47.826Z"
   },
   {
    "duration": 465,
    "start_time": "2022-03-07T13:28:47.931Z"
   },
   {
    "duration": 5,
    "start_time": "2022-03-07T13:28:48.398Z"
   },
   {
    "duration": 450,
    "start_time": "2022-03-07T13:28:48.406Z"
   },
   {
    "duration": 15,
    "start_time": "2022-03-07T13:28:48.859Z"
   },
   {
    "duration": 20,
    "start_time": "2022-03-07T13:28:48.877Z"
   },
   {
    "duration": 10,
    "start_time": "2022-03-07T13:28:48.900Z"
   },
   {
    "duration": 68,
    "start_time": "2022-03-07T13:28:48.913Z"
   },
   {
    "duration": 8,
    "start_time": "2022-03-07T13:28:48.983Z"
   },
   {
    "duration": 336,
    "start_time": "2022-03-07T13:28:48.994Z"
   },
   {
    "duration": 12,
    "start_time": "2022-03-07T13:28:49.333Z"
   },
   {
    "duration": 93,
    "start_time": "2022-03-07T13:28:49.351Z"
   },
   {
    "duration": 322,
    "start_time": "2022-03-07T13:28:49.447Z"
   },
   {
    "duration": 4,
    "start_time": "2022-03-07T13:28:49.773Z"
   },
   {
    "duration": 12,
    "start_time": "2022-03-07T13:28:49.780Z"
   },
   {
    "duration": 654,
    "start_time": "2022-03-07T13:28:49.794Z"
   },
   {
    "duration": 29,
    "start_time": "2022-03-07T13:28:50.450Z"
   },
   {
    "duration": 18,
    "start_time": "2022-03-07T13:28:50.481Z"
   },
   {
    "duration": 7,
    "start_time": "2022-03-07T13:28:50.502Z"
   },
   {
    "duration": 366,
    "start_time": "2022-03-07T13:28:50.511Z"
   },
   {
    "duration": 6,
    "start_time": "2022-03-07T13:28:50.880Z"
   },
   {
    "duration": 28,
    "start_time": "2022-03-07T13:28:50.888Z"
   },
   {
    "duration": 10,
    "start_time": "2022-03-07T13:28:50.918Z"
   },
   {
    "duration": 132,
    "start_time": "2022-03-07T13:28:50.931Z"
   },
   {
    "duration": 12,
    "start_time": "2022-03-07T13:28:51.074Z"
   },
   {
    "duration": 32,
    "start_time": "2022-03-07T13:28:51.088Z"
   },
   {
    "duration": 78,
    "start_time": "2022-03-07T13:28:51.122Z"
   },
   {
    "duration": 32,
    "start_time": "2022-03-07T13:28:51.203Z"
   },
   {
    "duration": 40,
    "start_time": "2022-03-07T13:28:51.238Z"
   },
   {
    "duration": 12,
    "start_time": "2022-03-07T13:28:51.280Z"
   },
   {
    "duration": 29,
    "start_time": "2022-03-07T13:28:51.295Z"
   },
   {
    "duration": 459,
    "start_time": "2022-03-07T13:28:51.327Z"
   },
   {
    "duration": 7,
    "start_time": "2022-03-07T13:28:51.789Z"
   },
   {
    "duration": 29,
    "start_time": "2022-03-07T13:28:51.798Z"
   },
   {
    "duration": 57,
    "start_time": "2022-03-07T13:28:51.830Z"
   },
   {
    "duration": 26,
    "start_time": "2022-03-07T13:28:51.889Z"
   },
   {
    "duration": 65,
    "start_time": "2022-03-07T13:28:51.917Z"
   },
   {
    "duration": 32,
    "start_time": "2022-03-07T13:28:51.985Z"
   },
   {
    "duration": 13,
    "start_time": "2022-03-07T14:13:10.820Z"
   },
   {
    "duration": 243,
    "start_time": "2022-03-07T15:20:23.639Z"
   },
   {
    "duration": 741,
    "start_time": "2022-03-07T15:20:42.095Z"
   },
   {
    "duration": 44,
    "start_time": "2022-03-07T15:20:43.400Z"
   },
   {
    "duration": 13,
    "start_time": "2022-03-07T15:20:44.508Z"
   },
   {
    "duration": 10,
    "start_time": "2022-03-07T15:20:45.083Z"
   },
   {
    "duration": 8,
    "start_time": "2022-03-07T15:20:45.577Z"
   },
   {
    "duration": 63,
    "start_time": "2022-03-07T15:20:47.432Z"
   },
   {
    "duration": 11,
    "start_time": "2022-03-07T15:20:50.577Z"
   },
   {
    "duration": 12,
    "start_time": "2022-03-07T15:20:51.731Z"
   },
   {
    "duration": 7,
    "start_time": "2022-03-07T15:20:52.907Z"
   },
   {
    "duration": 6,
    "start_time": "2022-03-07T15:20:53.468Z"
   },
   {
    "duration": 11,
    "start_time": "2022-03-07T15:20:54.715Z"
   },
   {
    "duration": 50,
    "start_time": "2022-03-07T15:20:57.220Z"
   },
   {
    "duration": 408,
    "start_time": "2022-03-07T15:20:59.499Z"
   },
   {
    "duration": 5,
    "start_time": "2022-03-07T15:21:02.604Z"
   },
   {
    "duration": 376,
    "start_time": "2022-03-07T15:21:03.306Z"
   },
   {
    "duration": 5,
    "start_time": "2022-03-07T15:21:04.475Z"
   },
   {
    "duration": 16,
    "start_time": "2022-03-07T15:21:05.108Z"
   },
   {
    "duration": 10,
    "start_time": "2022-03-07T15:21:06.584Z"
   },
   {
    "duration": 36,
    "start_time": "2022-03-07T15:21:07.530Z"
   },
   {
    "duration": 9,
    "start_time": "2022-03-07T15:21:10.390Z"
   },
   {
    "duration": 310,
    "start_time": "2022-03-07T15:21:11.376Z"
   },
   {
    "duration": 12,
    "start_time": "2022-03-07T15:21:16.602Z"
   },
   {
    "duration": 73,
    "start_time": "2022-03-07T15:21:17.163Z"
   },
   {
    "duration": 294,
    "start_time": "2022-03-07T15:21:18.469Z"
   },
   {
    "duration": 5,
    "start_time": "2022-03-07T15:21:20.747Z"
   },
   {
    "duration": 8,
    "start_time": "2022-03-07T15:21:22.316Z"
   },
   {
    "duration": 587,
    "start_time": "2022-03-07T15:21:23.051Z"
   },
   {
    "duration": 15,
    "start_time": "2022-03-07T15:21:24.989Z"
   },
   {
    "duration": 18,
    "start_time": "2022-03-07T15:21:26.251Z"
   },
   {
    "duration": 6,
    "start_time": "2022-03-07T15:21:31.562Z"
   },
   {
    "duration": 345,
    "start_time": "2022-03-07T15:21:33.557Z"
   },
   {
    "duration": 7,
    "start_time": "2022-03-07T15:21:37.220Z"
   },
   {
    "duration": 21,
    "start_time": "2022-03-07T15:21:38.086Z"
   },
   {
    "duration": 8,
    "start_time": "2022-03-07T15:21:53.287Z"
   },
   {
    "duration": 650,
    "start_time": "2022-03-11T06:06:00.234Z"
   },
   {
    "duration": 32,
    "start_time": "2022-03-11T06:06:01.065Z"
   },
   {
    "duration": 10,
    "start_time": "2022-03-11T06:06:02.024Z"
   },
   {
    "duration": 7,
    "start_time": "2022-03-11T06:06:02.454Z"
   },
   {
    "duration": 7,
    "start_time": "2022-03-11T06:06:02.900Z"
   },
   {
    "duration": 47,
    "start_time": "2022-03-11T06:06:04.261Z"
   },
   {
    "duration": 8,
    "start_time": "2022-03-11T06:06:06.601Z"
   },
   {
    "duration": 11,
    "start_time": "2022-03-11T06:06:07.611Z"
   },
   {
    "duration": 5,
    "start_time": "2022-03-11T06:06:08.556Z"
   },
   {
    "duration": 4,
    "start_time": "2022-03-11T06:06:09.031Z"
   },
   {
    "duration": 10,
    "start_time": "2022-03-11T06:06:10.159Z"
   },
   {
    "duration": 37,
    "start_time": "2022-03-11T06:06:11.045Z"
   },
   {
    "duration": 274,
    "start_time": "2022-03-11T06:06:12.098Z"
   },
   {
    "duration": 3,
    "start_time": "2022-03-11T06:06:14.014Z"
   },
   {
    "duration": 218,
    "start_time": "2022-03-11T06:06:14.512Z"
   },
   {
    "duration": 4,
    "start_time": "2022-03-11T06:06:15.266Z"
   },
   {
    "duration": 13,
    "start_time": "2022-03-11T06:06:16.163Z"
   },
   {
    "duration": 7,
    "start_time": "2022-03-11T06:06:18.774Z"
   },
   {
    "duration": 26,
    "start_time": "2022-03-11T06:06:19.401Z"
   },
   {
    "duration": 7,
    "start_time": "2022-03-11T06:06:19.885Z"
   },
   {
    "duration": 196,
    "start_time": "2022-03-11T06:06:20.344Z"
   },
   {
    "duration": 11,
    "start_time": "2022-03-11T06:06:22.031Z"
   },
   {
    "duration": 51,
    "start_time": "2022-03-11T06:06:22.522Z"
   },
   {
    "duration": 188,
    "start_time": "2022-03-11T06:06:23.856Z"
   },
   {
    "duration": 4,
    "start_time": "2022-03-11T06:06:27.506Z"
   },
   {
    "duration": 6,
    "start_time": "2022-03-11T06:06:27.997Z"
   },
   {
    "duration": 393,
    "start_time": "2022-03-11T06:06:28.761Z"
   },
   {
    "duration": 13,
    "start_time": "2022-03-11T06:06:36.251Z"
   },
   {
    "duration": 16,
    "start_time": "2022-03-11T06:06:37.380Z"
   },
   {
    "duration": 5,
    "start_time": "2022-03-11T06:06:41.459Z"
   },
   {
    "duration": 203,
    "start_time": "2022-03-11T06:06:47.469Z"
   },
   {
    "duration": 5,
    "start_time": "2022-03-11T06:06:49.038Z"
   },
   {
    "duration": 15,
    "start_time": "2022-03-11T06:06:56.651Z"
   },
   {
    "duration": 6,
    "start_time": "2022-03-11T06:07:00.106Z"
   },
   {
    "duration": 61,
    "start_time": "2022-03-11T06:07:41.896Z"
   },
   {
    "duration": 10,
    "start_time": "2022-03-11T06:07:59.563Z"
   },
   {
    "duration": 20,
    "start_time": "2022-03-11T06:08:00.810Z"
   },
   {
    "duration": 34,
    "start_time": "2022-03-11T06:08:29.471Z"
   },
   {
    "duration": 9,
    "start_time": "2022-03-11T06:08:59.587Z"
   },
   {
    "duration": 9,
    "start_time": "2022-03-11T06:10:17.298Z"
   },
   {
    "duration": 7,
    "start_time": "2022-03-11T06:10:29.504Z"
   },
   {
    "duration": 9,
    "start_time": "2022-03-11T06:11:18.368Z"
   },
   {
    "duration": 10,
    "start_time": "2022-03-11T06:11:45.436Z"
   },
   {
    "duration": 7,
    "start_time": "2022-03-11T06:11:48.714Z"
   },
   {
    "duration": 21,
    "start_time": "2022-03-11T06:11:59.835Z"
   },
   {
    "duration": 5,
    "start_time": "2022-03-11T06:15:41.961Z"
   },
   {
    "duration": 2658,
    "start_time": "2022-03-11T06:16:07.271Z"
   },
   {
    "duration": 16,
    "start_time": "2022-03-11T06:22:49.696Z"
   },
   {
    "duration": 27,
    "start_time": "2022-03-11T06:22:50.793Z"
   },
   {
    "duration": 17,
    "start_time": "2022-03-11T06:22:51.573Z"
   },
   {
    "duration": 153,
    "start_time": "2022-03-11T06:22:53.565Z"
   },
   {
    "duration": 7,
    "start_time": "2022-03-11T06:22:54.121Z"
   },
   {
    "duration": 11,
    "start_time": "2022-03-11T06:22:54.868Z"
   },
   {
    "duration": 140,
    "start_time": "2022-03-11T06:22:56.113Z"
   },
   {
    "duration": 7,
    "start_time": "2022-03-11T06:22:57.075Z"
   },
   {
    "duration": 8,
    "start_time": "2022-03-11T06:22:58.422Z"
   },
   {
    "duration": 141,
    "start_time": "2022-03-11T06:23:06.276Z"
   },
   {
    "duration": 236,
    "start_time": "2022-03-11T06:23:20.961Z"
   },
   {
    "duration": 3152,
    "start_time": "2022-03-11T06:23:24.905Z"
   },
   {
    "duration": 49,
    "start_time": "2022-03-11T06:23:57.742Z"
   },
   {
    "duration": 23,
    "start_time": "2022-03-11T06:23:59.116Z"
   },
   {
    "duration": 10,
    "start_time": "2022-03-11T06:24:00.631Z"
   },
   {
    "duration": 7,
    "start_time": "2022-03-11T06:24:01.225Z"
   },
   {
    "duration": 6,
    "start_time": "2022-03-11T06:24:01.795Z"
   },
   {
    "duration": 46,
    "start_time": "2022-03-11T06:24:03.762Z"
   },
   {
    "duration": 9,
    "start_time": "2022-03-11T06:24:16.857Z"
   },
   {
    "duration": 9,
    "start_time": "2022-03-11T06:24:18.436Z"
   },
   {
    "duration": 5,
    "start_time": "2022-03-11T06:24:19.643Z"
   },
   {
    "duration": 5,
    "start_time": "2022-03-11T06:24:20.210Z"
   },
   {
    "duration": 9,
    "start_time": "2022-03-11T06:24:21.408Z"
   },
   {
    "duration": 35,
    "start_time": "2022-03-11T06:24:22.413Z"
   },
   {
    "duration": 208,
    "start_time": "2022-03-11T06:24:23.587Z"
   },
   {
    "duration": 3,
    "start_time": "2022-03-11T06:24:25.528Z"
   },
   {
    "duration": 232,
    "start_time": "2022-03-11T06:24:26.009Z"
   },
   {
    "duration": 4,
    "start_time": "2022-03-11T06:24:26.524Z"
   },
   {
    "duration": 15,
    "start_time": "2022-03-11T06:24:27.009Z"
   },
   {
    "duration": 8,
    "start_time": "2022-03-11T06:24:28.087Z"
   },
   {
    "duration": 29,
    "start_time": "2022-03-11T06:24:28.578Z"
   },
   {
    "duration": 7,
    "start_time": "2022-03-11T06:24:29.075Z"
   },
   {
    "duration": 198,
    "start_time": "2022-03-11T06:24:29.605Z"
   },
   {
    "duration": 9,
    "start_time": "2022-03-11T06:24:31.180Z"
   },
   {
    "duration": 50,
    "start_time": "2022-03-11T06:24:31.739Z"
   },
   {
    "duration": 190,
    "start_time": "2022-03-11T06:24:32.856Z"
   },
   {
    "duration": 4,
    "start_time": "2022-03-11T06:24:34.851Z"
   },
   {
    "duration": 6,
    "start_time": "2022-03-11T06:24:35.408Z"
   },
   {
    "duration": 343,
    "start_time": "2022-03-11T06:24:36.016Z"
   },
   {
    "duration": 13,
    "start_time": "2022-03-11T06:24:37.684Z"
   },
   {
    "duration": 14,
    "start_time": "2022-03-11T06:24:38.706Z"
   },
   {
    "duration": 6,
    "start_time": "2022-03-11T06:24:41.403Z"
   },
   {
    "duration": 196,
    "start_time": "2022-03-11T06:24:42.913Z"
   },
   {
    "duration": 5,
    "start_time": "2022-03-11T06:24:44.469Z"
   },
   {
    "duration": 16,
    "start_time": "2022-03-11T06:24:44.920Z"
   },
   {
    "duration": 6,
    "start_time": "2022-03-11T06:24:46.433Z"
   },
   {
    "duration": 58,
    "start_time": "2022-03-11T06:24:47.518Z"
   },
   {
    "duration": 6,
    "start_time": "2022-03-11T06:25:08.274Z"
   },
   {
    "duration": 18,
    "start_time": "2022-03-11T06:25:08.750Z"
   },
   {
    "duration": 20,
    "start_time": "2022-03-11T06:25:11.490Z"
   },
   {
    "duration": 36,
    "start_time": "2022-03-11T06:25:12.555Z"
   },
   {
    "duration": 22,
    "start_time": "2022-03-11T06:25:13.169Z"
   },
   {
    "duration": 12,
    "start_time": "2022-03-11T06:25:15.112Z"
   },
   {
    "duration": 9,
    "start_time": "2022-03-11T06:25:16.410Z"
   },
   {
    "duration": 7,
    "start_time": "2022-03-11T06:25:21.366Z"
   },
   {
    "duration": 9,
    "start_time": "2022-03-11T06:25:22.073Z"
   },
   {
    "duration": 9,
    "start_time": "2022-03-11T06:25:24.627Z"
   },
   {
    "duration": 8,
    "start_time": "2022-03-11T06:25:25.422Z"
   },
   {
    "duration": 20,
    "start_time": "2022-03-11T06:25:29.320Z"
   },
   {
    "duration": 229,
    "start_time": "2022-03-11T06:25:36.278Z"
   },
   {
    "duration": 6,
    "start_time": "2022-03-11T06:25:39.358Z"
   },
   {
    "duration": 48,
    "start_time": "2022-03-11T06:26:10.423Z"
   },
   {
    "duration": 25,
    "start_time": "2022-03-11T06:26:11.631Z"
   },
   {
    "duration": 11,
    "start_time": "2022-03-11T06:26:12.521Z"
   },
   {
    "duration": 7,
    "start_time": "2022-03-11T06:26:12.965Z"
   },
   {
    "duration": 7,
    "start_time": "2022-03-11T06:26:13.414Z"
   },
   {
    "duration": 47,
    "start_time": "2022-03-11T06:26:14.793Z"
   },
   {
    "duration": 9,
    "start_time": "2022-03-11T06:26:17.195Z"
   },
   {
    "duration": 10,
    "start_time": "2022-03-11T06:26:18.227Z"
   },
   {
    "duration": 4,
    "start_time": "2022-03-11T06:26:19.628Z"
   },
   {
    "duration": 6,
    "start_time": "2022-03-11T06:26:20.154Z"
   },
   {
    "duration": 9,
    "start_time": "2022-03-11T06:26:21.298Z"
   },
   {
    "duration": 36,
    "start_time": "2022-03-11T06:26:22.591Z"
   },
   {
    "duration": 207,
    "start_time": "2022-03-11T06:26:23.903Z"
   },
   {
    "duration": 3,
    "start_time": "2022-03-11T06:26:26.670Z"
   },
   {
    "duration": 217,
    "start_time": "2022-03-11T06:26:27.250Z"
   },
   {
    "duration": 4,
    "start_time": "2022-03-11T06:26:28.158Z"
   },
   {
    "duration": 15,
    "start_time": "2022-03-11T06:26:28.754Z"
   },
   {
    "duration": 15,
    "start_time": "2022-03-11T06:26:30.024Z"
   },
   {
    "duration": 27,
    "start_time": "2022-03-11T06:26:30.662Z"
   },
   {
    "duration": 7,
    "start_time": "2022-03-11T06:26:31.339Z"
   },
   {
    "duration": 202,
    "start_time": "2022-03-11T06:26:31.974Z"
   },
   {
    "duration": 10,
    "start_time": "2022-03-11T06:26:33.813Z"
   },
   {
    "duration": 137,
    "start_time": "2022-03-11T06:26:34.418Z"
   },
   {
    "duration": 192,
    "start_time": "2022-03-11T06:26:35.556Z"
   },
   {
    "duration": 4,
    "start_time": "2022-03-11T06:26:37.618Z"
   },
   {
    "duration": 6,
    "start_time": "2022-03-11T06:26:38.235Z"
   },
   {
    "duration": 339,
    "start_time": "2022-03-11T06:26:38.822Z"
   },
   {
    "duration": 12,
    "start_time": "2022-03-11T06:26:40.677Z"
   },
   {
    "duration": 14,
    "start_time": "2022-03-11T06:26:41.882Z"
   },
   {
    "duration": 5,
    "start_time": "2022-03-11T06:26:44.717Z"
   },
   {
    "duration": 201,
    "start_time": "2022-03-11T06:26:46.457Z"
   },
   {
    "duration": 5,
    "start_time": "2022-03-11T06:26:48.162Z"
   },
   {
    "duration": 16,
    "start_time": "2022-03-11T06:26:48.997Z"
   },
   {
    "duration": 19,
    "start_time": "2022-03-11T06:26:53.318Z"
   },
   {
    "duration": 37,
    "start_time": "2022-03-11T06:26:55.211Z"
   },
   {
    "duration": 21,
    "start_time": "2022-03-11T06:26:55.961Z"
   },
   {
    "duration": 10,
    "start_time": "2022-03-11T06:26:58.212Z"
   },
   {
    "duration": 9,
    "start_time": "2022-03-11T06:27:02.843Z"
   },
   {
    "duration": 8,
    "start_time": "2022-03-11T06:27:03.605Z"
   },
   {
    "duration": 9,
    "start_time": "2022-03-11T06:27:04.451Z"
   },
   {
    "duration": 8,
    "start_time": "2022-03-11T06:27:05.167Z"
   },
   {
    "duration": 7,
    "start_time": "2022-03-11T06:27:05.888Z"
   },
   {
    "duration": 20,
    "start_time": "2022-03-11T06:27:07.420Z"
   },
   {
    "duration": 237,
    "start_time": "2022-03-11T06:27:11.348Z"
   },
   {
    "duration": 6,
    "start_time": "2022-03-11T06:27:14.375Z"
   },
   {
    "duration": 47,
    "start_time": "2022-03-11T06:34:09.213Z"
   },
   {
    "duration": 220,
    "start_time": "2022-03-11T06:34:32.903Z"
   },
   {
    "duration": 141,
    "start_time": "2022-03-11T06:34:40.360Z"
   },
   {
    "duration": 23,
    "start_time": "2022-03-11T06:35:02.375Z"
   },
   {
    "duration": 41,
    "start_time": "2022-03-11T06:36:44.765Z"
   },
   {
    "duration": 19,
    "start_time": "2022-03-11T06:37:34.570Z"
   },
   {
    "duration": 146,
    "start_time": "2022-03-11T06:37:37.596Z"
   },
   {
    "duration": 3514,
    "start_time": "2022-03-11T06:38:10.586Z"
   },
   {
    "duration": 3552,
    "start_time": "2022-03-11T06:39:11.383Z"
   },
   {
    "duration": 16,
    "start_time": "2022-03-11T06:39:27.387Z"
   },
   {
    "duration": 3558,
    "start_time": "2022-03-11T06:39:30.960Z"
   },
   {
    "duration": 52,
    "start_time": "2022-03-11T06:40:16.184Z"
   },
   {
    "duration": 18,
    "start_time": "2022-03-11T06:40:22.560Z"
   },
   {
    "duration": 3323,
    "start_time": "2022-03-11T06:42:09.270Z"
   },
   {
    "duration": 3305,
    "start_time": "2022-03-11T06:42:24.001Z"
   },
   {
    "duration": 20,
    "start_time": "2022-03-11T06:44:40.969Z"
   },
   {
    "duration": 19,
    "start_time": "2022-03-11T06:56:13.394Z"
   },
   {
    "duration": 19,
    "start_time": "2022-03-11T06:56:18.698Z"
   },
   {
    "duration": 3576,
    "start_time": "2022-03-11T06:59:56.550Z"
   },
   {
    "duration": 3427,
    "start_time": "2022-03-11T07:00:27.582Z"
   },
   {
    "duration": 17,
    "start_time": "2022-03-11T07:01:32.399Z"
   },
   {
    "duration": 16,
    "start_time": "2022-03-11T07:02:57.551Z"
   },
   {
    "duration": 15,
    "start_time": "2022-03-11T07:03:26.565Z"
   },
   {
    "duration": 18,
    "start_time": "2022-03-11T07:03:43.217Z"
   },
   {
    "duration": 16,
    "start_time": "2022-03-11T07:03:49.732Z"
   },
   {
    "duration": 16,
    "start_time": "2022-03-11T07:03:57.288Z"
   },
   {
    "duration": 15,
    "start_time": "2022-03-11T07:04:13.348Z"
   },
   {
    "duration": 14,
    "start_time": "2022-03-11T07:04:17.012Z"
   },
   {
    "duration": 17,
    "start_time": "2022-03-11T07:04:20.640Z"
   },
   {
    "duration": 24,
    "start_time": "2022-03-11T07:06:07.718Z"
   },
   {
    "duration": 17,
    "start_time": "2022-03-11T07:06:40.681Z"
   },
   {
    "duration": 16,
    "start_time": "2022-03-11T07:07:14.275Z"
   },
   {
    "duration": 15,
    "start_time": "2022-03-11T07:08:19.581Z"
   },
   {
    "duration": 16,
    "start_time": "2022-03-11T07:09:31.533Z"
   },
   {
    "duration": 16,
    "start_time": "2022-03-11T07:09:37.065Z"
   },
   {
    "duration": 19,
    "start_time": "2022-03-11T07:11:13.708Z"
   },
   {
    "duration": 22,
    "start_time": "2022-03-11T07:12:00.546Z"
   },
   {
    "duration": 17,
    "start_time": "2022-03-11T07:12:18.747Z"
   },
   {
    "duration": 150,
    "start_time": "2022-03-11T07:14:16.078Z"
   },
   {
    "duration": 16,
    "start_time": "2022-03-11T07:14:27.891Z"
   },
   {
    "duration": 18,
    "start_time": "2022-03-11T07:15:54.297Z"
   },
   {
    "duration": 24,
    "start_time": "2022-03-11T07:17:53.778Z"
   },
   {
    "duration": 19,
    "start_time": "2022-03-11T07:19:37.044Z"
   },
   {
    "duration": 21,
    "start_time": "2022-03-11T07:21:44.715Z"
   },
   {
    "duration": 17,
    "start_time": "2022-03-11T07:27:46.363Z"
   },
   {
    "duration": 17,
    "start_time": "2022-03-11T07:28:39.199Z"
   },
   {
    "duration": 48,
    "start_time": "2022-03-11T07:31:30.060Z"
   },
   {
    "duration": 20,
    "start_time": "2022-03-11T07:31:39.817Z"
   },
   {
    "duration": 20,
    "start_time": "2022-03-11T07:31:52.812Z"
   },
   {
    "duration": 19,
    "start_time": "2022-03-11T07:32:25.551Z"
   },
   {
    "duration": 20,
    "start_time": "2022-03-11T07:32:50.503Z"
   },
   {
    "duration": 20,
    "start_time": "2022-03-11T07:34:07.323Z"
   },
   {
    "duration": 25,
    "start_time": "2022-03-11T07:35:42.788Z"
   },
   {
    "duration": 23,
    "start_time": "2022-03-11T07:37:24.055Z"
   },
   {
    "duration": 21,
    "start_time": "2022-03-11T07:38:56.468Z"
   },
   {
    "duration": 23,
    "start_time": "2022-03-11T07:39:35.764Z"
   },
   {
    "duration": 24,
    "start_time": "2022-03-11T07:39:58.315Z"
   },
   {
    "duration": 22,
    "start_time": "2022-03-11T07:40:13.389Z"
   },
   {
    "duration": 22,
    "start_time": "2022-03-11T07:40:27.892Z"
   },
   {
    "duration": 20,
    "start_time": "2022-03-11T07:43:53.639Z"
   },
   {
    "duration": 18,
    "start_time": "2022-03-11T07:45:57.052Z"
   },
   {
    "duration": 24,
    "start_time": "2022-03-11T07:47:26.817Z"
   },
   {
    "duration": 21,
    "start_time": "2022-03-11T07:49:24.628Z"
   },
   {
    "duration": 20,
    "start_time": "2022-03-11T07:49:41.848Z"
   },
   {
    "duration": 24,
    "start_time": "2022-03-11T07:54:43.516Z"
   },
   {
    "duration": 774,
    "start_time": "2022-03-11T11:26:25.724Z"
   },
   {
    "duration": 50,
    "start_time": "2022-03-11T11:26:26.501Z"
   },
   {
    "duration": 12,
    "start_time": "2022-03-11T11:26:26.553Z"
   },
   {
    "duration": 8,
    "start_time": "2022-03-11T11:26:26.568Z"
   },
   {
    "duration": 10,
    "start_time": "2022-03-11T11:26:26.578Z"
   },
   {
    "duration": 100,
    "start_time": "2022-03-11T11:26:26.590Z"
   },
   {
    "duration": 9,
    "start_time": "2022-03-11T11:26:26.693Z"
   },
   {
    "duration": 47,
    "start_time": "2022-03-11T11:26:26.706Z"
   },
   {
    "duration": 5,
    "start_time": "2022-03-11T11:26:26.756Z"
   },
   {
    "duration": 7,
    "start_time": "2022-03-11T11:26:26.763Z"
   },
   {
    "duration": 10,
    "start_time": "2022-03-11T11:26:26.772Z"
   },
   {
    "duration": 86,
    "start_time": "2022-03-11T11:26:26.784Z"
   },
   {
    "duration": 415,
    "start_time": "2022-03-11T11:26:26.872Z"
   },
   {
    "duration": 5,
    "start_time": "2022-03-11T11:26:27.291Z"
   },
   {
    "duration": 388,
    "start_time": "2022-03-11T11:26:27.299Z"
   },
   {
    "duration": 6,
    "start_time": "2022-03-11T11:26:27.689Z"
   },
   {
    "duration": 19,
    "start_time": "2022-03-11T11:26:27.698Z"
   },
   {
    "duration": 34,
    "start_time": "2022-03-11T11:26:27.720Z"
   },
   {
    "duration": 37,
    "start_time": "2022-03-11T11:26:27.756Z"
   },
   {
    "duration": 8,
    "start_time": "2022-03-11T11:26:27.795Z"
   },
   {
    "duration": 328,
    "start_time": "2022-03-11T11:26:27.805Z"
   },
   {
    "duration": 21,
    "start_time": "2022-03-11T11:26:28.135Z"
   },
   {
    "duration": 93,
    "start_time": "2022-03-11T11:26:28.161Z"
   },
   {
    "duration": 314,
    "start_time": "2022-03-11T11:26:28.257Z"
   },
   {
    "duration": 4,
    "start_time": "2022-03-11T11:26:28.573Z"
   },
   {
    "duration": 13,
    "start_time": "2022-03-11T11:26:28.579Z"
   },
   {
    "duration": 589,
    "start_time": "2022-03-11T11:26:28.594Z"
   },
   {
    "duration": 18,
    "start_time": "2022-03-11T11:26:29.186Z"
   },
   {
    "duration": 46,
    "start_time": "2022-03-11T11:26:29.207Z"
   },
   {
    "duration": 6,
    "start_time": "2022-03-11T11:26:29.256Z"
   },
   {
    "duration": 321,
    "start_time": "2022-03-11T11:26:29.265Z"
   },
   {
    "duration": 7,
    "start_time": "2022-03-11T11:26:29.588Z"
   },
   {
    "duration": 29,
    "start_time": "2022-03-11T11:26:29.597Z"
   },
   {
    "duration": 42,
    "start_time": "2022-03-11T11:26:29.628Z"
   },
   {
    "duration": 48,
    "start_time": "2022-03-11T11:26:29.672Z"
   },
   {
    "duration": 54,
    "start_time": "2022-03-11T11:26:29.723Z"
   },
   {
    "duration": 11,
    "start_time": "2022-03-11T11:26:29.779Z"
   },
   {
    "duration": 13,
    "start_time": "2022-03-11T11:26:29.793Z"
   },
   {
    "duration": 44,
    "start_time": "2022-03-11T11:26:29.809Z"
   },
   {
    "duration": 14,
    "start_time": "2022-03-11T11:26:29.856Z"
   },
   {
    "duration": 11,
    "start_time": "2022-03-11T11:26:29.872Z"
   },
   {
    "duration": 8,
    "start_time": "2022-03-11T11:26:29.886Z"
   },
   {
    "duration": 74,
    "start_time": "2022-03-11T11:26:29.896Z"
   },
   {
    "duration": 408,
    "start_time": "2022-03-11T11:26:29.972Z"
   },
   {
    "duration": 10,
    "start_time": "2022-03-11T11:26:30.382Z"
   },
   {
    "duration": 33,
    "start_time": "2022-03-11T11:26:30.394Z"
   },
   {
    "duration": 35,
    "start_time": "2022-03-11T11:26:30.452Z"
   },
   {
    "duration": 62,
    "start_time": "2022-03-11T11:26:30.490Z"
   },
   {
    "duration": 34,
    "start_time": "2022-03-11T11:26:30.554Z"
   },
   {
    "duration": 69,
    "start_time": "2022-03-11T11:26:30.591Z"
   },
   {
    "duration": 38,
    "start_time": "2022-03-11T11:26:30.662Z"
   }
  ],
  "kernelspec": {
   "display_name": "Python 3 (ipykernel)",
   "language": "python",
   "name": "python3"
  },
  "language_info": {
   "codemirror_mode": {
    "name": "ipython",
    "version": 3
   },
   "file_extension": ".py",
   "mimetype": "text/x-python",
   "name": "python",
   "nbconvert_exporter": "python",
   "pygments_lexer": "ipython3",
   "version": "3.9.7"
  },
  "toc": {
   "base_numbering": 1,
   "nav_menu": {},
   "number_sections": true,
   "sideBar": true,
   "skip_h1_title": true,
   "title_cell": "Table of Contents",
   "title_sidebar": "Contents",
   "toc_cell": false,
   "toc_position": {},
   "toc_section_display": true,
   "toc_window_display": false
  }
 },
 "nbformat": 4,
 "nbformat_minor": 5
}
