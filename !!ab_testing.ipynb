{
 "cells": [
  {
   "cell_type": "markdown",
   "metadata": {},
   "source": [
    "# Описание проекта\n",
    "\n",
    "**КОНТЕКСТ**\n",
    "\n",
    "*Аналитиком крупного интернет-магазина совместно с отделом маркетинга был подготовлен список из 9 гипотез для увеличения выручки. Необходимо приоритизировать гипотезы, запустить A/B-тест и проанализировать результаты.*\n",
    "\n",
    "**ОПИСАНИЕ ДАННЫХ**\n",
    "\n",
    "***ЧАСТЬ 1***\n",
    "\n",
    "Файл  со списком гипотез для увеличения выручки`/datasets/hypothesis.csv.` \n",
    "\n",
    "`Hypothesis` — краткое описание гипотезы;\n",
    "\n",
    "`Reach` — охват пользователей по 10-балльной шкале;\n",
    "\n",
    "`Impact` — влияние на пользователей по 10-балльной шкале;\n",
    "\n",
    "`Confidence` — уверенность в гипотезе по 10-балльной шкале;\n",
    "\n",
    "`Efforts` — затраты ресурсов на проверку гипотезы по 10-балльной шкале. Чем больше значение Efforts, тем дороже проверка гипотезы.\n",
    "\n",
    "***ЧАСТЬ 2***\n",
    "\n",
    "Файл с данными анализа A/B-теста о заказах `/datasets/orders.csv.`\n",
    "\n",
    "`transactionId` — идентификатор заказа;\n",
    "\n",
    "`visitorId` — идентификатор пользователя, совершившего заказ;\n",
    "\n",
    "`date` — дата, когда был совершён заказ;\n",
    "\n",
    "`revenue` — выручка заказа;\n",
    "\n",
    "`group` — группа A/B-теста, в которую попал заказ.\n",
    "\n",
    "Файл с данными анализа A/B-теста о пользователях `/datasets/visitors.csv.`\n",
    "\n",
    "`date` — дата;\n",
    "\n",
    "`group` — группа A/B-теста;\n",
    "\n",
    "`visitors` — количество пользователей в указанную дату в указанной группе A/B-теста"
   ]
  },
  {
   "cell_type": "markdown",
   "metadata": {},
   "source": [
    "## Предобработка данных"
   ]
  },
  {
   "cell_type": "markdown",
   "metadata": {},
   "source": [
    "Загрузим необходимые для работы над проектом библиотеки и три датасета для исследования, рассмотрим общую информацию о данных"
   ]
  },
  {
   "cell_type": "code",
   "execution_count": 1,
   "metadata": {},
   "outputs": [],
   "source": [
    "import pandas as pd\n",
    "import numpy as np\n",
    "import seaborn as sns\n",
    "from matplotlib import pyplot as plt\n",
    "import scipy.stats as stats\n",
    "import datetime as dt"
   ]
  },
  {
   "cell_type": "code",
   "execution_count": 2,
   "metadata": {},
   "outputs": [],
   "source": [
    "hypothesis, orders, visitors  = (\n",
    "    pd.read_csv('/datasets/hypothesis.csv'), # гипотезы\n",
    "    pd.read_csv('/datasets/orders.csv'), # заказы\n",
    "    pd.read_csv('/datasets/visitors.csv'), # пользователи\n",
    ")"
   ]
  },
  {
   "cell_type": "code",
   "execution_count": 3,
   "metadata": {},
   "outputs": [
    {
     "name": "stdout",
     "output_type": "stream",
     "text": [
      "<class 'pandas.core.frame.DataFrame'>\n",
      "RangeIndex: 9 entries, 0 to 8\n",
      "Data columns (total 5 columns):\n",
      " #   Column      Non-Null Count  Dtype \n",
      "---  ------      --------------  ----- \n",
      " 0   Hypothesis  9 non-null      object\n",
      " 1   Reach       9 non-null      int64 \n",
      " 2   Impact      9 non-null      int64 \n",
      " 3   Confidence  9 non-null      int64 \n",
      " 4   Efforts     9 non-null      int64 \n",
      "dtypes: int64(4), object(1)\n",
      "memory usage: 488.0+ bytes\n",
      "None\n",
      "\n",
      "<class 'pandas.core.frame.DataFrame'>\n",
      "RangeIndex: 1197 entries, 0 to 1196\n",
      "Data columns (total 5 columns):\n",
      " #   Column         Non-Null Count  Dtype \n",
      "---  ------         --------------  ----- \n",
      " 0   transactionId  1197 non-null   int64 \n",
      " 1   visitorId      1197 non-null   int64 \n",
      " 2   date           1197 non-null   object\n",
      " 3   revenue        1197 non-null   int64 \n",
      " 4   group          1197 non-null   object\n",
      "dtypes: int64(3), object(2)\n",
      "memory usage: 46.9+ KB\n",
      "None\n",
      "\n",
      "<class 'pandas.core.frame.DataFrame'>\n",
      "RangeIndex: 62 entries, 0 to 61\n",
      "Data columns (total 3 columns):\n",
      " #   Column    Non-Null Count  Dtype \n",
      "---  ------    --------------  ----- \n",
      " 0   date      62 non-null     object\n",
      " 1   group     62 non-null     object\n",
      " 2   visitors  62 non-null     int64 \n",
      "dtypes: int64(1), object(2)\n",
      "memory usage: 1.6+ KB\n",
      "None\n",
      "\n"
     ]
    }
   ],
   "source": [
    "for data in [hypothesis, orders, visitors]: \n",
    "    print(data.info(), end='\\n\\n')"
   ]
  },
  {
   "cell_type": "code",
   "execution_count": 4,
   "metadata": {},
   "outputs": [
    {
     "data": {
      "text/html": [
       "<div>\n",
       "<style scoped>\n",
       "    .dataframe tbody tr th:only-of-type {\n",
       "        vertical-align: middle;\n",
       "    }\n",
       "\n",
       "    .dataframe tbody tr th {\n",
       "        vertical-align: top;\n",
       "    }\n",
       "\n",
       "    .dataframe thead th {\n",
       "        text-align: right;\n",
       "    }\n",
       "</style>\n",
       "<table border=\"1\" class=\"dataframe\">\n",
       "  <thead>\n",
       "    <tr style=\"text-align: right;\">\n",
       "      <th></th>\n",
       "      <th>Hypothesis</th>\n",
       "      <th>Reach</th>\n",
       "      <th>Impact</th>\n",
       "      <th>Confidence</th>\n",
       "      <th>Efforts</th>\n",
       "    </tr>\n",
       "  </thead>\n",
       "  <tbody>\n",
       "    <tr>\n",
       "      <th>0</th>\n",
       "      <td>Добавить два новых канала привлечения трафика,...</td>\n",
       "      <td>3</td>\n",
       "      <td>10</td>\n",
       "      <td>8</td>\n",
       "      <td>6</td>\n",
       "    </tr>\n",
       "    <tr>\n",
       "      <th>1</th>\n",
       "      <td>Запустить собственную службу доставки, что сок...</td>\n",
       "      <td>2</td>\n",
       "      <td>5</td>\n",
       "      <td>4</td>\n",
       "      <td>10</td>\n",
       "    </tr>\n",
       "    <tr>\n",
       "      <th>2</th>\n",
       "      <td>Добавить блоки рекомендаций товаров на сайт ин...</td>\n",
       "      <td>8</td>\n",
       "      <td>3</td>\n",
       "      <td>7</td>\n",
       "      <td>3</td>\n",
       "    </tr>\n",
       "    <tr>\n",
       "      <th>3</th>\n",
       "      <td>Изменить структура категорий, что увеличит кон...</td>\n",
       "      <td>8</td>\n",
       "      <td>3</td>\n",
       "      <td>3</td>\n",
       "      <td>8</td>\n",
       "    </tr>\n",
       "    <tr>\n",
       "      <th>4</th>\n",
       "      <td>Изменить цвет фона главной страницы, чтобы уве...</td>\n",
       "      <td>3</td>\n",
       "      <td>1</td>\n",
       "      <td>1</td>\n",
       "      <td>1</td>\n",
       "    </tr>\n",
       "  </tbody>\n",
       "</table>\n",
       "</div>"
      ],
      "text/plain": [
       "                                          Hypothesis  Reach  Impact  \\\n",
       "0  Добавить два новых канала привлечения трафика,...      3      10   \n",
       "1  Запустить собственную службу доставки, что сок...      2       5   \n",
       "2  Добавить блоки рекомендаций товаров на сайт ин...      8       3   \n",
       "3  Изменить структура категорий, что увеличит кон...      8       3   \n",
       "4  Изменить цвет фона главной страницы, чтобы уве...      3       1   \n",
       "\n",
       "   Confidence  Efforts  \n",
       "0           8        6  \n",
       "1           4       10  \n",
       "2           7        3  \n",
       "3           3        8  \n",
       "4           1        1  "
      ]
     },
     "metadata": {},
     "output_type": "display_data"
    },
    {
     "data": {
      "text/html": [
       "<div>\n",
       "<style scoped>\n",
       "    .dataframe tbody tr th:only-of-type {\n",
       "        vertical-align: middle;\n",
       "    }\n",
       "\n",
       "    .dataframe tbody tr th {\n",
       "        vertical-align: top;\n",
       "    }\n",
       "\n",
       "    .dataframe thead th {\n",
       "        text-align: right;\n",
       "    }\n",
       "</style>\n",
       "<table border=\"1\" class=\"dataframe\">\n",
       "  <thead>\n",
       "    <tr style=\"text-align: right;\">\n",
       "      <th></th>\n",
       "      <th>transactionId</th>\n",
       "      <th>visitorId</th>\n",
       "      <th>date</th>\n",
       "      <th>revenue</th>\n",
       "      <th>group</th>\n",
       "    </tr>\n",
       "  </thead>\n",
       "  <tbody>\n",
       "    <tr>\n",
       "      <th>0</th>\n",
       "      <td>3667963787</td>\n",
       "      <td>3312258926</td>\n",
       "      <td>2019-08-15</td>\n",
       "      <td>1650</td>\n",
       "      <td>B</td>\n",
       "    </tr>\n",
       "    <tr>\n",
       "      <th>1</th>\n",
       "      <td>2804400009</td>\n",
       "      <td>3642806036</td>\n",
       "      <td>2019-08-15</td>\n",
       "      <td>730</td>\n",
       "      <td>B</td>\n",
       "    </tr>\n",
       "    <tr>\n",
       "      <th>2</th>\n",
       "      <td>2961555356</td>\n",
       "      <td>4069496402</td>\n",
       "      <td>2019-08-15</td>\n",
       "      <td>400</td>\n",
       "      <td>A</td>\n",
       "    </tr>\n",
       "    <tr>\n",
       "      <th>3</th>\n",
       "      <td>3797467345</td>\n",
       "      <td>1196621759</td>\n",
       "      <td>2019-08-15</td>\n",
       "      <td>9759</td>\n",
       "      <td>B</td>\n",
       "    </tr>\n",
       "    <tr>\n",
       "      <th>4</th>\n",
       "      <td>2282983706</td>\n",
       "      <td>2322279887</td>\n",
       "      <td>2019-08-15</td>\n",
       "      <td>2308</td>\n",
       "      <td>B</td>\n",
       "    </tr>\n",
       "  </tbody>\n",
       "</table>\n",
       "</div>"
      ],
      "text/plain": [
       "   transactionId   visitorId        date  revenue group\n",
       "0     3667963787  3312258926  2019-08-15     1650     B\n",
       "1     2804400009  3642806036  2019-08-15      730     B\n",
       "2     2961555356  4069496402  2019-08-15      400     A\n",
       "3     3797467345  1196621759  2019-08-15     9759     B\n",
       "4     2282983706  2322279887  2019-08-15     2308     B"
      ]
     },
     "metadata": {},
     "output_type": "display_data"
    },
    {
     "data": {
      "text/html": [
       "<div>\n",
       "<style scoped>\n",
       "    .dataframe tbody tr th:only-of-type {\n",
       "        vertical-align: middle;\n",
       "    }\n",
       "\n",
       "    .dataframe tbody tr th {\n",
       "        vertical-align: top;\n",
       "    }\n",
       "\n",
       "    .dataframe thead th {\n",
       "        text-align: right;\n",
       "    }\n",
       "</style>\n",
       "<table border=\"1\" class=\"dataframe\">\n",
       "  <thead>\n",
       "    <tr style=\"text-align: right;\">\n",
       "      <th></th>\n",
       "      <th>date</th>\n",
       "      <th>group</th>\n",
       "      <th>visitors</th>\n",
       "    </tr>\n",
       "  </thead>\n",
       "  <tbody>\n",
       "    <tr>\n",
       "      <th>0</th>\n",
       "      <td>2019-08-01</td>\n",
       "      <td>A</td>\n",
       "      <td>719</td>\n",
       "    </tr>\n",
       "    <tr>\n",
       "      <th>1</th>\n",
       "      <td>2019-08-02</td>\n",
       "      <td>A</td>\n",
       "      <td>619</td>\n",
       "    </tr>\n",
       "    <tr>\n",
       "      <th>2</th>\n",
       "      <td>2019-08-03</td>\n",
       "      <td>A</td>\n",
       "      <td>507</td>\n",
       "    </tr>\n",
       "    <tr>\n",
       "      <th>3</th>\n",
       "      <td>2019-08-04</td>\n",
       "      <td>A</td>\n",
       "      <td>717</td>\n",
       "    </tr>\n",
       "    <tr>\n",
       "      <th>4</th>\n",
       "      <td>2019-08-05</td>\n",
       "      <td>A</td>\n",
       "      <td>756</td>\n",
       "    </tr>\n",
       "  </tbody>\n",
       "</table>\n",
       "</div>"
      ],
      "text/plain": [
       "         date group  visitors\n",
       "0  2019-08-01     A       719\n",
       "1  2019-08-02     A       619\n",
       "2  2019-08-03     A       507\n",
       "3  2019-08-04     A       717\n",
       "4  2019-08-05     A       756"
      ]
     },
     "metadata": {},
     "output_type": "display_data"
    }
   ],
   "source": [
    "for data in [hypothesis, orders, visitors]: \n",
    "    display(data.head())"
   ]
  },
  {
   "cell_type": "markdown",
   "metadata": {},
   "source": [
    "Уберем из названий столбцов в таблице `hypothesis` заглавные буквы, типы столбцов с датами в `orders`, `visitors` приведем  к datetime"
   ]
  },
  {
   "cell_type": "markdown",
   "metadata": {},
   "source": [
    "Пропущенных значений в датасетах нет, в целом данные \"ровные\""
   ]
  },
  {
   "cell_type": "code",
   "execution_count": 5,
   "metadata": {},
   "outputs": [],
   "source": [
    "hypothesis.columns = [x.lower().replace(' ', '_') for x in hypothesis.columns.values]"
   ]
  },
  {
   "cell_type": "code",
   "execution_count": 6,
   "metadata": {},
   "outputs": [],
   "source": [
    "orders['date'] = orders['date'].map(lambda x: dt.datetime.strptime(x, '%Y-%m-%d'))\n",
    "visitors['date'] = visitors['date'].map(lambda x: dt.datetime.strptime(x, '%Y-%m-%d'))"
   ]
  },
  {
   "cell_type": "code",
   "execution_count": 7,
   "metadata": {},
   "outputs": [
    {
     "name": "stdout",
     "output_type": "stream",
     "text": [
      "<class 'pandas.core.frame.DataFrame'>\n",
      "RangeIndex: 9 entries, 0 to 8\n",
      "Data columns (total 5 columns):\n",
      " #   Column      Non-Null Count  Dtype \n",
      "---  ------      --------------  ----- \n",
      " 0   hypothesis  9 non-null      object\n",
      " 1   reach       9 non-null      int64 \n",
      " 2   impact      9 non-null      int64 \n",
      " 3   confidence  9 non-null      int64 \n",
      " 4   efforts     9 non-null      int64 \n",
      "dtypes: int64(4), object(1)\n",
      "memory usage: 488.0+ bytes\n",
      "None\n",
      "\n",
      "<class 'pandas.core.frame.DataFrame'>\n",
      "RangeIndex: 1197 entries, 0 to 1196\n",
      "Data columns (total 5 columns):\n",
      " #   Column         Non-Null Count  Dtype         \n",
      "---  ------         --------------  -----         \n",
      " 0   transactionId  1197 non-null   int64         \n",
      " 1   visitorId      1197 non-null   int64         \n",
      " 2   date           1197 non-null   datetime64[ns]\n",
      " 3   revenue        1197 non-null   int64         \n",
      " 4   group          1197 non-null   object        \n",
      "dtypes: datetime64[ns](1), int64(3), object(1)\n",
      "memory usage: 46.9+ KB\n",
      "None\n",
      "\n",
      "<class 'pandas.core.frame.DataFrame'>\n",
      "RangeIndex: 62 entries, 0 to 61\n",
      "Data columns (total 3 columns):\n",
      " #   Column    Non-Null Count  Dtype         \n",
      "---  ------    --------------  -----         \n",
      " 0   date      62 non-null     datetime64[ns]\n",
      " 1   group     62 non-null     object        \n",
      " 2   visitors  62 non-null     int64         \n",
      "dtypes: datetime64[ns](1), int64(1), object(1)\n",
      "memory usage: 1.6+ KB\n",
      "None\n",
      "\n"
     ]
    }
   ],
   "source": [
    "for data in [hypothesis, orders, visitors]: \n",
    "    print(data.info(), end='\\n\\n')"
   ]
  },
  {
   "cell_type": "code",
   "execution_count": 8,
   "metadata": {},
   "outputs": [
    {
     "name": "stdout",
     "output_type": "stream",
     "text": [
      "count    1.197000e+03\n",
      "mean     8.348006e+03\n",
      "std      3.919113e+04\n",
      "min      5.000000e+01\n",
      "25%      1.220000e+03\n",
      "50%      2.978000e+03\n",
      "75%      8.290000e+03\n",
      "max      1.294500e+06\n",
      "Name: revenue, dtype: float64\n",
      "\n",
      "count     62.000000\n",
      "mean     607.290323\n",
      "std      114.400560\n",
      "min      361.000000\n",
      "25%      534.000000\n",
      "50%      624.500000\n",
      "75%      710.500000\n",
      "max      770.000000\n",
      "Name: visitors, dtype: float64\n",
      "\n"
     ]
    }
   ],
   "source": [
    "for data in [orders['revenue'], visitors['visitors']]: \n",
    "    print(data.describe(), end='\\n\\n')"
   ]
  },
  {
   "cell_type": "markdown",
   "metadata": {},
   "source": [
    "Проверим на дубликаты"
   ]
  },
  {
   "cell_type": "code",
   "execution_count": 9,
   "metadata": {},
   "outputs": [
    {
     "name": "stdout",
     "output_type": "stream",
     "text": [
      "Кол-во дубликатов = 0\n",
      "\n",
      "Кол-во дубликатов = 0\n",
      "\n",
      "Кол-во дубликатов = 0\n",
      "\n"
     ]
    }
   ],
   "source": [
    "for data in [hypothesis, orders, visitors]: \n",
    "    print('Кол-во дубликатов =',data.duplicated().sum(), end='\\n\\n')"
   ]
  },
  {
   "cell_type": "markdown",
   "metadata": {},
   "source": [
    "\n",
    "<b>ВЫВОД 1 </b>\n",
    "    \n",
    "Датасет `hypothesis` состоит из 5 столбцов, 9 строк. Данные в таблице полные, корректные, дубликатов нет. Изменены названия столбцов\n",
    "\n",
    "Датасет `orders` состоит из 5 столбцов, 1197 строк. Данные в таблице полные, распределены неравномерно, корректные, дубликатов нет. Изменен лишь тип столбцов с датами на \"datetime\" в одном столбце\n",
    "    \n",
    "Датасет `visitors` состоит из 3 столбцов, 62 строк. Данные в таблице полные, корректные, распределены равномерно, дубликатов нет. Изменен лишь тип столбцов с датами на \"datetime\" в одном столбце"
   ]
  },
  {
   "cell_type": "markdown",
   "metadata": {},
   "source": [
    "## Приоритизация гипотез"
   ]
  },
  {
   "cell_type": "code",
   "execution_count": 10,
   "metadata": {},
   "outputs": [
    {
     "data": {
      "text/html": [
       "<div>\n",
       "<style scoped>\n",
       "    .dataframe tbody tr th:only-of-type {\n",
       "        vertical-align: middle;\n",
       "    }\n",
       "\n",
       "    .dataframe tbody tr th {\n",
       "        vertical-align: top;\n",
       "    }\n",
       "\n",
       "    .dataframe thead th {\n",
       "        text-align: right;\n",
       "    }\n",
       "</style>\n",
       "<table border=\"1\" class=\"dataframe\">\n",
       "  <thead>\n",
       "    <tr style=\"text-align: right;\">\n",
       "      <th></th>\n",
       "      <th>hypothesis</th>\n",
       "      <th>reach</th>\n",
       "      <th>impact</th>\n",
       "      <th>confidence</th>\n",
       "      <th>efforts</th>\n",
       "    </tr>\n",
       "  </thead>\n",
       "  <tbody>\n",
       "    <tr>\n",
       "      <th>0</th>\n",
       "      <td>Добавить два новых канала привлечения трафика, что позволит привлекать на 30% больше пользователей</td>\n",
       "      <td>3</td>\n",
       "      <td>10</td>\n",
       "      <td>8</td>\n",
       "      <td>6</td>\n",
       "    </tr>\n",
       "    <tr>\n",
       "      <th>1</th>\n",
       "      <td>Запустить собственную службу доставки, что сократит срок доставки заказов</td>\n",
       "      <td>2</td>\n",
       "      <td>5</td>\n",
       "      <td>4</td>\n",
       "      <td>10</td>\n",
       "    </tr>\n",
       "    <tr>\n",
       "      <th>2</th>\n",
       "      <td>Добавить блоки рекомендаций товаров на сайт интернет магазина, чтобы повысить конверсию и средний чек заказа</td>\n",
       "      <td>8</td>\n",
       "      <td>3</td>\n",
       "      <td>7</td>\n",
       "      <td>3</td>\n",
       "    </tr>\n",
       "    <tr>\n",
       "      <th>3</th>\n",
       "      <td>Изменить структура категорий, что увеличит конверсию, т.к. пользователи быстрее найдут нужный товар</td>\n",
       "      <td>8</td>\n",
       "      <td>3</td>\n",
       "      <td>3</td>\n",
       "      <td>8</td>\n",
       "    </tr>\n",
       "    <tr>\n",
       "      <th>4</th>\n",
       "      <td>Изменить цвет фона главной страницы, чтобы увеличить вовлеченность пользователей</td>\n",
       "      <td>3</td>\n",
       "      <td>1</td>\n",
       "      <td>1</td>\n",
       "      <td>1</td>\n",
       "    </tr>\n",
       "    <tr>\n",
       "      <th>5</th>\n",
       "      <td>Добавить страницу отзывов клиентов о магазине, что позволит увеличить количество заказов</td>\n",
       "      <td>3</td>\n",
       "      <td>2</td>\n",
       "      <td>2</td>\n",
       "      <td>3</td>\n",
       "    </tr>\n",
       "    <tr>\n",
       "      <th>6</th>\n",
       "      <td>Показать на главной странице баннеры с актуальными акциями и распродажами, чтобы увеличить конверсию</td>\n",
       "      <td>5</td>\n",
       "      <td>3</td>\n",
       "      <td>8</td>\n",
       "      <td>3</td>\n",
       "    </tr>\n",
       "    <tr>\n",
       "      <th>7</th>\n",
       "      <td>Добавить форму подписки на все основные страницы, чтобы собрать базу клиентов для email-рассылок</td>\n",
       "      <td>10</td>\n",
       "      <td>7</td>\n",
       "      <td>8</td>\n",
       "      <td>5</td>\n",
       "    </tr>\n",
       "    <tr>\n",
       "      <th>8</th>\n",
       "      <td>Запустить акцию, дающую скидку на товар в день рождения</td>\n",
       "      <td>1</td>\n",
       "      <td>9</td>\n",
       "      <td>9</td>\n",
       "      <td>5</td>\n",
       "    </tr>\n",
       "  </tbody>\n",
       "</table>\n",
       "</div>"
      ],
      "text/plain": [
       "                                                                                                     hypothesis  \\\n",
       "0            Добавить два новых канала привлечения трафика, что позволит привлекать на 30% больше пользователей   \n",
       "1                                     Запустить собственную службу доставки, что сократит срок доставки заказов   \n",
       "2  Добавить блоки рекомендаций товаров на сайт интернет магазина, чтобы повысить конверсию и средний чек заказа   \n",
       "3           Изменить структура категорий, что увеличит конверсию, т.к. пользователи быстрее найдут нужный товар   \n",
       "4                              Изменить цвет фона главной страницы, чтобы увеличить вовлеченность пользователей   \n",
       "5                      Добавить страницу отзывов клиентов о магазине, что позволит увеличить количество заказов   \n",
       "6          Показать на главной странице баннеры с актуальными акциями и распродажами, чтобы увеличить конверсию   \n",
       "7              Добавить форму подписки на все основные страницы, чтобы собрать базу клиентов для email-рассылок   \n",
       "8                                                       Запустить акцию, дающую скидку на товар в день рождения   \n",
       "\n",
       "   reach  impact  confidence  efforts  \n",
       "0      3      10           8        6  \n",
       "1      2       5           4       10  \n",
       "2      8       3           7        3  \n",
       "3      8       3           3        8  \n",
       "4      3       1           1        1  \n",
       "5      3       2           2        3  \n",
       "6      5       3           8        3  \n",
       "7     10       7           8        5  \n",
       "8      1       9           9        5  "
      ]
     },
     "execution_count": 10,
     "metadata": {},
     "output_type": "execute_result"
    }
   ],
   "source": [
    "pd.set_option('display.max_colwidth', 500)\n",
    "hypothesis"
   ]
  },
  {
   "cell_type": "markdown",
   "metadata": {},
   "source": [
    "### ICE\n",
    "Применим фреймворк ICE для приоритизации гипотез. Отсортируем их по убыванию приоритета."
   ]
  },
  {
   "cell_type": "code",
   "execution_count": 11,
   "metadata": {
    "scrolled": true
   },
   "outputs": [
    {
     "data": {
      "text/html": [
       "<div>\n",
       "<style scoped>\n",
       "    .dataframe tbody tr th:only-of-type {\n",
       "        vertical-align: middle;\n",
       "    }\n",
       "\n",
       "    .dataframe tbody tr th {\n",
       "        vertical-align: top;\n",
       "    }\n",
       "\n",
       "    .dataframe thead th {\n",
       "        text-align: right;\n",
       "    }\n",
       "</style>\n",
       "<table border=\"1\" class=\"dataframe\">\n",
       "  <thead>\n",
       "    <tr style=\"text-align: right;\">\n",
       "      <th></th>\n",
       "      <th>ICE</th>\n",
       "      <th>hypothesis</th>\n",
       "    </tr>\n",
       "  </thead>\n",
       "  <tbody>\n",
       "    <tr>\n",
       "      <th>8</th>\n",
       "      <td>16.20</td>\n",
       "      <td>Запустить акцию, дающую скидку на товар в день рождения</td>\n",
       "    </tr>\n",
       "    <tr>\n",
       "      <th>0</th>\n",
       "      <td>13.33</td>\n",
       "      <td>Добавить два новых канала привлечения трафика, что позволит привлекать на 30% больше пользователей</td>\n",
       "    </tr>\n",
       "    <tr>\n",
       "      <th>7</th>\n",
       "      <td>11.20</td>\n",
       "      <td>Добавить форму подписки на все основные страницы, чтобы собрать базу клиентов для email-рассылок</td>\n",
       "    </tr>\n",
       "    <tr>\n",
       "      <th>6</th>\n",
       "      <td>8.00</td>\n",
       "      <td>Показать на главной странице баннеры с актуальными акциями и распродажами, чтобы увеличить конверсию</td>\n",
       "    </tr>\n",
       "    <tr>\n",
       "      <th>2</th>\n",
       "      <td>7.00</td>\n",
       "      <td>Добавить блоки рекомендаций товаров на сайт интернет магазина, чтобы повысить конверсию и средний чек заказа</td>\n",
       "    </tr>\n",
       "    <tr>\n",
       "      <th>1</th>\n",
       "      <td>2.00</td>\n",
       "      <td>Запустить собственную службу доставки, что сократит срок доставки заказов</td>\n",
       "    </tr>\n",
       "    <tr>\n",
       "      <th>5</th>\n",
       "      <td>1.33</td>\n",
       "      <td>Добавить страницу отзывов клиентов о магазине, что позволит увеличить количество заказов</td>\n",
       "    </tr>\n",
       "    <tr>\n",
       "      <th>3</th>\n",
       "      <td>1.12</td>\n",
       "      <td>Изменить структура категорий, что увеличит конверсию, т.к. пользователи быстрее найдут нужный товар</td>\n",
       "    </tr>\n",
       "    <tr>\n",
       "      <th>4</th>\n",
       "      <td>1.00</td>\n",
       "      <td>Изменить цвет фона главной страницы, чтобы увеличить вовлеченность пользователей</td>\n",
       "    </tr>\n",
       "  </tbody>\n",
       "</table>\n",
       "</div>"
      ],
      "text/plain": [
       "     ICE  \\\n",
       "8  16.20   \n",
       "0  13.33   \n",
       "7  11.20   \n",
       "6   8.00   \n",
       "2   7.00   \n",
       "1   2.00   \n",
       "5   1.33   \n",
       "3   1.12   \n",
       "4   1.00   \n",
       "\n",
       "                                                                                                     hypothesis  \n",
       "8                                                       Запустить акцию, дающую скидку на товар в день рождения  \n",
       "0            Добавить два новых канала привлечения трафика, что позволит привлекать на 30% больше пользователей  \n",
       "7              Добавить форму подписки на все основные страницы, чтобы собрать базу клиентов для email-рассылок  \n",
       "6          Показать на главной странице баннеры с актуальными акциями и распродажами, чтобы увеличить конверсию  \n",
       "2  Добавить блоки рекомендаций товаров на сайт интернет магазина, чтобы повысить конверсию и средний чек заказа  \n",
       "1                                     Запустить собственную службу доставки, что сократит срок доставки заказов  \n",
       "5                      Добавить страницу отзывов клиентов о магазине, что позволит увеличить количество заказов  \n",
       "3           Изменить структура категорий, что увеличит конверсию, т.к. пользователи быстрее найдут нужный товар  \n",
       "4                              Изменить цвет фона главной страницы, чтобы увеличить вовлеченность пользователей  "
      ]
     },
     "execution_count": 11,
     "metadata": {},
     "output_type": "execute_result"
    }
   ],
   "source": [
    "hypothesis['ICE'] = ((hypothesis['impact'] * hypothesis['confidence']) / hypothesis['efforts']).round(2)\n",
    "hypothesis[['ICE', 'hypothesis']].sort_values(by='ICE', ascending=False)"
   ]
  },
  {
   "cell_type": "markdown",
   "metadata": {},
   "source": [
    "### RICE\n"
   ]
  },
  {
   "cell_type": "markdown",
   "metadata": {},
   "source": [
    "Применим фреймворк RICE для приоритизации гипотез. Отсортируем их по убыванию приоритета."
   ]
  },
  {
   "cell_type": "code",
   "execution_count": 12,
   "metadata": {},
   "outputs": [
    {
     "data": {
      "text/html": [
       "<div>\n",
       "<style scoped>\n",
       "    .dataframe tbody tr th:only-of-type {\n",
       "        vertical-align: middle;\n",
       "    }\n",
       "\n",
       "    .dataframe tbody tr th {\n",
       "        vertical-align: top;\n",
       "    }\n",
       "\n",
       "    .dataframe thead th {\n",
       "        text-align: right;\n",
       "    }\n",
       "</style>\n",
       "<table border=\"1\" class=\"dataframe\">\n",
       "  <thead>\n",
       "    <tr style=\"text-align: right;\">\n",
       "      <th></th>\n",
       "      <th>RICE</th>\n",
       "      <th>hypothesis</th>\n",
       "      <th>reach</th>\n",
       "    </tr>\n",
       "  </thead>\n",
       "  <tbody>\n",
       "    <tr>\n",
       "      <th>7</th>\n",
       "      <td>112.0</td>\n",
       "      <td>Добавить форму подписки на все основные страницы, чтобы собрать базу клиентов для email-рассылок</td>\n",
       "      <td>10</td>\n",
       "    </tr>\n",
       "    <tr>\n",
       "      <th>2</th>\n",
       "      <td>56.0</td>\n",
       "      <td>Добавить блоки рекомендаций товаров на сайт интернет магазина, чтобы повысить конверсию и средний чек заказа</td>\n",
       "      <td>8</td>\n",
       "    </tr>\n",
       "    <tr>\n",
       "      <th>0</th>\n",
       "      <td>40.0</td>\n",
       "      <td>Добавить два новых канала привлечения трафика, что позволит привлекать на 30% больше пользователей</td>\n",
       "      <td>3</td>\n",
       "    </tr>\n",
       "    <tr>\n",
       "      <th>6</th>\n",
       "      <td>40.0</td>\n",
       "      <td>Показать на главной странице баннеры с актуальными акциями и распродажами, чтобы увеличить конверсию</td>\n",
       "      <td>5</td>\n",
       "    </tr>\n",
       "    <tr>\n",
       "      <th>8</th>\n",
       "      <td>16.2</td>\n",
       "      <td>Запустить акцию, дающую скидку на товар в день рождения</td>\n",
       "      <td>1</td>\n",
       "    </tr>\n",
       "    <tr>\n",
       "      <th>3</th>\n",
       "      <td>9.0</td>\n",
       "      <td>Изменить структура категорий, что увеличит конверсию, т.к. пользователи быстрее найдут нужный товар</td>\n",
       "      <td>8</td>\n",
       "    </tr>\n",
       "    <tr>\n",
       "      <th>1</th>\n",
       "      <td>4.0</td>\n",
       "      <td>Запустить собственную службу доставки, что сократит срок доставки заказов</td>\n",
       "      <td>2</td>\n",
       "    </tr>\n",
       "    <tr>\n",
       "      <th>5</th>\n",
       "      <td>4.0</td>\n",
       "      <td>Добавить страницу отзывов клиентов о магазине, что позволит увеличить количество заказов</td>\n",
       "      <td>3</td>\n",
       "    </tr>\n",
       "    <tr>\n",
       "      <th>4</th>\n",
       "      <td>3.0</td>\n",
       "      <td>Изменить цвет фона главной страницы, чтобы увеличить вовлеченность пользователей</td>\n",
       "      <td>3</td>\n",
       "    </tr>\n",
       "  </tbody>\n",
       "</table>\n",
       "</div>"
      ],
      "text/plain": [
       "    RICE  \\\n",
       "7  112.0   \n",
       "2   56.0   \n",
       "0   40.0   \n",
       "6   40.0   \n",
       "8   16.2   \n",
       "3    9.0   \n",
       "1    4.0   \n",
       "5    4.0   \n",
       "4    3.0   \n",
       "\n",
       "                                                                                                     hypothesis  \\\n",
       "7              Добавить форму подписки на все основные страницы, чтобы собрать базу клиентов для email-рассылок   \n",
       "2  Добавить блоки рекомендаций товаров на сайт интернет магазина, чтобы повысить конверсию и средний чек заказа   \n",
       "0            Добавить два новых канала привлечения трафика, что позволит привлекать на 30% больше пользователей   \n",
       "6          Показать на главной странице баннеры с актуальными акциями и распродажами, чтобы увеличить конверсию   \n",
       "8                                                       Запустить акцию, дающую скидку на товар в день рождения   \n",
       "3           Изменить структура категорий, что увеличит конверсию, т.к. пользователи быстрее найдут нужный товар   \n",
       "1                                     Запустить собственную службу доставки, что сократит срок доставки заказов   \n",
       "5                      Добавить страницу отзывов клиентов о магазине, что позволит увеличить количество заказов   \n",
       "4                              Изменить цвет фона главной страницы, чтобы увеличить вовлеченность пользователей   \n",
       "\n",
       "   reach  \n",
       "7     10  \n",
       "2      8  \n",
       "0      3  \n",
       "6      5  \n",
       "8      1  \n",
       "3      8  \n",
       "1      2  \n",
       "5      3  \n",
       "4      3  "
      ]
     },
     "execution_count": 12,
     "metadata": {},
     "output_type": "execute_result"
    }
   ],
   "source": [
    "hypothesis['RICE'] = (hypothesis['reach']  * hypothesis['impact'] * hypothesis['confidence']) / hypothesis['efforts']\n",
    "hypothesis[['RICE', 'hypothesis', 'reach']].sort_values(by='RICE', ascending=False)"
   ]
  },
  {
   "cell_type": "markdown",
   "metadata": {},
   "source": [
    "\n",
    "<b>ВЫВОД 2 </b>\n",
    "    \n",
    "Тройка лидеров `ICE`:\n",
    "    \n",
    "1. Гипотеза №9 (16.2)\n",
    "    \n",
    "2. Гипотеза №1 (13.33)\n",
    "    \n",
    "3. Гипотеза №8 (11.2)\n",
    "    \n",
    "Тройка лидеров `RICE`:\n",
    "    \n",
    "1. Гипотеза №8 (112)\n",
    "    \n",
    "2. Гипотеза №3 (56)\n",
    "    \n",
    "3. Гипотеза №1 и гипотеза №7 (40)\n",
    "    \n",
    "Различие в приоритизации гипотез по фреймворкам очевидно. Лидер тройки `ICE\t` спустился аж на 5ю позицию в `RICE`, второе место спустилось на третье, а третье стало первым. И противоположно - гипотеза №3, занимающая в `ICE\t` пятое место, в `RICE` занялауверенное второе. \n",
    "    \n",
    "Такое **отличие**, вероятно, **обусловлено учетом** во фреймворке `RICE`  **параметра `reach`** (количество пользователей, которых затронет вносимое нами изменение), и в гипотезах №8 и №2 его значения высоки:\n",
    "    \n",
    "1. Гипотеза №8 (7): `reach` = 10 (макимум)\n",
    "    \n",
    "2. Гипотеза №3 (2): `reach` = 8 (высокий)\n",
    "    \n",
    "Тогда как у лидера `ICE` *Гипотеза №9 (8): `reach` = 1 (минимум)* \n",
    "    \n",
    "**Рекомендую для** проведения **тестирования** следующие **гипотезы**:\n",
    "    \n",
    "а). Добавить форму подписки на все основные страницы, чтобы собрать базу клиентов для email-рассылок ***(точно)***\n",
    "    \n",
    "б). Добавить блоки рекомендаций товаров на сайт интернет магазина, чтобы повысить конверсию и средний чек заказа ***(возможно)***\t"
   ]
  },
  {
   "cell_type": "markdown",
   "metadata": {},
   "source": [
    "## Анализ A/B-теста"
   ]
  },
  {
   "cell_type": "markdown",
   "metadata": {},
   "source": [
    "### График кумулятивной выручки по группам"
   ]
  },
  {
   "cell_type": "markdown",
   "metadata": {},
   "source": [
    " Данные для расчетов по выручке хранятся в датасете с результатами проведения А/В-теста `orders`:"
   ]
  },
  {
   "cell_type": "code",
   "execution_count": 13,
   "metadata": {},
   "outputs": [
    {
     "data": {
      "text/html": [
       "<div>\n",
       "<style scoped>\n",
       "    .dataframe tbody tr th:only-of-type {\n",
       "        vertical-align: middle;\n",
       "    }\n",
       "\n",
       "    .dataframe tbody tr th {\n",
       "        vertical-align: top;\n",
       "    }\n",
       "\n",
       "    .dataframe thead th {\n",
       "        text-align: right;\n",
       "    }\n",
       "</style>\n",
       "<table border=\"1\" class=\"dataframe\">\n",
       "  <thead>\n",
       "    <tr style=\"text-align: right;\">\n",
       "      <th></th>\n",
       "      <th>transactionId</th>\n",
       "      <th>visitorId</th>\n",
       "      <th>date</th>\n",
       "      <th>revenue</th>\n",
       "      <th>group</th>\n",
       "    </tr>\n",
       "  </thead>\n",
       "  <tbody>\n",
       "    <tr>\n",
       "      <th>0</th>\n",
       "      <td>3667963787</td>\n",
       "      <td>3312258926</td>\n",
       "      <td>2019-08-15</td>\n",
       "      <td>1650</td>\n",
       "      <td>B</td>\n",
       "    </tr>\n",
       "    <tr>\n",
       "      <th>1</th>\n",
       "      <td>2804400009</td>\n",
       "      <td>3642806036</td>\n",
       "      <td>2019-08-15</td>\n",
       "      <td>730</td>\n",
       "      <td>B</td>\n",
       "    </tr>\n",
       "    <tr>\n",
       "      <th>2</th>\n",
       "      <td>2961555356</td>\n",
       "      <td>4069496402</td>\n",
       "      <td>2019-08-15</td>\n",
       "      <td>400</td>\n",
       "      <td>A</td>\n",
       "    </tr>\n",
       "    <tr>\n",
       "      <th>3</th>\n",
       "      <td>3797467345</td>\n",
       "      <td>1196621759</td>\n",
       "      <td>2019-08-15</td>\n",
       "      <td>9759</td>\n",
       "      <td>B</td>\n",
       "    </tr>\n",
       "    <tr>\n",
       "      <th>4</th>\n",
       "      <td>2282983706</td>\n",
       "      <td>2322279887</td>\n",
       "      <td>2019-08-15</td>\n",
       "      <td>2308</td>\n",
       "      <td>B</td>\n",
       "    </tr>\n",
       "  </tbody>\n",
       "</table>\n",
       "</div>"
      ],
      "text/plain": [
       "   transactionId   visitorId       date  revenue group\n",
       "0     3667963787  3312258926 2019-08-15     1650     B\n",
       "1     2804400009  3642806036 2019-08-15      730     B\n",
       "2     2961555356  4069496402 2019-08-15      400     A\n",
       "3     3797467345  1196621759 2019-08-15     9759     B\n",
       "4     2282983706  2322279887 2019-08-15     2308     B"
      ]
     },
     "execution_count": 13,
     "metadata": {},
     "output_type": "execute_result"
    }
   ],
   "source": [
    "orders.head()"
   ]
  },
  {
   "cell_type": "markdown",
   "metadata": {},
   "source": [
    "Как мы заметили в ходе предобработки, данные по выручке распределены неравномерно. Поэтому в качестве усредненного значения посчитаем *медианное значение выручки по каждой группе*"
   ]
  },
  {
   "cell_type": "code",
   "execution_count": 14,
   "metadata": {},
   "outputs": [
    {
     "data": {
      "text/plain": [
       "group\n",
       "A    112473\n",
       "B    147274\n",
       "Name: revenue, dtype: int64"
      ]
     },
     "execution_count": 14,
     "metadata": {},
     "output_type": "execute_result"
    }
   ],
   "source": [
    "orders.groupby(['date','group'])['revenue'].sum().groupby('group').median()"
   ]
  },
  {
   "cell_type": "markdown",
   "metadata": {},
   "source": [
    "Видим различие по группам"
   ]
  },
  {
   "cell_type": "markdown",
   "metadata": {},
   "source": [
    "Создадим массив уникальных пар значений дат и групп теста методом drop_duplicates().  "
   ]
  },
  {
   "cell_type": "code",
   "execution_count": 15,
   "metadata": {},
   "outputs": [],
   "source": [
    "datesGroups = orders[['date','group']].drop_duplicates()"
   ]
  },
  {
   "cell_type": "markdown",
   "metadata": {},
   "source": [
    "Соберём агрегированные кумулятивные по дням данные о заказах."
   ]
  },
  {
   "cell_type": "code",
   "execution_count": 16,
   "metadata": {},
   "outputs": [],
   "source": [
    "ordersAggregated = datesGroups.apply(lambda x: orders[np.logical_and(orders['date'] <= x['date'], orders['group'] == x['group'])]. \\\n",
    "                                     agg({'date' : 'max', \n",
    "                                          'group' : 'max', \n",
    "                                          'transactionId' : pd.Series.nunique, \n",
    "                                          'visitorId' : pd.Series.nunique, \n",
    "                                          'revenue' : 'sum'}), axis=1).sort_values(by=['date','group'])"
   ]
  },
  {
   "cell_type": "markdown",
   "metadata": {},
   "source": [
    "Аналогично получим агрегированные кумулятивные по дням данные о посетителях интернет-магазина"
   ]
  },
  {
   "cell_type": "code",
   "execution_count": 17,
   "metadata": {},
   "outputs": [],
   "source": [
    "visitorsAggregated = datesGroups.apply(lambda x: visitors[np.logical_and(visitors['date'] <= x['date'], visitors['group'] == x['group'])]. \\\n",
    "                                       agg({'date' : 'max', \n",
    "                                            'group' : 'max', \n",
    "                                            'visitors' : 'sum'}), axis=1).sort_values(by=['date','group'])"
   ]
  },
  {
   "cell_type": "markdown",
   "metadata": {},
   "source": [
    "Объединяем кумулятивные данные в одной таблице и присваиваем ее столбцам понятные названия"
   ]
  },
  {
   "cell_type": "code",
   "execution_count": 18,
   "metadata": {},
   "outputs": [
    {
     "data": {
      "text/html": [
       "<div>\n",
       "<style scoped>\n",
       "    .dataframe tbody tr th:only-of-type {\n",
       "        vertical-align: middle;\n",
       "    }\n",
       "\n",
       "    .dataframe tbody tr th {\n",
       "        vertical-align: top;\n",
       "    }\n",
       "\n",
       "    .dataframe thead th {\n",
       "        text-align: right;\n",
       "    }\n",
       "</style>\n",
       "<table border=\"1\" class=\"dataframe\">\n",
       "  <thead>\n",
       "    <tr style=\"text-align: right;\">\n",
       "      <th></th>\n",
       "      <th>date</th>\n",
       "      <th>group</th>\n",
       "      <th>orders</th>\n",
       "      <th>buyers</th>\n",
       "      <th>revenue</th>\n",
       "      <th>visitors</th>\n",
       "    </tr>\n",
       "  </thead>\n",
       "  <tbody>\n",
       "    <tr>\n",
       "      <th>0</th>\n",
       "      <td>2019-08-01</td>\n",
       "      <td>A</td>\n",
       "      <td>24</td>\n",
       "      <td>20</td>\n",
       "      <td>148579</td>\n",
       "      <td>719</td>\n",
       "    </tr>\n",
       "    <tr>\n",
       "      <th>1</th>\n",
       "      <td>2019-08-01</td>\n",
       "      <td>B</td>\n",
       "      <td>21</td>\n",
       "      <td>20</td>\n",
       "      <td>101217</td>\n",
       "      <td>713</td>\n",
       "    </tr>\n",
       "    <tr>\n",
       "      <th>2</th>\n",
       "      <td>2019-08-02</td>\n",
       "      <td>A</td>\n",
       "      <td>44</td>\n",
       "      <td>38</td>\n",
       "      <td>242401</td>\n",
       "      <td>1338</td>\n",
       "    </tr>\n",
       "    <tr>\n",
       "      <th>3</th>\n",
       "      <td>2019-08-02</td>\n",
       "      <td>B</td>\n",
       "      <td>45</td>\n",
       "      <td>43</td>\n",
       "      <td>266748</td>\n",
       "      <td>1294</td>\n",
       "    </tr>\n",
       "    <tr>\n",
       "      <th>4</th>\n",
       "      <td>2019-08-03</td>\n",
       "      <td>A</td>\n",
       "      <td>68</td>\n",
       "      <td>62</td>\n",
       "      <td>354874</td>\n",
       "      <td>1845</td>\n",
       "    </tr>\n",
       "  </tbody>\n",
       "</table>\n",
       "</div>"
      ],
      "text/plain": [
       "        date group  orders  buyers  revenue  visitors\n",
       "0 2019-08-01     A      24      20   148579       719\n",
       "1 2019-08-01     B      21      20   101217       713\n",
       "2 2019-08-02     A      44      38   242401      1338\n",
       "3 2019-08-02     B      45      43   266748      1294\n",
       "4 2019-08-03     A      68      62   354874      1845"
      ]
     },
     "execution_count": 18,
     "metadata": {},
     "output_type": "execute_result"
    }
   ],
   "source": [
    "cumulativeData = ordersAggregated.merge(visitorsAggregated, left_on=['date', 'group'], right_on=['date', 'group'])\n",
    "cumulativeData.columns = ['date', 'group', 'orders', 'buyers', 'revenue', 'visitors']\n",
    "\n",
    "cumulativeData.head()"
   ]
  },
  {
   "cell_type": "markdown",
   "metadata": {},
   "source": [
    "Построим графики кумулятивной выручки по дням и группам A/B-тестирования:"
   ]
  },
  {
   "cell_type": "code",
   "execution_count": 19,
   "metadata": {},
   "outputs": [
    {
     "data": {
      "image/png": "[encoded data removed]",
      "text/plain": [
       "<Figure size 720x360 with 1 Axes>"
      ]
     },
     "metadata": {
      "needs_background": "light"
     },
     "output_type": "display_data"
    }
   ],
   "source": [
    "cumulativeRevenueA = cumulativeData[cumulativeData['group']=='A'][['date','revenue', 'orders']]\n",
    "cumulativeRevenueB = cumulativeData[cumulativeData['group']=='B'][['date','revenue', 'orders']]\n",
    "\n",
    "plt.figure(figsize=(10,5))\n",
    "plt.plot(cumulativeRevenueA['date'], cumulativeRevenueA['revenue'], label='Кумулятивная выручка по дням - группа A')\n",
    "plt.plot(cumulativeRevenueB['date'], cumulativeRevenueB['revenue'], label='Кумулятивная выручка по дням - группа B')\n",
    "plt.grid()\n",
    "plt.title('График кумулятивной выручки по группам')\n",
    "plt.legend() \n",
    "plt.xlabel('Даты')\n",
    "plt.ylabel('Кумулятивная выручка')\n",
    "plt.show()\n"
   ]
  },
  {
   "cell_type": "markdown",
   "metadata": {},
   "source": [
    "18-19 августа наблюддается резкий скачок выручки группы `B`. Это может сигнализировать о всплесках числа заказов, либо о появлении очень дорогих заказов в выборке. Без этого скачка данные распределились бы практически равномерно. Изучим поподробнее сегмент между 17 и 21 августа"
   ]
  },
  {
   "cell_type": "code",
   "execution_count": 20,
   "metadata": {},
   "outputs": [
    {
     "data": {
      "text/html": [
       "<div>\n",
       "<style scoped>\n",
       "    .dataframe tbody tr th:only-of-type {\n",
       "        vertical-align: middle;\n",
       "    }\n",
       "\n",
       "    .dataframe tbody tr th {\n",
       "        vertical-align: top;\n",
       "    }\n",
       "\n",
       "    .dataframe thead th {\n",
       "        text-align: right;\n",
       "    }\n",
       "</style>\n",
       "<table border=\"1\" class=\"dataframe\">\n",
       "  <thead>\n",
       "    <tr style=\"text-align: right;\">\n",
       "      <th></th>\n",
       "      <th>date</th>\n",
       "      <th>revenue</th>\n",
       "      <th>orders</th>\n",
       "    </tr>\n",
       "  </thead>\n",
       "  <tbody>\n",
       "    <tr>\n",
       "      <th>33</th>\n",
       "      <td>2019-08-17</td>\n",
       "      <td>2620790</td>\n",
       "      <td>373</td>\n",
       "    </tr>\n",
       "    <tr>\n",
       "      <th>35</th>\n",
       "      <td>2019-08-18</td>\n",
       "      <td>2686621</td>\n",
       "      <td>382</td>\n",
       "    </tr>\n",
       "    <tr>\n",
       "      <th>37</th>\n",
       "      <td>2019-08-19</td>\n",
       "      <td>4116541</td>\n",
       "      <td>403</td>\n",
       "    </tr>\n",
       "    <tr>\n",
       "      <th>39</th>\n",
       "      <td>2019-08-20</td>\n",
       "      <td>4263815</td>\n",
       "      <td>423</td>\n",
       "    </tr>\n",
       "    <tr>\n",
       "      <th>41</th>\n",
       "      <td>2019-08-21</td>\n",
       "      <td>4426892</td>\n",
       "      <td>437</td>\n",
       "    </tr>\n",
       "  </tbody>\n",
       "</table>\n",
       "</div>"
      ],
      "text/plain": [
       "         date  revenue  orders\n",
       "33 2019-08-17  2620790     373\n",
       "35 2019-08-18  2686621     382\n",
       "37 2019-08-19  4116541     403\n",
       "39 2019-08-20  4263815     423\n",
       "41 2019-08-21  4426892     437"
      ]
     },
     "execution_count": 20,
     "metadata": {},
     "output_type": "execute_result"
    }
   ],
   "source": [
    "cumulativeRevenueB.query('\"2019-08-17\" <= date <= \"2019-08-21\"')"
   ]
  },
  {
   "cell_type": "markdown",
   "metadata": {},
   "source": [
    "Посчитаем медиану одного заказа 19 августа"
   ]
  },
  {
   "cell_type": "code",
   "execution_count": 21,
   "metadata": {},
   "outputs": [
    {
     "data": {
      "text/plain": [
       "2630.0"
      ]
     },
     "execution_count": 21,
     "metadata": {},
     "output_type": "execute_result"
    }
   ],
   "source": [
    "orders.query(' date == \"2019-08-19\" ')['revenue'].median()"
   ]
  },
  {
   "cell_type": "code",
   "execution_count": 22,
   "metadata": {},
   "outputs": [
    {
     "data": {
      "text/html": [
       "<div>\n",
       "<style scoped>\n",
       "    .dataframe tbody tr th:only-of-type {\n",
       "        vertical-align: middle;\n",
       "    }\n",
       "\n",
       "    .dataframe tbody tr th {\n",
       "        vertical-align: top;\n",
       "    }\n",
       "\n",
       "    .dataframe thead th {\n",
       "        text-align: right;\n",
       "    }\n",
       "</style>\n",
       "<table border=\"1\" class=\"dataframe\">\n",
       "  <thead>\n",
       "    <tr style=\"text-align: right;\">\n",
       "      <th></th>\n",
       "      <th>transactionId</th>\n",
       "      <th>visitorId</th>\n",
       "      <th>date</th>\n",
       "      <th>revenue</th>\n",
       "      <th>group</th>\n",
       "    </tr>\n",
       "  </thead>\n",
       "  <tbody>\n",
       "    <tr>\n",
       "      <th>425</th>\n",
       "      <td>590470918</td>\n",
       "      <td>1920142716</td>\n",
       "      <td>2019-08-19</td>\n",
       "      <td>1294500</td>\n",
       "      <td>B</td>\n",
       "    </tr>\n",
       "    <tr>\n",
       "      <th>530</th>\n",
       "      <td>3970235543</td>\n",
       "      <td>2912540959</td>\n",
       "      <td>2019-08-19</td>\n",
       "      <td>43990</td>\n",
       "      <td>A</td>\n",
       "    </tr>\n",
       "    <tr>\n",
       "      <th>527</th>\n",
       "      <td>1570513684</td>\n",
       "      <td>2837914161</td>\n",
       "      <td>2019-08-19</td>\n",
       "      <td>33405</td>\n",
       "      <td>B</td>\n",
       "    </tr>\n",
       "    <tr>\n",
       "      <th>421</th>\n",
       "      <td>3765974140</td>\n",
       "      <td>1357170471</td>\n",
       "      <td>2019-08-19</td>\n",
       "      <td>31680</td>\n",
       "      <td>A</td>\n",
       "    </tr>\n",
       "    <tr>\n",
       "      <th>461</th>\n",
       "      <td>2683113224</td>\n",
       "      <td>154576532</td>\n",
       "      <td>2019-08-19</td>\n",
       "      <td>26550</td>\n",
       "      <td>B</td>\n",
       "    </tr>\n",
       "    <tr>\n",
       "      <th>525</th>\n",
       "      <td>3031564664</td>\n",
       "      <td>393266494</td>\n",
       "      <td>2019-08-19</td>\n",
       "      <td>21550</td>\n",
       "      <td>A</td>\n",
       "    </tr>\n",
       "    <tr>\n",
       "      <th>368</th>\n",
       "      <td>3268879337</td>\n",
       "      <td>2536252163</td>\n",
       "      <td>2019-08-19</td>\n",
       "      <td>20026</td>\n",
       "      <td>B</td>\n",
       "    </tr>\n",
       "    <tr>\n",
       "      <th>366</th>\n",
       "      <td>2037051350</td>\n",
       "      <td>1957949546</td>\n",
       "      <td>2019-08-19</td>\n",
       "      <td>16770</td>\n",
       "      <td>A</td>\n",
       "    </tr>\n",
       "    <tr>\n",
       "      <th>463</th>\n",
       "      <td>4170537404</td>\n",
       "      <td>290022471</td>\n",
       "      <td>2019-08-19</td>\n",
       "      <td>16480</td>\n",
       "      <td>B</td>\n",
       "    </tr>\n",
       "    <tr>\n",
       "      <th>531</th>\n",
       "      <td>4016435970</td>\n",
       "      <td>4017075195</td>\n",
       "      <td>2019-08-19</td>\n",
       "      <td>13390</td>\n",
       "      <td>A</td>\n",
       "    </tr>\n",
       "  </tbody>\n",
       "</table>\n",
       "</div>"
      ],
      "text/plain": [
       "     transactionId   visitorId       date  revenue group\n",
       "425      590470918  1920142716 2019-08-19  1294500     B\n",
       "530     3970235543  2912540959 2019-08-19    43990     A\n",
       "527     1570513684  2837914161 2019-08-19    33405     B\n",
       "421     3765974140  1357170471 2019-08-19    31680     A\n",
       "461     2683113224   154576532 2019-08-19    26550     B\n",
       "525     3031564664   393266494 2019-08-19    21550     A\n",
       "368     3268879337  2536252163 2019-08-19    20026     B\n",
       "366     2037051350  1957949546 2019-08-19    16770     A\n",
       "463     4170537404   290022471 2019-08-19    16480     B\n",
       "531     4016435970  4017075195 2019-08-19    13390     A"
      ]
     },
     "execution_count": 22,
     "metadata": {},
     "output_type": "execute_result"
    }
   ],
   "source": [
    "orders.query('date == \"2019-08-19\"').sort_values(by='revenue', ascending=False).head(10)"
   ]
  },
  {
   "cell_type": "markdown",
   "metadata": {},
   "source": [
    "\n",
    "<b>ВЫВОД 3.1 </b>\n",
    "    \n",
    "В первой половине августа выручка в группе `B` растёт немного быстрее, чем в группе `A`. \n",
    "\n",
    "13 августа выручки обеих групп практически равны. \n",
    "\n",
    "Во второй половине месяца все становится более показательно, выручка группы `B` стабильно выше.\n",
    "\n",
    "19 августа определен выброс в группе `B` в значении выручки по заказу №425 (порядка 1.3 миллиона, что несопоставимо больше медианного значения в этот день, равного 2630.0 и второго по величине заказа в ~44 тысяч). Учтем этот выброс в дальнейшем исследовании\n"
   ]
  },
  {
   "cell_type": "markdown",
   "metadata": {},
   "source": [
    "### График кумулятивного среднего чека\n",
    "\n",
    "Разделим кумулятивную выручку на кумулятивное число заказов:"
   ]
  },
  {
   "cell_type": "code",
   "execution_count": 23,
   "metadata": {},
   "outputs": [
    {
     "data": {
      "image/png": "[encoded data removed]",
      "text/plain": [
       "<Figure size 720x360 with 1 Axes>"
      ]
     },
     "metadata": {
      "needs_background": "light"
     },
     "output_type": "display_data"
    }
   ],
   "source": [
    "plt.figure(figsize=(10,5))\n",
    "plt.plot(cumulativeRevenueA['date'], cumulativeRevenueA['revenue']/cumulativeRevenueA['orders'], label='Средний кумулятивный чек - группа A')\n",
    "plt.plot(cumulativeRevenueB['date'], cumulativeRevenueB['revenue']/cumulativeRevenueB['orders'], label='Средний кумулятивный чек - группа B')\n",
    "plt.grid()\n",
    "plt.title('График кумулятивного среднего чека')\n",
    "plt.legend()\n",
    "plt.xlabel('Даты')\n",
    "plt.ylabel('Кумулятивный средний чек')\n",
    "plt.show()"
   ]
  },
  {
   "cell_type": "markdown",
   "metadata": {},
   "source": [
    "\n",
    "<b>ВЫВОД 3.2 </b>\n",
    "    \n",
    "Прослеживается связь с графиком кумулятивной выручки. \n",
    "\n",
    "С первого числа средний чек группы `A` начинает снижение, а группы `B` рост. \n",
    "    \n",
    "В первой половине месяца в группе `B` чек больше, но с 12 по 15 августа - чек выше в группе `A`.\n",
    "\n",
    "И далее чек группы `B` стабильно выше. \n",
    "    \n",
    "Видим сильное влияние на средний чек, которое оказывает заказ под номером 425 (помним о нем). После 19 августа средний чек в `B` пошел на снижение.\n",
    "\n",
    "В группе `A`после 18 августа наблюдается тенденция к плавному росту среднего чека\n"
   ]
  },
  {
   "cell_type": "markdown",
   "metadata": {},
   "source": [
    "### График относительного изменения кумулятивного среднего чека\n",
    "\n",
    "Соберем данные в одном датафрейме, поcтроим отношение средних чеков, добавим горизонтальную ось методом axhline() "
   ]
  },
  {
   "cell_type": "code",
   "execution_count": 24,
   "metadata": {},
   "outputs": [
    {
     "data": {
      "image/png": "[encoded data removed]",
      "text/plain": [
       "<Figure size 720x360 with 1 Axes>"
      ]
     },
     "metadata": {
      "needs_background": "light"
     },
     "output_type": "display_data"
    }
   ],
   "source": [
    "mergedCumulativeRevenue = cumulativeRevenueA.merge(cumulativeRevenueB, left_on='date', right_on='date', how='left', suffixes=['A', 'B'])\n",
    "\n",
    "plt.figure(figsize=(10,5))\n",
    "plt.plot(mergedCumulativeRevenue['date'], (mergedCumulativeRevenue['revenueB']/mergedCumulativeRevenue['ordersB'])/(mergedCumulativeRevenue['revenueA']/mergedCumulativeRevenue['ordersA'])-1)\n",
    "plt.title('График относительного изменения кумулятивного среднего чека (В/А)')\n",
    "plt.grid()\n",
    "plt.axhline(y=0, color='red', linestyle='--') \n",
    "plt.xlabel('Даты')\n",
    "plt.ylabel('% изменения кум.сред.чека')\n",
    "plt.show()"
   ]
  },
  {
   "cell_type": "markdown",
   "metadata": {},
   "source": [
    "\n",
    "<b>ВЫВОД 3.3 </b>\n",
    "    \n",
    "График частично дублирует выводы кумулятивного среднего чека, т.к. является по сути его производным.\n",
    "\n",
    "Видим, что средний чек группы `B` пошел в рос с первого дня теста, на сторой день сравнялся со значением в группе `А` и рос до 4 августа. На пятый день немного просел и дальще рос еще три дня. Затем пошел на резкое снижение: с 11-12 по 15 августа был даже ниже показателя группы `А`, достигнув 13-го числа своего \"исторического\" минимума. Затем видим очень резкий (помним о заказе №425) скачок 19-го августа, после которого пошло плавное снижение к концу месяца.\n",
    "\n",
    "В нескольких точках график различия между сегментами резко «скачет». Где спрятались крупные заказы и выбросы мы уже частично знаем, остальные найдём их позже."
   ]
  },
  {
   "cell_type": "markdown",
   "metadata": {},
   "source": [
    "### График кумулятивной конверсии\n",
    "\n",
    "Аналогично проанализируем график кумулятивной конверсии. Посчитаем кумулятивную конверсию, отделим данные по группам и построим график"
   ]
  },
  {
   "cell_type": "code",
   "execution_count": 25,
   "metadata": {},
   "outputs": [
    {
     "data": {
      "image/png": "[encoded data removed]",
      "text/plain": [
       "<Figure size 720x360 with 1 Axes>"
      ]
     },
     "metadata": {
      "needs_background": "light"
     },
     "output_type": "display_data"
    }
   ],
   "source": [
    "cumulativeData['conversion'] = cumulativeData['orders']/cumulativeData['visitors']\n",
    "\n",
    "cumulativeDataA = cumulativeData[cumulativeData['group']=='A']\n",
    "cumulativeDataB = cumulativeData[cumulativeData['group']=='B']\n",
    "\n",
    "plt.figure(figsize=(10,5))\n",
    "plt.plot(cumulativeDataA['date'], cumulativeDataA['conversion'], label='Кумулятивная конверсия - группа A')\n",
    "plt.plot(cumulativeDataB['date'], cumulativeDataB['conversion'], label='Кумулятивная конверсия - группа B')\n",
    "plt.title('График кумулятивной конверсии')\n",
    "plt.grid()\n",
    "plt.legend()\n",
    "plt.xlabel('Даты')\n",
    "plt.ylabel('Кумулятивная конверсия')\n",
    "plt.show()"
   ]
  },
  {
   "cell_type": "markdown",
   "metadata": {},
   "source": [
    "\n",
    "<b>ВЫВОД 3.4 </b>\n",
    "    \n",
    "В группе `A` в период 2-5 августа конверсия значительно выше конверсии сравниваемой с ней группы,(3 августа зафиксирован исторический максимум относительно обеих групп), после чего пошло резкое снижение до минимального диапазона значений (0,029-0,031), где конверсия и задержалась на период с 9 августа до конца проведения теста. \n",
    " \n",
    "Конверсия группы `A` с 4 августа пошла в рост и уже 6 августа превысила конверсию в группе `A`, продолжив расти до 10 августа, затем пошло постепенное снижение, зафиксирован всплеск конверсии в районе 15-17 августа и плавное снижение до конца проведения теста. \n",
    "    \n",
    "В целом, конверсия группы `B` значительно выше группы `A`,начиная с 6 августа. \n",
    "    \n",
    "2 августа конверсии обеих групп подскочили, что может свидетельствовать о реализации какой-то маркетинговой стратегии по предложению скидок или проведению акций в это день.\n",
    "    \n",
    "В период с 19 августа графики становятся симметричными, конверсии не зафиксировались."
   ]
  },
  {
   "cell_type": "markdown",
   "metadata": {},
   "source": [
    "### График относительного изменения кумулятивной конверсии группы B к группе A\n",
    "\n",
    "Построим график относительного различия кумулятивных конверсий"
   ]
  },
  {
   "cell_type": "code",
   "execution_count": 26,
   "metadata": {},
   "outputs": [
    {
     "data": {
      "image/png": "[encoded data removed]",
      "text/plain": [
       "<Figure size 720x360 with 1 Axes>"
      ]
     },
     "metadata": {
      "needs_background": "light"
     },
     "output_type": "display_data"
    }
   ],
   "source": [
    "mergedCumulativeConversions = cumulativeDataA[['date','conversion']].merge(cumulativeDataB[['date','conversion']], \\\n",
    "                                                    left_on='date', right_on='date', how='left', suffixes=['A', 'B'])\n",
    "plt.figure(figsize=(10,5))\n",
    "plt.plot(mergedCumulativeConversions['date'], mergedCumulativeConversions['conversionB']/mergedCumulativeConversions['conversionA']-1, label=\"Относительный прирост конверсии группы B относительно группы A\")\n",
    "plt.title('График относительного изменения кумулятивной конверсии группы (B/A)')\n",
    "plt.grid()\n",
    "plt.axhline(y=0, color='red', linestyle='--') \n",
    "plt.axhline(y=0.1, color='green', linestyle='--')\n",
    "plt.axhline(y=0.2, color='green', linestyle='--')\n",
    "plt.axhline(y=0.06, color='green', linestyle='--')\n",
    "plt.axhline(y=0.06, color='green', linestyle='--')\n",
    "plt.axhline(y=-0.08, color='grey', linestyle='--')\n",
    "plt.xlabel('Даты')\n",
    "plt.ylabel('% изменения кум.конверсии')\n",
    "plt.show()"
   ]
  },
  {
   "cell_type": "markdown",
   "metadata": {},
   "source": [
    "\n",
    "<b>ВЫВОД 3.5 </b>\n",
    "    \n",
    "Поскольку опять имеем дело с производным графиком от кумулятивной конверсии, то и выводы примерно такие же.\n",
    "    \n",
    "1-5 августа  в группе `A` конверсия выше на 5-10% за исключением 2 августа, когда заметен сильный рост конверсии в группе `B`, превышающий на 5% конверсию в группе `A`.\n",
    "    \n",
    "2 августа в принципе заметен рост конверсии в обеих группах. Можно предположить проведение какой-либо акции.\n",
    "    \n",
    "С 6 августа и до конца проведения теста группа `B` лидировала, её конверсия росла до 15 августа и разница с конверсией в группе `A` на пике составила 21%, затем наблюдается плавное снижение относительной конверсии до 10%, и 14% в конце проведения теста.\n",
    "\n"
   ]
  },
  {
   "cell_type": "markdown",
   "metadata": {},
   "source": [
    "### Точечный график количества заказов по пользователям\n",
    "\n",
    "Пользователи, совершившие много заказов, влияют на числитель формулы конверсии. Скорее всего, их поведение отличается от нормального. Подсчитаем количество заказов по пользователям и посмотрим на результат:"
   ]
  },
  {
   "cell_type": "code",
   "execution_count": 27,
   "metadata": {},
   "outputs": [
    {
     "data": {
      "text/html": [
       "<div>\n",
       "<style scoped>\n",
       "    .dataframe tbody tr th:only-of-type {\n",
       "        vertical-align: middle;\n",
       "    }\n",
       "\n",
       "    .dataframe tbody tr th {\n",
       "        vertical-align: top;\n",
       "    }\n",
       "\n",
       "    .dataframe thead th {\n",
       "        text-align: right;\n",
       "    }\n",
       "</style>\n",
       "<table border=\"1\" class=\"dataframe\">\n",
       "  <thead>\n",
       "    <tr style=\"text-align: right;\">\n",
       "      <th></th>\n",
       "      <th>user_id</th>\n",
       "      <th>orders</th>\n",
       "    </tr>\n",
       "  </thead>\n",
       "  <tbody>\n",
       "    <tr>\n",
       "      <th>1023</th>\n",
       "      <td>4256040402</td>\n",
       "      <td>11</td>\n",
       "    </tr>\n",
       "    <tr>\n",
       "      <th>591</th>\n",
       "      <td>2458001652</td>\n",
       "      <td>11</td>\n",
       "    </tr>\n",
       "    <tr>\n",
       "      <th>569</th>\n",
       "      <td>2378935119</td>\n",
       "      <td>9</td>\n",
       "    </tr>\n",
       "    <tr>\n",
       "      <th>487</th>\n",
       "      <td>2038680547</td>\n",
       "      <td>8</td>\n",
       "    </tr>\n",
       "    <tr>\n",
       "      <th>44</th>\n",
       "      <td>199603092</td>\n",
       "      <td>5</td>\n",
       "    </tr>\n",
       "    <tr>\n",
       "      <th>744</th>\n",
       "      <td>3062433592</td>\n",
       "      <td>5</td>\n",
       "    </tr>\n",
       "    <tr>\n",
       "      <th>55</th>\n",
       "      <td>237748145</td>\n",
       "      <td>5</td>\n",
       "    </tr>\n",
       "    <tr>\n",
       "      <th>917</th>\n",
       "      <td>3803269165</td>\n",
       "      <td>5</td>\n",
       "    </tr>\n",
       "    <tr>\n",
       "      <th>299</th>\n",
       "      <td>1230306981</td>\n",
       "      <td>5</td>\n",
       "    </tr>\n",
       "    <tr>\n",
       "      <th>897</th>\n",
       "      <td>3717692402</td>\n",
       "      <td>5</td>\n",
       "    </tr>\n",
       "  </tbody>\n",
       "</table>\n",
       "</div>"
      ],
      "text/plain": [
       "         user_id  orders\n",
       "1023  4256040402      11\n",
       "591   2458001652      11\n",
       "569   2378935119       9\n",
       "487   2038680547       8\n",
       "44     199603092       5\n",
       "744   3062433592       5\n",
       "55     237748145       5\n",
       "917   3803269165       5\n",
       "299   1230306981       5\n",
       "897   3717692402       5"
      ]
     },
     "execution_count": 27,
     "metadata": {},
     "output_type": "execute_result"
    }
   ],
   "source": [
    "ordersByUsers = orders.drop(['group', 'revenue', 'date'], axis=1).groupby('visitorId', as_index=False). \\\n",
    "                                                                        agg({'transactionId' : pd.Series.nunique})\n",
    "\n",
    "ordersByUsers.columns = ['user_id','orders']\n",
    "\n",
    "ordersByUsers.sort_values(by='orders',ascending=False).head(10)"
   ]
  },
  {
   "cell_type": "markdown",
   "metadata": {},
   "source": [
    "Есть пользователи, которые совершали 5, 8, 9 и 11 заказов. Построим гистрограмму распределения количества заказов на одного пользователя."
   ]
  },
  {
   "cell_type": "code",
   "execution_count": 28,
   "metadata": {},
   "outputs": [
    {
     "data": {
      "image/png": "[encoded data removed]",
      "text/plain": [
       "<Figure size 432x288 with 1 Axes>"
      ]
     },
     "metadata": {
      "needs_background": "light"
     },
     "output_type": "display_data"
    }
   ],
   "source": [
    "plt.hist(ordersByUsers['orders'], color='orange',  edgecolor = 'black') \n",
    "plt.grid()\n",
    "plt.title('Гистрограмма распределения количества заказов на одного пользователя')\n",
    "plt.xlabel('Число заказов')\n",
    "plt.ylabel('Количество пользователей')\n",
    "plt.show()"
   ]
  },
  {
   "cell_type": "markdown",
   "metadata": {},
   "source": [
    "Большинство покупателей заказывали только один раз. Однако доля пользователей с 2-4 заказами тоже значительна.\n",
    "Построим точечную диаграмму числа заказов на одного пользователя:"
   ]
  },
  {
   "cell_type": "code",
   "execution_count": 29,
   "metadata": {},
   "outputs": [
    {
     "data": {
      "image/png": "[encoded data removed]",
      "text/plain": [
       "<Figure size 720x360 with 1 Axes>"
      ]
     },
     "metadata": {
      "needs_background": "light"
     },
     "output_type": "display_data"
    }
   ],
   "source": [
    "x_values = pd.Series(range(0,len(ordersByUsers)))\n",
    "\n",
    "plt.figure(figsize=(10,5))\n",
    "plt.scatter(x_values, ordersByUsers['orders'], color='green', alpha=0.5)\n",
    "plt.grid()\n",
    "plt.title('График количества заказов по пользователям')\n",
    "plt.xlabel('Количество пользователей')\n",
    "plt.ylabel('Число заказов')\n",
    "plt.show()"
   ]
  },
  {
   "cell_type": "markdown",
   "metadata": {},
   "source": [
    "\n",
    "<b>ВЫВОД 3.6 </b>\n",
    "    \n",
    "Выводы подтверждаются: большинство пользователей совершили 1 заказ, также много пользователей с 2, и чуть менее 3 заказами. Их точная доля не ясна — непонятно, считать их аномалиями или нет. Необходимо посчитать выборочные перцентили количества заказов на одного пользователя. Все, что выше трех заказов уже явно аномальные значения"
   ]
  },
  {
   "cell_type": "markdown",
   "metadata": {},
   "source": [
    "### Граница заказов для определения аномальных пользователей\n",
    "\n",
    "Посчитаем выборочные 95-й и 99-й перцентили количества заказов на одного пользователя"
   ]
  },
  {
   "cell_type": "code",
   "execution_count": 30,
   "metadata": {},
   "outputs": [
    {
     "name": "stdout",
     "output_type": "stream",
     "text": [
      "Выборочные 95-й и 99-й перцентили количества заказов на одного пользователя:\n",
      "[2. 4.]\n"
     ]
    }
   ],
   "source": [
    "print('Выборочные 95-й и 99-й перцентили количества заказов на одного пользователя:')\n",
    "print(np.percentile(ordersByUsers['orders'], [95, 99])) "
   ]
  },
  {
   "cell_type": "markdown",
   "metadata": {},
   "source": [
    "Не более 5% пользователей оформляли больше чем 2 заказа. Посмотрим повнимательнее на персентели с 95-го по 99-й"
   ]
  },
  {
   "cell_type": "code",
   "execution_count": 31,
   "metadata": {},
   "outputs": [
    {
     "name": "stdout",
     "output_type": "stream",
     "text": [
      "Выборочные с 95-й по 99-й перцентили количества заказов на одного пользователя:\n",
      "[2. 2. 2. 3. 4.]\n"
     ]
    }
   ],
   "source": [
    "print('Выборочные с 95-й по 99-й перцентили количества заказов на одного пользователя:')\n",
    "print(np.percentile(ordersByUsers['orders'], [95,96,97,98,99])) "
   ]
  },
  {
   "cell_type": "markdown",
   "metadata": {},
   "source": [
    "\n",
    "<b>ВЫВОД 3.7 </b>\n",
    "    \n",
    "Таким образом, видим, что 98% пользователей совершают один или два заказа.    \n",
    "Разумно выбрать 2 заказа на одного пользователя за нижнюю границу числа заказов, и отсеять аномальных пользователей по ней. "
   ]
  },
  {
   "cell_type": "markdown",
   "metadata": {},
   "source": [
    "###  Точечный график стоимостей заказов\n",
    "\n",
    "Аналогично проанализируем показатель стоимости заказов. Изучим данные о заказах, помним об аномально высоком заказе №425, равном 1294500 и максимальных после него значения в примерно 44 тысячи"
   ]
  },
  {
   "cell_type": "code",
   "execution_count": 32,
   "metadata": {},
   "outputs": [
    {
     "data": {
      "image/png": "[encoded data removed]",
      "text/plain": [
       "<Figure size 720x360 with 1 Axes>"
      ]
     },
     "metadata": {
      "needs_background": "light"
     },
     "output_type": "display_data"
    }
   ],
   "source": [
    "x_values = pd.Series(range(0,len(orders['revenue'])))\n",
    "plt.figure(figsize=(10,5))\n",
    "plt.scatter(x_values, orders['revenue'], color='green',alpha=0.5)\n",
    "plt.grid()\n",
    "plt.title('График стоимостей заказов')\n",
    "plt.xlabel('Заказы')\n",
    "plt.ylabel('Стоимость')\n",
    "plt.show()"
   ]
  },
  {
   "cell_type": "markdown",
   "metadata": {},
   "source": [
    "Как и ожидалось, выброс смазал нам наглядность. В пределах от 200000 (еще один аномальный заказ) и выше значения заисключением аномального отсутствуют, отсечем их, посмотрим поближе"
   ]
  },
  {
   "cell_type": "code",
   "execution_count": 33,
   "metadata": {},
   "outputs": [
    {
     "data": {
      "image/png": "[encoded data removed]",
      "text/plain": [
       "<Figure size 720x360 with 1 Axes>"
      ]
     },
     "metadata": {
      "needs_background": "light"
     },
     "output_type": "display_data"
    }
   ],
   "source": [
    "clean_orders = orders[orders['revenue']<=200000]['revenue']\n",
    "xclean_values = pd.Series(range(0,len(clean_orders)))\n",
    "plt.figure(figsize=(10,5))\n",
    "plt.scatter(xclean_values, clean_orders, color='orange',alpha=0.5)\n",
    "plt.grid()\n",
    "plt.title('График стоимостей заказов без аномалий')\n",
    "plt.xlabel('Заказы')\n",
    "plt.ylabel('Стоимость')\n",
    "plt.show()"
   ]
  },
  {
   "cell_type": "markdown",
   "metadata": {},
   "source": [
    "\n",
    "<b>ВЫВОД 3.8 </b>\n",
    "    \n",
    "За исключением аномальных двух аномальных заказов на ~1.3 млн и ~200 тыс. основная масса лежит в интервале до 20 тысяч, чуть меньше от 20 до 40 тысяч. Для того, чтобы найти более точную границу аномальных заказов, необходимо рассчитать перцентили."
   ]
  },
  {
   "cell_type": "markdown",
   "metadata": {},
   "source": [
    "###  Граница для определения аномальных заказов по выручке\n",
    "\n",
    "Посчитаем выборочные 95-й и 99-й перцентили по выручке заказов\n",
    "\n"
   ]
  },
  {
   "cell_type": "code",
   "execution_count": 34,
   "metadata": {},
   "outputs": [
    {
     "name": "stdout",
     "output_type": "stream",
     "text": [
      "Выборочные 95-й и 99-й перцентили заказов по выручке:\n",
      "[28000.  58233.2]\n"
     ]
    }
   ],
   "source": [
    "print('Выборочные 95-й и 99-й перцентили заказов по выручке:')\n",
    "print(np.percentile(orders['revenue'], [95, 99])) "
   ]
  },
  {
   "cell_type": "markdown",
   "metadata": {},
   "source": [
    " \n",
    "<b>ВЫВОД 3.9 </b>\n",
    "    \n",
    "Видим, что 99% заказов были совершены на сумму <=58233.2. Считаю разумным установить ее в качестве границы для аномалий"
   ]
  },
  {
   "cell_type": "markdown",
   "metadata": {},
   "source": [
    "###  Различия в конверсии между группами по «сырым» данным \n",
    "\n",
    "Сформулируем гипотезы:\n",
    "\n",
    "***Н0*** - Статистически значимых различий в конверсии между группами по \"сырым\" данным нет\n",
    "\n",
    "***Н1*** - Статистически значимые различия в конверсии между группами по \"сырым\" данным есть\n",
    "\n",
    "Для начала необходимо собрать данные по заказам и визитам, добавив кумулятивные показатели, в одну таблицу. Создадим несколько таблиц и затем объединим их\n",
    "\n"
   ]
  },
  {
   "cell_type": "code",
   "execution_count": 35,
   "metadata": {},
   "outputs": [],
   "source": [
    "visitorsADaily = visitors[visitors['group']=='A'][['date', 'visitors']]\n",
    "visitorsADaily.columns = ['date', 'visitorsPerDateA']\n",
    "\n",
    "visitorsACummulative = visitorsADaily.apply(lambda x: visitorsADaily[visitorsADaily['date'] <= x['date']]. \\\n",
    "                                            agg({'date' : 'max', 'visitorsPerDateA' : 'sum'}), axis=1)\n",
    "visitorsACummulative.columns = ['date', 'visitorsCummulativeA']\n",
    "\n",
    "visitorsBDaily = visitors[visitors['group']=='B'][['date', 'visitors']]\n",
    "visitorsBDaily.columns = ['date', 'visitorsPerDateB']\n",
    "\n",
    "visitorsBCummulative = visitorsBDaily.apply(lambda x: visitorsBDaily[visitorsBDaily['date'] <= x['date']]. \\\n",
    "                                            agg({'date' : 'max', 'visitorsPerDateB' : 'sum'}), axis=1)\n",
    "visitorsBCummulative.columns = ['date', 'visitorsCummulativeB']"
   ]
  },
  {
   "cell_type": "code",
   "execution_count": 36,
   "metadata": {},
   "outputs": [],
   "source": [
    "ordersADaily = orders[orders['group']=='A'][['date', 'transactionId', 'visitorId', 'revenue']]\\\n",
    "    .groupby('date', as_index=False)\\\n",
    "    .agg({'transactionId' : pd.Series.nunique, 'revenue' : 'sum'})\n",
    "ordersADaily.columns = ['date', 'ordersPerDateA', 'revenuePerDateA']\n",
    "\n",
    "ordersACummulative = ordersADaily.apply(\n",
    "    lambda x: \\\n",
    "        ordersADaily[ordersADaily['date'] <= x['date']]\\\n",
    "            .agg({\n",
    "                'date' : 'max',\n",
    "                'ordersPerDateA' : 'sum',\n",
    "                'revenuePerDateA' : 'sum'}), axis=1).sort_values(by=['date'])\n",
    "ordersACummulative.columns = ['date', 'ordersCummulativeA', 'revenueCummulativeA']\n",
    "\n",
    "ordersBDaily = orders[orders['group']=='B'][['date', 'transactionId', 'visitorId', 'revenue']]\\\n",
    "    .groupby('date', as_index=False)\\\n",
    "    .agg({'transactionId' : pd.Series.nunique, 'revenue' : 'sum'})\n",
    "ordersBDaily.columns = ['date', 'ordersPerDateB', 'revenuePerDateB']\n",
    "\n",
    "ordersBCummulative = ordersBDaily.apply(\n",
    "    lambda x: \\\n",
    "        ordersBDaily[ordersBDaily['date'] <= x['date']]\\\n",
    "            .agg({\n",
    "                'date' : 'max',\n",
    "                'ordersPerDateB' : 'sum',\n",
    "                'revenuePerDateB' : 'sum'}), axis=1).sort_values(by=['date'])\n",
    "ordersBCummulative.columns = ['date', 'ordersCummulativeB', 'revenueCummulativeB']"
   ]
  },
  {
   "cell_type": "markdown",
   "metadata": {},
   "source": [
    "Объединим:"
   ]
  },
  {
   "cell_type": "code",
   "execution_count": 37,
   "metadata": {},
   "outputs": [
    {
     "data": {
      "text/html": [
       "<div>\n",
       "<style scoped>\n",
       "    .dataframe tbody tr th:only-of-type {\n",
       "        vertical-align: middle;\n",
       "    }\n",
       "\n",
       "    .dataframe tbody tr th {\n",
       "        vertical-align: top;\n",
       "    }\n",
       "\n",
       "    .dataframe thead th {\n",
       "        text-align: right;\n",
       "    }\n",
       "</style>\n",
       "<table border=\"1\" class=\"dataframe\">\n",
       "  <thead>\n",
       "    <tr style=\"text-align: right;\">\n",
       "      <th></th>\n",
       "      <th>date</th>\n",
       "      <th>ordersPerDateA</th>\n",
       "      <th>revenuePerDateA</th>\n",
       "      <th>ordersPerDateB</th>\n",
       "      <th>revenuePerDateB</th>\n",
       "      <th>ordersCummulativeA</th>\n",
       "      <th>revenueCummulativeA</th>\n",
       "      <th>ordersCummulativeB</th>\n",
       "      <th>revenueCummulativeB</th>\n",
       "      <th>visitorsPerDateA</th>\n",
       "      <th>visitorsPerDateB</th>\n",
       "      <th>visitorsCummulativeA</th>\n",
       "      <th>visitorsCummulativeB</th>\n",
       "    </tr>\n",
       "  </thead>\n",
       "  <tbody>\n",
       "    <tr>\n",
       "      <th>0</th>\n",
       "      <td>2019-08-01</td>\n",
       "      <td>24</td>\n",
       "      <td>148579</td>\n",
       "      <td>21</td>\n",
       "      <td>101217</td>\n",
       "      <td>24</td>\n",
       "      <td>148579</td>\n",
       "      <td>21</td>\n",
       "      <td>101217</td>\n",
       "      <td>719</td>\n",
       "      <td>713</td>\n",
       "      <td>719</td>\n",
       "      <td>713</td>\n",
       "    </tr>\n",
       "    <tr>\n",
       "      <th>1</th>\n",
       "      <td>2019-08-02</td>\n",
       "      <td>20</td>\n",
       "      <td>93822</td>\n",
       "      <td>24</td>\n",
       "      <td>165531</td>\n",
       "      <td>44</td>\n",
       "      <td>242401</td>\n",
       "      <td>45</td>\n",
       "      <td>266748</td>\n",
       "      <td>619</td>\n",
       "      <td>581</td>\n",
       "      <td>1338</td>\n",
       "      <td>1294</td>\n",
       "    </tr>\n",
       "    <tr>\n",
       "      <th>2</th>\n",
       "      <td>2019-08-03</td>\n",
       "      <td>24</td>\n",
       "      <td>112473</td>\n",
       "      <td>16</td>\n",
       "      <td>114248</td>\n",
       "      <td>68</td>\n",
       "      <td>354874</td>\n",
       "      <td>61</td>\n",
       "      <td>380996</td>\n",
       "      <td>507</td>\n",
       "      <td>509</td>\n",
       "      <td>1845</td>\n",
       "      <td>1803</td>\n",
       "    </tr>\n",
       "    <tr>\n",
       "      <th>3</th>\n",
       "      <td>2019-08-04</td>\n",
       "      <td>16</td>\n",
       "      <td>70825</td>\n",
       "      <td>17</td>\n",
       "      <td>108571</td>\n",
       "      <td>84</td>\n",
       "      <td>425699</td>\n",
       "      <td>78</td>\n",
       "      <td>489567</td>\n",
       "      <td>717</td>\n",
       "      <td>770</td>\n",
       "      <td>2562</td>\n",
       "      <td>2573</td>\n",
       "    </tr>\n",
       "    <tr>\n",
       "      <th>4</th>\n",
       "      <td>2019-08-05</td>\n",
       "      <td>25</td>\n",
       "      <td>124218</td>\n",
       "      <td>23</td>\n",
       "      <td>92428</td>\n",
       "      <td>109</td>\n",
       "      <td>549917</td>\n",
       "      <td>101</td>\n",
       "      <td>581995</td>\n",
       "      <td>756</td>\n",
       "      <td>707</td>\n",
       "      <td>3318</td>\n",
       "      <td>3280</td>\n",
       "    </tr>\n",
       "  </tbody>\n",
       "</table>\n",
       "</div>"
      ],
      "text/plain": [
       "        date  ordersPerDateA  revenuePerDateA  ordersPerDateB  \\\n",
       "0 2019-08-01              24           148579              21   \n",
       "1 2019-08-02              20            93822              24   \n",
       "2 2019-08-03              24           112473              16   \n",
       "3 2019-08-04              16            70825              17   \n",
       "4 2019-08-05              25           124218              23   \n",
       "\n",
       "   revenuePerDateB  ordersCummulativeA  revenueCummulativeA  \\\n",
       "0           101217                  24               148579   \n",
       "1           165531                  44               242401   \n",
       "2           114248                  68               354874   \n",
       "3           108571                  84               425699   \n",
       "4            92428                 109               549917   \n",
       "\n",
       "   ordersCummulativeB  revenueCummulativeB  visitorsPerDateA  \\\n",
       "0                  21               101217               719   \n",
       "1                  45               266748               619   \n",
       "2                  61               380996               507   \n",
       "3                  78               489567               717   \n",
       "4                 101               581995               756   \n",
       "\n",
       "   visitorsPerDateB  visitorsCummulativeA  visitorsCummulativeB  \n",
       "0               713                   719                   713  \n",
       "1               581                  1338                  1294  \n",
       "2               509                  1845                  1803  \n",
       "3               770                  2562                  2573  \n",
       "4               707                  3318                  3280  "
      ]
     },
     "execution_count": 37,
     "metadata": {},
     "output_type": "execute_result"
    }
   ],
   "source": [
    "data = ordersADaily.merge(ordersBDaily, left_on='date', right_on='date', how='left')\\\n",
    "    .merge(ordersACummulative, left_on='date', right_on='date', how='left')\\\n",
    "    .merge(ordersBCummulative, left_on='date', right_on='date', how='left')\\\n",
    "    .merge(visitorsADaily, left_on='date', right_on='date', how='left')\\\n",
    "    .merge(visitorsBDaily, left_on='date', right_on='date', how='left')\\\n",
    "    .merge(visitorsACummulative, left_on='date', right_on='date', how='left')\\\n",
    "    .merge(visitorsBCummulative, left_on='date', right_on='date', how='left')\n",
    "data.head()"
   ]
  },
  {
   "cell_type": "markdown",
   "metadata": {},
   "source": [
    "Посчитаем статистическую значимость различия в конверсии между группами.\n",
    "Создадим переменные ordersByUsersA и ordersByUsersB со столбцами ['userId', 'orders']. В них для пользователей, которые заказывали хотя бы 1 раз, укажем число совершённых заказов."
   ]
  },
  {
   "cell_type": "code",
   "execution_count": 38,
   "metadata": {},
   "outputs": [],
   "source": [
    "ordersByUsersA = orders[orders['group']=='A'].groupby('visitorId', as_index=False).agg({'transactionId' : pd.Series.nunique})\n",
    "ordersByUsersA.columns = ['userId', 'orders']\n",
    "\n",
    "ordersByUsersB = orders[orders['group']=='B'].groupby('visitorId', as_index=False).agg({'transactionId' : pd.Series.nunique})\n",
    "ordersByUsersB.columns = ['userId', 'orders']"
   ]
  },
  {
   "cell_type": "markdown",
   "metadata": {},
   "source": [
    "Объявим переменные sampleA и sampleB, в которых пользователям из разных групп будет соответствовать количество заказов. Тем, кто ничего не заказал, будут соответствовать нули. Это нужно, чтобы подготовить выборки к проверке критерием Манна-Уитни. \n",
    "\n",
    "Число элементов sampleA — это количество пользователей, сумма всех элементов — это количество заказов. Для того, чтобы получить конверсию в группе, разделим сумму заказов на число пользователей — найдём среднее в выборке sampleA с помощью mean(). Аналогично найдём конверсию группы B."
   ]
  },
  {
   "cell_type": "code",
   "execution_count": 39,
   "metadata": {},
   "outputs": [],
   "source": [
    "sampleA = pd.concat([ordersByUsersA['orders'],pd.Series(0, index=np.arange(data['visitorsPerDateA'].sum() - len(ordersByUsersA['orders'])), name='orders')],axis=0)\n",
    "\n",
    "sampleB = pd.concat([ordersByUsersB['orders'],pd.Series(0, index=np.arange(data['visitorsPerDateB'].sum() - len(ordersByUsersB['orders'])), name='orders')],axis=0)"
   ]
  },
  {
   "cell_type": "markdown",
   "metadata": {},
   "source": [
    "Применим критерий Манна-Уитни и отформатируем p-value, округлив его до трёх знаков после запятой."
   ]
  },
  {
   "cell_type": "code",
   "execution_count": 40,
   "metadata": {},
   "outputs": [
    {
     "name": "stdout",
     "output_type": "stream",
     "text": [
      "alpha: 0.05\n",
      "p-value: 0.017\n",
      "Относительный показатель B к A: 0.138\n"
     ]
    }
   ],
   "source": [
    "print('alpha:', 0.05)\n",
    "print('p-value: {0:.3f}'.format(stats.mannwhitneyu(sampleA, sampleB, alternative = 'two-sided')[1]))\n",
    "print('Относительный показатель B к A: {0:.3f}'.format(sampleB.mean()/sampleA.mean()-1)) "
   ]
  },
  {
   "cell_type": "markdown",
   "metadata": {},
   "source": [
    "\n",
    "<b>ВЫВОД 3.10 </b>\n",
    "    \n",
    "Имеем:\n",
    "\n",
    "Значение p-value = 0.017 и меньше принятого уровня alpha = 0.05, соответственно, нулевую гипотезу о том, что статистически значимых различий в конверсии между группами нет, - отвергаем. \n",
    "По «сырым» данным существуют статистически значимые различия в конверсии групп `A` и `B`. \n",
    "\n",
    "А относительное превосходство группы `B` над группой `A` составляет 13.8% ."
   ]
  },
  {
   "cell_type": "markdown",
   "metadata": {},
   "source": [
    "###  Статистическая значимость различий в среднем чеке заказа между группами по «сырым» данным \n",
    "\n",
    "Сформулируем гипотезы:\n",
    "\n",
    "***Н0*** - Статистически значимых различий в среднем чеке заказа между группами по \"сырым\" данным нет\n",
    "\n",
    "***Н1*** - Статистически значимые различия в среднем чеке заказа между группами по \"сырым\" данным есть\n",
    "\n",
    "Для расчета статистической значимости различий в среднем чеке между группами, передадим критерию mannwhitneyu() данные о выручке с заказов (пороговое значение примем в 5%) и найдём относительные различия в среднем чеке между группами.\n",
    "\n"
   ]
  },
  {
   "cell_type": "code",
   "execution_count": 41,
   "metadata": {},
   "outputs": [
    {
     "name": "stdout",
     "output_type": "stream",
     "text": [
      "alpha:  0.05\n",
      "p-value: 0.729\n",
      "Относительный показатель B к A: 0.259\n"
     ]
    }
   ],
   "source": [
    "print('alpha: ',0.05)\n",
    "print('p-value: {0:.3f}'.format(stats.mannwhitneyu(orders[orders['group']=='A']['revenue'], orders[orders['group']=='B']['revenue'], alternative = 'two-sided')[1]))\n",
    "print('Относительный показатель B к A: {0:.3f}'.format(orders[orders['group']=='B']['revenue'].mean()/orders[orders['group']=='A']['revenue'].mean()-1)) "
   ]
  },
  {
   "cell_type": "markdown",
   "metadata": {},
   "source": [
    "\n",
    "<b>ВЫВОД 3.11 </b>\n",
    "    \n",
    "Имеем:\n",
    "\n",
    "Значение p-value = 0.729 и много больше принятого уровня alpha = 0.05, соответственно, нулевую гипотезу о том, что статистически значимых различий  в среднем чеке заказа между группами нет, не отвергаем. \n",
    "По «сырым» данным не существует статистически значимых различий в среднем чеке заказа групп `A` и `B`. \n",
    "\n",
    "Однако, средний чек группы `B` почти на 26% выше среднего чека группы `A`."
   ]
  },
  {
   "cell_type": "markdown",
   "metadata": {},
   "source": [
    "###  Статистическая значимость различий в конверсии между группами по «очищенным» данным \n",
    "\n",
    "Сформулируем гипотезы:\n",
    "\n",
    "***Н0*** - Статистически значимых различий в конверсии между группами по \"очищенным\" данным нет\n",
    "\n",
    "***Н1*** - Статистически значимые различия в конверсии между группами по \"очищенным\" данным есть\n",
    "\n",
    "Принятые **аномальные данные**:\n",
    "\n",
    "Пользователи -  кто совершил **3 и больше заказов** или совершил заказ **дороже 58233.2**.\n",
    "\n",
    "Сделаем срезы:\n",
    "- с числом заказов больше 2 — `usersWithManyOrders` \n",
    "- пользователей, совершивших заказы дороже 58233.2 — `usersWithExpensiveOrders`. \n",
    "\n",
    "Объединим их в таблице `abnormalUsers`. Узнаем, сколько всего аномальных пользователей.\n",
    "\n"
   ]
  },
  {
   "cell_type": "code",
   "execution_count": 42,
   "metadata": {},
   "outputs": [
    {
     "name": "stdout",
     "output_type": "stream",
     "text": [
      "Количество аномальных пользователей равно 31\n"
     ]
    }
   ],
   "source": [
    "usersWithManyOrders = pd.concat([ordersByUsersA[ordersByUsersA['orders'] > 2]['userId'], ordersByUsersB[ordersByUsersB['orders'] > 2]['userId']], axis = 0)\n",
    "usersWithExpensiveOrders = orders[orders['revenue'] > 58233.2]['visitorId']\n",
    "abnormalUsers = pd.concat([usersWithManyOrders, usersWithExpensiveOrders], axis = 0).drop_duplicates().sort_values()\n",
    "print('Количество аномальных пользователей равно', abnormalUsers.shape[0])"
   ]
  },
  {
   "cell_type": "markdown",
   "metadata": {},
   "source": [
    "Для того, чтобы понять, действия этих 31 пользователей повлияли на результаты теста, расчитаем статистическую значимость различий в конверсии между группами теста по очищенным данным. \n",
    "\n",
    "Для начала подготовим выборки количества заказов по пользователям по группам теста:"
   ]
  },
  {
   "cell_type": "code",
   "execution_count": 43,
   "metadata": {},
   "outputs": [],
   "source": [
    "sampleAFiltered = pd.concat([ordersByUsersA[np.logical_not(ordersByUsersA['userId'].isin(abnormalUsers))]['orders'], \\\n",
    "                             pd.Series(0, index=np.arange(data['visitorsPerDateA'].sum() - len(ordersByUsersA['orders'])), \\\n",
    "                                       name='orders')],axis=0)\n",
    "\n",
    "sampleBFiltered = pd.concat([ordersByUsersB[np.logical_not(ordersByUsersB['userId'].isin(abnormalUsers))]['orders'], \\\n",
    "                             pd.Series(0, index=np.arange(data['visitorsPerDateB'].sum() - len(ordersByUsersB['orders'])), \\\n",
    "                                       name='orders')],axis=0) "
   ]
  },
  {
   "cell_type": "markdown",
   "metadata": {},
   "source": [
    "Применим критерий Манна-Уитни к полученным выборкам:"
   ]
  },
  {
   "cell_type": "code",
   "execution_count": 44,
   "metadata": {},
   "outputs": [
    {
     "name": "stdout",
     "output_type": "stream",
     "text": [
      "alpha: 0.05\n",
      "p-value: 0.010\n",
      "Относительный показатель B к A: 0.174\n"
     ]
    }
   ],
   "source": [
    "print('alpha:',0.05)\n",
    "print('p-value: {0:.3f}'.format(stats.mannwhitneyu(sampleAFiltered, sampleBFiltered, alternative = 'two-sided')[1]))\n",
    "print('Относительный показатель B к A: {0:.3f}'.format(sampleBFiltered.mean()/sampleAFiltered.mean()-1)) "
   ]
  },
  {
   "cell_type": "markdown",
   "metadata": {},
   "source": [
    "\n",
    "<b>ВЫВОД 3.12 </b>\n",
    "    \n",
    "Имеем:\n",
    "\n",
    "Значение p-value = 0.01 и меньше принятого уровня alpha = 0.05, соответственно, нулевую гипотезу о том, что  различий в конверсии между группами по \"очищенным\" данным нет,  отвергаем. \n",
    "По \"очищенным\" данным  существуют статистически значимые различия в конверсии групп `A` и `B`. \n",
    "\n",
    "А относительное превосходство группы B над группой A составляет 17,4% (выше, чем с «сырыми» данными, где 13.8%) "
   ]
  },
  {
   "cell_type": "markdown",
   "metadata": {},
   "source": [
    "###  Статистическая значимость различий в среднем чеке заказа между группами по «очищенным» данным\n",
    "\n",
    "Сформулируем гипотезы:\n",
    "\n",
    "***Н0*** - Статистически значимых различий в среднем чеке заказа между группами по \"очищенным\" данным нет\n",
    "\n",
    "***Н1*** - Статистически значимые различия в среднем чеке заказа между группами по \"очищенным\" данным есть\n"
   ]
  },
  {
   "cell_type": "code",
   "execution_count": 45,
   "metadata": {},
   "outputs": [
    {
     "name": "stdout",
     "output_type": "stream",
     "text": [
      "alpha: 0.05\n",
      "p-value: 0.798\n",
      "Относительный показатель B к A: -0.020\n"
     ]
    }
   ],
   "source": [
    "print('alpha:',0.05)\n",
    "print('p-value: {0:.3f}'.format(stats.mannwhitneyu(\n",
    "    orders[np.logical_and(\n",
    "        orders['group']=='A',\n",
    "        np.logical_not(orders['visitorId'].isin(abnormalUsers)))]['revenue'],\n",
    "    orders[np.logical_and(\n",
    "        orders['group']=='B',\n",
    "        np.logical_not(orders['visitorId'].isin(abnormalUsers)))]['revenue'], alternative = 'two-sided')[1]))\n",
    "\n",
    "print('Относительный показатель B к A: {0:.3f}'.format(\n",
    "    orders[np.logical_and(orders['group']=='B',np.logical_not(orders['visitorId'].isin(abnormalUsers)))]['revenue'].mean()/\n",
    "    orders[np.logical_and(\n",
    "        orders['group']=='A',\n",
    "        np.logical_not(orders['visitorId'].isin(abnormalUsers)))]['revenue'].mean() - 1)) "
   ]
  },
  {
   "cell_type": "markdown",
   "metadata": {},
   "source": [
    "\n",
    "<b>ВЫВОД 3.13 </b>\n",
    "    \n",
    "Имеем:\n",
    "\n",
    "Значение p-value = 0.798 и много выше принятого уровня alpha = 0.05, соответственно, нулевую гипотезу о том, что статистически значимых различий в среднем чеке заказа между группами по \"очищенным\" данным нет, не отвергаем.\n",
    "    \n",
    "По \"очищенным\" данным  не существует статистически значимых различий в среднем чеке заказа групп `A` и `B`. (как и в случае \"сырых\" данных)\n",
    "\n",
    "Однако, средний чек группы `B` оказался незначительно (на 2%) ниже среднего чека группы `A`, тогда как по \"сырым\" данным, он был много больше (на ~26%). Это объясняется как раз аномальным заказом №425."
   ]
  },
  {
   "cell_type": "markdown",
   "metadata": {},
   "source": [
    "\n",
    "    \n",
    "###  Решение по результатам теста\n",
    "\n",
    "Имеющиеся факты:\n",
    "\n",
    "1. **Существует** статистически значимое **различие по конверсии** между группами как **по «сырым»** (`B` к `A` **13.8%**) , так и по данным **после фильтрации** аномалий (`B` к `A` **17.4%**). \n",
    "2. **Нет** статистически значимого **различия по среднему чеку** между группами **ни по «сырым»**, **ни** по данным **после фильтрации** аномалий. Средний чек группы `B` оказался незначительно (на 2%) ниже среднего чека группы `A` по \"очищенным\" данным (по \"сырым\" данным, он был больше аж на ~26%).\n",
    "3. **График различия конверсии** между группами сообщает, что результаты группы `A` хуже группы `B` и нет значительной тенденции к улучшению.\n",
    "4. **График различия среднего чека** говорит о том, что результаты обеих групп были бы распределены равномерно, если бы не аномальный скачок в группе `B`.\n",
    "\n",
    "***Исходя из обнаруженных фактов, тест следует остановить и зафиксировать победу группы `B`, которая значительно эффективнее сегмента `A` в части конверсии, при том, что в разрезе среднего чека сегменты примерно равны.***"
   ]
  },
  {
   "cell_type": "markdown",
   "metadata": {},
   "source": [
    "\n",
    "    \n",
    "# Общие выводы\n",
    "В ходе исследования были проведены следующие работы:\n",
    "\n",
    "**1  Предобработка данных**\n",
    "\n",
    "Было обработано три датасета `hypothesis`, `orders` и `visitors`, данные в них представлены полные, корректные, дубликатов нет. Произведена замена названия столбцов и типа столбцов с датами на \"datetime\"\n",
    "\n",
    "**2  Приоритизация гипотез**\n",
    "\n",
    "После применения фреймворков ICE и RICE для приоритизации гипотез определено различие в приоритизации гипотез, обусловленое учетом во фреймворке RICE параметра reach. Сформированы **рекомендации для** проведения **тестирования** следующих **гипотез**:\n",
    "***а). Добавить форму подписки на все основные страницы, чтобы собрать базу клиентов для email-рассылок (точно)\n",
    "б). Добавить блоки рекомендаций товаров на сайт интернет магазина, чтобы повысить конверсию и средний чек заказа (возможно)***\n",
    "\n",
    "**3 Анализ A/B-теста**\n",
    "\n",
    "1.\tПостроены по группам графики кумулятивных выручки, среднего чека, относительного изменения кумулятивного среднего чека,  конверсии,  относительного изменения кумулятивной конверсии; \n",
    "2.\tПостроен точечный график количества заказов по пользователям, выбрана **граница** для определения аномальных пользователей (**2 заказа на одного пользователя**).\n",
    "3.\tПостроен точечный график стоимостей заказов, выбрана  **граница** для определения аномальных заказов (**=58233.2 у.е.**).\n",
    "4.\tПосчитаны статистические значимости различий между группами по «сырым» и «очищенным»  в конверсии и  в среднем чеке заказа\n",
    "- **По «сырым**» данным **существуют** статистически значимые **различия в конверсии** групп `A` и `B`\n",
    "- **По «сырым»** данным **не существует** статистически значимых **различий в среднем чеке заказа** групп `A` и `B`\n",
    "- **По \"очищенным\"** данным  **существуют** статистически значимые **различия в конверсии** групп `A` и `B`\n",
    "- **По \"очищенным\"** данным **не существует** статистически значимых **различий в среднем чеке заказа** групп `A` и `B`.\n",
    "5.\tПринято  решение по результатам: **тест следует остановить и зафиксировать победу группы B**\n"
   ]
  },
  {
   "cell_type": "code",
   "execution_count": null,
   "metadata": {},
   "outputs": [],
   "source": []
  }
 ],
 "metadata": {
  "ExecuteTimeLog": [
   {
    "duration": 54,
    "start_time": "2022-05-18T04:43:16.710Z"
   },
   {
    "duration": 1157,
    "start_time": "2022-05-18T04:43:32.349Z"
   },
   {
    "duration": 95,
    "start_time": "2022-05-18T04:43:33.508Z"
   },
   {
    "duration": 23,
    "start_time": "2022-05-18T04:43:33.605Z"
   },
   {
    "duration": 18,
    "start_time": "2022-05-18T04:43:33.630Z"
   },
   {
    "duration": 3,
    "start_time": "2022-05-18T04:43:33.649Z"
   },
   {
    "duration": 14,
    "start_time": "2022-05-18T04:43:33.653Z"
   },
   {
    "duration": 36,
    "start_time": "2022-05-18T04:43:33.668Z"
   },
   {
    "duration": 11,
    "start_time": "2022-05-18T04:43:33.705Z"
   },
   {
    "duration": 7,
    "start_time": "2022-05-18T04:43:33.717Z"
   },
   {
    "duration": 7,
    "start_time": "2022-05-18T04:43:33.727Z"
   },
   {
    "duration": 12,
    "start_time": "2022-05-18T04:43:33.735Z"
   },
   {
    "duration": 9,
    "start_time": "2022-05-18T04:43:33.749Z"
   },
   {
    "duration": 39,
    "start_time": "2022-05-18T04:43:33.759Z"
   },
   {
    "duration": 13,
    "start_time": "2022-05-18T04:43:33.799Z"
   },
   {
    "duration": 4,
    "start_time": "2022-05-18T04:43:33.813Z"
   },
   {
    "duration": 173,
    "start_time": "2022-05-18T04:43:33.818Z"
   },
   {
    "duration": 113,
    "start_time": "2022-05-18T04:43:33.993Z"
   },
   {
    "duration": 11,
    "start_time": "2022-05-18T04:43:34.107Z"
   },
   {
    "duration": 363,
    "start_time": "2022-05-18T04:43:34.119Z"
   },
   {
    "duration": 11,
    "start_time": "2022-05-18T04:43:34.484Z"
   },
   {
    "duration": 9,
    "start_time": "2022-05-18T04:43:34.496Z"
   },
   {
    "duration": 12,
    "start_time": "2022-05-18T04:43:34.506Z"
   },
   {
    "duration": 203,
    "start_time": "2022-05-18T04:43:34.520Z"
   },
   {
    "duration": 334,
    "start_time": "2022-05-18T04:43:34.725Z"
   },
   {
    "duration": 205,
    "start_time": "2022-05-18T04:43:35.061Z"
   },
   {
    "duration": 201,
    "start_time": "2022-05-18T04:45:08.440Z"
   },
   {
    "duration": 210,
    "start_time": "2022-05-18T04:45:40.508Z"
   },
   {
    "duration": 294,
    "start_time": "2022-05-18T04:46:09.582Z"
   },
   {
    "duration": 206,
    "start_time": "2022-05-18T04:46:57.041Z"
   },
   {
    "duration": 230,
    "start_time": "2022-05-18T04:47:25.223Z"
   },
   {
    "duration": 196,
    "start_time": "2022-05-18T04:47:29.044Z"
   },
   {
    "duration": 290,
    "start_time": "2022-05-18T05:17:36.020Z"
   },
   {
    "duration": 390,
    "start_time": "2022-05-18T05:17:57.969Z"
   },
   {
    "duration": 290,
    "start_time": "2022-05-18T05:18:13.313Z"
   },
   {
    "duration": 258,
    "start_time": "2022-05-18T05:18:32.336Z"
   },
   {
    "duration": 299,
    "start_time": "2022-05-18T05:18:42.929Z"
   },
   {
    "duration": 313,
    "start_time": "2022-05-18T05:22:17.969Z"
   },
   {
    "duration": 316,
    "start_time": "2022-05-18T05:22:53.073Z"
   },
   {
    "duration": 290,
    "start_time": "2022-05-18T05:23:18.922Z"
   },
   {
    "duration": 314,
    "start_time": "2022-05-18T05:23:31.307Z"
   },
   {
    "duration": 309,
    "start_time": "2022-05-18T05:23:41.953Z"
   },
   {
    "duration": 303,
    "start_time": "2022-05-18T05:23:50.415Z"
   },
   {
    "duration": 325,
    "start_time": "2022-05-18T05:23:57.682Z"
   },
   {
    "duration": 265,
    "start_time": "2022-05-18T05:24:56.345Z"
   },
   {
    "duration": 307,
    "start_time": "2022-05-18T05:52:56.673Z"
   },
   {
    "duration": 155,
    "start_time": "2022-05-18T05:58:18.470Z"
   },
   {
    "duration": 192,
    "start_time": "2022-05-18T05:59:59.016Z"
   },
   {
    "duration": 100,
    "start_time": "2022-05-18T06:08:34.279Z"
   },
   {
    "duration": 124,
    "start_time": "2022-05-18T06:09:50.181Z"
   },
   {
    "duration": 98,
    "start_time": "2022-05-18T06:10:07.118Z"
   },
   {
    "duration": 138,
    "start_time": "2022-05-18T06:10:52.061Z"
   },
   {
    "duration": 101,
    "start_time": "2022-05-18T06:11:07.198Z"
   },
   {
    "duration": 142,
    "start_time": "2022-05-18T06:11:24.985Z"
   },
   {
    "duration": 116,
    "start_time": "2022-05-18T06:12:02.028Z"
   },
   {
    "duration": 138,
    "start_time": "2022-05-18T06:17:31.985Z"
   },
   {
    "duration": 144,
    "start_time": "2022-05-18T06:20:27.101Z"
   },
   {
    "duration": 121,
    "start_time": "2022-05-18T06:20:59.427Z"
   },
   {
    "duration": 4,
    "start_time": "2022-05-18T06:29:37.524Z"
   },
   {
    "duration": 6,
    "start_time": "2022-05-18T06:29:51.123Z"
   },
   {
    "duration": 4,
    "start_time": "2022-05-18T06:29:57.297Z"
   },
   {
    "duration": 4,
    "start_time": "2022-05-18T06:34:10.091Z"
   },
   {
    "duration": 9,
    "start_time": "2022-05-18T06:45:43.458Z"
   },
   {
    "duration": 794,
    "start_time": "2022-05-18T07:00:14.141Z"
   },
   {
    "duration": 134,
    "start_time": "2022-05-18T07:01:26.837Z"
   },
   {
    "duration": 134,
    "start_time": "2022-05-18T07:03:52.781Z"
   },
   {
    "duration": 148,
    "start_time": "2022-05-18T07:05:03.031Z"
   },
   {
    "duration": 134,
    "start_time": "2022-05-18T07:07:32.426Z"
   },
   {
    "duration": 129,
    "start_time": "2022-05-18T07:07:45.925Z"
   },
   {
    "duration": 141,
    "start_time": "2022-05-18T07:12:11.673Z"
   },
   {
    "duration": 275,
    "start_time": "2022-05-18T07:12:18.025Z"
   },
   {
    "duration": 132,
    "start_time": "2022-05-18T07:12:29.645Z"
   },
   {
    "duration": 153,
    "start_time": "2022-05-18T07:14:21.345Z"
   },
   {
    "duration": 138,
    "start_time": "2022-05-18T07:14:26.401Z"
   },
   {
    "duration": 130,
    "start_time": "2022-05-18T07:14:45.999Z"
   },
   {
    "duration": 401,
    "start_time": "2022-05-18T07:15:31.770Z"
   },
   {
    "duration": 652,
    "start_time": "2022-05-18T07:15:45.549Z"
   },
   {
    "duration": 1032,
    "start_time": "2022-05-18T07:15:52.639Z"
   },
   {
    "duration": 85,
    "start_time": "2022-05-18T07:15:53.672Z"
   },
   {
    "duration": 34,
    "start_time": "2022-05-18T07:15:53.759Z"
   },
   {
    "duration": 26,
    "start_time": "2022-05-18T07:15:53.795Z"
   },
   {
    "duration": 4,
    "start_time": "2022-05-18T07:15:53.823Z"
   },
   {
    "duration": 20,
    "start_time": "2022-05-18T07:15:53.829Z"
   },
   {
    "duration": 50,
    "start_time": "2022-05-18T07:15:53.851Z"
   },
   {
    "duration": 8,
    "start_time": "2022-05-18T07:15:53.903Z"
   },
   {
    "duration": 8,
    "start_time": "2022-05-18T07:15:53.914Z"
   },
   {
    "duration": 6,
    "start_time": "2022-05-18T07:15:53.925Z"
   },
   {
    "duration": 13,
    "start_time": "2022-05-18T07:15:53.933Z"
   },
   {
    "duration": 10,
    "start_time": "2022-05-18T07:15:53.947Z"
   },
   {
    "duration": 37,
    "start_time": "2022-05-18T07:15:53.958Z"
   },
   {
    "duration": 21,
    "start_time": "2022-05-18T07:15:53.997Z"
   },
   {
    "duration": 5,
    "start_time": "2022-05-18T07:15:54.020Z"
   },
   {
    "duration": 169,
    "start_time": "2022-05-18T07:15:54.026Z"
   },
   {
    "duration": 119,
    "start_time": "2022-05-18T07:15:54.196Z"
   },
   {
    "duration": 10,
    "start_time": "2022-05-18T07:15:54.317Z"
   },
   {
    "duration": 360,
    "start_time": "2022-05-18T07:15:54.329Z"
   },
   {
    "duration": 9,
    "start_time": "2022-05-18T07:15:54.691Z"
   },
   {
    "duration": 8,
    "start_time": "2022-05-18T07:15:54.701Z"
   },
   {
    "duration": 11,
    "start_time": "2022-05-18T07:15:54.710Z"
   },
   {
    "duration": 194,
    "start_time": "2022-05-18T07:15:54.722Z"
   },
   {
    "duration": 289,
    "start_time": "2022-05-18T07:15:54.918Z"
   },
   {
    "duration": 202,
    "start_time": "2022-05-18T07:15:55.209Z"
   },
   {
    "duration": 283,
    "start_time": "2022-05-18T07:15:55.413Z"
   },
   {
    "duration": 126,
    "start_time": "2022-05-18T07:15:55.698Z"
   },
   {
    "duration": 120,
    "start_time": "2022-05-18T07:15:55.827Z"
   },
   {
    "duration": 130,
    "start_time": "2022-05-18T07:15:55.948Z"
   },
   {
    "duration": 4,
    "start_time": "2022-05-18T07:15:56.080Z"
   },
   {
    "duration": 5,
    "start_time": "2022-05-18T07:15:56.093Z"
   },
   {
    "duration": 143,
    "start_time": "2022-05-18T07:15:56.099Z"
   },
   {
    "duration": 150,
    "start_time": "2022-05-18T07:15:56.244Z"
   },
   {
    "duration": 189,
    "start_time": "2022-05-18T07:17:31.753Z"
   },
   {
    "duration": 192,
    "start_time": "2022-05-18T07:18:15.886Z"
   },
   {
    "duration": 182,
    "start_time": "2022-05-18T07:18:26.223Z"
   },
   {
    "duration": 249,
    "start_time": "2022-05-18T07:18:41.765Z"
   },
   {
    "duration": 294,
    "start_time": "2022-05-18T07:19:33.575Z"
   },
   {
    "duration": 196,
    "start_time": "2022-05-18T07:20:26.721Z"
   },
   {
    "duration": 252,
    "start_time": "2022-05-18T07:20:46.545Z"
   },
   {
    "duration": 113,
    "start_time": "2022-05-18T07:21:21.758Z"
   },
   {
    "duration": 135,
    "start_time": "2022-05-18T07:21:59.741Z"
   },
   {
    "duration": 4,
    "start_time": "2022-05-18T07:34:05.047Z"
   },
   {
    "duration": 84,
    "start_time": "2022-05-18T07:48:27.616Z"
   },
   {
    "duration": 95,
    "start_time": "2022-05-18T07:48:56.875Z"
   },
   {
    "duration": 27,
    "start_time": "2022-05-18T07:49:54.057Z"
   },
   {
    "duration": 136,
    "start_time": "2022-05-18T07:52:03.285Z"
   },
   {
    "duration": 6,
    "start_time": "2022-05-18T07:55:17.452Z"
   },
   {
    "duration": 37,
    "start_time": "2022-05-18T07:55:47.951Z"
   },
   {
    "duration": 29,
    "start_time": "2022-05-18T07:56:56.609Z"
   },
   {
    "duration": 45,
    "start_time": "2022-05-18T07:57:14.619Z"
   },
   {
    "duration": 27,
    "start_time": "2022-05-18T07:57:54.515Z"
   },
   {
    "duration": 29,
    "start_time": "2022-05-18T07:58:32.285Z"
   },
   {
    "duration": 29,
    "start_time": "2022-05-18T07:58:39.178Z"
   },
   {
    "duration": 11,
    "start_time": "2022-05-18T08:15:10.820Z"
   },
   {
    "duration": 11,
    "start_time": "2022-05-18T08:34:56.465Z"
   },
   {
    "duration": 14,
    "start_time": "2022-05-18T08:35:08.845Z"
   },
   {
    "duration": 9,
    "start_time": "2022-05-18T08:35:15.073Z"
   },
   {
    "duration": 10,
    "start_time": "2022-05-18T08:35:20.940Z"
   },
   {
    "duration": 5,
    "start_time": "2022-05-18T08:36:19.820Z"
   },
   {
    "duration": 9,
    "start_time": "2022-05-18T08:36:28.061Z"
   },
   {
    "duration": 11,
    "start_time": "2022-05-18T08:36:54.533Z"
   },
   {
    "duration": 8,
    "start_time": "2022-05-18T08:38:29.668Z"
   },
   {
    "duration": 30,
    "start_time": "2022-05-18T08:39:03.959Z"
   },
   {
    "duration": 26,
    "start_time": "2022-05-18T08:40:39.761Z"
   },
   {
    "duration": 38,
    "start_time": "2022-05-18T08:46:21.442Z"
   },
   {
    "duration": 21,
    "start_time": "2022-05-18T08:48:22.885Z"
   },
   {
    "duration": 42,
    "start_time": "2022-05-18T08:48:31.389Z"
   },
   {
    "duration": 2,
    "start_time": "2022-05-18T08:54:43.910Z"
   },
   {
    "duration": 1256,
    "start_time": "2022-05-18T09:15:34.826Z"
   },
   {
    "duration": 50,
    "start_time": "2022-05-18T09:15:36.084Z"
   },
   {
    "duration": 26,
    "start_time": "2022-05-18T09:15:36.141Z"
   },
   {
    "duration": 45,
    "start_time": "2022-05-18T09:15:36.171Z"
   },
   {
    "duration": 4,
    "start_time": "2022-05-18T09:15:36.218Z"
   },
   {
    "duration": 25,
    "start_time": "2022-05-18T09:15:36.223Z"
   },
   {
    "duration": 50,
    "start_time": "2022-05-18T09:15:36.250Z"
   },
   {
    "duration": 13,
    "start_time": "2022-05-18T09:15:36.310Z"
   },
   {
    "duration": 8,
    "start_time": "2022-05-18T09:15:36.325Z"
   },
   {
    "duration": 8,
    "start_time": "2022-05-18T09:15:36.336Z"
   },
   {
    "duration": 60,
    "start_time": "2022-05-18T09:15:36.346Z"
   },
   {
    "duration": 15,
    "start_time": "2022-05-18T09:15:36.410Z"
   },
   {
    "duration": 14,
    "start_time": "2022-05-18T09:15:36.427Z"
   },
   {
    "duration": 30,
    "start_time": "2022-05-18T09:15:36.443Z"
   },
   {
    "duration": 24,
    "start_time": "2022-05-18T09:15:36.475Z"
   },
   {
    "duration": 203,
    "start_time": "2022-05-18T09:15:36.513Z"
   },
   {
    "duration": 153,
    "start_time": "2022-05-18T09:15:36.718Z"
   },
   {
    "duration": 22,
    "start_time": "2022-05-18T09:15:36.873Z"
   },
   {
    "duration": 459,
    "start_time": "2022-05-18T09:15:36.898Z"
   },
   {
    "duration": 11,
    "start_time": "2022-05-18T09:15:37.359Z"
   },
   {
    "duration": 47,
    "start_time": "2022-05-18T09:15:37.372Z"
   },
   {
    "duration": 18,
    "start_time": "2022-05-18T09:15:37.421Z"
   },
   {
    "duration": 261,
    "start_time": "2022-05-18T09:15:37.441Z"
   },
   {
    "duration": 330,
    "start_time": "2022-05-18T09:15:37.703Z"
   },
   {
    "duration": 304,
    "start_time": "2022-05-18T09:15:38.036Z"
   },
   {
    "duration": 408,
    "start_time": "2022-05-18T09:15:38.341Z"
   },
   {
    "duration": 280,
    "start_time": "2022-05-18T09:15:38.750Z"
   },
   {
    "duration": 196,
    "start_time": "2022-05-18T09:15:39.035Z"
   },
   {
    "duration": 197,
    "start_time": "2022-05-18T09:15:39.233Z"
   },
   {
    "duration": 6,
    "start_time": "2022-05-18T09:15:39.432Z"
   },
   {
    "duration": 8,
    "start_time": "2022-05-18T09:15:39.440Z"
   },
   {
    "duration": 199,
    "start_time": "2022-05-18T09:15:39.449Z"
   },
   {
    "duration": 187,
    "start_time": "2022-05-18T09:15:39.649Z"
   },
   {
    "duration": 5,
    "start_time": "2022-05-18T09:15:39.838Z"
   },
   {
    "duration": 118,
    "start_time": "2022-05-18T09:15:39.845Z"
   },
   {
    "duration": 147,
    "start_time": "2022-05-18T09:15:39.965Z"
   },
   {
    "duration": 42,
    "start_time": "2022-05-18T09:15:40.114Z"
   },
   {
    "duration": 170,
    "start_time": "2022-05-18T09:15:40.158Z"
   },
   {
    "duration": 8,
    "start_time": "2022-05-18T09:15:40.330Z"
   },
   {
    "duration": 36,
    "start_time": "2022-05-18T09:15:40.339Z"
   },
   {
    "duration": 16,
    "start_time": "2022-05-18T09:15:40.395Z"
   },
   {
    "duration": 14,
    "start_time": "2022-05-18T09:15:40.413Z"
   },
   {
    "duration": 25,
    "start_time": "2022-05-18T09:15:40.429Z"
   },
   {
    "duration": 59,
    "start_time": "2022-05-18T09:15:40.456Z"
   },
   {
    "duration": 16,
    "start_time": "2022-05-18T09:15:40.516Z"
   }
  ],
  "kernelspec": {
   "display_name": "Python 3 (ipykernel)",
   "language": "python",
   "name": "python3"
  },
  "language_info": {
   "codemirror_mode": {
    "name": "ipython",
    "version": 3
   },
   "file_extension": ".py",
   "mimetype": "text/x-python",
   "name": "python",
   "nbconvert_exporter": "python",
   "pygments_lexer": "ipython3",
   "version": "3.9.7"
  },
  "toc": {
   "base_numbering": 1,
   "nav_menu": {},
   "number_sections": true,
   "sideBar": true,
   "skip_h1_title": true,
   "title_cell": "Table of Contents",
   "title_sidebar": "Contents",
   "toc_cell": false,
   "toc_position": {},
   "toc_section_display": true,
   "toc_window_display": true
  }
 },
 "nbformat": 4,
 "nbformat_minor": 2
}
