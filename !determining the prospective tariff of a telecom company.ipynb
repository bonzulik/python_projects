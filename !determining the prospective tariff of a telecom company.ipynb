{
 "cells": [
  {
   "cell_type": "markdown",
   "metadata": {},
   "source": [
    "# Определение перспективного тарифа для телеком-компании\n",
    "\n",
    "**Цель**\n",
    "Проанализировать поведение клиентов и сделать вывод — какой тариф лучше.\n",
    "\n",
    "**Задача**\n",
    "Сделать предварительный анализ тарифов на небольшой выборке клиентов (данные 500 пользователей «Мегалайна»): кто они, откуда, каким тарифом пользуются, сколько звонков и сообщений каждый отправил за 2018 год.\n",
    "\n",
    "**ИНФОРМАЦИЯ НА ВХОДЕ**\n",
    "\n",
    "**Описание тарифов**\n",
    "\n",
    "***Тариф «Смарт»***\n",
    "- Ежемесячная плата: 550 рублей\n",
    "- Включено 500 минут разговора, 50 сообщений и 15 Гб интернет-трафика\n",
    "- Стоимость услуг сверх тарифного пакета:\n",
    "     - минута разговора: 3 рубля\n",
    "     - сообщение: 3 рубля\n",
    "     - 1 Гб интернет-трафика: 200 рублей\n",
    "\n",
    "***Тариф «Ультра»***\n",
    " - Ежемесячная плата: 1950 рублей\n",
    " - Включено 3000 минут разговора, 1000 сообщений и 30 Гб интернет-трафика\n",
    " - Стоимость услуг сверх тарифного пакета:\n",
    "     - минута разговора: 1 рубль\n",
    "     - сообщение: 1 рубль\n",
    "     - 1 Гб интернет-трафика: 150 рублей\n",
    "     \n",
    "**Описание данных**\n",
    "\n",
    "***Таблица users*** (информация о пользователях):\n",
    "\n",
    "user_id — уникальный идентификатор пользователя\n",
    "\n",
    "first_name — имя пользователя\n",
    "\n",
    "last_name — фамилия пользователя\n",
    "\n",
    "age — возраст пользователя (годы)\n",
    "\n",
    "reg_date — дата подключения тарифа (день, месяц, год)\n",
    "\n",
    "churn_date — дата прекращения пользования тарифом (если значение пропущено, то тариф ещё действовал на момент выгрузки данных)\n",
    "\n",
    "city — город проживания пользователя\n",
    "\n",
    "tariff — название тарифного плана\n",
    "\n",
    "***Таблица calls*** (информация о звонках):\n",
    "\n",
    "id — уникальный номер звонка\n",
    "\n",
    "call_date — дата звонка\n",
    "\n",
    "duration — длительность звонка в минутах\n",
    "\n",
    "user_id — идентификатор пользователя, сделавшего звонок\n",
    "\n",
    "***Таблица messages*** (информация о сообщениях):\n",
    "\n",
    "id — уникальный номер сообщения\n",
    "\n",
    "message_date — дата сообщения\n",
    "\n",
    "user_id — идентификатор пользователя, отправившего сообщение\n",
    "\n",
    "***Таблица internet*** (информация об интернет-сессиях):\n",
    "\n",
    "id — уникальный номер сессии\n",
    "\n",
    "mb_used — объём потраченного за сессию интернет-трафика (в мегабайтах)\n",
    "\n",
    "session_date — дата интернет-сессии\n",
    "\n",
    "user_id — идентификатор пользователя\n",
    "\n",
    "***Таблица tariffs*** (информация о тарифах):\n",
    "\n",
    "tariff_name — название тарифа\n",
    "\n",
    "rub_monthly_fee — ежемесячная абонентская плата в рублях\n",
    "\n",
    "minutes_included — количество минут разговора в месяц, включённых в абонентскую плату\n",
    "\n",
    "messages_included — количество сообщений в месяц, включённых в абонентскую плату\n",
    "\n",
    "mb_per_month_included — объём интернет-трафика, включённого в абонентскую плату (в мегабайтах)\n",
    "\n",
    "rub_per_minute — стоимость минуты разговора сверх тарифного пакета (например, если в тарифе 100 минут разговора в месяц, то со 101 минуты будет взиматься плата)\n",
    "\n",
    "rub_per_message — стоимость отправки сообщения сверх тарифного пакета\n",
    "\n",
    "rub_per_gb — стоимость дополнительного гигабайта интернет-трафика сверх тарифного пакета (1 гигабайт = 1024 мегабайта)"
   ]
  },
  {
   "cell_type": "markdown",
   "metadata": {},
   "source": [
    "## Предобработка данных"
   ]
  },
  {
   "cell_type": "markdown",
   "metadata": {},
   "source": [
    "### Общая информация\n",
    "Импортируем необходимые для работы библиотеки"
   ]
  },
  {
   "cell_type": "code",
   "execution_count": 1,
   "metadata": {},
   "outputs": [],
   "source": [
    "import pandas as pd\n",
    "import matplotlib.pyplot as plt\n",
    "import numpy as np\n",
    "import scipy.stats as st"
   ]
  },
  {
   "cell_type": "markdown",
   "metadata": {},
   "source": [
    "Импортируем данные"
   ]
  },
  {
   "cell_type": "code",
   "execution_count": 2,
   "metadata": {},
   "outputs": [],
   "source": [
    "calls = pd.read_csv('/datasets/calls.csv')\n",
    "internet = pd.read_csv('/datasets/internet.csv')\n",
    "messages = pd.read_csv('/datasets/messages.csv')\n",
    "tariffs = pd.read_csv('/datasets/tariffs.csv')\n",
    "users = pd.read_csv('/datasets/users.csv')"
   ]
  },
  {
   "cell_type": "markdown",
   "metadata": {},
   "source": [
    "Рассмотрим общую информацию по всем данным сразу"
   ]
  },
  {
   "cell_type": "code",
   "execution_count": 3,
   "metadata": {},
   "outputs": [
    {
     "name": "stdout",
     "output_type": "stream",
     "text": [
      "<class 'pandas.core.frame.DataFrame'>\n",
      "RangeIndex: 202607 entries, 0 to 202606\n",
      "Data columns (total 4 columns):\n",
      " #   Column     Non-Null Count   Dtype  \n",
      "---  ------     --------------   -----  \n",
      " 0   id         202607 non-null  object \n",
      " 1   call_date  202607 non-null  object \n",
      " 2   duration   202607 non-null  float64\n",
      " 3   user_id    202607 non-null  int64  \n",
      "dtypes: float64(1), int64(1), object(2)\n",
      "memory usage: 6.2+ MB\n",
      "None\n",
      "\n",
      "<class 'pandas.core.frame.DataFrame'>\n",
      "RangeIndex: 149396 entries, 0 to 149395\n",
      "Data columns (total 5 columns):\n",
      " #   Column        Non-Null Count   Dtype  \n",
      "---  ------        --------------   -----  \n",
      " 0   Unnamed: 0    149396 non-null  int64  \n",
      " 1   id            149396 non-null  object \n",
      " 2   mb_used       149396 non-null  float64\n",
      " 3   session_date  149396 non-null  object \n",
      " 4   user_id       149396 non-null  int64  \n",
      "dtypes: float64(1), int64(2), object(2)\n",
      "memory usage: 5.7+ MB\n",
      "None\n",
      "\n",
      "<class 'pandas.core.frame.DataFrame'>\n",
      "RangeIndex: 123036 entries, 0 to 123035\n",
      "Data columns (total 3 columns):\n",
      " #   Column        Non-Null Count   Dtype \n",
      "---  ------        --------------   ----- \n",
      " 0   id            123036 non-null  object\n",
      " 1   message_date  123036 non-null  object\n",
      " 2   user_id       123036 non-null  int64 \n",
      "dtypes: int64(1), object(2)\n",
      "memory usage: 2.8+ MB\n",
      "None\n",
      "\n",
      "<class 'pandas.core.frame.DataFrame'>\n",
      "RangeIndex: 2 entries, 0 to 1\n",
      "Data columns (total 8 columns):\n",
      " #   Column                 Non-Null Count  Dtype \n",
      "---  ------                 --------------  ----- \n",
      " 0   messages_included      2 non-null      int64 \n",
      " 1   mb_per_month_included  2 non-null      int64 \n",
      " 2   minutes_included       2 non-null      int64 \n",
      " 3   rub_monthly_fee        2 non-null      int64 \n",
      " 4   rub_per_gb             2 non-null      int64 \n",
      " 5   rub_per_message        2 non-null      int64 \n",
      " 6   rub_per_minute         2 non-null      int64 \n",
      " 7   tariff_name            2 non-null      object\n",
      "dtypes: int64(7), object(1)\n",
      "memory usage: 256.0+ bytes\n",
      "None\n",
      "\n",
      "<class 'pandas.core.frame.DataFrame'>\n",
      "RangeIndex: 500 entries, 0 to 499\n",
      "Data columns (total 8 columns):\n",
      " #   Column      Non-Null Count  Dtype \n",
      "---  ------      --------------  ----- \n",
      " 0   user_id     500 non-null    int64 \n",
      " 1   age         500 non-null    int64 \n",
      " 2   churn_date  38 non-null     object\n",
      " 3   city        500 non-null    object\n",
      " 4   first_name  500 non-null    object\n",
      " 5   last_name   500 non-null    object\n",
      " 6   reg_date    500 non-null    object\n",
      " 7   tariff      500 non-null    object\n",
      "dtypes: int64(2), object(6)\n",
      "memory usage: 31.4+ KB\n",
      "None\n",
      "\n"
     ]
    }
   ],
   "source": [
    "for data in [calls, internet, messages, tariffs, users]: \n",
    "    print(data.info(), end='\\n\\n')"
   ]
  },
  {
   "cell_type": "code",
   "execution_count": 4,
   "metadata": {},
   "outputs": [
    {
     "data": {
      "text/html": [
       "<div>\n",
       "<style scoped>\n",
       "    .dataframe tbody tr th:only-of-type {\n",
       "        vertical-align: middle;\n",
       "    }\n",
       "\n",
       "    .dataframe tbody tr th {\n",
       "        vertical-align: top;\n",
       "    }\n",
       "\n",
       "    .dataframe thead th {\n",
       "        text-align: right;\n",
       "    }\n",
       "</style>\n",
       "<table border=\"1\" class=\"dataframe\">\n",
       "  <thead>\n",
       "    <tr style=\"text-align: right;\">\n",
       "      <th></th>\n",
       "      <th>id</th>\n",
       "      <th>call_date</th>\n",
       "      <th>duration</th>\n",
       "      <th>user_id</th>\n",
       "    </tr>\n",
       "  </thead>\n",
       "  <tbody>\n",
       "    <tr>\n",
       "      <th>0</th>\n",
       "      <td>1000_0</td>\n",
       "      <td>2018-07-25</td>\n",
       "      <td>0.00</td>\n",
       "      <td>1000</td>\n",
       "    </tr>\n",
       "    <tr>\n",
       "      <th>1</th>\n",
       "      <td>1000_1</td>\n",
       "      <td>2018-08-17</td>\n",
       "      <td>0.00</td>\n",
       "      <td>1000</td>\n",
       "    </tr>\n",
       "    <tr>\n",
       "      <th>2</th>\n",
       "      <td>1000_2</td>\n",
       "      <td>2018-06-11</td>\n",
       "      <td>2.85</td>\n",
       "      <td>1000</td>\n",
       "    </tr>\n",
       "    <tr>\n",
       "      <th>3</th>\n",
       "      <td>1000_3</td>\n",
       "      <td>2018-09-21</td>\n",
       "      <td>13.80</td>\n",
       "      <td>1000</td>\n",
       "    </tr>\n",
       "    <tr>\n",
       "      <th>4</th>\n",
       "      <td>1000_4</td>\n",
       "      <td>2018-12-15</td>\n",
       "      <td>5.18</td>\n",
       "      <td>1000</td>\n",
       "    </tr>\n",
       "  </tbody>\n",
       "</table>\n",
       "</div>"
      ],
      "text/plain": [
       "       id   call_date  duration  user_id\n",
       "0  1000_0  2018-07-25      0.00     1000\n",
       "1  1000_1  2018-08-17      0.00     1000\n",
       "2  1000_2  2018-06-11      2.85     1000\n",
       "3  1000_3  2018-09-21     13.80     1000\n",
       "4  1000_4  2018-12-15      5.18     1000"
      ]
     },
     "metadata": {},
     "output_type": "display_data"
    },
    {
     "data": {
      "text/html": [
       "<div>\n",
       "<style scoped>\n",
       "    .dataframe tbody tr th:only-of-type {\n",
       "        vertical-align: middle;\n",
       "    }\n",
       "\n",
       "    .dataframe tbody tr th {\n",
       "        vertical-align: top;\n",
       "    }\n",
       "\n",
       "    .dataframe thead th {\n",
       "        text-align: right;\n",
       "    }\n",
       "</style>\n",
       "<table border=\"1\" class=\"dataframe\">\n",
       "  <thead>\n",
       "    <tr style=\"text-align: right;\">\n",
       "      <th></th>\n",
       "      <th>Unnamed: 0</th>\n",
       "      <th>id</th>\n",
       "      <th>mb_used</th>\n",
       "      <th>session_date</th>\n",
       "      <th>user_id</th>\n",
       "    </tr>\n",
       "  </thead>\n",
       "  <tbody>\n",
       "    <tr>\n",
       "      <th>0</th>\n",
       "      <td>0</td>\n",
       "      <td>1000_0</td>\n",
       "      <td>112.95</td>\n",
       "      <td>2018-11-25</td>\n",
       "      <td>1000</td>\n",
       "    </tr>\n",
       "    <tr>\n",
       "      <th>1</th>\n",
       "      <td>1</td>\n",
       "      <td>1000_1</td>\n",
       "      <td>1052.81</td>\n",
       "      <td>2018-09-07</td>\n",
       "      <td>1000</td>\n",
       "    </tr>\n",
       "    <tr>\n",
       "      <th>2</th>\n",
       "      <td>2</td>\n",
       "      <td>1000_2</td>\n",
       "      <td>1197.26</td>\n",
       "      <td>2018-06-25</td>\n",
       "      <td>1000</td>\n",
       "    </tr>\n",
       "    <tr>\n",
       "      <th>3</th>\n",
       "      <td>3</td>\n",
       "      <td>1000_3</td>\n",
       "      <td>550.27</td>\n",
       "      <td>2018-08-22</td>\n",
       "      <td>1000</td>\n",
       "    </tr>\n",
       "    <tr>\n",
       "      <th>4</th>\n",
       "      <td>4</td>\n",
       "      <td>1000_4</td>\n",
       "      <td>302.56</td>\n",
       "      <td>2018-09-24</td>\n",
       "      <td>1000</td>\n",
       "    </tr>\n",
       "  </tbody>\n",
       "</table>\n",
       "</div>"
      ],
      "text/plain": [
       "   Unnamed: 0      id  mb_used session_date  user_id\n",
       "0           0  1000_0   112.95   2018-11-25     1000\n",
       "1           1  1000_1  1052.81   2018-09-07     1000\n",
       "2           2  1000_2  1197.26   2018-06-25     1000\n",
       "3           3  1000_3   550.27   2018-08-22     1000\n",
       "4           4  1000_4   302.56   2018-09-24     1000"
      ]
     },
     "metadata": {},
     "output_type": "display_data"
    },
    {
     "data": {
      "text/html": [
       "<div>\n",
       "<style scoped>\n",
       "    .dataframe tbody tr th:only-of-type {\n",
       "        vertical-align: middle;\n",
       "    }\n",
       "\n",
       "    .dataframe tbody tr th {\n",
       "        vertical-align: top;\n",
       "    }\n",
       "\n",
       "    .dataframe thead th {\n",
       "        text-align: right;\n",
       "    }\n",
       "</style>\n",
       "<table border=\"1\" class=\"dataframe\">\n",
       "  <thead>\n",
       "    <tr style=\"text-align: right;\">\n",
       "      <th></th>\n",
       "      <th>id</th>\n",
       "      <th>message_date</th>\n",
       "      <th>user_id</th>\n",
       "    </tr>\n",
       "  </thead>\n",
       "  <tbody>\n",
       "    <tr>\n",
       "      <th>0</th>\n",
       "      <td>1000_0</td>\n",
       "      <td>2018-06-27</td>\n",
       "      <td>1000</td>\n",
       "    </tr>\n",
       "    <tr>\n",
       "      <th>1</th>\n",
       "      <td>1000_1</td>\n",
       "      <td>2018-10-08</td>\n",
       "      <td>1000</td>\n",
       "    </tr>\n",
       "    <tr>\n",
       "      <th>2</th>\n",
       "      <td>1000_2</td>\n",
       "      <td>2018-08-04</td>\n",
       "      <td>1000</td>\n",
       "    </tr>\n",
       "    <tr>\n",
       "      <th>3</th>\n",
       "      <td>1000_3</td>\n",
       "      <td>2018-06-16</td>\n",
       "      <td>1000</td>\n",
       "    </tr>\n",
       "    <tr>\n",
       "      <th>4</th>\n",
       "      <td>1000_4</td>\n",
       "      <td>2018-12-05</td>\n",
       "      <td>1000</td>\n",
       "    </tr>\n",
       "  </tbody>\n",
       "</table>\n",
       "</div>"
      ],
      "text/plain": [
       "       id message_date  user_id\n",
       "0  1000_0   2018-06-27     1000\n",
       "1  1000_1   2018-10-08     1000\n",
       "2  1000_2   2018-08-04     1000\n",
       "3  1000_3   2018-06-16     1000\n",
       "4  1000_4   2018-12-05     1000"
      ]
     },
     "metadata": {},
     "output_type": "display_data"
    },
    {
     "data": {
      "text/html": [
       "<div>\n",
       "<style scoped>\n",
       "    .dataframe tbody tr th:only-of-type {\n",
       "        vertical-align: middle;\n",
       "    }\n",
       "\n",
       "    .dataframe tbody tr th {\n",
       "        vertical-align: top;\n",
       "    }\n",
       "\n",
       "    .dataframe thead th {\n",
       "        text-align: right;\n",
       "    }\n",
       "</style>\n",
       "<table border=\"1\" class=\"dataframe\">\n",
       "  <thead>\n",
       "    <tr style=\"text-align: right;\">\n",
       "      <th></th>\n",
       "      <th>messages_included</th>\n",
       "      <th>mb_per_month_included</th>\n",
       "      <th>minutes_included</th>\n",
       "      <th>rub_monthly_fee</th>\n",
       "      <th>rub_per_gb</th>\n",
       "      <th>rub_per_message</th>\n",
       "      <th>rub_per_minute</th>\n",
       "      <th>tariff_name</th>\n",
       "    </tr>\n",
       "  </thead>\n",
       "  <tbody>\n",
       "    <tr>\n",
       "      <th>0</th>\n",
       "      <td>50</td>\n",
       "      <td>15360</td>\n",
       "      <td>500</td>\n",
       "      <td>550</td>\n",
       "      <td>200</td>\n",
       "      <td>3</td>\n",
       "      <td>3</td>\n",
       "      <td>smart</td>\n",
       "    </tr>\n",
       "    <tr>\n",
       "      <th>1</th>\n",
       "      <td>1000</td>\n",
       "      <td>30720</td>\n",
       "      <td>3000</td>\n",
       "      <td>1950</td>\n",
       "      <td>150</td>\n",
       "      <td>1</td>\n",
       "      <td>1</td>\n",
       "      <td>ultra</td>\n",
       "    </tr>\n",
       "  </tbody>\n",
       "</table>\n",
       "</div>"
      ],
      "text/plain": [
       "   messages_included  mb_per_month_included  minutes_included  \\\n",
       "0                 50                  15360               500   \n",
       "1               1000                  30720              3000   \n",
       "\n",
       "   rub_monthly_fee  rub_per_gb  rub_per_message  rub_per_minute tariff_name  \n",
       "0              550         200                3               3       smart  \n",
       "1             1950         150                1               1       ultra  "
      ]
     },
     "metadata": {},
     "output_type": "display_data"
    },
    {
     "data": {
      "text/html": [
       "<div>\n",
       "<style scoped>\n",
       "    .dataframe tbody tr th:only-of-type {\n",
       "        vertical-align: middle;\n",
       "    }\n",
       "\n",
       "    .dataframe tbody tr th {\n",
       "        vertical-align: top;\n",
       "    }\n",
       "\n",
       "    .dataframe thead th {\n",
       "        text-align: right;\n",
       "    }\n",
       "</style>\n",
       "<table border=\"1\" class=\"dataframe\">\n",
       "  <thead>\n",
       "    <tr style=\"text-align: right;\">\n",
       "      <th></th>\n",
       "      <th>user_id</th>\n",
       "      <th>age</th>\n",
       "      <th>churn_date</th>\n",
       "      <th>city</th>\n",
       "      <th>first_name</th>\n",
       "      <th>last_name</th>\n",
       "      <th>reg_date</th>\n",
       "      <th>tariff</th>\n",
       "    </tr>\n",
       "  </thead>\n",
       "  <tbody>\n",
       "    <tr>\n",
       "      <th>0</th>\n",
       "      <td>1000</td>\n",
       "      <td>52</td>\n",
       "      <td>NaN</td>\n",
       "      <td>Краснодар</td>\n",
       "      <td>Рафаил</td>\n",
       "      <td>Верещагин</td>\n",
       "      <td>2018-05-25</td>\n",
       "      <td>ultra</td>\n",
       "    </tr>\n",
       "    <tr>\n",
       "      <th>1</th>\n",
       "      <td>1001</td>\n",
       "      <td>41</td>\n",
       "      <td>NaN</td>\n",
       "      <td>Москва</td>\n",
       "      <td>Иван</td>\n",
       "      <td>Ежов</td>\n",
       "      <td>2018-11-01</td>\n",
       "      <td>smart</td>\n",
       "    </tr>\n",
       "    <tr>\n",
       "      <th>2</th>\n",
       "      <td>1002</td>\n",
       "      <td>59</td>\n",
       "      <td>NaN</td>\n",
       "      <td>Стерлитамак</td>\n",
       "      <td>Евгений</td>\n",
       "      <td>Абрамович</td>\n",
       "      <td>2018-06-17</td>\n",
       "      <td>smart</td>\n",
       "    </tr>\n",
       "    <tr>\n",
       "      <th>3</th>\n",
       "      <td>1003</td>\n",
       "      <td>23</td>\n",
       "      <td>NaN</td>\n",
       "      <td>Москва</td>\n",
       "      <td>Белла</td>\n",
       "      <td>Белякова</td>\n",
       "      <td>2018-08-17</td>\n",
       "      <td>ultra</td>\n",
       "    </tr>\n",
       "    <tr>\n",
       "      <th>4</th>\n",
       "      <td>1004</td>\n",
       "      <td>68</td>\n",
       "      <td>NaN</td>\n",
       "      <td>Новокузнецк</td>\n",
       "      <td>Татьяна</td>\n",
       "      <td>Авдеенко</td>\n",
       "      <td>2018-05-14</td>\n",
       "      <td>ultra</td>\n",
       "    </tr>\n",
       "  </tbody>\n",
       "</table>\n",
       "</div>"
      ],
      "text/plain": [
       "   user_id  age churn_date         city first_name  last_name    reg_date  \\\n",
       "0     1000   52        NaN    Краснодар     Рафаил  Верещагин  2018-05-25   \n",
       "1     1001   41        NaN       Москва       Иван       Ежов  2018-11-01   \n",
       "2     1002   59        NaN  Стерлитамак    Евгений  Абрамович  2018-06-17   \n",
       "3     1003   23        NaN       Москва      Белла   Белякова  2018-08-17   \n",
       "4     1004   68        NaN  Новокузнецк    Татьяна   Авдеенко  2018-05-14   \n",
       "\n",
       "  tariff  \n",
       "0  ultra  \n",
       "1  smart  \n",
       "2  smart  \n",
       "3  ultra  \n",
       "4  ultra  "
      ]
     },
     "metadata": {},
     "output_type": "display_data"
    }
   ],
   "source": [
    "for data in [calls, internet, messages, tariffs, users]: \n",
    "    display(data.head())"
   ]
  },
  {
   "cell_type": "markdown",
   "metadata": {},
   "source": [
    " Датасет содержит данные по 500 клиентам, потребуется заменить тип данных у столбцов с датой и временем, а также округлить значения минут разговора и мегабайт использованного трафика в большую сторону, так как тарифы считаются по минутам и мегабайтам.\n",
    "\n",
    "Кроме того, после объединения данных (сводная таблица по звонкам, по сообщениям и интернет-трафику) возникнут пропущенные значения (клиент мог в каком-то месяце не писать сообщений, но звонить и использовать интернет), которые также нужно будет заменить на нули."
   ]
  },
  {
   "cell_type": "markdown",
   "metadata": {},
   "source": [
    "### Замена типов данных\n",
    "Заменим тип данных в датафреймах, обозначающих дату (str на datetime):"
   ]
  },
  {
   "cell_type": "code",
   "execution_count": 5,
   "metadata": {},
   "outputs": [],
   "source": [
    "calls['call_date'] = pd.to_datetime(calls['call_date'], format='%Y-%m-%d')\n",
    "internet['session_date'] = pd.to_datetime(internet['session_date'], format='%Y-%m-%d')\n",
    "messages['message_date'] = pd.to_datetime(messages['message_date'], format='%Y-%m-%d')\n",
    "users['churn_date'] = pd.to_datetime(users['churn_date'], format='%Y-%m-%d')\n",
    "users['reg_date'] = pd.to_datetime(users['reg_date'], format='%Y-%m-%d')"
   ]
  },
  {
   "cell_type": "markdown",
   "metadata": {},
   "source": [
    "### Исправление ошибок\n",
    "Рассмотрим **звонки** с нулевой длительностью: "
   ]
  },
  {
   "cell_type": "code",
   "execution_count": 6,
   "metadata": {},
   "outputs": [
    {
     "name": "stdout",
     "output_type": "stream",
     "text": [
      "Количество звонков с нулевой длительностью = 39613\n"
     ]
    }
   ],
   "source": [
    "print('Количество звонков с нулевой длительностью =', calls.loc[calls['duration'] == 0, 'duration'].value_counts()[0])"
   ]
  },
  {
   "cell_type": "markdown",
   "metadata": {},
   "source": [
    "Нулевых звонков достаточно много, чтобы не обратить на них внимание. Рассмотрим их в разрезе месяца. Добавим в датафрейм звонков столбец с месяцем и построим график зависимости количества звонков с нулевой длительностью от общего числа помесячно"
   ]
  },
  {
   "cell_type": "code",
   "execution_count": 7,
   "metadata": {},
   "outputs": [
    {
     "data": {
      "text/html": [
       "<div>\n",
       "<style scoped>\n",
       "    .dataframe tbody tr th:only-of-type {\n",
       "        vertical-align: middle;\n",
       "    }\n",
       "\n",
       "    .dataframe tbody tr th {\n",
       "        vertical-align: top;\n",
       "    }\n",
       "\n",
       "    .dataframe thead th {\n",
       "        text-align: right;\n",
       "    }\n",
       "</style>\n",
       "<table border=\"1\" class=\"dataframe\">\n",
       "  <thead>\n",
       "    <tr style=\"text-align: right;\">\n",
       "      <th></th>\n",
       "      <th>id</th>\n",
       "      <th>call_date</th>\n",
       "      <th>duration</th>\n",
       "      <th>user_id</th>\n",
       "      <th>month</th>\n",
       "    </tr>\n",
       "  </thead>\n",
       "  <tbody>\n",
       "    <tr>\n",
       "      <th>0</th>\n",
       "      <td>1000_0</td>\n",
       "      <td>2018-07-25</td>\n",
       "      <td>0.00</td>\n",
       "      <td>1000</td>\n",
       "      <td>7</td>\n",
       "    </tr>\n",
       "    <tr>\n",
       "      <th>1</th>\n",
       "      <td>1000_1</td>\n",
       "      <td>2018-08-17</td>\n",
       "      <td>0.00</td>\n",
       "      <td>1000</td>\n",
       "      <td>8</td>\n",
       "    </tr>\n",
       "    <tr>\n",
       "      <th>2</th>\n",
       "      <td>1000_2</td>\n",
       "      <td>2018-06-11</td>\n",
       "      <td>2.85</td>\n",
       "      <td>1000</td>\n",
       "      <td>6</td>\n",
       "    </tr>\n",
       "    <tr>\n",
       "      <th>3</th>\n",
       "      <td>1000_3</td>\n",
       "      <td>2018-09-21</td>\n",
       "      <td>13.80</td>\n",
       "      <td>1000</td>\n",
       "      <td>9</td>\n",
       "    </tr>\n",
       "    <tr>\n",
       "      <th>4</th>\n",
       "      <td>1000_4</td>\n",
       "      <td>2018-12-15</td>\n",
       "      <td>5.18</td>\n",
       "      <td>1000</td>\n",
       "      <td>12</td>\n",
       "    </tr>\n",
       "    <tr>\n",
       "      <th>...</th>\n",
       "      <td>...</td>\n",
       "      <td>...</td>\n",
       "      <td>...</td>\n",
       "      <td>...</td>\n",
       "      <td>...</td>\n",
       "    </tr>\n",
       "    <tr>\n",
       "      <th>202602</th>\n",
       "      <td>1499_215</td>\n",
       "      <td>2018-12-26</td>\n",
       "      <td>0.76</td>\n",
       "      <td>1499</td>\n",
       "      <td>12</td>\n",
       "    </tr>\n",
       "    <tr>\n",
       "      <th>202603</th>\n",
       "      <td>1499_216</td>\n",
       "      <td>2018-10-18</td>\n",
       "      <td>18.83</td>\n",
       "      <td>1499</td>\n",
       "      <td>10</td>\n",
       "    </tr>\n",
       "    <tr>\n",
       "      <th>202604</th>\n",
       "      <td>1499_217</td>\n",
       "      <td>2018-11-10</td>\n",
       "      <td>10.81</td>\n",
       "      <td>1499</td>\n",
       "      <td>11</td>\n",
       "    </tr>\n",
       "    <tr>\n",
       "      <th>202605</th>\n",
       "      <td>1499_218</td>\n",
       "      <td>2018-10-06</td>\n",
       "      <td>4.27</td>\n",
       "      <td>1499</td>\n",
       "      <td>10</td>\n",
       "    </tr>\n",
       "    <tr>\n",
       "      <th>202606</th>\n",
       "      <td>1499_219</td>\n",
       "      <td>2018-12-14</td>\n",
       "      <td>19.62</td>\n",
       "      <td>1499</td>\n",
       "      <td>12</td>\n",
       "    </tr>\n",
       "  </tbody>\n",
       "</table>\n",
       "<p>202607 rows × 5 columns</p>\n",
       "</div>"
      ],
      "text/plain": [
       "              id  call_date  duration  user_id  month\n",
       "0         1000_0 2018-07-25      0.00     1000      7\n",
       "1         1000_1 2018-08-17      0.00     1000      8\n",
       "2         1000_2 2018-06-11      2.85     1000      6\n",
       "3         1000_3 2018-09-21     13.80     1000      9\n",
       "4         1000_4 2018-12-15      5.18     1000     12\n",
       "...          ...        ...       ...      ...    ...\n",
       "202602  1499_215 2018-12-26      0.76     1499     12\n",
       "202603  1499_216 2018-10-18     18.83     1499     10\n",
       "202604  1499_217 2018-11-10     10.81     1499     11\n",
       "202605  1499_218 2018-10-06      4.27     1499     10\n",
       "202606  1499_219 2018-12-14     19.62     1499     12\n",
       "\n",
       "[202607 rows x 5 columns]"
      ]
     },
     "execution_count": 7,
     "metadata": {},
     "output_type": "execute_result"
    }
   ],
   "source": [
    "calls['month'] = calls['call_date'].dt.month\n",
    "calls"
   ]
  },
  {
   "cell_type": "code",
   "execution_count": 8,
   "metadata": {},
   "outputs": [
    {
     "data": {
      "text/html": [
       "<div>\n",
       "<style scoped>\n",
       "    .dataframe tbody tr th:only-of-type {\n",
       "        vertical-align: middle;\n",
       "    }\n",
       "\n",
       "    .dataframe tbody tr th {\n",
       "        vertical-align: top;\n",
       "    }\n",
       "\n",
       "    .dataframe thead th {\n",
       "        text-align: right;\n",
       "    }\n",
       "</style>\n",
       "<table border=\"1\" class=\"dataframe\">\n",
       "  <thead>\n",
       "    <tr style=\"text-align: right;\">\n",
       "      <th></th>\n",
       "      <th>id</th>\n",
       "      <th>zero_count</th>\n",
       "    </tr>\n",
       "    <tr>\n",
       "      <th>month</th>\n",
       "      <th></th>\n",
       "      <th></th>\n",
       "    </tr>\n",
       "  </thead>\n",
       "  <tbody>\n",
       "    <tr>\n",
       "      <th>1</th>\n",
       "      <td>1476</td>\n",
       "      <td>312</td>\n",
       "    </tr>\n",
       "    <tr>\n",
       "      <th>2</th>\n",
       "      <td>3328</td>\n",
       "      <td>623</td>\n",
       "    </tr>\n",
       "    <tr>\n",
       "      <th>3</th>\n",
       "      <td>6687</td>\n",
       "      <td>1304</td>\n",
       "    </tr>\n",
       "    <tr>\n",
       "      <th>4</th>\n",
       "      <td>9272</td>\n",
       "      <td>1768</td>\n",
       "    </tr>\n",
       "    <tr>\n",
       "      <th>5</th>\n",
       "      <td>12647</td>\n",
       "      <td>2531</td>\n",
       "    </tr>\n",
       "    <tr>\n",
       "      <th>6</th>\n",
       "      <td>14716</td>\n",
       "      <td>2883</td>\n",
       "    </tr>\n",
       "    <tr>\n",
       "      <th>7</th>\n",
       "      <td>18298</td>\n",
       "      <td>3518</td>\n",
       "    </tr>\n",
       "    <tr>\n",
       "      <th>8</th>\n",
       "      <td>21488</td>\n",
       "      <td>4231</td>\n",
       "    </tr>\n",
       "    <tr>\n",
       "      <th>9</th>\n",
       "      <td>24061</td>\n",
       "      <td>4615</td>\n",
       "    </tr>\n",
       "    <tr>\n",
       "      <th>10</th>\n",
       "      <td>27146</td>\n",
       "      <td>5389</td>\n",
       "    </tr>\n",
       "    <tr>\n",
       "      <th>11</th>\n",
       "      <td>29501</td>\n",
       "      <td>5837</td>\n",
       "    </tr>\n",
       "    <tr>\n",
       "      <th>12</th>\n",
       "      <td>33987</td>\n",
       "      <td>6602</td>\n",
       "    </tr>\n",
       "  </tbody>\n",
       "</table>\n",
       "</div>"
      ],
      "text/plain": [
       "          id  zero_count\n",
       "month                   \n",
       "1       1476         312\n",
       "2       3328         623\n",
       "3       6687        1304\n",
       "4       9272        1768\n",
       "5      12647        2531\n",
       "6      14716        2883\n",
       "7      18298        3518\n",
       "8      21488        4231\n",
       "9      24061        4615\n",
       "10     27146        5389\n",
       "11     29501        5837\n",
       "12     33987        6602"
      ]
     },
     "execution_count": 8,
     "metadata": {},
     "output_type": "execute_result"
    }
   ],
   "source": [
    "calls.loc[calls['duration'] == 0, 'zero_count'] = 1\n",
    "zero_calls = calls.pivot_table(index='month', values=['id', 'zero_count'], aggfunc='count')\n",
    "zero_calls"
   ]
  },
  {
   "cell_type": "code",
   "execution_count": 9,
   "metadata": {},
   "outputs": [
    {
     "data": {
      "text/html": [
       "<div>\n",
       "<style scoped>\n",
       "    .dataframe tbody tr th:only-of-type {\n",
       "        vertical-align: middle;\n",
       "    }\n",
       "\n",
       "    .dataframe tbody tr th {\n",
       "        vertical-align: top;\n",
       "    }\n",
       "\n",
       "    .dataframe thead th {\n",
       "        text-align: right;\n",
       "    }\n",
       "</style>\n",
       "<table border=\"1\" class=\"dataframe\">\n",
       "  <thead>\n",
       "    <tr style=\"text-align: right;\">\n",
       "      <th></th>\n",
       "      <th>id</th>\n",
       "      <th>zero_count</th>\n",
       "      <th>zero_ratio</th>\n",
       "    </tr>\n",
       "    <tr>\n",
       "      <th>month</th>\n",
       "      <th></th>\n",
       "      <th></th>\n",
       "      <th></th>\n",
       "    </tr>\n",
       "  </thead>\n",
       "  <tbody>\n",
       "    <tr>\n",
       "      <th>1</th>\n",
       "      <td>1476</td>\n",
       "      <td>312</td>\n",
       "      <td>0.2114</td>\n",
       "    </tr>\n",
       "    <tr>\n",
       "      <th>2</th>\n",
       "      <td>3328</td>\n",
       "      <td>623</td>\n",
       "      <td>0.1872</td>\n",
       "    </tr>\n",
       "    <tr>\n",
       "      <th>3</th>\n",
       "      <td>6687</td>\n",
       "      <td>1304</td>\n",
       "      <td>0.1950</td>\n",
       "    </tr>\n",
       "    <tr>\n",
       "      <th>4</th>\n",
       "      <td>9272</td>\n",
       "      <td>1768</td>\n",
       "      <td>0.1907</td>\n",
       "    </tr>\n",
       "    <tr>\n",
       "      <th>5</th>\n",
       "      <td>12647</td>\n",
       "      <td>2531</td>\n",
       "      <td>0.2001</td>\n",
       "    </tr>\n",
       "    <tr>\n",
       "      <th>6</th>\n",
       "      <td>14716</td>\n",
       "      <td>2883</td>\n",
       "      <td>0.1959</td>\n",
       "    </tr>\n",
       "    <tr>\n",
       "      <th>7</th>\n",
       "      <td>18298</td>\n",
       "      <td>3518</td>\n",
       "      <td>0.1923</td>\n",
       "    </tr>\n",
       "    <tr>\n",
       "      <th>8</th>\n",
       "      <td>21488</td>\n",
       "      <td>4231</td>\n",
       "      <td>0.1969</td>\n",
       "    </tr>\n",
       "    <tr>\n",
       "      <th>9</th>\n",
       "      <td>24061</td>\n",
       "      <td>4615</td>\n",
       "      <td>0.1918</td>\n",
       "    </tr>\n",
       "    <tr>\n",
       "      <th>10</th>\n",
       "      <td>27146</td>\n",
       "      <td>5389</td>\n",
       "      <td>0.1985</td>\n",
       "    </tr>\n",
       "    <tr>\n",
       "      <th>11</th>\n",
       "      <td>29501</td>\n",
       "      <td>5837</td>\n",
       "      <td>0.1979</td>\n",
       "    </tr>\n",
       "    <tr>\n",
       "      <th>12</th>\n",
       "      <td>33987</td>\n",
       "      <td>6602</td>\n",
       "      <td>0.1943</td>\n",
       "    </tr>\n",
       "  </tbody>\n",
       "</table>\n",
       "</div>"
      ],
      "text/plain": [
       "          id  zero_count  zero_ratio\n",
       "month                               \n",
       "1       1476         312      0.2114\n",
       "2       3328         623      0.1872\n",
       "3       6687        1304      0.1950\n",
       "4       9272        1768      0.1907\n",
       "5      12647        2531      0.2001\n",
       "6      14716        2883      0.1959\n",
       "7      18298        3518      0.1923\n",
       "8      21488        4231      0.1969\n",
       "9      24061        4615      0.1918\n",
       "10     27146        5389      0.1985\n",
       "11     29501        5837      0.1979\n",
       "12     33987        6602      0.1943"
      ]
     },
     "execution_count": 9,
     "metadata": {},
     "output_type": "execute_result"
    }
   ],
   "source": [
    "zero_calls['zero_ratio'] = round(zero_calls['zero_count'] / zero_calls['id'], 4)\n",
    "zero_calls"
   ]
  },
  {
   "cell_type": "markdown",
   "metadata": {},
   "source": [
    "Построим диаграмму рассеяния"
   ]
  },
  {
   "cell_type": "code",
   "execution_count": 10,
   "metadata": {},
   "outputs": [
    {
     "data": {
      "text/plain": [
       "Text(14.505633680555562, 0.5, 'Число нулевых звонков по месям')"
      ]
     },
     "execution_count": 10,
     "metadata": {},
     "output_type": "execute_result"
    },
    {
     "data": {
      "image/png": "[encoded data removed]",
      "text/plain": [
       "<Figure size 424.625x360 with 1 Axes>"
      ]
     },
     "metadata": {
      "needs_background": "light"
     },
     "output_type": "display_data"
    }
   ],
   "source": [
    "import seaborn as sns\n",
    "sns.relplot(x='id', y='zero_count', hue=\"zero_ratio\", palette=\"ch:r=-.5,l=.75\",  data=zero_calls)\n",
    "plt.xlabel('Общее число звонков по месяцам')\n",
    "plt.ylabel('Число нулевых звонков по месям')"
   ]
  },
  {
   "cell_type": "markdown",
   "metadata": {},
   "source": [
    "Очевидно, имеем устойчивое и систематическое поведение доли пропущенных звонков, недозваниваются ежемесячно примерно одинаково. Заменим нулевые звонки на 1, а в силу поминутного характера тарифа все ненулевые округлим в большую сторону."
   ]
  },
  {
   "cell_type": "code",
   "execution_count": 11,
   "metadata": {},
   "outputs": [],
   "source": [
    "calls.loc[calls['duration'] == 0, 'duration'] = 1"
   ]
  },
  {
   "cell_type": "code",
   "execution_count": 12,
   "metadata": {},
   "outputs": [
    {
     "data": {
      "text/plain": [
       "0          1\n",
       "1          1\n",
       "2          3\n",
       "3         14\n",
       "4          6\n",
       "          ..\n",
       "202602     1\n",
       "202603    19\n",
       "202604    11\n",
       "202605     5\n",
       "202606    20\n",
       "Name: duration, Length: 202607, dtype: int64"
      ]
     },
     "execution_count": 12,
     "metadata": {},
     "output_type": "execute_result"
    }
   ],
   "source": [
    "calls['duration'] = np.ceil(calls['duration']).astype('int')\n",
    "calls['duration']"
   ]
  },
  {
   "cell_type": "markdown",
   "metadata": {},
   "source": [
    "Аналогично обработаем **интернет-сессии** с нулевым объемом потраченного трафика: "
   ]
  },
  {
   "cell_type": "code",
   "execution_count": 13,
   "metadata": {},
   "outputs": [],
   "source": [
    "internet['month'] = internet['session_date'].dt.month"
   ]
  },
  {
   "cell_type": "code",
   "execution_count": 14,
   "metadata": {},
   "outputs": [
    {
     "data": {
      "text/plain": [
       "count    149396.000000\n",
       "mean        370.192426\n",
       "std         278.300951\n",
       "min           0.000000\n",
       "25%         138.187500\n",
       "50%         348.015000\n",
       "75%         559.552500\n",
       "max        1724.830000\n",
       "Name: mb_used, dtype: float64"
      ]
     },
     "execution_count": 14,
     "metadata": {},
     "output_type": "execute_result"
    }
   ],
   "source": [
    "internet['mb_used'].describe()"
   ]
  },
  {
   "cell_type": "code",
   "execution_count": 15,
   "metadata": {},
   "outputs": [
    {
     "data": {
      "text/plain": [
       "55305267.73"
      ]
     },
     "execution_count": 15,
     "metadata": {},
     "output_type": "execute_result"
    }
   ],
   "source": [
    "internet['mb_used'].sum()"
   ]
  },
  {
   "cell_type": "markdown",
   "metadata": {},
   "source": [
    "По интернет-сессиям суммируем весь трафик за месяц по пользователям, переведем мегабайты в гигабайты и округлим в большую сторону"
   ]
  },
  {
   "cell_type": "code",
   "execution_count": 16,
   "metadata": {},
   "outputs": [
    {
     "data": {
      "text/html": [
       "<div>\n",
       "<style scoped>\n",
       "    .dataframe tbody tr th:only-of-type {\n",
       "        vertical-align: middle;\n",
       "    }\n",
       "\n",
       "    .dataframe tbody tr th {\n",
       "        vertical-align: top;\n",
       "    }\n",
       "\n",
       "    .dataframe thead th {\n",
       "        text-align: right;\n",
       "    }\n",
       "</style>\n",
       "<table border=\"1\" class=\"dataframe\">\n",
       "  <thead>\n",
       "    <tr style=\"text-align: right;\">\n",
       "      <th></th>\n",
       "      <th>month</th>\n",
       "      <th>user_id</th>\n",
       "      <th>mb_used</th>\n",
       "    </tr>\n",
       "  </thead>\n",
       "  <tbody>\n",
       "    <tr>\n",
       "      <th>0</th>\n",
       "      <td>1</td>\n",
       "      <td>1005</td>\n",
       "      <td>2727.97</td>\n",
       "    </tr>\n",
       "    <tr>\n",
       "      <th>1</th>\n",
       "      <td>1</td>\n",
       "      <td>1032</td>\n",
       "      <td>24127.69</td>\n",
       "    </tr>\n",
       "    <tr>\n",
       "      <th>2</th>\n",
       "      <td>1</td>\n",
       "      <td>1045</td>\n",
       "      <td>2346.71</td>\n",
       "    </tr>\n",
       "    <tr>\n",
       "      <th>3</th>\n",
       "      <td>1</td>\n",
       "      <td>1055</td>\n",
       "      <td>17090.88</td>\n",
       "    </tr>\n",
       "    <tr>\n",
       "      <th>4</th>\n",
       "      <td>1</td>\n",
       "      <td>1071</td>\n",
       "      <td>15604.34</td>\n",
       "    </tr>\n",
       "    <tr>\n",
       "      <th>...</th>\n",
       "      <td>...</td>\n",
       "      <td>...</td>\n",
       "      <td>...</td>\n",
       "    </tr>\n",
       "    <tr>\n",
       "      <th>3198</th>\n",
       "      <td>12</td>\n",
       "      <td>1494</td>\n",
       "      <td>17621.21</td>\n",
       "    </tr>\n",
       "    <tr>\n",
       "      <th>3199</th>\n",
       "      <td>12</td>\n",
       "      <td>1495</td>\n",
       "      <td>23426.76</td>\n",
       "    </tr>\n",
       "    <tr>\n",
       "      <th>3200</th>\n",
       "      <td>12</td>\n",
       "      <td>1496</td>\n",
       "      <td>20736.15</td>\n",
       "    </tr>\n",
       "    <tr>\n",
       "      <th>3201</th>\n",
       "      <td>12</td>\n",
       "      <td>1497</td>\n",
       "      <td>19918.60</td>\n",
       "    </tr>\n",
       "    <tr>\n",
       "      <th>3202</th>\n",
       "      <td>12</td>\n",
       "      <td>1499</td>\n",
       "      <td>13055.58</td>\n",
       "    </tr>\n",
       "  </tbody>\n",
       "</table>\n",
       "<p>3203 rows × 3 columns</p>\n",
       "</div>"
      ],
      "text/plain": [
       "      month  user_id   mb_used\n",
       "0         1     1005   2727.97\n",
       "1         1     1032  24127.69\n",
       "2         1     1045   2346.71\n",
       "3         1     1055  17090.88\n",
       "4         1     1071  15604.34\n",
       "...     ...      ...       ...\n",
       "3198     12     1494  17621.21\n",
       "3199     12     1495  23426.76\n",
       "3200     12     1496  20736.15\n",
       "3201     12     1497  19918.60\n",
       "3202     12     1499  13055.58\n",
       "\n",
       "[3203 rows x 3 columns]"
      ]
     },
     "execution_count": 16,
     "metadata": {},
     "output_type": "execute_result"
    }
   ],
   "source": [
    "internet.groupby(['month', 'user_id'])['mb_used'].sum().reset_index()"
   ]
  },
  {
   "cell_type": "code",
   "execution_count": 17,
   "metadata": {},
   "outputs": [
    {
     "data": {
      "text/html": [
       "<div>\n",
       "<style scoped>\n",
       "    .dataframe tbody tr th:only-of-type {\n",
       "        vertical-align: middle;\n",
       "    }\n",
       "\n",
       "    .dataframe tbody tr th {\n",
       "        vertical-align: top;\n",
       "    }\n",
       "\n",
       "    .dataframe thead th {\n",
       "        text-align: right;\n",
       "    }\n",
       "</style>\n",
       "<table border=\"1\" class=\"dataframe\">\n",
       "  <thead>\n",
       "    <tr style=\"text-align: right;\">\n",
       "      <th></th>\n",
       "      <th>Unnamed: 0</th>\n",
       "      <th>id</th>\n",
       "      <th>mb_used</th>\n",
       "      <th>session_date</th>\n",
       "      <th>user_id</th>\n",
       "      <th>month</th>\n",
       "    </tr>\n",
       "  </thead>\n",
       "  <tbody>\n",
       "    <tr>\n",
       "      <th>0</th>\n",
       "      <td>0</td>\n",
       "      <td>1000_0</td>\n",
       "      <td>112.95</td>\n",
       "      <td>2018-11-25</td>\n",
       "      <td>1000</td>\n",
       "      <td>11</td>\n",
       "    </tr>\n",
       "    <tr>\n",
       "      <th>1</th>\n",
       "      <td>1</td>\n",
       "      <td>1000_1</td>\n",
       "      <td>1052.81</td>\n",
       "      <td>2018-09-07</td>\n",
       "      <td>1000</td>\n",
       "      <td>9</td>\n",
       "    </tr>\n",
       "    <tr>\n",
       "      <th>2</th>\n",
       "      <td>2</td>\n",
       "      <td>1000_2</td>\n",
       "      <td>1197.26</td>\n",
       "      <td>2018-06-25</td>\n",
       "      <td>1000</td>\n",
       "      <td>6</td>\n",
       "    </tr>\n",
       "    <tr>\n",
       "      <th>3</th>\n",
       "      <td>3</td>\n",
       "      <td>1000_3</td>\n",
       "      <td>550.27</td>\n",
       "      <td>2018-08-22</td>\n",
       "      <td>1000</td>\n",
       "      <td>8</td>\n",
       "    </tr>\n",
       "    <tr>\n",
       "      <th>4</th>\n",
       "      <td>4</td>\n",
       "      <td>1000_4</td>\n",
       "      <td>302.56</td>\n",
       "      <td>2018-09-24</td>\n",
       "      <td>1000</td>\n",
       "      <td>9</td>\n",
       "    </tr>\n",
       "    <tr>\n",
       "      <th>...</th>\n",
       "      <td>...</td>\n",
       "      <td>...</td>\n",
       "      <td>...</td>\n",
       "      <td>...</td>\n",
       "      <td>...</td>\n",
       "      <td>...</td>\n",
       "    </tr>\n",
       "    <tr>\n",
       "      <th>149391</th>\n",
       "      <td>149391</td>\n",
       "      <td>1499_152</td>\n",
       "      <td>318.90</td>\n",
       "      <td>2018-10-03</td>\n",
       "      <td>1499</td>\n",
       "      <td>10</td>\n",
       "    </tr>\n",
       "    <tr>\n",
       "      <th>149392</th>\n",
       "      <td>149392</td>\n",
       "      <td>1499_153</td>\n",
       "      <td>490.13</td>\n",
       "      <td>2018-12-14</td>\n",
       "      <td>1499</td>\n",
       "      <td>12</td>\n",
       "    </tr>\n",
       "    <tr>\n",
       "      <th>149393</th>\n",
       "      <td>149393</td>\n",
       "      <td>1499_154</td>\n",
       "      <td>0.00</td>\n",
       "      <td>2018-10-27</td>\n",
       "      <td>1499</td>\n",
       "      <td>10</td>\n",
       "    </tr>\n",
       "    <tr>\n",
       "      <th>149394</th>\n",
       "      <td>149394</td>\n",
       "      <td>1499_155</td>\n",
       "      <td>1246.32</td>\n",
       "      <td>2018-11-26</td>\n",
       "      <td>1499</td>\n",
       "      <td>11</td>\n",
       "    </tr>\n",
       "    <tr>\n",
       "      <th>149395</th>\n",
       "      <td>149395</td>\n",
       "      <td>1499_156</td>\n",
       "      <td>544.37</td>\n",
       "      <td>2018-10-26</td>\n",
       "      <td>1499</td>\n",
       "      <td>10</td>\n",
       "    </tr>\n",
       "  </tbody>\n",
       "</table>\n",
       "<p>149396 rows × 6 columns</p>\n",
       "</div>"
      ],
      "text/plain": [
       "        Unnamed: 0        id  mb_used session_date  user_id  month\n",
       "0                0    1000_0   112.95   2018-11-25     1000     11\n",
       "1                1    1000_1  1052.81   2018-09-07     1000      9\n",
       "2                2    1000_2  1197.26   2018-06-25     1000      6\n",
       "3                3    1000_3   550.27   2018-08-22     1000      8\n",
       "4                4    1000_4   302.56   2018-09-24     1000      9\n",
       "...            ...       ...      ...          ...      ...    ...\n",
       "149391      149391  1499_152   318.90   2018-10-03     1499     10\n",
       "149392      149392  1499_153   490.13   2018-12-14     1499     12\n",
       "149393      149393  1499_154     0.00   2018-10-27     1499     10\n",
       "149394      149394  1499_155  1246.32   2018-11-26     1499     11\n",
       "149395      149395  1499_156   544.37   2018-10-26     1499     10\n",
       "\n",
       "[149396 rows x 6 columns]"
      ]
     },
     "execution_count": 17,
     "metadata": {},
     "output_type": "execute_result"
    }
   ],
   "source": [
    "internet"
   ]
  },
  {
   "cell_type": "markdown",
   "metadata": {},
   "source": [
    "## Расчеты"
   ]
  },
  {
   "cell_type": "markdown",
   "metadata": {},
   "source": [
    "Для каждого пользователя нам необходимо расчитать по месяцам:\n",
    " - количество сделанных звонков и израсходованных минут разговора\n",
    " - количество отправленных сообщений \n",
    " - объем израсходованного интернет-трафика"
   ]
  },
  {
   "cell_type": "code",
   "execution_count": 18,
   "metadata": {},
   "outputs": [
    {
     "data": {
      "text/plain": [
       "0         РафаилВерещагинКраснодар\n",
       "1                   ИванЕжовМосква\n",
       "2      ЕвгенийАбрамовичСтерлитамак\n",
       "3              БеллаБеляковаМосква\n",
       "4       ТатьянаАвдеенкоНовокузнецк\n",
       "                  ...             \n",
       "495          АвксентийФокинИркутск\n",
       "496            ТрифонБлохинВологда\n",
       "497        КаролинаАгееваЧелябинск\n",
       "498     ВсеволодАкимчинВладикавказ\n",
       "499            ГекторКорниловПермь\n",
       "Name: unique_name, Length: 500, dtype: object"
      ]
     },
     "execution_count": 18,
     "metadata": {},
     "output_type": "execute_result"
    }
   ],
   "source": [
    "users['unique_name'] = users['first_name'] + users['last_name'] + users['city'] \n",
    "users['unique_name']"
   ]
  },
  {
   "cell_type": "markdown",
   "metadata": {},
   "source": [
    "Добавим в датафрейм с сообщениями столбец с месяцем и сделаем сводные таблицы по звонкам, сообщениям и трафику:"
   ]
  },
  {
   "cell_type": "code",
   "execution_count": 19,
   "metadata": {},
   "outputs": [
    {
     "data": {
      "text/html": [
       "<div>\n",
       "<style scoped>\n",
       "    .dataframe tbody tr th:only-of-type {\n",
       "        vertical-align: middle;\n",
       "    }\n",
       "\n",
       "    .dataframe tbody tr th {\n",
       "        vertical-align: top;\n",
       "    }\n",
       "\n",
       "    .dataframe thead th {\n",
       "        text-align: right;\n",
       "    }\n",
       "</style>\n",
       "<table border=\"1\" class=\"dataframe\">\n",
       "  <thead>\n",
       "    <tr style=\"text-align: right;\">\n",
       "      <th></th>\n",
       "      <th>id</th>\n",
       "      <th>message_date</th>\n",
       "      <th>user_id</th>\n",
       "      <th>month</th>\n",
       "    </tr>\n",
       "  </thead>\n",
       "  <tbody>\n",
       "    <tr>\n",
       "      <th>0</th>\n",
       "      <td>1000_0</td>\n",
       "      <td>2018-06-27</td>\n",
       "      <td>1000</td>\n",
       "      <td>6</td>\n",
       "    </tr>\n",
       "    <tr>\n",
       "      <th>1</th>\n",
       "      <td>1000_1</td>\n",
       "      <td>2018-10-08</td>\n",
       "      <td>1000</td>\n",
       "      <td>10</td>\n",
       "    </tr>\n",
       "    <tr>\n",
       "      <th>2</th>\n",
       "      <td>1000_2</td>\n",
       "      <td>2018-08-04</td>\n",
       "      <td>1000</td>\n",
       "      <td>8</td>\n",
       "    </tr>\n",
       "    <tr>\n",
       "      <th>3</th>\n",
       "      <td>1000_3</td>\n",
       "      <td>2018-06-16</td>\n",
       "      <td>1000</td>\n",
       "      <td>6</td>\n",
       "    </tr>\n",
       "    <tr>\n",
       "      <th>4</th>\n",
       "      <td>1000_4</td>\n",
       "      <td>2018-12-05</td>\n",
       "      <td>1000</td>\n",
       "      <td>12</td>\n",
       "    </tr>\n",
       "    <tr>\n",
       "      <th>...</th>\n",
       "      <td>...</td>\n",
       "      <td>...</td>\n",
       "      <td>...</td>\n",
       "      <td>...</td>\n",
       "    </tr>\n",
       "    <tr>\n",
       "      <th>123031</th>\n",
       "      <td>1499_179</td>\n",
       "      <td>2018-12-12</td>\n",
       "      <td>1499</td>\n",
       "      <td>12</td>\n",
       "    </tr>\n",
       "    <tr>\n",
       "      <th>123032</th>\n",
       "      <td>1499_180</td>\n",
       "      <td>2018-09-28</td>\n",
       "      <td>1499</td>\n",
       "      <td>9</td>\n",
       "    </tr>\n",
       "    <tr>\n",
       "      <th>123033</th>\n",
       "      <td>1499_181</td>\n",
       "      <td>2018-09-27</td>\n",
       "      <td>1499</td>\n",
       "      <td>9</td>\n",
       "    </tr>\n",
       "    <tr>\n",
       "      <th>123034</th>\n",
       "      <td>1499_182</td>\n",
       "      <td>2018-11-15</td>\n",
       "      <td>1499</td>\n",
       "      <td>11</td>\n",
       "    </tr>\n",
       "    <tr>\n",
       "      <th>123035</th>\n",
       "      <td>1499_183</td>\n",
       "      <td>2018-11-16</td>\n",
       "      <td>1499</td>\n",
       "      <td>11</td>\n",
       "    </tr>\n",
       "  </tbody>\n",
       "</table>\n",
       "<p>123036 rows × 4 columns</p>\n",
       "</div>"
      ],
      "text/plain": [
       "              id message_date  user_id  month\n",
       "0         1000_0   2018-06-27     1000      6\n",
       "1         1000_1   2018-10-08     1000     10\n",
       "2         1000_2   2018-08-04     1000      8\n",
       "3         1000_3   2018-06-16     1000      6\n",
       "4         1000_4   2018-12-05     1000     12\n",
       "...          ...          ...      ...    ...\n",
       "123031  1499_179   2018-12-12     1499     12\n",
       "123032  1499_180   2018-09-28     1499      9\n",
       "123033  1499_181   2018-09-27     1499      9\n",
       "123034  1499_182   2018-11-15     1499     11\n",
       "123035  1499_183   2018-11-16     1499     11\n",
       "\n",
       "[123036 rows x 4 columns]"
      ]
     },
     "execution_count": 19,
     "metadata": {},
     "output_type": "execute_result"
    }
   ],
   "source": [
    "messages['month'] = messages['message_date'].dt.month\n",
    "messages"
   ]
  },
  {
   "cell_type": "raw",
   "metadata": {},
   "source": [
    "Звонки:"
   ]
  },
  {
   "cell_type": "code",
   "execution_count": 20,
   "metadata": {},
   "outputs": [],
   "source": [
    "calls_t = calls.merge(users, on='user_id', how='inner')\n",
    "calls_grouped = calls_t.pivot_table(values=['unique_name', 'duration'], index=['user_id', 'month'], aggfunc={'unique_name': 'count', 'duration': 'sum'})\n",
    "calls_grouped.columns = ['duration', 'calls']"
   ]
  },
  {
   "cell_type": "markdown",
   "metadata": {},
   "source": [
    "Сообщения:"
   ]
  },
  {
   "cell_type": "code",
   "execution_count": 21,
   "metadata": {},
   "outputs": [],
   "source": [
    "messages_t = messages.merge(users, on='user_id', how='inner')\n",
    "messages_grouped = messages_t.pivot_table(values='unique_name',  index=['user_id', 'month'], aggfunc={'unique_name': 'count'})\n",
    "messages_grouped.columns = ['messages']"
   ]
  },
  {
   "cell_type": "markdown",
   "metadata": {},
   "source": [
    "Интернет-трафик:"
   ]
  },
  {
   "cell_type": "code",
   "execution_count": 22,
   "metadata": {},
   "outputs": [],
   "source": [
    "internet_t = internet.merge(users, on='user_id', how='inner')\n",
    "internet_grouped = internet_t.pivot_table(values='mb_used', index=['user_id', 'month'], aggfunc={'mb_used': 'sum'})\n",
    "internet_grouped.columns = ['mb_used']"
   ]
  },
  {
   "cell_type": "markdown",
   "metadata": {},
   "source": [
    "Объединим эти сводные таблички в одну:"
   ]
  },
  {
   "cell_type": "code",
   "execution_count": 23,
   "metadata": {},
   "outputs": [
    {
     "data": {
      "text/html": [
       "<div>\n",
       "<style scoped>\n",
       "    .dataframe tbody tr th:only-of-type {\n",
       "        vertical-align: middle;\n",
       "    }\n",
       "\n",
       "    .dataframe tbody tr th {\n",
       "        vertical-align: top;\n",
       "    }\n",
       "\n",
       "    .dataframe thead th {\n",
       "        text-align: right;\n",
       "    }\n",
       "</style>\n",
       "<table border=\"1\" class=\"dataframe\">\n",
       "  <thead>\n",
       "    <tr style=\"text-align: right;\">\n",
       "      <th></th>\n",
       "      <th></th>\n",
       "      <th>duration</th>\n",
       "      <th>calls</th>\n",
       "      <th>messages</th>\n",
       "      <th>mb_used</th>\n",
       "    </tr>\n",
       "    <tr>\n",
       "      <th>user_id</th>\n",
       "      <th>month</th>\n",
       "      <th></th>\n",
       "      <th></th>\n",
       "      <th></th>\n",
       "      <th></th>\n",
       "    </tr>\n",
       "  </thead>\n",
       "  <tbody>\n",
       "    <tr>\n",
       "      <th rowspan=\"8\" valign=\"top\">1000</th>\n",
       "      <th>5</th>\n",
       "      <td>164.0</td>\n",
       "      <td>22.0</td>\n",
       "      <td>22.0</td>\n",
       "      <td>2253.49</td>\n",
       "    </tr>\n",
       "    <tr>\n",
       "      <th>6</th>\n",
       "      <td>187.0</td>\n",
       "      <td>43.0</td>\n",
       "      <td>60.0</td>\n",
       "      <td>23233.77</td>\n",
       "    </tr>\n",
       "    <tr>\n",
       "      <th>7</th>\n",
       "      <td>346.0</td>\n",
       "      <td>47.0</td>\n",
       "      <td>75.0</td>\n",
       "      <td>14003.64</td>\n",
       "    </tr>\n",
       "    <tr>\n",
       "      <th>8</th>\n",
       "      <td>418.0</td>\n",
       "      <td>52.0</td>\n",
       "      <td>81.0</td>\n",
       "      <td>14055.93</td>\n",
       "    </tr>\n",
       "    <tr>\n",
       "      <th>9</th>\n",
       "      <td>478.0</td>\n",
       "      <td>58.0</td>\n",
       "      <td>57.0</td>\n",
       "      <td>14568.91</td>\n",
       "    </tr>\n",
       "    <tr>\n",
       "      <th>10</th>\n",
       "      <td>363.0</td>\n",
       "      <td>57.0</td>\n",
       "      <td>73.0</td>\n",
       "      <td>14702.49</td>\n",
       "    </tr>\n",
       "    <tr>\n",
       "      <th>11</th>\n",
       "      <td>344.0</td>\n",
       "      <td>43.0</td>\n",
       "      <td>58.0</td>\n",
       "      <td>14756.47</td>\n",
       "    </tr>\n",
       "    <tr>\n",
       "      <th>12</th>\n",
       "      <td>341.0</td>\n",
       "      <td>46.0</td>\n",
       "      <td>70.0</td>\n",
       "      <td>9817.61</td>\n",
       "    </tr>\n",
       "    <tr>\n",
       "      <th rowspan=\"2\" valign=\"top\">1001</th>\n",
       "      <th>11</th>\n",
       "      <td>444.0</td>\n",
       "      <td>59.0</td>\n",
       "      <td>NaN</td>\n",
       "      <td>18429.34</td>\n",
       "    </tr>\n",
       "    <tr>\n",
       "      <th>12</th>\n",
       "      <td>430.0</td>\n",
       "      <td>63.0</td>\n",
       "      <td>NaN</td>\n",
       "      <td>14036.66</td>\n",
       "    </tr>\n",
       "    <tr>\n",
       "      <th rowspan=\"5\" valign=\"top\">1002</th>\n",
       "      <th>6</th>\n",
       "      <td>118.0</td>\n",
       "      <td>15.0</td>\n",
       "      <td>4.0</td>\n",
       "      <td>10856.82</td>\n",
       "    </tr>\n",
       "    <tr>\n",
       "      <th>7</th>\n",
       "      <td>219.0</td>\n",
       "      <td>26.0</td>\n",
       "      <td>11.0</td>\n",
       "      <td>17580.10</td>\n",
       "    </tr>\n",
       "    <tr>\n",
       "      <th>8</th>\n",
       "      <td>294.0</td>\n",
       "      <td>42.0</td>\n",
       "      <td>13.0</td>\n",
       "      <td>20319.26</td>\n",
       "    </tr>\n",
       "    <tr>\n",
       "      <th>9</th>\n",
       "      <td>217.0</td>\n",
       "      <td>36.0</td>\n",
       "      <td>4.0</td>\n",
       "      <td>16691.08</td>\n",
       "    </tr>\n",
       "    <tr>\n",
       "      <th>10</th>\n",
       "      <td>221.0</td>\n",
       "      <td>33.0</td>\n",
       "      <td>10.0</td>\n",
       "      <td>13888.25</td>\n",
       "    </tr>\n",
       "  </tbody>\n",
       "</table>\n",
       "</div>"
      ],
      "text/plain": [
       "               duration  calls  messages   mb_used\n",
       "user_id month                                     \n",
       "1000    5         164.0   22.0      22.0   2253.49\n",
       "        6         187.0   43.0      60.0  23233.77\n",
       "        7         346.0   47.0      75.0  14003.64\n",
       "        8         418.0   52.0      81.0  14055.93\n",
       "        9         478.0   58.0      57.0  14568.91\n",
       "        10        363.0   57.0      73.0  14702.49\n",
       "        11        344.0   43.0      58.0  14756.47\n",
       "        12        341.0   46.0      70.0   9817.61\n",
       "1001    11        444.0   59.0       NaN  18429.34\n",
       "        12        430.0   63.0       NaN  14036.66\n",
       "1002    6         118.0   15.0       4.0  10856.82\n",
       "        7         219.0   26.0      11.0  17580.10\n",
       "        8         294.0   42.0      13.0  20319.26\n",
       "        9         217.0   36.0       4.0  16691.08\n",
       "        10        221.0   33.0      10.0  13888.25"
      ]
     },
     "execution_count": 23,
     "metadata": {},
     "output_type": "execute_result"
    }
   ],
   "source": [
    "from functools import reduce\n",
    "data_pivot = [calls_grouped, messages_grouped, internet_grouped]\n",
    "grouped_data = reduce(lambda left,right: pd.merge(left,right,on=['user_id', 'month'], how='outer'), data_pivot)\n",
    "grouped_data.head(15)"
   ]
  },
  {
   "cell_type": "code",
   "execution_count": 24,
   "metadata": {},
   "outputs": [
    {
     "data": {
      "text/plain": [
       "55305267.73"
      ]
     },
     "execution_count": 24,
     "metadata": {},
     "output_type": "execute_result"
    }
   ],
   "source": [
    "internet['mb_used'].sum() # трафик в Мб до перевода в Гб и округления "
   ]
  },
  {
   "cell_type": "markdown",
   "metadata": {},
   "source": [
    "Количество сделанных звонков и израсходованных минут разговора, отправленных сообщений и объем израсходованного интернет-трафика по месяцам для каждого пользователя посчитан. \n",
    "\n",
    "Теперь посчитаем помесячную выручку для каждого пользователя (вычтем бесплатный лимит из суммарного количества звонков, сообщений и интернет-трафика; остаток умножим на значение из тарифного плана; прибавим абонентскую плату, соответствующую тарифному плану). Пропущенные значения в столбцах duration, messages и mb_used заменим на нули. Присвоим каждому пользователю используемый им тариф."
   ]
  },
  {
   "cell_type": "code",
   "execution_count": 25,
   "metadata": {},
   "outputs": [],
   "source": [
    "grouped_data.loc[grouped_data['duration'].isna(), 'duration'] = 0\n",
    "grouped_data.loc[grouped_data['messages'].isna(), 'messages'] = 0\n",
    "grouped_data.loc[grouped_data['mb_used'].isna(), 'mb_used'] = 0"
   ]
  },
  {
   "cell_type": "code",
   "execution_count": 26,
   "metadata": {},
   "outputs": [],
   "source": [
    "for user in grouped_data.index:\n",
    "    grouped_data.loc[user, 'tariff'] = users.loc[user[0]-1000, 'tariff']"
   ]
  },
  {
   "cell_type": "code",
   "execution_count": 27,
   "metadata": {},
   "outputs": [
    {
     "data": {
      "text/html": [
       "<div>\n",
       "<style scoped>\n",
       "    .dataframe tbody tr th:only-of-type {\n",
       "        vertical-align: middle;\n",
       "    }\n",
       "\n",
       "    .dataframe tbody tr th {\n",
       "        vertical-align: top;\n",
       "    }\n",
       "\n",
       "    .dataframe thead th {\n",
       "        text-align: right;\n",
       "    }\n",
       "</style>\n",
       "<table border=\"1\" class=\"dataframe\">\n",
       "  <thead>\n",
       "    <tr style=\"text-align: right;\">\n",
       "      <th></th>\n",
       "      <th></th>\n",
       "      <th>duration</th>\n",
       "      <th>calls</th>\n",
       "      <th>messages</th>\n",
       "      <th>mb_used</th>\n",
       "      <th>tariff</th>\n",
       "    </tr>\n",
       "    <tr>\n",
       "      <th>user_id</th>\n",
       "      <th>month</th>\n",
       "      <th></th>\n",
       "      <th></th>\n",
       "      <th></th>\n",
       "      <th></th>\n",
       "      <th></th>\n",
       "    </tr>\n",
       "  </thead>\n",
       "  <tbody>\n",
       "    <tr>\n",
       "      <th rowspan=\"5\" valign=\"top\">1000</th>\n",
       "      <th>5</th>\n",
       "      <td>164.0</td>\n",
       "      <td>22.0</td>\n",
       "      <td>22.0</td>\n",
       "      <td>2253.49</td>\n",
       "      <td>ultra</td>\n",
       "    </tr>\n",
       "    <tr>\n",
       "      <th>6</th>\n",
       "      <td>187.0</td>\n",
       "      <td>43.0</td>\n",
       "      <td>60.0</td>\n",
       "      <td>23233.77</td>\n",
       "      <td>ultra</td>\n",
       "    </tr>\n",
       "    <tr>\n",
       "      <th>7</th>\n",
       "      <td>346.0</td>\n",
       "      <td>47.0</td>\n",
       "      <td>75.0</td>\n",
       "      <td>14003.64</td>\n",
       "      <td>ultra</td>\n",
       "    </tr>\n",
       "    <tr>\n",
       "      <th>8</th>\n",
       "      <td>418.0</td>\n",
       "      <td>52.0</td>\n",
       "      <td>81.0</td>\n",
       "      <td>14055.93</td>\n",
       "      <td>ultra</td>\n",
       "    </tr>\n",
       "    <tr>\n",
       "      <th>9</th>\n",
       "      <td>478.0</td>\n",
       "      <td>58.0</td>\n",
       "      <td>57.0</td>\n",
       "      <td>14568.91</td>\n",
       "      <td>ultra</td>\n",
       "    </tr>\n",
       "    <tr>\n",
       "      <th>...</th>\n",
       "      <th>...</th>\n",
       "      <td>...</td>\n",
       "      <td>...</td>\n",
       "      <td>...</td>\n",
       "      <td>...</td>\n",
       "      <td>...</td>\n",
       "    </tr>\n",
       "    <tr>\n",
       "      <th rowspan=\"4\" valign=\"top\">1489</th>\n",
       "      <th>9</th>\n",
       "      <td>0.0</td>\n",
       "      <td>NaN</td>\n",
       "      <td>32.0</td>\n",
       "      <td>17206.30</td>\n",
       "      <td>smart</td>\n",
       "    </tr>\n",
       "    <tr>\n",
       "      <th>10</th>\n",
       "      <td>0.0</td>\n",
       "      <td>NaN</td>\n",
       "      <td>21.0</td>\n",
       "      <td>19559.44</td>\n",
       "      <td>smart</td>\n",
       "    </tr>\n",
       "    <tr>\n",
       "      <th>11</th>\n",
       "      <td>0.0</td>\n",
       "      <td>NaN</td>\n",
       "      <td>20.0</td>\n",
       "      <td>17491.56</td>\n",
       "      <td>smart</td>\n",
       "    </tr>\n",
       "    <tr>\n",
       "      <th>12</th>\n",
       "      <td>0.0</td>\n",
       "      <td>NaN</td>\n",
       "      <td>35.0</td>\n",
       "      <td>17322.51</td>\n",
       "      <td>smart</td>\n",
       "    </tr>\n",
       "    <tr>\n",
       "      <th>1476</th>\n",
       "      <th>4</th>\n",
       "      <td>0.0</td>\n",
       "      <td>NaN</td>\n",
       "      <td>0.0</td>\n",
       "      <td>530.78</td>\n",
       "      <td>ultra</td>\n",
       "    </tr>\n",
       "  </tbody>\n",
       "</table>\n",
       "<p>3214 rows × 5 columns</p>\n",
       "</div>"
      ],
      "text/plain": [
       "               duration  calls  messages   mb_used tariff\n",
       "user_id month                                            \n",
       "1000    5         164.0   22.0      22.0   2253.49  ultra\n",
       "        6         187.0   43.0      60.0  23233.77  ultra\n",
       "        7         346.0   47.0      75.0  14003.64  ultra\n",
       "        8         418.0   52.0      81.0  14055.93  ultra\n",
       "        9         478.0   58.0      57.0  14568.91  ultra\n",
       "...                 ...    ...       ...       ...    ...\n",
       "1489    9           0.0    NaN      32.0  17206.30  smart\n",
       "        10          0.0    NaN      21.0  19559.44  smart\n",
       "        11          0.0    NaN      20.0  17491.56  smart\n",
       "        12          0.0    NaN      35.0  17322.51  smart\n",
       "1476    4           0.0    NaN       0.0    530.78  ultra\n",
       "\n",
       "[3214 rows x 5 columns]"
      ]
     },
     "execution_count": 27,
     "metadata": {},
     "output_type": "execute_result"
    }
   ],
   "source": [
    "grouped_data"
   ]
  },
  {
   "cell_type": "markdown",
   "metadata": {},
   "source": [
    "Для расчета помесячной выручки с каждого пользователя пропишем функцию:"
   ]
  },
  {
   "cell_type": "code",
   "execution_count": 28,
   "metadata": {},
   "outputs": [],
   "source": [
    "def month_revenue(row):\n",
    "    messages = row['messages']\n",
    "    mb_used = row['mb_used']\n",
    "    calls = row['calls']\n",
    "    duration = row['duration']\n",
    "    tariff = row['tariff']\n",
    "    \n",
    "    if tariff == 'smart':\n",
    "        required_duration = duration - tariffs.loc[0, 'minutes_included']\n",
    "        required_mb = mb_used - tariffs.loc[0, 'mb_per_month_included']\n",
    "        required_messages = messages - tariffs.loc[0, 'messages_included']\n",
    "        \n",
    "        if required_duration < 0: required_duration = 0\n",
    "        if required_mb < 0: required_mb = 0\n",
    "        if required_messages < 0: required_messages = 0\n",
    "        \n",
    "        return (tariffs.loc[0, 'rub_per_message'] * required_messages + \n",
    "                   (tariffs.loc[1, 'rub_per_gb'] / 1024)  * required_mb + \n",
    "                   tariffs.loc[0, 'rub_per_minute'] * required_duration + \n",
    "                   tariffs.loc[0, 'rub_monthly_fee']\n",
    "                  ) \n",
    "    else:\n",
    "        required_duration = duration - tariffs.loc[1, 'minutes_included']\n",
    "        required_mb = mb_used - tariffs.loc[1, 'mb_per_month_included']\n",
    "        required_messages = messages - tariffs.loc[1, 'messages_included']\n",
    "        \n",
    "        if required_duration < 0: required_duration = 0\n",
    "        if required_mb < 0: required_mb = 0\n",
    "        if required_messages < 0: required_messages = 0\n",
    "        \n",
    "        return (tariffs.loc[1, 'rub_per_message'] * required_messages + \n",
    "                   (tariffs.loc[1, 'rub_per_gb'] / 1024) * required_mb + \n",
    "                   tariffs.loc[1, 'rub_per_minute'] * required_duration + \n",
    "                   tariffs.loc[1, 'rub_monthly_fee']\n",
    "                  )   \n",
    "    "
   ]
  },
  {
   "cell_type": "code",
   "execution_count": 29,
   "metadata": {},
   "outputs": [
    {
     "data": {
      "text/html": [
       "<div>\n",
       "<style scoped>\n",
       "    .dataframe tbody tr th:only-of-type {\n",
       "        vertical-align: middle;\n",
       "    }\n",
       "\n",
       "    .dataframe tbody tr th {\n",
       "        vertical-align: top;\n",
       "    }\n",
       "\n",
       "    .dataframe thead th {\n",
       "        text-align: right;\n",
       "    }\n",
       "</style>\n",
       "<table border=\"1\" class=\"dataframe\">\n",
       "  <thead>\n",
       "    <tr style=\"text-align: right;\">\n",
       "      <th></th>\n",
       "      <th></th>\n",
       "      <th>duration</th>\n",
       "      <th>calls</th>\n",
       "      <th>messages</th>\n",
       "      <th>mb_used</th>\n",
       "      <th>tariff</th>\n",
       "      <th>revenue</th>\n",
       "    </tr>\n",
       "    <tr>\n",
       "      <th>user_id</th>\n",
       "      <th>month</th>\n",
       "      <th></th>\n",
       "      <th></th>\n",
       "      <th></th>\n",
       "      <th></th>\n",
       "      <th></th>\n",
       "      <th></th>\n",
       "    </tr>\n",
       "  </thead>\n",
       "  <tbody>\n",
       "    <tr>\n",
       "      <th rowspan=\"8\" valign=\"top\">1000</th>\n",
       "      <th>5</th>\n",
       "      <td>164.0</td>\n",
       "      <td>22.0</td>\n",
       "      <td>22.0</td>\n",
       "      <td>2253.49</td>\n",
       "      <td>ultra</td>\n",
       "      <td>1950.000000</td>\n",
       "    </tr>\n",
       "    <tr>\n",
       "      <th>6</th>\n",
       "      <td>187.0</td>\n",
       "      <td>43.0</td>\n",
       "      <td>60.0</td>\n",
       "      <td>23233.77</td>\n",
       "      <td>ultra</td>\n",
       "      <td>1950.000000</td>\n",
       "    </tr>\n",
       "    <tr>\n",
       "      <th>7</th>\n",
       "      <td>346.0</td>\n",
       "      <td>47.0</td>\n",
       "      <td>75.0</td>\n",
       "      <td>14003.64</td>\n",
       "      <td>ultra</td>\n",
       "      <td>1950.000000</td>\n",
       "    </tr>\n",
       "    <tr>\n",
       "      <th>8</th>\n",
       "      <td>418.0</td>\n",
       "      <td>52.0</td>\n",
       "      <td>81.0</td>\n",
       "      <td>14055.93</td>\n",
       "      <td>ultra</td>\n",
       "      <td>1950.000000</td>\n",
       "    </tr>\n",
       "    <tr>\n",
       "      <th>9</th>\n",
       "      <td>478.0</td>\n",
       "      <td>58.0</td>\n",
       "      <td>57.0</td>\n",
       "      <td>14568.91</td>\n",
       "      <td>ultra</td>\n",
       "      <td>1950.000000</td>\n",
       "    </tr>\n",
       "    <tr>\n",
       "      <th>10</th>\n",
       "      <td>363.0</td>\n",
       "      <td>57.0</td>\n",
       "      <td>73.0</td>\n",
       "      <td>14702.49</td>\n",
       "      <td>ultra</td>\n",
       "      <td>1950.000000</td>\n",
       "    </tr>\n",
       "    <tr>\n",
       "      <th>11</th>\n",
       "      <td>344.0</td>\n",
       "      <td>43.0</td>\n",
       "      <td>58.0</td>\n",
       "      <td>14756.47</td>\n",
       "      <td>ultra</td>\n",
       "      <td>1950.000000</td>\n",
       "    </tr>\n",
       "    <tr>\n",
       "      <th>12</th>\n",
       "      <td>341.0</td>\n",
       "      <td>46.0</td>\n",
       "      <td>70.0</td>\n",
       "      <td>9817.61</td>\n",
       "      <td>ultra</td>\n",
       "      <td>1950.000000</td>\n",
       "    </tr>\n",
       "    <tr>\n",
       "      <th rowspan=\"2\" valign=\"top\">1001</th>\n",
       "      <th>11</th>\n",
       "      <td>444.0</td>\n",
       "      <td>59.0</td>\n",
       "      <td>0.0</td>\n",
       "      <td>18429.34</td>\n",
       "      <td>smart</td>\n",
       "      <td>999.610352</td>\n",
       "    </tr>\n",
       "    <tr>\n",
       "      <th>12</th>\n",
       "      <td>430.0</td>\n",
       "      <td>63.0</td>\n",
       "      <td>0.0</td>\n",
       "      <td>14036.66</td>\n",
       "      <td>smart</td>\n",
       "      <td>550.000000</td>\n",
       "    </tr>\n",
       "    <tr>\n",
       "      <th rowspan=\"5\" valign=\"top\">1002</th>\n",
       "      <th>6</th>\n",
       "      <td>118.0</td>\n",
       "      <td>15.0</td>\n",
       "      <td>4.0</td>\n",
       "      <td>10856.82</td>\n",
       "      <td>smart</td>\n",
       "      <td>550.000000</td>\n",
       "    </tr>\n",
       "    <tr>\n",
       "      <th>7</th>\n",
       "      <td>219.0</td>\n",
       "      <td>26.0</td>\n",
       "      <td>11.0</td>\n",
       "      <td>17580.10</td>\n",
       "      <td>smart</td>\n",
       "      <td>875.209961</td>\n",
       "    </tr>\n",
       "    <tr>\n",
       "      <th>8</th>\n",
       "      <td>294.0</td>\n",
       "      <td>42.0</td>\n",
       "      <td>13.0</td>\n",
       "      <td>20319.26</td>\n",
       "      <td>smart</td>\n",
       "      <td>1276.454102</td>\n",
       "    </tr>\n",
       "    <tr>\n",
       "      <th>9</th>\n",
       "      <td>217.0</td>\n",
       "      <td>36.0</td>\n",
       "      <td>4.0</td>\n",
       "      <td>16691.08</td>\n",
       "      <td>smart</td>\n",
       "      <td>744.982422</td>\n",
       "    </tr>\n",
       "    <tr>\n",
       "      <th>10</th>\n",
       "      <td>221.0</td>\n",
       "      <td>33.0</td>\n",
       "      <td>10.0</td>\n",
       "      <td>13888.25</td>\n",
       "      <td>smart</td>\n",
       "      <td>550.000000</td>\n",
       "    </tr>\n",
       "  </tbody>\n",
       "</table>\n",
       "</div>"
      ],
      "text/plain": [
       "               duration  calls  messages   mb_used tariff      revenue\n",
       "user_id month                                                         \n",
       "1000    5         164.0   22.0      22.0   2253.49  ultra  1950.000000\n",
       "        6         187.0   43.0      60.0  23233.77  ultra  1950.000000\n",
       "        7         346.0   47.0      75.0  14003.64  ultra  1950.000000\n",
       "        8         418.0   52.0      81.0  14055.93  ultra  1950.000000\n",
       "        9         478.0   58.0      57.0  14568.91  ultra  1950.000000\n",
       "        10        363.0   57.0      73.0  14702.49  ultra  1950.000000\n",
       "        11        344.0   43.0      58.0  14756.47  ultra  1950.000000\n",
       "        12        341.0   46.0      70.0   9817.61  ultra  1950.000000\n",
       "1001    11        444.0   59.0       0.0  18429.34  smart   999.610352\n",
       "        12        430.0   63.0       0.0  14036.66  smart   550.000000\n",
       "1002    6         118.0   15.0       4.0  10856.82  smart   550.000000\n",
       "        7         219.0   26.0      11.0  17580.10  smart   875.209961\n",
       "        8         294.0   42.0      13.0  20319.26  smart  1276.454102\n",
       "        9         217.0   36.0       4.0  16691.08  smart   744.982422\n",
       "        10        221.0   33.0      10.0  13888.25  smart   550.000000"
      ]
     },
     "execution_count": 29,
     "metadata": {},
     "output_type": "execute_result"
    }
   ],
   "source": [
    "grouped_data['revenue'] = grouped_data.apply(month_revenue, axis=1)\n",
    "grouped_data.head(15)"
   ]
  },
  {
   "cell_type": "code",
   "execution_count": 30,
   "metadata": {},
   "outputs": [
    {
     "data": {
      "text/plain": [
       "55599"
      ]
     },
     "execution_count": 30,
     "metadata": {},
     "output_type": "execute_result"
    }
   ],
   "source": [
    "grouped_data['gb_used'] = grouped_data['mb_used']/1024 \n",
    "grouped_data['gb_used'] = np.ceil(grouped_data['gb_used']).astype('int')\n",
    "grouped_data['gb_used'].sum()"
   ]
  },
  {
   "cell_type": "markdown",
   "metadata": {},
   "source": [
    "Помесячную выручку с каждого пользователя рассчитали"
   ]
  },
  {
   "cell_type": "markdown",
   "metadata": {},
   "source": [
    "## Анализ данных"
   ]
  },
  {
   "cell_type": "markdown",
   "metadata": {},
   "source": [
    "Определим, сколько минут разговора, сколько сообщений и какой объём интернет-трафика требуется пользователям каждого тарифа в месяц"
   ]
  },
  {
   "cell_type": "code",
   "execution_count": 31,
   "metadata": {},
   "outputs": [
    {
     "data": {
      "text/html": [
       "<div>\n",
       "<style scoped>\n",
       "    .dataframe tbody tr th:only-of-type {\n",
       "        vertical-align: middle;\n",
       "    }\n",
       "\n",
       "    .dataframe tbody tr th {\n",
       "        vertical-align: top;\n",
       "    }\n",
       "\n",
       "    .dataframe thead th {\n",
       "        text-align: right;\n",
       "    }\n",
       "</style>\n",
       "<table border=\"1\" class=\"dataframe\">\n",
       "  <thead>\n",
       "    <tr style=\"text-align: right;\">\n",
       "      <th></th>\n",
       "      <th></th>\n",
       "      <th>duration</th>\n",
       "      <th>calls</th>\n",
       "      <th>messages</th>\n",
       "      <th>mb_used</th>\n",
       "      <th>tariff</th>\n",
       "      <th>revenue</th>\n",
       "      <th>gb_used</th>\n",
       "    </tr>\n",
       "    <tr>\n",
       "      <th>user_id</th>\n",
       "      <th>month</th>\n",
       "      <th></th>\n",
       "      <th></th>\n",
       "      <th></th>\n",
       "      <th></th>\n",
       "      <th></th>\n",
       "      <th></th>\n",
       "      <th></th>\n",
       "    </tr>\n",
       "  </thead>\n",
       "  <tbody>\n",
       "    <tr>\n",
       "      <th rowspan=\"5\" valign=\"top\">1000</th>\n",
       "      <th>5</th>\n",
       "      <td>164.0</td>\n",
       "      <td>22.0</td>\n",
       "      <td>22.0</td>\n",
       "      <td>2253.49</td>\n",
       "      <td>ultra</td>\n",
       "      <td>1950.000000</td>\n",
       "      <td>3</td>\n",
       "    </tr>\n",
       "    <tr>\n",
       "      <th>6</th>\n",
       "      <td>187.0</td>\n",
       "      <td>43.0</td>\n",
       "      <td>60.0</td>\n",
       "      <td>23233.77</td>\n",
       "      <td>ultra</td>\n",
       "      <td>1950.000000</td>\n",
       "      <td>23</td>\n",
       "    </tr>\n",
       "    <tr>\n",
       "      <th>7</th>\n",
       "      <td>346.0</td>\n",
       "      <td>47.0</td>\n",
       "      <td>75.0</td>\n",
       "      <td>14003.64</td>\n",
       "      <td>ultra</td>\n",
       "      <td>1950.000000</td>\n",
       "      <td>14</td>\n",
       "    </tr>\n",
       "    <tr>\n",
       "      <th>8</th>\n",
       "      <td>418.0</td>\n",
       "      <td>52.0</td>\n",
       "      <td>81.0</td>\n",
       "      <td>14055.93</td>\n",
       "      <td>ultra</td>\n",
       "      <td>1950.000000</td>\n",
       "      <td>14</td>\n",
       "    </tr>\n",
       "    <tr>\n",
       "      <th>9</th>\n",
       "      <td>478.0</td>\n",
       "      <td>58.0</td>\n",
       "      <td>57.0</td>\n",
       "      <td>14568.91</td>\n",
       "      <td>ultra</td>\n",
       "      <td>1950.000000</td>\n",
       "      <td>15</td>\n",
       "    </tr>\n",
       "    <tr>\n",
       "      <th>...</th>\n",
       "      <th>...</th>\n",
       "      <td>...</td>\n",
       "      <td>...</td>\n",
       "      <td>...</td>\n",
       "      <td>...</td>\n",
       "      <td>...</td>\n",
       "      <td>...</td>\n",
       "      <td>...</td>\n",
       "    </tr>\n",
       "    <tr>\n",
       "      <th rowspan=\"4\" valign=\"top\">1489</th>\n",
       "      <th>9</th>\n",
       "      <td>0.0</td>\n",
       "      <td>NaN</td>\n",
       "      <td>32.0</td>\n",
       "      <td>17206.30</td>\n",
       "      <td>smart</td>\n",
       "      <td>820.454102</td>\n",
       "      <td>17</td>\n",
       "    </tr>\n",
       "    <tr>\n",
       "      <th>10</th>\n",
       "      <td>0.0</td>\n",
       "      <td>NaN</td>\n",
       "      <td>21.0</td>\n",
       "      <td>19559.44</td>\n",
       "      <td>smart</td>\n",
       "      <td>1165.152344</td>\n",
       "      <td>20</td>\n",
       "    </tr>\n",
       "    <tr>\n",
       "      <th>11</th>\n",
       "      <td>0.0</td>\n",
       "      <td>NaN</td>\n",
       "      <td>20.0</td>\n",
       "      <td>17491.56</td>\n",
       "      <td>smart</td>\n",
       "      <td>862.240234</td>\n",
       "      <td>18</td>\n",
       "    </tr>\n",
       "    <tr>\n",
       "      <th>12</th>\n",
       "      <td>0.0</td>\n",
       "      <td>NaN</td>\n",
       "      <td>35.0</td>\n",
       "      <td>17322.51</td>\n",
       "      <td>smart</td>\n",
       "      <td>837.477051</td>\n",
       "      <td>17</td>\n",
       "    </tr>\n",
       "    <tr>\n",
       "      <th>1476</th>\n",
       "      <th>4</th>\n",
       "      <td>0.0</td>\n",
       "      <td>NaN</td>\n",
       "      <td>0.0</td>\n",
       "      <td>530.78</td>\n",
       "      <td>ultra</td>\n",
       "      <td>1950.000000</td>\n",
       "      <td>1</td>\n",
       "    </tr>\n",
       "  </tbody>\n",
       "</table>\n",
       "<p>3214 rows × 7 columns</p>\n",
       "</div>"
      ],
      "text/plain": [
       "               duration  calls  messages   mb_used tariff      revenue  \\\n",
       "user_id month                                                            \n",
       "1000    5         164.0   22.0      22.0   2253.49  ultra  1950.000000   \n",
       "        6         187.0   43.0      60.0  23233.77  ultra  1950.000000   \n",
       "        7         346.0   47.0      75.0  14003.64  ultra  1950.000000   \n",
       "        8         418.0   52.0      81.0  14055.93  ultra  1950.000000   \n",
       "        9         478.0   58.0      57.0  14568.91  ultra  1950.000000   \n",
       "...                 ...    ...       ...       ...    ...          ...   \n",
       "1489    9           0.0    NaN      32.0  17206.30  smart   820.454102   \n",
       "        10          0.0    NaN      21.0  19559.44  smart  1165.152344   \n",
       "        11          0.0    NaN      20.0  17491.56  smart   862.240234   \n",
       "        12          0.0    NaN      35.0  17322.51  smart   837.477051   \n",
       "1476    4           0.0    NaN       0.0    530.78  ultra  1950.000000   \n",
       "\n",
       "               gb_used  \n",
       "user_id month           \n",
       "1000    5            3  \n",
       "        6           23  \n",
       "        7           14  \n",
       "        8           14  \n",
       "        9           15  \n",
       "...                ...  \n",
       "1489    9           17  \n",
       "        10          20  \n",
       "        11          18  \n",
       "        12          17  \n",
       "1476    4            1  \n",
       "\n",
       "[3214 rows x 7 columns]"
      ]
     },
     "execution_count": 31,
     "metadata": {},
     "output_type": "execute_result"
    }
   ],
   "source": [
    "grouped_data"
   ]
  },
  {
   "cell_type": "markdown",
   "metadata": {},
   "source": [
    "Расчитаем общие показатели всех клиентов по месяцам по обоим тарифам"
   ]
  },
  {
   "cell_type": "code",
   "execution_count": 32,
   "metadata": {},
   "outputs": [
    {
     "name": "stderr",
     "output_type": "stream",
     "text": [
      "/tmp/ipykernel_37/599676727.py:1: FutureWarning: Indexing with multiple keys (implicitly converted to a tuple of keys) will be deprecated, use a list instead.\n",
      "  all_clients_month = grouped_data.groupby(['tariff', 'month'])['duration', 'calls', 'messages', 'gb_used', 'revenue'].sum().reset_index()\n"
     ]
    },
    {
     "data": {
      "text/html": [
       "<div>\n",
       "<style scoped>\n",
       "    .dataframe tbody tr th:only-of-type {\n",
       "        vertical-align: middle;\n",
       "    }\n",
       "\n",
       "    .dataframe tbody tr th {\n",
       "        vertical-align: top;\n",
       "    }\n",
       "\n",
       "    .dataframe thead th {\n",
       "        text-align: right;\n",
       "    }\n",
       "</style>\n",
       "<table border=\"1\" class=\"dataframe\">\n",
       "  <thead>\n",
       "    <tr style=\"text-align: right;\">\n",
       "      <th></th>\n",
       "      <th>tariff</th>\n",
       "      <th>month</th>\n",
       "      <th>duration</th>\n",
       "      <th>calls</th>\n",
       "      <th>messages</th>\n",
       "      <th>gb_used</th>\n",
       "      <th>revenue</th>\n",
       "    </tr>\n",
       "  </thead>\n",
       "  <tbody>\n",
       "    <tr>\n",
       "      <th>0</th>\n",
       "      <td>smart</td>\n",
       "      <td>1</td>\n",
       "      <td>7128.0</td>\n",
       "      <td>941.0</td>\n",
       "      <td>620.0</td>\n",
       "      <td>297</td>\n",
       "      <td>22692.986816</td>\n",
       "    </tr>\n",
       "    <tr>\n",
       "      <th>1</th>\n",
       "      <td>smart</td>\n",
       "      <td>2</td>\n",
       "      <td>17766.0</td>\n",
       "      <td>2331.0</td>\n",
       "      <td>1397.0</td>\n",
       "      <td>687</td>\n",
       "      <td>44074.780762</td>\n",
       "    </tr>\n",
       "    <tr>\n",
       "      <th>2</th>\n",
       "      <td>smart</td>\n",
       "      <td>3</td>\n",
       "      <td>30841.0</td>\n",
       "      <td>4183.0</td>\n",
       "      <td>2453.0</td>\n",
       "      <td>1173</td>\n",
       "      <td>78380.606445</td>\n",
       "    </tr>\n",
       "    <tr>\n",
       "      <th>3</th>\n",
       "      <td>smart</td>\n",
       "      <td>4</td>\n",
       "      <td>42224.0</td>\n",
       "      <td>5747.0</td>\n",
       "      <td>3443.0</td>\n",
       "      <td>1526</td>\n",
       "      <td>96606.490234</td>\n",
       "    </tr>\n",
       "    <tr>\n",
       "      <th>4</th>\n",
       "      <td>smart</td>\n",
       "      <td>5</td>\n",
       "      <td>56175.0</td>\n",
       "      <td>7789.0</td>\n",
       "      <td>4762.0</td>\n",
       "      <td>2243</td>\n",
       "      <td>145714.905762</td>\n",
       "    </tr>\n",
       "    <tr>\n",
       "      <th>5</th>\n",
       "      <td>smart</td>\n",
       "      <td>6</td>\n",
       "      <td>66699.0</td>\n",
       "      <td>9110.0</td>\n",
       "      <td>5478.0</td>\n",
       "      <td>2616</td>\n",
       "      <td>170232.199707</td>\n",
       "    </tr>\n",
       "    <tr>\n",
       "      <th>6</th>\n",
       "      <td>smart</td>\n",
       "      <td>7</td>\n",
       "      <td>84277.0</td>\n",
       "      <td>11402.0</td>\n",
       "      <td>6784.0</td>\n",
       "      <td>3191</td>\n",
       "      <td>212699.188477</td>\n",
       "    </tr>\n",
       "    <tr>\n",
       "      <th>7</th>\n",
       "      <td>smart</td>\n",
       "      <td>8</td>\n",
       "      <td>101800.0</td>\n",
       "      <td>13860.0</td>\n",
       "      <td>7905.0</td>\n",
       "      <td>3933</td>\n",
       "      <td>265843.228516</td>\n",
       "    </tr>\n",
       "    <tr>\n",
       "      <th>8</th>\n",
       "      <td>smart</td>\n",
       "      <td>9</td>\n",
       "      <td>114421.0</td>\n",
       "      <td>15482.0</td>\n",
       "      <td>8746.0</td>\n",
       "      <td>4262</td>\n",
       "      <td>283103.771973</td>\n",
       "    </tr>\n",
       "    <tr>\n",
       "      <th>9</th>\n",
       "      <td>smart</td>\n",
       "      <td>10</td>\n",
       "      <td>128859.0</td>\n",
       "      <td>17629.0</td>\n",
       "      <td>9927.0</td>\n",
       "      <td>4963</td>\n",
       "      <td>343803.604980</td>\n",
       "    </tr>\n",
       "    <tr>\n",
       "      <th>10</th>\n",
       "      <td>smart</td>\n",
       "      <td>11</td>\n",
       "      <td>141448.0</td>\n",
       "      <td>19435.0</td>\n",
       "      <td>10768.0</td>\n",
       "      <td>5372</td>\n",
       "      <td>364864.430664</td>\n",
       "    </tr>\n",
       "    <tr>\n",
       "      <th>11</th>\n",
       "      <td>smart</td>\n",
       "      <td>12</td>\n",
       "      <td>165608.0</td>\n",
       "      <td>22406.0</td>\n",
       "      <td>12130.0</td>\n",
       "      <td>6134</td>\n",
       "      <td>452552.546875</td>\n",
       "    </tr>\n",
       "  </tbody>\n",
       "</table>\n",
       "</div>"
      ],
      "text/plain": [
       "   tariff  month  duration    calls  messages  gb_used        revenue\n",
       "0   smart      1    7128.0    941.0     620.0      297   22692.986816\n",
       "1   smart      2   17766.0   2331.0    1397.0      687   44074.780762\n",
       "2   smart      3   30841.0   4183.0    2453.0     1173   78380.606445\n",
       "3   smart      4   42224.0   5747.0    3443.0     1526   96606.490234\n",
       "4   smart      5   56175.0   7789.0    4762.0     2243  145714.905762\n",
       "5   smart      6   66699.0   9110.0    5478.0     2616  170232.199707\n",
       "6   smart      7   84277.0  11402.0    6784.0     3191  212699.188477\n",
       "7   smart      8  101800.0  13860.0    7905.0     3933  265843.228516\n",
       "8   smart      9  114421.0  15482.0    8746.0     4262  283103.771973\n",
       "9   smart     10  128859.0  17629.0    9927.0     4963  343803.604980\n",
       "10  smart     11  141448.0  19435.0   10768.0     5372  364864.430664\n",
       "11  smart     12  165608.0  22406.0   12130.0     6134  452552.546875"
      ]
     },
     "execution_count": 32,
     "metadata": {},
     "output_type": "execute_result"
    }
   ],
   "source": [
    "all_clients_month = grouped_data.groupby(['tariff', 'month'])['duration', 'calls', 'messages', 'gb_used', 'revenue'].sum().reset_index()\n",
    "all_clients_month.head(12)"
   ]
  },
  {
   "cell_type": "markdown",
   "metadata": {},
   "source": [
    "Изучим поподробнее каждый тариф, разобьем данные по каждому тарифу"
   ]
  },
  {
   "cell_type": "code",
   "execution_count": 33,
   "metadata": {},
   "outputs": [
    {
     "data": {
      "text/html": [
       "<div>\n",
       "<style scoped>\n",
       "    .dataframe tbody tr th:only-of-type {\n",
       "        vertical-align: middle;\n",
       "    }\n",
       "\n",
       "    .dataframe tbody tr th {\n",
       "        vertical-align: top;\n",
       "    }\n",
       "\n",
       "    .dataframe thead th {\n",
       "        text-align: right;\n",
       "    }\n",
       "</style>\n",
       "<table border=\"1\" class=\"dataframe\">\n",
       "  <thead>\n",
       "    <tr style=\"text-align: right;\">\n",
       "      <th></th>\n",
       "      <th>tariff</th>\n",
       "      <th>month</th>\n",
       "      <th>duration</th>\n",
       "      <th>calls</th>\n",
       "      <th>messages</th>\n",
       "      <th>gb_used</th>\n",
       "      <th>revenue</th>\n",
       "    </tr>\n",
       "  </thead>\n",
       "  <tbody>\n",
       "    <tr>\n",
       "      <th>0</th>\n",
       "      <td>smart</td>\n",
       "      <td>1</td>\n",
       "      <td>7128.0</td>\n",
       "      <td>941.0</td>\n",
       "      <td>620.0</td>\n",
       "      <td>297</td>\n",
       "      <td>22692.986816</td>\n",
       "    </tr>\n",
       "    <tr>\n",
       "      <th>1</th>\n",
       "      <td>smart</td>\n",
       "      <td>2</td>\n",
       "      <td>17766.0</td>\n",
       "      <td>2331.0</td>\n",
       "      <td>1397.0</td>\n",
       "      <td>687</td>\n",
       "      <td>44074.780762</td>\n",
       "    </tr>\n",
       "    <tr>\n",
       "      <th>2</th>\n",
       "      <td>smart</td>\n",
       "      <td>3</td>\n",
       "      <td>30841.0</td>\n",
       "      <td>4183.0</td>\n",
       "      <td>2453.0</td>\n",
       "      <td>1173</td>\n",
       "      <td>78380.606445</td>\n",
       "    </tr>\n",
       "    <tr>\n",
       "      <th>3</th>\n",
       "      <td>smart</td>\n",
       "      <td>4</td>\n",
       "      <td>42224.0</td>\n",
       "      <td>5747.0</td>\n",
       "      <td>3443.0</td>\n",
       "      <td>1526</td>\n",
       "      <td>96606.490234</td>\n",
       "    </tr>\n",
       "    <tr>\n",
       "      <th>4</th>\n",
       "      <td>smart</td>\n",
       "      <td>5</td>\n",
       "      <td>56175.0</td>\n",
       "      <td>7789.0</td>\n",
       "      <td>4762.0</td>\n",
       "      <td>2243</td>\n",
       "      <td>145714.905762</td>\n",
       "    </tr>\n",
       "    <tr>\n",
       "      <th>5</th>\n",
       "      <td>smart</td>\n",
       "      <td>6</td>\n",
       "      <td>66699.0</td>\n",
       "      <td>9110.0</td>\n",
       "      <td>5478.0</td>\n",
       "      <td>2616</td>\n",
       "      <td>170232.199707</td>\n",
       "    </tr>\n",
       "    <tr>\n",
       "      <th>6</th>\n",
       "      <td>smart</td>\n",
       "      <td>7</td>\n",
       "      <td>84277.0</td>\n",
       "      <td>11402.0</td>\n",
       "      <td>6784.0</td>\n",
       "      <td>3191</td>\n",
       "      <td>212699.188477</td>\n",
       "    </tr>\n",
       "    <tr>\n",
       "      <th>7</th>\n",
       "      <td>smart</td>\n",
       "      <td>8</td>\n",
       "      <td>101800.0</td>\n",
       "      <td>13860.0</td>\n",
       "      <td>7905.0</td>\n",
       "      <td>3933</td>\n",
       "      <td>265843.228516</td>\n",
       "    </tr>\n",
       "    <tr>\n",
       "      <th>8</th>\n",
       "      <td>smart</td>\n",
       "      <td>9</td>\n",
       "      <td>114421.0</td>\n",
       "      <td>15482.0</td>\n",
       "      <td>8746.0</td>\n",
       "      <td>4262</td>\n",
       "      <td>283103.771973</td>\n",
       "    </tr>\n",
       "    <tr>\n",
       "      <th>9</th>\n",
       "      <td>smart</td>\n",
       "      <td>10</td>\n",
       "      <td>128859.0</td>\n",
       "      <td>17629.0</td>\n",
       "      <td>9927.0</td>\n",
       "      <td>4963</td>\n",
       "      <td>343803.604980</td>\n",
       "    </tr>\n",
       "    <tr>\n",
       "      <th>10</th>\n",
       "      <td>smart</td>\n",
       "      <td>11</td>\n",
       "      <td>141448.0</td>\n",
       "      <td>19435.0</td>\n",
       "      <td>10768.0</td>\n",
       "      <td>5372</td>\n",
       "      <td>364864.430664</td>\n",
       "    </tr>\n",
       "    <tr>\n",
       "      <th>11</th>\n",
       "      <td>smart</td>\n",
       "      <td>12</td>\n",
       "      <td>165608.0</td>\n",
       "      <td>22406.0</td>\n",
       "      <td>12130.0</td>\n",
       "      <td>6134</td>\n",
       "      <td>452552.546875</td>\n",
       "    </tr>\n",
       "  </tbody>\n",
       "</table>\n",
       "</div>"
      ],
      "text/plain": [
       "   tariff  month  duration    calls  messages  gb_used        revenue\n",
       "0   smart      1    7128.0    941.0     620.0      297   22692.986816\n",
       "1   smart      2   17766.0   2331.0    1397.0      687   44074.780762\n",
       "2   smart      3   30841.0   4183.0    2453.0     1173   78380.606445\n",
       "3   smart      4   42224.0   5747.0    3443.0     1526   96606.490234\n",
       "4   smart      5   56175.0   7789.0    4762.0     2243  145714.905762\n",
       "5   smart      6   66699.0   9110.0    5478.0     2616  170232.199707\n",
       "6   smart      7   84277.0  11402.0    6784.0     3191  212699.188477\n",
       "7   smart      8  101800.0  13860.0    7905.0     3933  265843.228516\n",
       "8   smart      9  114421.0  15482.0    8746.0     4262  283103.771973\n",
       "9   smart     10  128859.0  17629.0    9927.0     4963  343803.604980\n",
       "10  smart     11  141448.0  19435.0   10768.0     5372  364864.430664\n",
       "11  smart     12  165608.0  22406.0   12130.0     6134  452552.546875"
      ]
     },
     "execution_count": 33,
     "metadata": {},
     "output_type": "execute_result"
    }
   ],
   "source": [
    "all_clients_month_smart = all_clients_month.query('tariff==\"smart\"').reset_index(drop=True)\n",
    "all_clients_month_smart"
   ]
  },
  {
   "cell_type": "code",
   "execution_count": 34,
   "metadata": {},
   "outputs": [
    {
     "data": {
      "text/html": [
       "<div>\n",
       "<style scoped>\n",
       "    .dataframe tbody tr th:only-of-type {\n",
       "        vertical-align: middle;\n",
       "    }\n",
       "\n",
       "    .dataframe tbody tr th {\n",
       "        vertical-align: top;\n",
       "    }\n",
       "\n",
       "    .dataframe thead th {\n",
       "        text-align: right;\n",
       "    }\n",
       "</style>\n",
       "<table border=\"1\" class=\"dataframe\">\n",
       "  <thead>\n",
       "    <tr style=\"text-align: right;\">\n",
       "      <th></th>\n",
       "      <th>tariff</th>\n",
       "      <th>month</th>\n",
       "      <th>duration</th>\n",
       "      <th>calls</th>\n",
       "      <th>messages</th>\n",
       "      <th>gb_used</th>\n",
       "      <th>revenue</th>\n",
       "    </tr>\n",
       "  </thead>\n",
       "  <tbody>\n",
       "    <tr>\n",
       "      <th>0</th>\n",
       "      <td>ultra</td>\n",
       "      <td>1</td>\n",
       "      <td>3968.0</td>\n",
       "      <td>535.0</td>\n",
       "      <td>304.0</td>\n",
       "      <td>119</td>\n",
       "      <td>17550.000000</td>\n",
       "    </tr>\n",
       "    <tr>\n",
       "      <th>1</th>\n",
       "      <td>ultra</td>\n",
       "      <td>2</td>\n",
       "      <td>7312.0</td>\n",
       "      <td>997.0</td>\n",
       "      <td>527.0</td>\n",
       "      <td>288</td>\n",
       "      <td>47343.958008</td>\n",
       "    </tr>\n",
       "    <tr>\n",
       "      <th>2</th>\n",
       "      <td>ultra</td>\n",
       "      <td>3</td>\n",
       "      <td>18614.0</td>\n",
       "      <td>2504.0</td>\n",
       "      <td>1195.0</td>\n",
       "      <td>653</td>\n",
       "      <td>74130.880371</td>\n",
       "    </tr>\n",
       "    <tr>\n",
       "      <th>3</th>\n",
       "      <td>ultra</td>\n",
       "      <td>4</td>\n",
       "      <td>25854.0</td>\n",
       "      <td>3525.0</td>\n",
       "      <td>1736.0</td>\n",
       "      <td>933</td>\n",
       "      <td>109725.912598</td>\n",
       "    </tr>\n",
       "    <tr>\n",
       "      <th>4</th>\n",
       "      <td>ultra</td>\n",
       "      <td>5</td>\n",
       "      <td>35166.0</td>\n",
       "      <td>4858.0</td>\n",
       "      <td>2536.0</td>\n",
       "      <td>1298</td>\n",
       "      <td>137649.963867</td>\n",
       "    </tr>\n",
       "    <tr>\n",
       "      <th>5</th>\n",
       "      <td>ultra</td>\n",
       "      <td>6</td>\n",
       "      <td>41364.0</td>\n",
       "      <td>5606.0</td>\n",
       "      <td>3505.0</td>\n",
       "      <td>1591</td>\n",
       "      <td>170649.014648</td>\n",
       "    </tr>\n",
       "    <tr>\n",
       "      <th>6</th>\n",
       "      <td>ultra</td>\n",
       "      <td>7</td>\n",
       "      <td>50987.0</td>\n",
       "      <td>6896.0</td>\n",
       "      <td>4536.0</td>\n",
       "      <td>1866</td>\n",
       "      <td>191806.013672</td>\n",
       "    </tr>\n",
       "    <tr>\n",
       "      <th>7</th>\n",
       "      <td>ultra</td>\n",
       "      <td>8</td>\n",
       "      <td>56129.0</td>\n",
       "      <td>7628.0</td>\n",
       "      <td>5183.0</td>\n",
       "      <td>2097</td>\n",
       "      <td>221531.037598</td>\n",
       "    </tr>\n",
       "    <tr>\n",
       "      <th>8</th>\n",
       "      <td>ultra</td>\n",
       "      <td>9</td>\n",
       "      <td>63669.0</td>\n",
       "      <td>8579.0</td>\n",
       "      <td>6013.0</td>\n",
       "      <td>2213</td>\n",
       "      <td>231514.627441</td>\n",
       "    </tr>\n",
       "    <tr>\n",
       "      <th>9</th>\n",
       "      <td>ultra</td>\n",
       "      <td>10</td>\n",
       "      <td>70458.0</td>\n",
       "      <td>9517.0</td>\n",
       "      <td>7187.0</td>\n",
       "      <td>2468</td>\n",
       "      <td>252922.224609</td>\n",
       "    </tr>\n",
       "    <tr>\n",
       "      <th>10</th>\n",
       "      <td>ultra</td>\n",
       "      <td>11</td>\n",
       "      <td>74478.0</td>\n",
       "      <td>10066.0</td>\n",
       "      <td>7476.0</td>\n",
       "      <td>2654</td>\n",
       "      <td>278721.755859</td>\n",
       "    </tr>\n",
       "    <tr>\n",
       "      <th>11</th>\n",
       "      <td>ultra</td>\n",
       "      <td>12</td>\n",
       "      <td>84669.0</td>\n",
       "      <td>11581.0</td>\n",
       "      <td>8425.0</td>\n",
       "      <td>3022</td>\n",
       "      <td>295425.495117</td>\n",
       "    </tr>\n",
       "  </tbody>\n",
       "</table>\n",
       "</div>"
      ],
      "text/plain": [
       "   tariff  month  duration    calls  messages  gb_used        revenue\n",
       "0   ultra      1    3968.0    535.0     304.0      119   17550.000000\n",
       "1   ultra      2    7312.0    997.0     527.0      288   47343.958008\n",
       "2   ultra      3   18614.0   2504.0    1195.0      653   74130.880371\n",
       "3   ultra      4   25854.0   3525.0    1736.0      933  109725.912598\n",
       "4   ultra      5   35166.0   4858.0    2536.0     1298  137649.963867\n",
       "5   ultra      6   41364.0   5606.0    3505.0     1591  170649.014648\n",
       "6   ultra      7   50987.0   6896.0    4536.0     1866  191806.013672\n",
       "7   ultra      8   56129.0   7628.0    5183.0     2097  221531.037598\n",
       "8   ultra      9   63669.0   8579.0    6013.0     2213  231514.627441\n",
       "9   ultra     10   70458.0   9517.0    7187.0     2468  252922.224609\n",
       "10  ultra     11   74478.0  10066.0    7476.0     2654  278721.755859\n",
       "11  ultra     12   84669.0  11581.0    8425.0     3022  295425.495117"
      ]
     },
     "execution_count": 34,
     "metadata": {},
     "output_type": "execute_result"
    }
   ],
   "source": [
    "all_clients_month_ultra = all_clients_month.query('tariff==\"ultra\"').reset_index(drop=True)\n",
    "all_clients_month_ultra"
   ]
  },
  {
   "cell_type": "markdown",
   "metadata": {},
   "source": [
    "Попробуем визуализировать на одном графике по каждому параметру"
   ]
  },
  {
   "cell_type": "code",
   "execution_count": 35,
   "metadata": {},
   "outputs": [
    {
     "data": {
      "image/png": "[encoded data removed]",
      "text/plain": [
       "<Figure size 720x288 with 1 Axes>"
      ]
     },
     "metadata": {
      "needs_background": "light"
     },
     "output_type": "display_data"
    },
    {
     "data": {
      "image/png": "[encoded data removed]",
      "text/plain": [
       "<Figure size 720x288 with 1 Axes>"
      ]
     },
     "metadata": {
      "needs_background": "light"
     },
     "output_type": "display_data"
    },
    {
     "data": {
      "image/png": "[encoded data removed]",
      "text/plain": [
       "<Figure size 720x288 with 1 Axes>"
      ]
     },
     "metadata": {
      "needs_background": "light"
     },
     "output_type": "display_data"
    },
    {
     "data": {
      "image/png": "[encoded data removed]",
      "text/plain": [
       "<Figure size 720x288 with 1 Axes>"
      ]
     },
     "metadata": {
      "needs_background": "light"
     },
     "output_type": "display_data"
    }
   ],
   "source": [
    "for i in ['calls', 'messages', 'gb_used','revenue']:\n",
    "    plt.figure(figsize=(10, 4))\n",
    "    plt.bar(all_clients_month_smart['month'], all_clients_month_smart[i], label='smart', color='r', alpha=0.5, width=0.5)\n",
    "    plt.bar(all_clients_month_ultra['month'], all_clients_month_ultra[i], label='ultra', color='b', alpha=0.5)\n",
    "    plt.xlabel('month')\n",
    "    plt.ylabel(i)\n",
    "    plt.title(f'Кол-во {i} по месяцам всех клиентов для каждого из тарифов')\n",
    "    plt.legend()\n",
    "    plt.grid()\n",
    "    plt.show()\n",
    "    "
   ]
  },
  {
   "cell_type": "markdown",
   "metadata": {},
   "source": [
    "Для конкретных выводов определимся с количеством пользователей каждого из тарифов"
   ]
  },
  {
   "cell_type": "code",
   "execution_count": 36,
   "metadata": {},
   "outputs": [
    {
     "data": {
      "text/plain": [
       "smart    351\n",
       "ultra    149\n",
       "Name: tariff, dtype: int64"
      ]
     },
     "execution_count": 36,
     "metadata": {},
     "output_type": "execute_result"
    }
   ],
   "source": [
    "users.tariff.value_counts()"
   ]
  },
  {
   "cell_type": "markdown",
   "metadata": {},
   "source": [
    "\n",
    "    \n",
    "- Из графиков видно, что общий расход минут,сообщений и трафика всех абонентов тарифа Смарт стабильно выше, чем Ультра, но и количество абонентов у более дешевого тарифа в 2,4 раза больше. \n",
    "    \n",
    "- По выручке - абоненты Смарт в первой половине года тратят больше в месяцы, в которых есть праздничные дни (январь, март, май), во второй половине года стабильно с каждым месяцем приносят выручки все больше и больше вплоть до декабря, где выручка уже почти в 1,6 раза больше, чем от тарифа Ультра. Выручка тарифа Ультра растет стабильно в течение всего года.\n",
    "    \n",
    "- Гистограммы постоянно возрастают от меcяца к месяцу. Это может свидетельствовать о притоке новых абонентов ежемесячно. Поэтому логично будет посчитать усредненные показатели расхода на одного абонента за каждый месяц и уже тогда сравнить тарифы."
   ]
  },
  {
   "cell_type": "code",
   "execution_count": 37,
   "metadata": {},
   "outputs": [
    {
     "data": {
      "text/html": [
       "<div>\n",
       "<style scoped>\n",
       "    .dataframe tbody tr th:only-of-type {\n",
       "        vertical-align: middle;\n",
       "    }\n",
       "\n",
       "    .dataframe tbody tr th {\n",
       "        vertical-align: top;\n",
       "    }\n",
       "\n",
       "    .dataframe thead th {\n",
       "        text-align: right;\n",
       "    }\n",
       "</style>\n",
       "<table border=\"1\" class=\"dataframe\">\n",
       "  <thead>\n",
       "    <tr style=\"text-align: right;\">\n",
       "      <th></th>\n",
       "      <th>duration</th>\n",
       "      <th>calls</th>\n",
       "      <th>messages</th>\n",
       "      <th>gb_used</th>\n",
       "      <th>revenue</th>\n",
       "    </tr>\n",
       "  </thead>\n",
       "  <tbody>\n",
       "    <tr>\n",
       "      <th>count</th>\n",
       "      <td>3214.000000</td>\n",
       "      <td>3174.000000</td>\n",
       "      <td>3214.000000</td>\n",
       "      <td>3214.000000</td>\n",
       "      <td>3214.000000</td>\n",
       "    </tr>\n",
       "    <tr>\n",
       "      <th>mean</th>\n",
       "      <td>463.570006</td>\n",
       "      <td>63.833333</td>\n",
       "      <td>38.281269</td>\n",
       "      <td>17.299004</td>\n",
       "      <td>1403.092603</td>\n",
       "    </tr>\n",
       "    <tr>\n",
       "      <th>std</th>\n",
       "      <td>247.918544</td>\n",
       "      <td>32.678036</td>\n",
       "      <td>36.148326</td>\n",
       "      <td>7.400584</td>\n",
       "      <td>712.396542</td>\n",
       "    </tr>\n",
       "    <tr>\n",
       "      <th>min</th>\n",
       "      <td>0.000000</td>\n",
       "      <td>1.000000</td>\n",
       "      <td>0.000000</td>\n",
       "      <td>0.000000</td>\n",
       "      <td>550.000000</td>\n",
       "    </tr>\n",
       "    <tr>\n",
       "      <th>25%</th>\n",
       "      <td>291.000000</td>\n",
       "      <td>41.000000</td>\n",
       "      <td>9.000000</td>\n",
       "      <td>13.000000</td>\n",
       "      <td>699.023315</td>\n",
       "    </tr>\n",
       "    <tr>\n",
       "      <th>50%</th>\n",
       "      <td>456.000000</td>\n",
       "      <td>63.000000</td>\n",
       "      <td>30.000000</td>\n",
       "      <td>17.000000</td>\n",
       "      <td>1390.038818</td>\n",
       "    </tr>\n",
       "    <tr>\n",
       "      <th>75%</th>\n",
       "      <td>605.000000</td>\n",
       "      <td>83.000000</td>\n",
       "      <td>57.000000</td>\n",
       "      <td>21.000000</td>\n",
       "      <td>1950.000000</td>\n",
       "    </tr>\n",
       "    <tr>\n",
       "      <th>max</th>\n",
       "      <td>1727.000000</td>\n",
       "      <td>244.000000</td>\n",
       "      <td>224.000000</td>\n",
       "      <td>49.000000</td>\n",
       "      <td>5621.331543</td>\n",
       "    </tr>\n",
       "  </tbody>\n",
       "</table>\n",
       "</div>"
      ],
      "text/plain": [
       "          duration        calls     messages      gb_used      revenue\n",
       "count  3214.000000  3174.000000  3214.000000  3214.000000  3214.000000\n",
       "mean    463.570006    63.833333    38.281269    17.299004  1403.092603\n",
       "std     247.918544    32.678036    36.148326     7.400584   712.396542\n",
       "min       0.000000     1.000000     0.000000     0.000000   550.000000\n",
       "25%     291.000000    41.000000     9.000000    13.000000   699.023315\n",
       "50%     456.000000    63.000000    30.000000    17.000000  1390.038818\n",
       "75%     605.000000    83.000000    57.000000    21.000000  1950.000000\n",
       "max    1727.000000   244.000000   224.000000    49.000000  5621.331543"
      ]
     },
     "execution_count": 37,
     "metadata": {},
     "output_type": "execute_result"
    }
   ],
   "source": [
    "grouped_data[['duration','calls', 'messages', 'gb_used','revenue']].describe()"
   ]
  },
  {
   "cell_type": "markdown",
   "metadata": {},
   "source": [
    "Для вычисления усредненных значений можно использовать и среднее и медиану, по условию задания нужно найти средние значения. \n",
    "Сгруппируем и создадим новую таблицу с общими данными по тарифам, затем изучим ее данные в разрезе каждого тарифа"
   ]
  },
  {
   "cell_type": "code",
   "execution_count": 38,
   "metadata": {},
   "outputs": [
    {
     "name": "stderr",
     "output_type": "stream",
     "text": [
      "/tmp/ipykernel_37/712126112.py:1: FutureWarning: Indexing with multiple keys (implicitly converted to a tuple of keys) will be deprecated, use a list instead.\n",
      "  mean_data = grouped_data.groupby(['tariff', 'month'])['duration','calls', 'messages', 'gb_used','revenue'].mean().reset_index()\n"
     ]
    },
    {
     "data": {
      "text/html": [
       "<div>\n",
       "<style scoped>\n",
       "    .dataframe tbody tr th:only-of-type {\n",
       "        vertical-align: middle;\n",
       "    }\n",
       "\n",
       "    .dataframe tbody tr th {\n",
       "        vertical-align: top;\n",
       "    }\n",
       "\n",
       "    .dataframe thead th {\n",
       "        text-align: right;\n",
       "    }\n",
       "</style>\n",
       "<table border=\"1\" class=\"dataframe\">\n",
       "  <thead>\n",
       "    <tr style=\"text-align: right;\">\n",
       "      <th></th>\n",
       "      <th>tariff</th>\n",
       "      <th>month</th>\n",
       "      <th>duration</th>\n",
       "      <th>calls</th>\n",
       "      <th>messages</th>\n",
       "      <th>gb_used</th>\n",
       "      <th>revenue</th>\n",
       "    </tr>\n",
       "  </thead>\n",
       "  <tbody>\n",
       "    <tr>\n",
       "      <th>0</th>\n",
       "      <td>smart</td>\n",
       "      <td>1</td>\n",
       "      <td>209.647059</td>\n",
       "      <td>27.676471</td>\n",
       "      <td>18.235294</td>\n",
       "      <td>8.735294</td>\n",
       "      <td>667.440789</td>\n",
       "    </tr>\n",
       "    <tr>\n",
       "      <th>1</th>\n",
       "      <td>smart</td>\n",
       "      <td>2</td>\n",
       "      <td>306.310345</td>\n",
       "      <td>40.189655</td>\n",
       "      <td>24.086207</td>\n",
       "      <td>11.844828</td>\n",
       "      <td>759.910013</td>\n",
       "    </tr>\n",
       "    <tr>\n",
       "      <th>2</th>\n",
       "      <td>smart</td>\n",
       "      <td>3</td>\n",
       "      <td>400.532468</td>\n",
       "      <td>54.324675</td>\n",
       "      <td>31.857143</td>\n",
       "      <td>15.233766</td>\n",
       "      <td>1017.929954</td>\n",
       "    </tr>\n",
       "    <tr>\n",
       "      <th>3</th>\n",
       "      <td>smart</td>\n",
       "      <td>4</td>\n",
       "      <td>377.000000</td>\n",
       "      <td>51.312500</td>\n",
       "      <td>30.741071</td>\n",
       "      <td>13.625000</td>\n",
       "      <td>862.557949</td>\n",
       "    </tr>\n",
       "    <tr>\n",
       "      <th>4</th>\n",
       "      <td>smart</td>\n",
       "      <td>5</td>\n",
       "      <td>398.404255</td>\n",
       "      <td>55.241135</td>\n",
       "      <td>33.773050</td>\n",
       "      <td>15.907801</td>\n",
       "      <td>1033.439048</td>\n",
       "    </tr>\n",
       "    <tr>\n",
       "      <th>5</th>\n",
       "      <td>smart</td>\n",
       "      <td>6</td>\n",
       "      <td>406.701220</td>\n",
       "      <td>55.889571</td>\n",
       "      <td>33.402439</td>\n",
       "      <td>15.951220</td>\n",
       "      <td>1038.001218</td>\n",
       "    </tr>\n",
       "    <tr>\n",
       "      <th>6</th>\n",
       "      <td>smart</td>\n",
       "      <td>7</td>\n",
       "      <td>419.288557</td>\n",
       "      <td>56.726368</td>\n",
       "      <td>33.751244</td>\n",
       "      <td>15.875622</td>\n",
       "      <td>1058.204918</td>\n",
       "    </tr>\n",
       "    <tr>\n",
       "      <th>7</th>\n",
       "      <td>smart</td>\n",
       "      <td>8</td>\n",
       "      <td>433.191489</td>\n",
       "      <td>59.230769</td>\n",
       "      <td>33.638298</td>\n",
       "      <td>16.736170</td>\n",
       "      <td>1131.247781</td>\n",
       "    </tr>\n",
       "    <tr>\n",
       "      <th>8</th>\n",
       "      <td>smart</td>\n",
       "      <td>9</td>\n",
       "      <td>440.080769</td>\n",
       "      <td>59.776062</td>\n",
       "      <td>33.638462</td>\n",
       "      <td>16.392308</td>\n",
       "      <td>1088.860661</td>\n",
       "    </tr>\n",
       "    <tr>\n",
       "      <th>9</th>\n",
       "      <td>smart</td>\n",
       "      <td>10</td>\n",
       "      <td>438.295918</td>\n",
       "      <td>60.167235</td>\n",
       "      <td>33.765306</td>\n",
       "      <td>16.880952</td>\n",
       "      <td>1169.400017</td>\n",
       "    </tr>\n",
       "    <tr>\n",
       "      <th>10</th>\n",
       "      <td>smart</td>\n",
       "      <td>11</td>\n",
       "      <td>447.620253</td>\n",
       "      <td>61.698413</td>\n",
       "      <td>34.075949</td>\n",
       "      <td>17.000000</td>\n",
       "      <td>1154.634274</td>\n",
       "    </tr>\n",
       "    <tr>\n",
       "      <th>11</th>\n",
       "      <td>smart</td>\n",
       "      <td>12</td>\n",
       "      <td>491.418398</td>\n",
       "      <td>66.684524</td>\n",
       "      <td>35.994065</td>\n",
       "      <td>18.201780</td>\n",
       "      <td>1342.885896</td>\n",
       "    </tr>\n",
       "    <tr>\n",
       "      <th>12</th>\n",
       "      <td>ultra</td>\n",
       "      <td>1</td>\n",
       "      <td>440.888889</td>\n",
       "      <td>59.444444</td>\n",
       "      <td>33.777778</td>\n",
       "      <td>13.222222</td>\n",
       "      <td>1950.000000</td>\n",
       "    </tr>\n",
       "    <tr>\n",
       "      <th>13</th>\n",
       "      <td>ultra</td>\n",
       "      <td>2</td>\n",
       "      <td>304.666667</td>\n",
       "      <td>41.541667</td>\n",
       "      <td>21.958333</td>\n",
       "      <td>12.000000</td>\n",
       "      <td>1972.664917</td>\n",
       "    </tr>\n",
       "    <tr>\n",
       "      <th>14</th>\n",
       "      <td>ultra</td>\n",
       "      <td>3</td>\n",
       "      <td>503.081081</td>\n",
       "      <td>67.675676</td>\n",
       "      <td>32.297297</td>\n",
       "      <td>17.648649</td>\n",
       "      <td>2003.537307</td>\n",
       "    </tr>\n",
       "    <tr>\n",
       "      <th>15</th>\n",
       "      <td>ultra</td>\n",
       "      <td>4</td>\n",
       "      <td>470.072727</td>\n",
       "      <td>66.509434</td>\n",
       "      <td>31.563636</td>\n",
       "      <td>16.963636</td>\n",
       "      <td>1995.016593</td>\n",
       "    </tr>\n",
       "    <tr>\n",
       "      <th>16</th>\n",
       "      <td>ultra</td>\n",
       "      <td>5</td>\n",
       "      <td>524.865672</td>\n",
       "      <td>75.906250</td>\n",
       "      <td>37.850746</td>\n",
       "      <td>19.373134</td>\n",
       "      <td>2054.477073</td>\n",
       "    </tr>\n",
       "    <tr>\n",
       "      <th>17</th>\n",
       "      <td>ultra</td>\n",
       "      <td>6</td>\n",
       "      <td>492.428571</td>\n",
       "      <td>69.209877</td>\n",
       "      <td>41.726190</td>\n",
       "      <td>18.940476</td>\n",
       "      <td>2031.535889</td>\n",
       "    </tr>\n",
       "    <tr>\n",
       "      <th>18</th>\n",
       "      <td>ultra</td>\n",
       "      <td>7</td>\n",
       "      <td>560.296703</td>\n",
       "      <td>78.363636</td>\n",
       "      <td>49.846154</td>\n",
       "      <td>20.505495</td>\n",
       "      <td>2107.758392</td>\n",
       "    </tr>\n",
       "    <tr>\n",
       "      <th>19</th>\n",
       "      <td>ultra</td>\n",
       "      <td>8</td>\n",
       "      <td>524.570093</td>\n",
       "      <td>74.058252</td>\n",
       "      <td>48.439252</td>\n",
       "      <td>19.598131</td>\n",
       "      <td>2070.383529</td>\n",
       "    </tr>\n",
       "    <tr>\n",
       "      <th>20</th>\n",
       "      <td>ultra</td>\n",
       "      <td>9</td>\n",
       "      <td>553.643478</td>\n",
       "      <td>77.288288</td>\n",
       "      <td>52.286957</td>\n",
       "      <td>19.243478</td>\n",
       "      <td>2013.170673</td>\n",
       "    </tr>\n",
       "    <tr>\n",
       "      <th>21</th>\n",
       "      <td>ultra</td>\n",
       "      <td>10</td>\n",
       "      <td>572.829268</td>\n",
       "      <td>80.652542</td>\n",
       "      <td>58.430894</td>\n",
       "      <td>20.065041</td>\n",
       "      <td>2056.278249</td>\n",
       "    </tr>\n",
       "    <tr>\n",
       "      <th>22</th>\n",
       "      <td>ultra</td>\n",
       "      <td>11</td>\n",
       "      <td>555.805970</td>\n",
       "      <td>78.031008</td>\n",
       "      <td>55.791045</td>\n",
       "      <td>19.805970</td>\n",
       "      <td>2080.013103</td>\n",
       "    </tr>\n",
       "    <tr>\n",
       "      <th>23</th>\n",
       "      <td>ultra</td>\n",
       "      <td>12</td>\n",
       "      <td>609.129496</td>\n",
       "      <td>86.425373</td>\n",
       "      <td>60.611511</td>\n",
       "      <td>21.741007</td>\n",
       "      <td>2125.363274</td>\n",
       "    </tr>\n",
       "  </tbody>\n",
       "</table>\n",
       "</div>"
      ],
      "text/plain": [
       "   tariff  month    duration      calls   messages    gb_used      revenue\n",
       "0   smart      1  209.647059  27.676471  18.235294   8.735294   667.440789\n",
       "1   smart      2  306.310345  40.189655  24.086207  11.844828   759.910013\n",
       "2   smart      3  400.532468  54.324675  31.857143  15.233766  1017.929954\n",
       "3   smart      4  377.000000  51.312500  30.741071  13.625000   862.557949\n",
       "4   smart      5  398.404255  55.241135  33.773050  15.907801  1033.439048\n",
       "5   smart      6  406.701220  55.889571  33.402439  15.951220  1038.001218\n",
       "6   smart      7  419.288557  56.726368  33.751244  15.875622  1058.204918\n",
       "7   smart      8  433.191489  59.230769  33.638298  16.736170  1131.247781\n",
       "8   smart      9  440.080769  59.776062  33.638462  16.392308  1088.860661\n",
       "9   smart     10  438.295918  60.167235  33.765306  16.880952  1169.400017\n",
       "10  smart     11  447.620253  61.698413  34.075949  17.000000  1154.634274\n",
       "11  smart     12  491.418398  66.684524  35.994065  18.201780  1342.885896\n",
       "12  ultra      1  440.888889  59.444444  33.777778  13.222222  1950.000000\n",
       "13  ultra      2  304.666667  41.541667  21.958333  12.000000  1972.664917\n",
       "14  ultra      3  503.081081  67.675676  32.297297  17.648649  2003.537307\n",
       "15  ultra      4  470.072727  66.509434  31.563636  16.963636  1995.016593\n",
       "16  ultra      5  524.865672  75.906250  37.850746  19.373134  2054.477073\n",
       "17  ultra      6  492.428571  69.209877  41.726190  18.940476  2031.535889\n",
       "18  ultra      7  560.296703  78.363636  49.846154  20.505495  2107.758392\n",
       "19  ultra      8  524.570093  74.058252  48.439252  19.598131  2070.383529\n",
       "20  ultra      9  553.643478  77.288288  52.286957  19.243478  2013.170673\n",
       "21  ultra     10  572.829268  80.652542  58.430894  20.065041  2056.278249\n",
       "22  ultra     11  555.805970  78.031008  55.791045  19.805970  2080.013103\n",
       "23  ultra     12  609.129496  86.425373  60.611511  21.741007  2125.363274"
      ]
     },
     "execution_count": 38,
     "metadata": {},
     "output_type": "execute_result"
    }
   ],
   "source": [
    "mean_data = grouped_data.groupby(['tariff', 'month'])['duration','calls', 'messages', 'gb_used','revenue'].mean().reset_index()\n",
    "mean_data"
   ]
  },
  {
   "cell_type": "code",
   "execution_count": 39,
   "metadata": {},
   "outputs": [],
   "source": [
    "smart = mean_data.query('tariff==\"smart\"')\n",
    "ultra = mean_data.query('tariff==\"ultra\"')"
   ]
  },
  {
   "cell_type": "code",
   "execution_count": 40,
   "metadata": {},
   "outputs": [
    {
     "name": "stdout",
     "output_type": "stream",
     "text": [
      "Средние месячные значения абонента в течение 2018 года\n",
      "duration: smart = 397 / ultra = 509\n",
      "calls: smart = 54 / ultra = 71\n",
      "messages: smart = 31 / ultra = 44\n",
      "gb_used: smart = 15 / ultra = 18\n",
      "revenue: smart = 1027 / ultra = 2038\n"
     ]
    }
   ],
   "source": [
    "print('Средние месячные значения абонента в течение 2018 года')\n",
    "for i in ['duration','calls', 'messages', 'gb_used','revenue']:\n",
    "    print(f'{i}: smart = {round(smart[i].mean())} / ultra = {round(ultra[i].mean())}')"
   ]
  },
  {
   "cell_type": "markdown",
   "metadata": {},
   "source": [
    "\n",
    "На данном этапе исследований мы видим, что пользователи обоих тарифов больше всего используют интернет-трафик, сообщения не являются популярной услугой, звонки популярны в месяцы с праздничными днями.\n",
    "Среднемесячная выручка тарифа смарт составляет 1027 рублей и меньше выручки более дорогого тарифа в ~2 раза\n",
    "    \n",
    "\n",
    "**Тариф «Смарт»**\n",
    "\n",
    "- ежемесячная плата: 1027/550 рублей (превышение на 477 рублей или 86,7%)\n",
    "- минут разговора: 397/500 (используется 79,4% пакета услуг) \n",
    "- сообщений: 31/50 (используется 62% пакетных услуг)\n",
    "- интернет-трафика: 15/15 Гб (используется 100% пакетных услуг)\n",
    "При общем перерасходе ежемесячной платы, скорее всего доплачивается за 1 Гб интернет-трафика: 200 рублей (при среднем пороговом в 15 Гб)\n",
    "\n",
    "**Тариф «Ультра»**\n",
    "- ежемесячная плата: 2038/1950 рублей (превышение на 88 рублей или 4,5%)\n",
    "- минут разговора: 509/3000 (используется 16,9% пакета услуг) \n",
    "- сообщений: 44/1000 (используется 4,4% пакетных услуг)\n",
    "- интернет-трафика: 18/30 Гб (используется 60% пакетных услуг)\n",
    "Здесь аналогично при небольшом общем перерасходе ежемесячной платы, скорее всего доплачивается за 1 Гб интернет-трафика: 150 рублей (при среднем пороговом в 30 Гб), в среднем пользователи Ультра укладываются в рамки своего тарифного плана."
   ]
  },
  {
   "cell_type": "markdown",
   "metadata": {},
   "source": [
    "Посчитаем среднее количество, дисперсию и стандартное отклонение"
   ]
  },
  {
   "cell_type": "code",
   "execution_count": 41,
   "metadata": {},
   "outputs": [
    {
     "data": {
      "text/html": [
       "<div>\n",
       "<style scoped>\n",
       "    .dataframe tbody tr th:only-of-type {\n",
       "        vertical-align: middle;\n",
       "    }\n",
       "\n",
       "    .dataframe tbody tr th {\n",
       "        vertical-align: top;\n",
       "    }\n",
       "\n",
       "    .dataframe thead th {\n",
       "        text-align: right;\n",
       "    }\n",
       "</style>\n",
       "<table border=\"1\" class=\"dataframe\">\n",
       "  <thead>\n",
       "    <tr style=\"text-align: right;\">\n",
       "      <th></th>\n",
       "      <th>tariff</th>\n",
       "      <th>month</th>\n",
       "      <th>duration</th>\n",
       "      <th>calls</th>\n",
       "      <th>messages</th>\n",
       "      <th>gb_used</th>\n",
       "      <th>revenue</th>\n",
       "    </tr>\n",
       "  </thead>\n",
       "  <tbody>\n",
       "    <tr>\n",
       "      <th>0</th>\n",
       "      <td>smart</td>\n",
       "      <td>1</td>\n",
       "      <td>209.647059</td>\n",
       "      <td>27.676471</td>\n",
       "      <td>18.235294</td>\n",
       "      <td>8.735294</td>\n",
       "      <td>667.440789</td>\n",
       "    </tr>\n",
       "    <tr>\n",
       "      <th>1</th>\n",
       "      <td>smart</td>\n",
       "      <td>2</td>\n",
       "      <td>306.310345</td>\n",
       "      <td>40.189655</td>\n",
       "      <td>24.086207</td>\n",
       "      <td>11.844828</td>\n",
       "      <td>759.910013</td>\n",
       "    </tr>\n",
       "    <tr>\n",
       "      <th>2</th>\n",
       "      <td>smart</td>\n",
       "      <td>3</td>\n",
       "      <td>400.532468</td>\n",
       "      <td>54.324675</td>\n",
       "      <td>31.857143</td>\n",
       "      <td>15.233766</td>\n",
       "      <td>1017.929954</td>\n",
       "    </tr>\n",
       "    <tr>\n",
       "      <th>3</th>\n",
       "      <td>smart</td>\n",
       "      <td>4</td>\n",
       "      <td>377.000000</td>\n",
       "      <td>51.312500</td>\n",
       "      <td>30.741071</td>\n",
       "      <td>13.625000</td>\n",
       "      <td>862.557949</td>\n",
       "    </tr>\n",
       "    <tr>\n",
       "      <th>4</th>\n",
       "      <td>smart</td>\n",
       "      <td>5</td>\n",
       "      <td>398.404255</td>\n",
       "      <td>55.241135</td>\n",
       "      <td>33.773050</td>\n",
       "      <td>15.907801</td>\n",
       "      <td>1033.439048</td>\n",
       "    </tr>\n",
       "    <tr>\n",
       "      <th>5</th>\n",
       "      <td>smart</td>\n",
       "      <td>6</td>\n",
       "      <td>406.701220</td>\n",
       "      <td>55.889571</td>\n",
       "      <td>33.402439</td>\n",
       "      <td>15.951220</td>\n",
       "      <td>1038.001218</td>\n",
       "    </tr>\n",
       "    <tr>\n",
       "      <th>6</th>\n",
       "      <td>smart</td>\n",
       "      <td>7</td>\n",
       "      <td>419.288557</td>\n",
       "      <td>56.726368</td>\n",
       "      <td>33.751244</td>\n",
       "      <td>15.875622</td>\n",
       "      <td>1058.204918</td>\n",
       "    </tr>\n",
       "    <tr>\n",
       "      <th>7</th>\n",
       "      <td>smart</td>\n",
       "      <td>8</td>\n",
       "      <td>433.191489</td>\n",
       "      <td>59.230769</td>\n",
       "      <td>33.638298</td>\n",
       "      <td>16.736170</td>\n",
       "      <td>1131.247781</td>\n",
       "    </tr>\n",
       "    <tr>\n",
       "      <th>8</th>\n",
       "      <td>smart</td>\n",
       "      <td>9</td>\n",
       "      <td>440.080769</td>\n",
       "      <td>59.776062</td>\n",
       "      <td>33.638462</td>\n",
       "      <td>16.392308</td>\n",
       "      <td>1088.860661</td>\n",
       "    </tr>\n",
       "    <tr>\n",
       "      <th>9</th>\n",
       "      <td>smart</td>\n",
       "      <td>10</td>\n",
       "      <td>438.295918</td>\n",
       "      <td>60.167235</td>\n",
       "      <td>33.765306</td>\n",
       "      <td>16.880952</td>\n",
       "      <td>1169.400017</td>\n",
       "    </tr>\n",
       "    <tr>\n",
       "      <th>10</th>\n",
       "      <td>smart</td>\n",
       "      <td>11</td>\n",
       "      <td>447.620253</td>\n",
       "      <td>61.698413</td>\n",
       "      <td>34.075949</td>\n",
       "      <td>17.000000</td>\n",
       "      <td>1154.634274</td>\n",
       "    </tr>\n",
       "    <tr>\n",
       "      <th>11</th>\n",
       "      <td>smart</td>\n",
       "      <td>12</td>\n",
       "      <td>491.418398</td>\n",
       "      <td>66.684524</td>\n",
       "      <td>35.994065</td>\n",
       "      <td>18.201780</td>\n",
       "      <td>1342.885896</td>\n",
       "    </tr>\n",
       "    <tr>\n",
       "      <th>12</th>\n",
       "      <td>ultra</td>\n",
       "      <td>1</td>\n",
       "      <td>440.888889</td>\n",
       "      <td>59.444444</td>\n",
       "      <td>33.777778</td>\n",
       "      <td>13.222222</td>\n",
       "      <td>1950.000000</td>\n",
       "    </tr>\n",
       "    <tr>\n",
       "      <th>13</th>\n",
       "      <td>ultra</td>\n",
       "      <td>2</td>\n",
       "      <td>304.666667</td>\n",
       "      <td>41.541667</td>\n",
       "      <td>21.958333</td>\n",
       "      <td>12.000000</td>\n",
       "      <td>1972.664917</td>\n",
       "    </tr>\n",
       "    <tr>\n",
       "      <th>14</th>\n",
       "      <td>ultra</td>\n",
       "      <td>3</td>\n",
       "      <td>503.081081</td>\n",
       "      <td>67.675676</td>\n",
       "      <td>32.297297</td>\n",
       "      <td>17.648649</td>\n",
       "      <td>2003.537307</td>\n",
       "    </tr>\n",
       "    <tr>\n",
       "      <th>15</th>\n",
       "      <td>ultra</td>\n",
       "      <td>4</td>\n",
       "      <td>470.072727</td>\n",
       "      <td>66.509434</td>\n",
       "      <td>31.563636</td>\n",
       "      <td>16.963636</td>\n",
       "      <td>1995.016593</td>\n",
       "    </tr>\n",
       "    <tr>\n",
       "      <th>16</th>\n",
       "      <td>ultra</td>\n",
       "      <td>5</td>\n",
       "      <td>524.865672</td>\n",
       "      <td>75.906250</td>\n",
       "      <td>37.850746</td>\n",
       "      <td>19.373134</td>\n",
       "      <td>2054.477073</td>\n",
       "    </tr>\n",
       "    <tr>\n",
       "      <th>17</th>\n",
       "      <td>ultra</td>\n",
       "      <td>6</td>\n",
       "      <td>492.428571</td>\n",
       "      <td>69.209877</td>\n",
       "      <td>41.726190</td>\n",
       "      <td>18.940476</td>\n",
       "      <td>2031.535889</td>\n",
       "    </tr>\n",
       "    <tr>\n",
       "      <th>18</th>\n",
       "      <td>ultra</td>\n",
       "      <td>7</td>\n",
       "      <td>560.296703</td>\n",
       "      <td>78.363636</td>\n",
       "      <td>49.846154</td>\n",
       "      <td>20.505495</td>\n",
       "      <td>2107.758392</td>\n",
       "    </tr>\n",
       "    <tr>\n",
       "      <th>19</th>\n",
       "      <td>ultra</td>\n",
       "      <td>8</td>\n",
       "      <td>524.570093</td>\n",
       "      <td>74.058252</td>\n",
       "      <td>48.439252</td>\n",
       "      <td>19.598131</td>\n",
       "      <td>2070.383529</td>\n",
       "    </tr>\n",
       "    <tr>\n",
       "      <th>20</th>\n",
       "      <td>ultra</td>\n",
       "      <td>9</td>\n",
       "      <td>553.643478</td>\n",
       "      <td>77.288288</td>\n",
       "      <td>52.286957</td>\n",
       "      <td>19.243478</td>\n",
       "      <td>2013.170673</td>\n",
       "    </tr>\n",
       "    <tr>\n",
       "      <th>21</th>\n",
       "      <td>ultra</td>\n",
       "      <td>10</td>\n",
       "      <td>572.829268</td>\n",
       "      <td>80.652542</td>\n",
       "      <td>58.430894</td>\n",
       "      <td>20.065041</td>\n",
       "      <td>2056.278249</td>\n",
       "    </tr>\n",
       "    <tr>\n",
       "      <th>22</th>\n",
       "      <td>ultra</td>\n",
       "      <td>11</td>\n",
       "      <td>555.805970</td>\n",
       "      <td>78.031008</td>\n",
       "      <td>55.791045</td>\n",
       "      <td>19.805970</td>\n",
       "      <td>2080.013103</td>\n",
       "    </tr>\n",
       "    <tr>\n",
       "      <th>23</th>\n",
       "      <td>ultra</td>\n",
       "      <td>12</td>\n",
       "      <td>609.129496</td>\n",
       "      <td>86.425373</td>\n",
       "      <td>60.611511</td>\n",
       "      <td>21.741007</td>\n",
       "      <td>2125.363274</td>\n",
       "    </tr>\n",
       "  </tbody>\n",
       "</table>\n",
       "</div>"
      ],
      "text/plain": [
       "   tariff  month    duration      calls   messages    gb_used      revenue\n",
       "0   smart      1  209.647059  27.676471  18.235294   8.735294   667.440789\n",
       "1   smart      2  306.310345  40.189655  24.086207  11.844828   759.910013\n",
       "2   smart      3  400.532468  54.324675  31.857143  15.233766  1017.929954\n",
       "3   smart      4  377.000000  51.312500  30.741071  13.625000   862.557949\n",
       "4   smart      5  398.404255  55.241135  33.773050  15.907801  1033.439048\n",
       "5   smart      6  406.701220  55.889571  33.402439  15.951220  1038.001218\n",
       "6   smart      7  419.288557  56.726368  33.751244  15.875622  1058.204918\n",
       "7   smart      8  433.191489  59.230769  33.638298  16.736170  1131.247781\n",
       "8   smart      9  440.080769  59.776062  33.638462  16.392308  1088.860661\n",
       "9   smart     10  438.295918  60.167235  33.765306  16.880952  1169.400017\n",
       "10  smart     11  447.620253  61.698413  34.075949  17.000000  1154.634274\n",
       "11  smart     12  491.418398  66.684524  35.994065  18.201780  1342.885896\n",
       "12  ultra      1  440.888889  59.444444  33.777778  13.222222  1950.000000\n",
       "13  ultra      2  304.666667  41.541667  21.958333  12.000000  1972.664917\n",
       "14  ultra      3  503.081081  67.675676  32.297297  17.648649  2003.537307\n",
       "15  ultra      4  470.072727  66.509434  31.563636  16.963636  1995.016593\n",
       "16  ultra      5  524.865672  75.906250  37.850746  19.373134  2054.477073\n",
       "17  ultra      6  492.428571  69.209877  41.726190  18.940476  2031.535889\n",
       "18  ultra      7  560.296703  78.363636  49.846154  20.505495  2107.758392\n",
       "19  ultra      8  524.570093  74.058252  48.439252  19.598131  2070.383529\n",
       "20  ultra      9  553.643478  77.288288  52.286957  19.243478  2013.170673\n",
       "21  ultra     10  572.829268  80.652542  58.430894  20.065041  2056.278249\n",
       "22  ultra     11  555.805970  78.031008  55.791045  19.805970  2080.013103\n",
       "23  ultra     12  609.129496  86.425373  60.611511  21.741007  2125.363274"
      ]
     },
     "execution_count": 41,
     "metadata": {},
     "output_type": "execute_result"
    }
   ],
   "source": [
    "mean_data"
   ]
  },
  {
   "cell_type": "code",
   "execution_count": 42,
   "metadata": {},
   "outputs": [
    {
     "data": {
      "text/html": [
       "<div>\n",
       "<style scoped>\n",
       "    .dataframe tbody tr th:only-of-type {\n",
       "        vertical-align: middle;\n",
       "    }\n",
       "\n",
       "    .dataframe tbody tr th {\n",
       "        vertical-align: top;\n",
       "    }\n",
       "\n",
       "    .dataframe thead tr th {\n",
       "        text-align: left;\n",
       "    }\n",
       "\n",
       "    .dataframe thead tr:last-of-type th {\n",
       "        text-align: right;\n",
       "    }\n",
       "</style>\n",
       "<table border=\"1\" class=\"dataframe\">\n",
       "  <thead>\n",
       "    <tr>\n",
       "      <th></th>\n",
       "      <th colspan=\"3\" halign=\"left\">mean</th>\n",
       "      <th colspan=\"3\" halign=\"left\">var</th>\n",
       "      <th colspan=\"3\" halign=\"left\">std</th>\n",
       "    </tr>\n",
       "    <tr>\n",
       "      <th></th>\n",
       "      <th>duration</th>\n",
       "      <th>gb_used</th>\n",
       "      <th>messages</th>\n",
       "      <th>duration</th>\n",
       "      <th>gb_used</th>\n",
       "      <th>messages</th>\n",
       "      <th>duration</th>\n",
       "      <th>gb_used</th>\n",
       "      <th>messages</th>\n",
       "    </tr>\n",
       "    <tr>\n",
       "      <th>tariff</th>\n",
       "      <th></th>\n",
       "      <th></th>\n",
       "      <th></th>\n",
       "      <th></th>\n",
       "      <th></th>\n",
       "      <th></th>\n",
       "      <th></th>\n",
       "      <th></th>\n",
       "      <th></th>\n",
       "    </tr>\n",
       "  </thead>\n",
       "  <tbody>\n",
       "    <tr>\n",
       "      <th>smart</th>\n",
       "      <td>397.374228</td>\n",
       "      <td>15.198728</td>\n",
       "      <td>31.413211</td>\n",
       "      <td>5516.161324</td>\n",
       "      <td>6.900985</td>\n",
       "      <td>26.044827</td>\n",
       "      <td>74.270865</td>\n",
       "      <td>2.626973</td>\n",
       "      <td>5.103413</td>\n",
       "    </tr>\n",
       "    <tr>\n",
       "      <th>ultra</th>\n",
       "      <td>509.356551</td>\n",
       "      <td>18.258937</td>\n",
       "      <td>43.714983</td>\n",
       "      <td>6329.465189</td>\n",
       "      <td>8.535354</td>\n",
       "      <td>151.793988</td>\n",
       "      <td>79.557936</td>\n",
       "      <td>2.921533</td>\n",
       "      <td>12.320470</td>\n",
       "    </tr>\n",
       "  </tbody>\n",
       "</table>\n",
       "</div>"
      ],
      "text/plain": [
       "              mean                                var                        \\\n",
       "          duration    gb_used   messages     duration   gb_used    messages   \n",
       "tariff                                                                        \n",
       "smart   397.374228  15.198728  31.413211  5516.161324  6.900985   26.044827   \n",
       "ultra   509.356551  18.258937  43.714983  6329.465189  8.535354  151.793988   \n",
       "\n",
       "              std                       \n",
       "         duration   gb_used   messages  \n",
       "tariff                                  \n",
       "smart   74.270865  2.626973   5.103413  \n",
       "ultra   79.557936  2.921533  12.320470  "
      ]
     },
     "execution_count": 42,
     "metadata": {},
     "output_type": "execute_result"
    }
   ],
   "source": [
    "mean_data.dropna(subset=['duration'], inplace=True)\n",
    "descriptive_statistics = mean_data.pivot_table(index=['tariff'], values=['duration', 'gb_used', 'messages'], aggfunc=['mean', 'var', 'std'])\n",
    "descriptive_statistics"
   ]
  },
  {
   "cell_type": "code",
   "execution_count": 43,
   "metadata": {},
   "outputs": [
    {
     "data": {
      "image/png": "[encoded data removed]",
      "text/plain": [
       "<Figure size 360x360 with 1 Axes>"
      ]
     },
     "metadata": {
      "needs_background": "light"
     },
     "output_type": "display_data"
    },
    {
     "data": {
      "image/png": "[encoded data removed]",
      "text/plain": [
       "<Figure size 360x360 with 1 Axes>"
      ]
     },
     "metadata": {
      "needs_background": "light"
     },
     "output_type": "display_data"
    },
    {
     "data": {
      "image/png": "[encoded data removed]",
      "text/plain": [
       "<Figure size 360x360 with 1 Axes>"
      ]
     },
     "metadata": {
      "needs_background": "light"
     },
     "output_type": "display_data"
    }
   ],
   "source": [
    "for column in ['duration', 'gb_used', 'messages']:    \n",
    "    sns.catplot(x=\"tariff\", y=column, kind=\"box\", data=mean_data)\n",
    "    plt.title(f'Диаграмма размаха для {column} в разрезе средних значений')\n",
    "    "
   ]
  },
  {
   "cell_type": "code",
   "execution_count": 44,
   "metadata": {},
   "outputs": [
    {
     "name": "stderr",
     "output_type": "stream",
     "text": [
      "/opt/conda/lib/python3.9/site-packages/seaborn/distributions.py:2557: FutureWarning: `distplot` is a deprecated function and will be removed in a future version. Please adapt your code to use either `displot` (a figure-level function with similar flexibility) or `histplot` (an axes-level function for histograms).\n",
      "  warnings.warn(msg, FutureWarning)\n"
     ]
    },
    {
     "data": {
      "image/png": "[encoded data removed]",
      "text/plain": [
       "<Figure size 432x288 with 1 Axes>"
      ]
     },
     "metadata": {
      "needs_background": "light"
     },
     "output_type": "display_data"
    }
   ],
   "source": [
    "for tariff in ['ultra', 'smart']:\n",
    "    sns.distplot(mean_data.query('tariff == @tariff')['duration'], kde=False, label=tariff)\n",
    "    plt.legend(['Ультра', 'Смарт'])\n",
    "    plt.title(f'Продолжительность разговора пользователей')"
   ]
  },
  {
   "cell_type": "code",
   "execution_count": 45,
   "metadata": {},
   "outputs": [
    {
     "data": {
      "image/png": "[encoded data removed]",
      "text/plain": [
       "<Figure size 432x288 with 1 Axes>"
      ]
     },
     "metadata": {
      "needs_background": "light"
     },
     "output_type": "display_data"
    }
   ],
   "source": [
    "for tariff in ['ultra', 'smart']:\n",
    "    sns.distplot(mean_data.query('tariff == @tariff')['messages'], kde=False, label=tariff)\n",
    "    plt.legend(['Ультра', 'Смарт'])\n",
    "    plt.title(f'Количество использованных сообщений')"
   ]
  },
  {
   "cell_type": "code",
   "execution_count": 46,
   "metadata": {},
   "outputs": [
    {
     "data": {
      "image/png": "[encoded data removed]",
      "text/plain": [
       "<Figure size 432x288 with 1 Axes>"
      ]
     },
     "metadata": {
      "needs_background": "light"
     },
     "output_type": "display_data"
    }
   ],
   "source": [
    "for tariff in ['ultra', 'smart']:\n",
    "    sns.distplot(mean_data.query('tariff == @tariff')['gb_used'], kde=False)\n",
    "    plt.legend(['Ультра', 'Смарт'])\n",
    "    plt.title(f'Количество использованного трафика')"
   ]
  },
  {
   "cell_type": "code",
   "execution_count": 47,
   "metadata": {},
   "outputs": [
    {
     "data": {
      "text/html": [
       "<div>\n",
       "<style scoped>\n",
       "    .dataframe tbody tr th:only-of-type {\n",
       "        vertical-align: middle;\n",
       "    }\n",
       "\n",
       "    .dataframe tbody tr th {\n",
       "        vertical-align: top;\n",
       "    }\n",
       "\n",
       "    .dataframe thead tr th {\n",
       "        text-align: left;\n",
       "    }\n",
       "\n",
       "    .dataframe thead tr:last-of-type th {\n",
       "        text-align: right;\n",
       "    }\n",
       "</style>\n",
       "<table border=\"1\" class=\"dataframe\">\n",
       "  <thead>\n",
       "    <tr>\n",
       "      <th></th>\n",
       "      <th colspan=\"3\" halign=\"left\">mean</th>\n",
       "      <th colspan=\"3\" halign=\"left\">var</th>\n",
       "      <th colspan=\"3\" halign=\"left\">std</th>\n",
       "    </tr>\n",
       "    <tr>\n",
       "      <th></th>\n",
       "      <th>duration</th>\n",
       "      <th>gb_used</th>\n",
       "      <th>messages</th>\n",
       "      <th>duration</th>\n",
       "      <th>gb_used</th>\n",
       "      <th>messages</th>\n",
       "      <th>duration</th>\n",
       "      <th>gb_used</th>\n",
       "      <th>messages</th>\n",
       "    </tr>\n",
       "    <tr>\n",
       "      <th>tariff</th>\n",
       "      <th></th>\n",
       "      <th></th>\n",
       "      <th></th>\n",
       "      <th></th>\n",
       "      <th></th>\n",
       "      <th></th>\n",
       "      <th></th>\n",
       "      <th></th>\n",
       "      <th></th>\n",
       "    </tr>\n",
       "  </thead>\n",
       "  <tbody>\n",
       "    <tr>\n",
       "      <th>smart</th>\n",
       "      <td>397.374228</td>\n",
       "      <td>15.198728</td>\n",
       "      <td>31.413211</td>\n",
       "      <td>5516.161324</td>\n",
       "      <td>6.900985</td>\n",
       "      <td>26.044827</td>\n",
       "      <td>74.270865</td>\n",
       "      <td>2.626973</td>\n",
       "      <td>5.103413</td>\n",
       "    </tr>\n",
       "    <tr>\n",
       "      <th>ultra</th>\n",
       "      <td>509.356551</td>\n",
       "      <td>18.258937</td>\n",
       "      <td>43.714983</td>\n",
       "      <td>6329.465189</td>\n",
       "      <td>8.535354</td>\n",
       "      <td>151.793988</td>\n",
       "      <td>79.557936</td>\n",
       "      <td>2.921533</td>\n",
       "      <td>12.320470</td>\n",
       "    </tr>\n",
       "  </tbody>\n",
       "</table>\n",
       "</div>"
      ],
      "text/plain": [
       "              mean                                var                        \\\n",
       "          duration    gb_used   messages     duration   gb_used    messages   \n",
       "tariff                                                                        \n",
       "smart   397.374228  15.198728  31.413211  5516.161324  6.900985   26.044827   \n",
       "ultra   509.356551  18.258937  43.714983  6329.465189  8.535354  151.793988   \n",
       "\n",
       "              std                       \n",
       "         duration   gb_used   messages  \n",
       "tariff                                  \n",
       "smart   74.270865  2.626973   5.103413  \n",
       "ultra   79.557936  2.921533  12.320470  "
      ]
     },
     "execution_count": 47,
     "metadata": {},
     "output_type": "execute_result"
    }
   ],
   "source": [
    "descriptive_statistics"
   ]
  },
  {
   "cell_type": "code",
   "execution_count": 48,
   "metadata": {},
   "outputs": [
    {
     "data": {
      "text/html": [
       "<div>\n",
       "<style scoped>\n",
       "    .dataframe tbody tr th:only-of-type {\n",
       "        vertical-align: middle;\n",
       "    }\n",
       "\n",
       "    .dataframe tbody tr th {\n",
       "        vertical-align: top;\n",
       "    }\n",
       "\n",
       "    .dataframe thead th {\n",
       "        text-align: right;\n",
       "    }\n",
       "</style>\n",
       "<table border=\"1\" class=\"dataframe\">\n",
       "  <thead>\n",
       "    <tr style=\"text-align: right;\">\n",
       "      <th></th>\n",
       "      <th>revenue</th>\n",
       "    </tr>\n",
       "    <tr>\n",
       "      <th>tariff</th>\n",
       "      <th></th>\n",
       "    </tr>\n",
       "  </thead>\n",
       "  <tbody>\n",
       "    <tr>\n",
       "      <th>smart</th>\n",
       "      <td>1027.042710</td>\n",
       "    </tr>\n",
       "    <tr>\n",
       "      <th>ultra</th>\n",
       "      <td>2038.349917</td>\n",
       "    </tr>\n",
       "  </tbody>\n",
       "</table>\n",
       "</div>"
      ],
      "text/plain": [
       "            revenue\n",
       "tariff             \n",
       "smart   1027.042710\n",
       "ultra   2038.349917"
      ]
     },
     "execution_count": 48,
     "metadata": {},
     "output_type": "execute_result"
    }
   ],
   "source": [
    "mean_data.pivot_table(index='tariff', values='revenue', aggfunc='mean')"
   ]
  },
  {
   "cell_type": "markdown",
   "metadata": {},
   "source": [
    "\n",
    "    \n",
    "**Выводы**\n",
    "\n",
    "Видим, что по всем исследуемым параметрам (минуты разговора, количество отправленных сообщений и объем потраченного трафика) тариф «Ультра» имеет большую дисперсию по сравнению с тарифом \"Смарт\", хотя медианы по вышеперечисленным признакам хоть также смещены в большую сторону, но достаточно близки (исключение составляют лишь сообщения- здесь медианная разница ярче выражена - мало кто во времена мессенджеров использует пакет сообщений \"на всю катушку\") Также заметим, что выбросов в рамках более дешевого тарифа существенно больше.\n",
    "\n",
    "Поведение пользователей тарифа \"Ультра\" более разнообразное с точки зрения потребления телекоммуникационных услуг. Пользователи дорогого тарифа более свободны в выборе того, как именно использовать объемы тарифного пакета: возможно, использование дорогого тарифа помогает им не думать о том, что в какой-то момент у них отключится интернет или закончится пакет по минутам разговора.\n",
    "\n",
    "Среднее значение выручки у пользователей тарифа \"Ультра\"  выше в примерно 2 раза выручки от тарифа \"Смарт\"."
   ]
  },
  {
   "cell_type": "markdown",
   "metadata": {},
   "source": [
    "## Проверка гипотез\n",
    "Сформулируем первые нулевую и альтернативную гипотезы"
   ]
  },
  {
   "cell_type": "markdown",
   "metadata": {},
   "source": [
    "\n",
    "    \n",
    "**H0**  — *средняя выручка пользователей тарифа «Ультра» равна средней выручке пользователей тарифа «Смарт»*.\n",
    "\n",
    "**H1**  — *средняя выручка пользователей тарифов «Ультра» и «Смарт» различаются.*\n",
    "\n",
    "**α=1%**\n"
   ]
  },
  {
   "cell_type": "code",
   "execution_count": 49,
   "metadata": {},
   "outputs": [
    {
     "name": "stdout",
     "output_type": "stream",
     "text": [
      "p-значение: 1.6416309689883188e-10\n",
      "Отвергаем нулевую гипотезу\n"
     ]
    }
   ],
   "source": [
    "ultra = mean_data.query('tariff == \"ultra\"')['revenue']\n",
    "smart = mean_data.query('tariff == \"smart\"')['revenue']\n",
    "alpha = .01\n",
    "results = st.ttest_ind(ultra, smart, equal_var=False)\n",
    "print('p-значение:', results.pvalue)\n",
    "\n",
    "if (results.pvalue < alpha):\n",
    "    print(\"Отвергаем нулевую гипотезу\")\n",
    "else:\n",
    "    print(\"Не получилось отвергнуть нулевую гипотезу\")"
   ]
  },
  {
   "cell_type": "markdown",
   "metadata": {},
   "source": [
    "Нулевая гипотеза отвергнута, соответственно, средняя выручка пользователей тарифов «Ультра» и «Смарт» различаются.\n",
    "\n"
   ]
  },
  {
   "cell_type": "markdown",
   "metadata": {},
   "source": [
    "Посмотрим на средние значения выручки по тарифам:"
   ]
  },
  {
   "cell_type": "code",
   "execution_count": 50,
   "metadata": {},
   "outputs": [
    {
     "data": {
      "text/html": [
       "<div>\n",
       "<style scoped>\n",
       "    .dataframe tbody tr th:only-of-type {\n",
       "        vertical-align: middle;\n",
       "    }\n",
       "\n",
       "    .dataframe tbody tr th {\n",
       "        vertical-align: top;\n",
       "    }\n",
       "\n",
       "    .dataframe thead th {\n",
       "        text-align: right;\n",
       "    }\n",
       "</style>\n",
       "<table border=\"1\" class=\"dataframe\">\n",
       "  <thead>\n",
       "    <tr style=\"text-align: right;\">\n",
       "      <th></th>\n",
       "      <th>revenue</th>\n",
       "    </tr>\n",
       "    <tr>\n",
       "      <th>tariff</th>\n",
       "      <th></th>\n",
       "    </tr>\n",
       "  </thead>\n",
       "  <tbody>\n",
       "    <tr>\n",
       "      <th>smart</th>\n",
       "      <td>1027.042710</td>\n",
       "    </tr>\n",
       "    <tr>\n",
       "      <th>ultra</th>\n",
       "      <td>2038.349917</td>\n",
       "    </tr>\n",
       "  </tbody>\n",
       "</table>\n",
       "</div>"
      ],
      "text/plain": [
       "            revenue\n",
       "tariff             \n",
       "smart   1027.042710\n",
       "ultra   2038.349917"
      ]
     },
     "execution_count": 50,
     "metadata": {},
     "output_type": "execute_result"
    }
   ],
   "source": [
    "mean_data.pivot_table(index='tariff', values='revenue', aggfunc='mean')"
   ]
  },
  {
   "cell_type": "markdown",
   "metadata": {},
   "source": [
    "Видим, что средние значения выручки по тарифам различаются  в 2 раза. \n",
    "\n",
    "Однако, при абонентской плате тарифа \"Смарт\" в в 550 руб, среднее значение выручки составляют ~1027 руб, соответственно, скорее всего пользователю тарифа недостаточно услуг в рамках тарифного пакета."
   ]
  },
  {
   "cell_type": "markdown",
   "metadata": {},
   "source": [
    "Поскольку, нам необходимо проанализировать траты исключительно москвичей, добавим наименование населенного пункта для каждого пользователя"
   ]
  },
  {
   "cell_type": "code",
   "execution_count": 51,
   "metadata": {},
   "outputs": [],
   "source": [
    "for user in grouped_data.index:\n",
    "    grouped_data.loc[user, 'city'] = users.loc[user[0]-1000, 'city']\n",
    "moscow_user = grouped_data.query('city == \"Москва\"')['revenue']\n",
    "region_user = grouped_data.query('city != \"Москва\"')['revenue']"
   ]
  },
  {
   "cell_type": "code",
   "execution_count": 52,
   "metadata": {},
   "outputs": [
    {
     "name": "stdout",
     "output_type": "stream",
     "text": [
      "p-значение: 0.19408414476074154\n",
      "Не получилось отвергнуть нулевую гипотезу\n"
     ]
    }
   ],
   "source": [
    "alpha = .01\n",
    "results = st.ttest_ind(\n",
    "    moscow_user, \n",
    "    region_user, \n",
    "    equal_var=False)\n",
    "print('p-значение:', results.pvalue)\n",
    "\n",
    "if (results.pvalue < alpha):\n",
    "    print(\"Отвергаем нулевую гипотезу\")\n",
    "else:\n",
    "    print(\"Не получилось отвергнуть нулевую гипотезу\")"
   ]
  },
  {
   "cell_type": "markdown",
   "metadata": {},
   "source": [
    " Нулевая гипотеза живее всех живых, соответственно, цитируя формулировку гипотезы \"средняя выручка пользователей из Москвы равна средней выручке пользователей из других регионов\", то есть между средними выручками нет статистически значимого различия.\n",
    "\n",
    "Посмотрим на средние значения выручки по локациям Москва-Регионы:"
   ]
  },
  {
   "cell_type": "code",
   "execution_count": 53,
   "metadata": {},
   "outputs": [],
   "source": [
    "def detect_region(city):\n",
    "    if city == 'Москва': \n",
    "        return 'Москва'\n",
    "    else: \n",
    "        return 'Другой регион'"
   ]
  },
  {
   "cell_type": "code",
   "execution_count": 54,
   "metadata": {},
   "outputs": [
    {
     "data": {
      "text/html": [
       "<div>\n",
       "<style scoped>\n",
       "    .dataframe tbody tr th:only-of-type {\n",
       "        vertical-align: middle;\n",
       "    }\n",
       "\n",
       "    .dataframe tbody tr th {\n",
       "        vertical-align: top;\n",
       "    }\n",
       "\n",
       "    .dataframe thead th {\n",
       "        text-align: right;\n",
       "    }\n",
       "</style>\n",
       "<table border=\"1\" class=\"dataframe\">\n",
       "  <thead>\n",
       "    <tr style=\"text-align: right;\">\n",
       "      <th></th>\n",
       "      <th>revenue</th>\n",
       "    </tr>\n",
       "    <tr>\n",
       "      <th>region</th>\n",
       "      <th></th>\n",
       "    </tr>\n",
       "  </thead>\n",
       "  <tbody>\n",
       "    <tr>\n",
       "      <th>Другой регион</th>\n",
       "      <td>1357.208008</td>\n",
       "    </tr>\n",
       "    <tr>\n",
       "      <th>Москва</th>\n",
       "      <td>1465.807129</td>\n",
       "    </tr>\n",
       "  </tbody>\n",
       "</table>\n",
       "</div>"
      ],
      "text/plain": [
       "                   revenue\n",
       "region                    \n",
       "Другой регион  1357.208008\n",
       "Москва         1465.807129"
      ]
     },
     "execution_count": 54,
     "metadata": {},
     "output_type": "execute_result"
    }
   ],
   "source": [
    "grouped_data['region'] = grouped_data['city'].apply(detect_region)\n",
    "grouped_data.pivot_table(index='region', values='revenue', aggfunc='median')"
   ]
  },
  {
   "cell_type": "markdown",
   "metadata": {},
   "source": [
    " Статистический тест не дал возможности опровергунть исходную гипотезу о том, что доходы от пользователей из Москвы и из других регионов равны. Средние значения выручки по локациям Москва-Регионы различаются некритично в пользу столицы. Действительно, месячная выручка с каждого пользователя \"Мегалайна\" в Московском регионе практически не отличаются от других населенных пунктов."
   ]
  },
  {
   "cell_type": "markdown",
   "metadata": {},
   "source": [
    "\n",
    "\n",
    "# Общий вывод\n",
    "\n",
    "- В процессе анализа было выявлено:\n",
    "Пропорциональное число пользователей из 500 человек: \"Смарт\"/\"Ультра\" = 351/149\n",
    "Среднемесячная выручка: \"Смарт\"/\"Ультра\" рублей = 1027/2038 \n",
    "\n",
    "Тариф «Смарт»\n",
    "\n",
    "- ежемесячная плата: 1027/550 рублей (превышение на 477 рублей или 86,7%)\n",
    "- минут разговора: 397/500 (используется 79,4% пакета услуг) \n",
    "- сообщений: 31/50 (используется 62% пакетных услуг)\n",
    "- интернет-трафика: 15/15 Гб (используется 100% пакетных услуг)\n",
    "\n",
    "Тариф «Ультра»\n",
    "- ежемесячная плата: 2038/1950 рублей (превышение на 88 рублей или 4,5%)\n",
    "- минут разговора: 509/3000 (используется 16,9% пакета услуг) \n",
    "- сообщений: 44/1000 (используется 4,4% пакетных услуг)\n",
    "- интернет-трафика: 18/30 Гб (используется 60% пакетных услуг)\n",
    "\n",
    "    1) В тарифе «Смарт» подавляющее большинство абонентов укладываются в лимит 500 минут разговора (среднее значение за 2018 год - 397 минута), да и в тарифе «Ультра» не сильно ушли от этого значения - среднемесячное не больше 500 минут (при излишнем лимите в 3000). Также можно наблюдать, что расход минут постепенно возрастает в течение года. \n",
    "    \n",
    "    2) СМС - мало популярная услуга (много абонентов которых вообще не пишут СМС или почти не пишут). Абоненты тарифа «Смарт» вполне укладываются в лимит 50 СМС (а среднее 31 СМС в месяц за год), даже абоненты тарифа «Ультра» редко превышают порог в 50 СМС при пороговом 1000 (скорее всего это какие-то интернет-сервисы или магазины). Видно, что на тарифе «Ультра» СМС ближе к концу года пишут всё чаще и чаще, постепенно возрастает количество смс и на тарифе \"Смарт\" в течение года.\n",
    "        \n",
    "    3) Интернет-трафик расходуется аналогично\n",
    "    \n",
    "    4) По выручке можно сказать: что выручка абонентов «Ультра» в подавляющем большинстве случаев ограничивается абонплатой(1950р), а абоненты «Смарт» напротив очень частенько платят сверх абонплаты (1027 средн - 550абонплата) = 477р - на 86,7% больше абонплаты, все это за счет интернет-трафика\n",
    "    \n",
    "  \n",
    "- Проверены две гипотезы:\n",
    "1) Гипотеза №1: средняя выручка пользователей тарифов «Ультра» и «Смарт» различается: ГИПОТЕЗА ПОДТВЕРДИЛАСЬ\n",
    "2) Гипотеза №2: средняя выручка пользователей из Москвы отличается от выручки пользователей из других регионов: ГИПОТЕЗА НЕ ПОДТВЕРДИЛАСЬ\n",
    "\n",
    "В итоге можно рекомендовать оператору **продвигать тариф «Смарт»**. Он приносит больше выручки (это очень весомый фактор для оператора), его абоненты очень часто переплачивают сверх лимита, в отличие от абонентов \"Ультра\", которые очень редко используют пакетный лимит до конца. Также по абонентской плате он более привлекателен для абонентов - а это очень весомый фактор для пользователей.\n"
   ]
  },
  {
   "cell_type": "code",
   "execution_count": null,
   "metadata": {},
   "outputs": [],
   "source": []
  }
 ],
 "metadata": {
  "ExecuteTimeLog": [
   {
    "duration": 71,
    "start_time": "2022-03-24T14:51:10.063Z"
   },
   {
    "duration": 1479,
    "start_time": "2022-03-24T14:51:16.444Z"
   },
   {
    "duration": 469,
    "start_time": "2022-03-24T14:51:17.926Z"
   },
   {
    "duration": 467,
    "start_time": "2022-03-24T14:52:05.730Z"
   },
   {
    "duration": 102,
    "start_time": "2022-03-24T14:54:04.250Z"
   },
   {
    "duration": 94,
    "start_time": "2022-03-24T14:54:36.439Z"
   },
   {
    "duration": 23,
    "start_time": "2022-03-24T14:56:43.664Z"
   },
   {
    "duration": 130,
    "start_time": "2022-03-24T15:04:08.471Z"
   },
   {
    "duration": 13,
    "start_time": "2022-03-24T15:07:21.769Z"
   },
   {
    "duration": 9,
    "start_time": "2022-03-24T15:07:58.127Z"
   },
   {
    "duration": 34,
    "start_time": "2022-03-24T15:11:48.225Z"
   },
   {
    "duration": 25,
    "start_time": "2022-03-24T15:12:00.641Z"
   },
   {
    "duration": 48,
    "start_time": "2022-03-24T15:12:21.813Z"
   },
   {
    "duration": 49,
    "start_time": "2022-03-24T15:16:03.745Z"
   },
   {
    "duration": 49,
    "start_time": "2022-03-24T15:16:07.877Z"
   },
   {
    "duration": 13,
    "start_time": "2022-03-24T15:16:43.964Z"
   },
   {
    "duration": 98,
    "start_time": "2022-03-24T15:21:26.564Z"
   },
   {
    "duration": 24,
    "start_time": "2022-03-24T15:21:32.521Z"
   },
   {
    "duration": 13,
    "start_time": "2022-03-24T15:25:35.791Z"
   },
   {
    "duration": 51,
    "start_time": "2022-03-24T15:26:40.728Z"
   },
   {
    "duration": 14,
    "start_time": "2022-03-24T15:27:08.511Z"
   },
   {
    "duration": 536,
    "start_time": "2022-03-24T15:29:01.842Z"
   },
   {
    "duration": 28,
    "start_time": "2022-03-24T15:32:22.124Z"
   },
   {
    "duration": 820,
    "start_time": "2022-03-24T15:33:40.619Z"
   },
   {
    "duration": 210,
    "start_time": "2022-03-24T15:34:07.862Z"
   },
   {
    "duration": 371,
    "start_time": "2022-03-24T15:34:14.994Z"
   },
   {
    "duration": 820,
    "start_time": "2022-03-24T15:34:30.161Z"
   },
   {
    "duration": 811,
    "start_time": "2022-03-24T15:35:22.274Z"
   },
   {
    "duration": 805,
    "start_time": "2022-03-24T15:37:04.379Z"
   },
   {
    "duration": 6,
    "start_time": "2022-03-24T15:45:23.049Z"
   },
   {
    "duration": 5,
    "start_time": "2022-03-24T15:45:42.564Z"
   },
   {
    "duration": 9,
    "start_time": "2022-03-24T15:45:50.166Z"
   },
   {
    "duration": 27,
    "start_time": "2022-03-24T15:49:56.368Z"
   },
   {
    "duration": 39,
    "start_time": "2022-03-24T15:50:11.230Z"
   },
   {
    "duration": 20,
    "start_time": "2022-03-24T15:52:28.029Z"
   },
   {
    "duration": 50,
    "start_time": "2022-03-24T15:52:46.306Z"
   },
   {
    "duration": 11,
    "start_time": "2022-03-24T15:52:50.852Z"
   },
   {
    "duration": 13,
    "start_time": "2022-03-24T15:52:58.363Z"
   },
   {
    "duration": 837,
    "start_time": "2022-03-24T16:01:38.781Z"
   },
   {
    "duration": 6,
    "start_time": "2022-03-24T16:05:14.574Z"
   },
   {
    "duration": 9,
    "start_time": "2022-03-24T16:05:15.143Z"
   },
   {
    "duration": 10,
    "start_time": "2022-03-24T16:15:35.020Z"
   },
   {
    "duration": 10,
    "start_time": "2022-03-24T16:18:44.089Z"
   },
   {
    "duration": 193,
    "start_time": "2022-03-24T16:23:18.888Z"
   },
   {
    "duration": 171,
    "start_time": "2022-03-24T16:25:02.992Z"
   },
   {
    "duration": 103,
    "start_time": "2022-03-24T16:25:05.551Z"
   },
   {
    "duration": 149,
    "start_time": "2022-03-24T16:26:09.317Z"
   },
   {
    "duration": 21,
    "start_time": "2022-03-24T16:29:28.397Z"
   },
   {
    "duration": 23,
    "start_time": "2022-03-24T16:29:35.399Z"
   },
   {
    "duration": 34,
    "start_time": "2022-03-24T16:29:46.148Z"
   },
   {
    "duration": 158,
    "start_time": "2022-03-24T16:30:24.164Z"
   },
   {
    "duration": 89,
    "start_time": "2022-03-24T16:30:36.977Z"
   },
   {
    "duration": 109,
    "start_time": "2022-03-24T16:30:54.843Z"
   },
   {
    "duration": 11,
    "start_time": "2022-03-24T16:32:13.308Z"
   },
   {
    "duration": 37,
    "start_time": "2022-03-24T16:32:59.835Z"
   },
   {
    "duration": 33,
    "start_time": "2022-03-24T16:33:18.161Z"
   },
   {
    "duration": 33,
    "start_time": "2022-03-24T16:35:11.060Z"
   },
   {
    "duration": 37,
    "start_time": "2022-03-24T16:35:26.823Z"
   },
   {
    "duration": 34,
    "start_time": "2022-03-24T16:39:16.774Z"
   },
   {
    "duration": 35,
    "start_time": "2022-03-24T16:39:21.683Z"
   },
   {
    "duration": 35,
    "start_time": "2022-03-24T16:39:25.525Z"
   },
   {
    "duration": 36,
    "start_time": "2022-03-24T16:39:29.811Z"
   },
   {
    "duration": 9,
    "start_time": "2022-03-24T16:49:32.720Z"
   },
   {
    "duration": 1999,
    "start_time": "2022-03-24T16:49:52.226Z"
   },
   {
    "duration": 24,
    "start_time": "2022-03-24T16:50:03.669Z"
   },
   {
    "duration": 9,
    "start_time": "2022-03-24T16:52:10.693Z"
   },
   {
    "duration": 1829,
    "start_time": "2022-03-24T16:52:11.603Z"
   },
   {
    "duration": 11,
    "start_time": "2022-03-24T16:53:23.411Z"
   },
   {
    "duration": 1818,
    "start_time": "2022-03-24T16:55:14.349Z"
   },
   {
    "duration": 899,
    "start_time": "2022-03-24T16:56:18.901Z"
   },
   {
    "duration": 544,
    "start_time": "2022-03-24T16:56:36.675Z"
   },
   {
    "duration": 583,
    "start_time": "2022-03-24T16:56:44.592Z"
   },
   {
    "duration": 9,
    "start_time": "2022-03-24T16:56:48.161Z"
   },
   {
    "duration": 464,
    "start_time": "2022-03-24T16:56:49.070Z"
   },
   {
    "duration": 10,
    "start_time": "2022-03-24T17:09:01.690Z"
   },
   {
    "duration": 478,
    "start_time": "2022-03-24T17:09:02.747Z"
   },
   {
    "duration": 213,
    "start_time": "2022-03-24T17:12:54.068Z"
   },
   {
    "duration": 221,
    "start_time": "2022-03-24T17:14:54.648Z"
   },
   {
    "duration": 223,
    "start_time": "2022-03-24T17:17:49.193Z"
   },
   {
    "duration": 45,
    "start_time": "2022-03-24T17:19:26.073Z"
   },
   {
    "duration": 1133,
    "start_time": "2022-03-24T17:21:11.441Z"
   },
   {
    "duration": 1135,
    "start_time": "2022-03-24T17:21:34.190Z"
   },
   {
    "duration": 1234,
    "start_time": "2022-03-24T17:22:03.548Z"
   },
   {
    "duration": 223,
    "start_time": "2022-03-24T17:39:05.017Z"
   },
   {
    "duration": 267,
    "start_time": "2022-03-24T17:40:00.540Z"
   },
   {
    "duration": 271,
    "start_time": "2022-03-24T17:41:11.013Z"
   },
   {
    "duration": 278,
    "start_time": "2022-03-24T17:41:44.919Z"
   },
   {
    "duration": 283,
    "start_time": "2022-03-24T17:41:53.524Z"
   },
   {
    "duration": 384,
    "start_time": "2022-03-24T17:42:22.388Z"
   },
   {
    "duration": 262,
    "start_time": "2022-03-24T17:42:46.584Z"
   },
   {
    "duration": 315,
    "start_time": "2022-03-24T17:43:35.110Z"
   },
   {
    "duration": 16,
    "start_time": "2022-03-24T17:53:10.889Z"
   },
   {
    "duration": 19,
    "start_time": "2022-03-24T17:55:34.830Z"
   },
   {
    "duration": 109,
    "start_time": "2022-03-24T18:03:18.137Z"
   },
   {
    "duration": 5,
    "start_time": "2022-03-24T18:03:24.880Z"
   },
   {
    "duration": 1901,
    "start_time": "2022-03-24T18:06:03.838Z"
   },
   {
    "duration": 2127,
    "start_time": "2022-03-24T18:06:58.551Z"
   },
   {
    "duration": 6,
    "start_time": "2022-03-24T18:07:00.680Z"
   },
   {
    "duration": 107,
    "start_time": "2022-03-24T18:08:56.583Z"
   },
   {
    "duration": 11,
    "start_time": "2022-03-24T18:11:29.536Z"
   },
   {
    "duration": 4,
    "start_time": "2022-03-24T18:11:42.524Z"
   },
   {
    "duration": 20,
    "start_time": "2022-03-24T18:11:43.032Z"
   },
   {
    "duration": 2375,
    "start_time": "2022-04-04T18:50:54.036Z"
   },
   {
    "duration": 740,
    "start_time": "2022-04-04T18:50:56.415Z"
   },
   {
    "duration": 160,
    "start_time": "2022-04-04T18:50:57.157Z"
   },
   {
    "duration": 32,
    "start_time": "2022-04-04T18:50:57.320Z"
   },
   {
    "duration": 126,
    "start_time": "2022-04-04T18:50:57.355Z"
   },
   {
    "duration": 14,
    "start_time": "2022-04-04T18:50:57.483Z"
   },
   {
    "duration": 67,
    "start_time": "2022-04-04T18:50:57.500Z"
   },
   {
    "duration": 77,
    "start_time": "2022-04-04T18:50:57.570Z"
   },
   {
    "duration": 15,
    "start_time": "2022-04-04T18:50:57.648Z"
   },
   {
    "duration": 1309,
    "start_time": "2022-04-04T18:50:57.668Z"
   },
   {
    "duration": 8,
    "start_time": "2022-04-04T18:50:58.979Z"
   },
   {
    "duration": 19,
    "start_time": "2022-04-04T18:50:58.990Z"
   },
   {
    "duration": 70,
    "start_time": "2022-04-04T18:50:59.011Z"
   },
   {
    "duration": 78,
    "start_time": "2022-04-04T18:50:59.083Z"
   },
   {
    "duration": 14,
    "start_time": "2022-04-04T18:50:59.163Z"
   },
   {
    "duration": 945,
    "start_time": "2022-04-04T18:50:59.179Z"
   },
   {
    "duration": 5,
    "start_time": "2022-04-04T18:51:00.128Z"
   },
   {
    "duration": 11,
    "start_time": "2022-04-04T18:51:00.143Z"
   },
   {
    "duration": 12,
    "start_time": "2022-04-04T18:51:00.157Z"
   },
   {
    "duration": 71,
    "start_time": "2022-04-04T18:51:00.172Z"
   },
   {
    "duration": 257,
    "start_time": "2022-04-04T18:51:00.246Z"
   },
   {
    "duration": 145,
    "start_time": "2022-04-04T18:51:00.506Z"
   },
   {
    "duration": 168,
    "start_time": "2022-04-04T18:51:00.654Z"
   },
   {
    "duration": 58,
    "start_time": "2022-04-04T18:51:00.825Z"
   },
   {
    "duration": 58,
    "start_time": "2022-04-04T18:51:00.885Z"
   },
   {
    "duration": 3878,
    "start_time": "2022-04-04T18:51:00.946Z"
   },
   {
    "duration": 44,
    "start_time": "2022-04-04T18:51:04.827Z"
   },
   {
    "duration": 13,
    "start_time": "2022-04-04T18:51:04.878Z"
   },
   {
    "duration": 818,
    "start_time": "2022-04-04T18:51:04.893Z"
   },
   {
    "duration": 212,
    "start_time": "2022-04-04T18:51:05.713Z"
   },
   {
    "duration": 51,
    "start_time": "2022-04-04T18:51:05.928Z"
   },
   {
    "duration": 1163,
    "start_time": "2022-04-04T18:51:05.981Z"
   },
   {
    "duration": 296,
    "start_time": "2022-04-04T18:51:07.147Z"
   },
   {
    "duration": 286,
    "start_time": "2022-04-04T18:51:07.445Z"
   },
   {
    "duration": 322,
    "start_time": "2022-04-04T18:51:07.734Z"
   },
   {
    "duration": 17,
    "start_time": "2022-04-04T18:51:08.059Z"
   },
   {
    "duration": 19,
    "start_time": "2022-04-04T18:51:08.079Z"
   },
   {
    "duration": 2074,
    "start_time": "2022-04-04T18:51:08.100Z"
   },
   {
    "duration": 8,
    "start_time": "2022-04-04T18:51:10.176Z"
   },
   {
    "duration": 22,
    "start_time": "2022-04-04T18:51:10.187Z"
   },
   {
    "duration": 32,
    "start_time": "2022-04-04T18:51:10.211Z"
   },
   {
    "duration": 4,
    "start_time": "2022-04-04T18:52:19.576Z"
   },
   {
    "duration": 49,
    "start_time": "2022-04-04T18:52:31.714Z"
   },
   {
    "duration": 1405,
    "start_time": "2022-04-05T04:37:04.866Z"
   },
   {
    "duration": 409,
    "start_time": "2022-04-05T04:37:06.274Z"
   },
   {
    "duration": 78,
    "start_time": "2022-04-05T04:37:06.685Z"
   },
   {
    "duration": 18,
    "start_time": "2022-04-05T04:37:06.766Z"
   },
   {
    "duration": 96,
    "start_time": "2022-04-05T04:37:21.156Z"
   },
   {
    "duration": 11,
    "start_time": "2022-04-05T04:37:21.254Z"
   },
   {
    "duration": 61,
    "start_time": "2022-04-05T04:37:21.267Z"
   },
   {
    "duration": 46,
    "start_time": "2022-04-05T04:37:21.330Z"
   },
   {
    "duration": 29,
    "start_time": "2022-04-05T04:37:21.379Z"
   },
   {
    "duration": 763,
    "start_time": "2022-04-05T04:37:21.410Z"
   },
   {
    "duration": 7,
    "start_time": "2022-04-05T04:37:22.176Z"
   },
   {
    "duration": 20,
    "start_time": "2022-04-05T04:37:22.185Z"
   },
   {
    "duration": 36,
    "start_time": "2022-04-05T04:37:22.207Z"
   },
   {
    "duration": 59,
    "start_time": "2022-04-05T04:37:22.245Z"
   },
   {
    "duration": 11,
    "start_time": "2022-04-05T04:37:22.307Z"
   },
   {
    "duration": 633,
    "start_time": "2022-04-05T04:37:22.319Z"
   },
   {
    "duration": 6,
    "start_time": "2022-04-05T04:37:22.953Z"
   },
   {
    "duration": 44,
    "start_time": "2022-04-05T04:37:22.963Z"
   },
   {
    "duration": 39,
    "start_time": "2022-04-05T04:37:23.009Z"
   },
   {
    "duration": 38,
    "start_time": "2022-04-05T04:37:23.049Z"
   },
   {
    "duration": 157,
    "start_time": "2022-04-05T04:37:23.088Z"
   },
   {
    "duration": 82,
    "start_time": "2022-04-05T04:37:23.247Z"
   },
   {
    "duration": 99,
    "start_time": "2022-04-05T04:37:23.330Z"
   },
   {
    "duration": 25,
    "start_time": "2022-04-05T04:37:23.431Z"
   },
   {
    "duration": 7,
    "start_time": "2022-04-05T04:37:23.457Z"
   },
   {
    "duration": 1109,
    "start_time": "2022-04-05T04:37:23.466Z"
   },
   {
    "duration": 28,
    "start_time": "2022-04-05T04:37:24.577Z"
   },
   {
    "duration": 30,
    "start_time": "2022-04-05T04:37:24.607Z"
   },
   {
    "duration": 298,
    "start_time": "2022-04-05T04:37:24.639Z"
   },
   {
    "duration": 136,
    "start_time": "2022-04-05T04:37:24.939Z"
   },
   {
    "duration": 50,
    "start_time": "2022-04-05T04:37:25.077Z"
   },
   {
    "duration": 894,
    "start_time": "2022-04-05T04:37:25.129Z"
   },
   {
    "duration": 176,
    "start_time": "2022-04-05T04:37:26.025Z"
   },
   {
    "duration": 181,
    "start_time": "2022-04-05T04:37:26.202Z"
   },
   {
    "duration": 280,
    "start_time": "2022-04-05T04:37:26.385Z"
   },
   {
    "duration": 13,
    "start_time": "2022-04-05T04:37:26.667Z"
   },
   {
    "duration": 40,
    "start_time": "2022-04-05T04:37:26.682Z"
   },
   {
    "duration": 1160,
    "start_time": "2022-04-05T04:37:26.724Z"
   },
   {
    "duration": 6,
    "start_time": "2022-04-05T04:37:27.886Z"
   },
   {
    "duration": 15,
    "start_time": "2022-04-05T04:37:27.902Z"
   },
   {
    "duration": 28,
    "start_time": "2022-04-05T04:37:27.919Z"
   },
   {
    "duration": 13,
    "start_time": "2022-04-05T04:57:20.909Z"
   },
   {
    "duration": 4,
    "start_time": "2022-04-05T05:03:22.635Z"
   },
   {
    "duration": 404,
    "start_time": "2022-04-05T05:03:22.642Z"
   },
   {
    "duration": 80,
    "start_time": "2022-04-05T05:03:23.049Z"
   },
   {
    "duration": 16,
    "start_time": "2022-04-05T05:03:23.131Z"
   },
   {
    "duration": 101,
    "start_time": "2022-04-05T05:03:23.149Z"
   },
   {
    "duration": 7,
    "start_time": "2022-04-05T05:03:23.252Z"
   },
   {
    "duration": 51,
    "start_time": "2022-04-05T05:03:23.260Z"
   },
   {
    "duration": 43,
    "start_time": "2022-04-05T05:03:23.312Z"
   },
   {
    "duration": 11,
    "start_time": "2022-04-05T05:03:23.357Z"
   },
   {
    "duration": 567,
    "start_time": "2022-04-05T05:03:23.370Z"
   },
   {
    "duration": 7,
    "start_time": "2022-04-05T05:03:23.939Z"
   },
   {
    "duration": 12,
    "start_time": "2022-04-05T05:03:23.948Z"
   },
   {
    "duration": 52,
    "start_time": "2022-04-05T05:03:23.962Z"
   },
   {
    "duration": 38,
    "start_time": "2022-04-05T05:03:24.016Z"
   },
   {
    "duration": 10,
    "start_time": "2022-04-05T05:03:24.056Z"
   },
   {
    "duration": 573,
    "start_time": "2022-04-05T05:03:24.068Z"
   },
   {
    "duration": 5,
    "start_time": "2022-04-05T05:03:24.643Z"
   },
   {
    "duration": 9,
    "start_time": "2022-04-05T05:03:24.650Z"
   },
   {
    "duration": 8,
    "start_time": "2022-04-05T05:03:24.661Z"
   },
   {
    "duration": 48,
    "start_time": "2022-04-05T05:03:24.670Z"
   },
   {
    "duration": 144,
    "start_time": "2022-04-05T05:03:24.720Z"
   },
   {
    "duration": 73,
    "start_time": "2022-04-05T05:03:24.866Z"
   },
   {
    "duration": 81,
    "start_time": "2022-04-05T05:03:24.940Z"
   },
   {
    "duration": 26,
    "start_time": "2022-04-05T05:03:32.001Z"
   },
   {
    "duration": 5,
    "start_time": "2022-04-05T05:03:51.864Z"
   },
   {
    "duration": 4,
    "start_time": "2022-04-05T05:04:18.602Z"
   },
   {
    "duration": 5,
    "start_time": "2022-04-05T05:05:45.949Z"
   },
   {
    "duration": 4,
    "start_time": "2022-04-05T05:06:04.722Z"
   },
   {
    "duration": 5,
    "start_time": "2022-04-05T05:14:49.077Z"
   },
   {
    "duration": 2360,
    "start_time": "2022-04-05T05:19:54.099Z"
   },
   {
    "duration": 3,
    "start_time": "2022-04-05T05:20:00.668Z"
   },
   {
    "duration": 414,
    "start_time": "2022-04-05T05:20:00.673Z"
   },
   {
    "duration": 77,
    "start_time": "2022-04-05T05:20:01.089Z"
   },
   {
    "duration": 15,
    "start_time": "2022-04-05T05:20:01.168Z"
   },
   {
    "duration": 79,
    "start_time": "2022-04-05T05:20:01.201Z"
   },
   {
    "duration": 19,
    "start_time": "2022-04-05T05:20:01.282Z"
   },
   {
    "duration": 36,
    "start_time": "2022-04-05T05:20:01.303Z"
   },
   {
    "duration": 39,
    "start_time": "2022-04-05T05:20:01.341Z"
   },
   {
    "duration": 10,
    "start_time": "2022-04-05T05:20:01.401Z"
   },
   {
    "duration": 601,
    "start_time": "2022-04-05T05:20:01.413Z"
   },
   {
    "duration": 6,
    "start_time": "2022-04-05T05:20:02.017Z"
   },
   {
    "duration": 13,
    "start_time": "2022-04-05T05:20:02.025Z"
   },
   {
    "duration": 36,
    "start_time": "2022-04-05T05:20:02.040Z"
   },
   {
    "duration": 57,
    "start_time": "2022-04-05T05:20:02.078Z"
   },
   {
    "duration": 10,
    "start_time": "2022-04-05T05:20:02.136Z"
   },
   {
    "duration": 626,
    "start_time": "2022-04-05T05:20:02.148Z"
   },
   {
    "duration": 6,
    "start_time": "2022-04-05T05:20:02.776Z"
   },
   {
    "duration": 18,
    "start_time": "2022-04-05T05:20:02.784Z"
   },
   {
    "duration": 32,
    "start_time": "2022-04-05T05:20:02.804Z"
   },
   {
    "duration": 33,
    "start_time": "2022-04-05T05:20:02.838Z"
   },
   {
    "duration": 136,
    "start_time": "2022-04-05T05:20:02.873Z"
   },
   {
    "duration": 69,
    "start_time": "2022-04-05T05:20:03.011Z"
   },
   {
    "duration": 96,
    "start_time": "2022-04-05T05:20:03.082Z"
   },
   {
    "duration": 44,
    "start_time": "2022-04-05T05:20:03.182Z"
   },
   {
    "duration": 8,
    "start_time": "2022-04-05T05:20:03.229Z"
   },
   {
    "duration": 1214,
    "start_time": "2022-04-05T05:20:03.239Z"
   },
   {
    "duration": 20,
    "start_time": "2022-04-05T05:20:04.455Z"
   },
   {
    "duration": 26,
    "start_time": "2022-04-05T05:20:04.477Z"
   },
   {
    "duration": 289,
    "start_time": "2022-04-05T05:20:04.505Z"
   },
   {
    "duration": 5,
    "start_time": "2022-04-05T05:20:07.617Z"
   },
   {
    "duration": 258,
    "start_time": "2022-04-05T05:26:57.833Z"
   },
   {
    "duration": 120,
    "start_time": "2022-04-05T05:26:58.093Z"
   },
   {
    "duration": 29,
    "start_time": "2022-04-05T05:26:58.215Z"
   },
   {
    "duration": 882,
    "start_time": "2022-04-05T05:26:58.246Z"
   },
   {
    "duration": 183,
    "start_time": "2022-04-05T05:26:59.130Z"
   },
   {
    "duration": 179,
    "start_time": "2022-04-05T05:26:59.314Z"
   },
   {
    "duration": 200,
    "start_time": "2022-04-05T05:26:59.496Z"
   },
   {
    "duration": 13,
    "start_time": "2022-04-05T05:26:59.698Z"
   },
   {
    "duration": 14,
    "start_time": "2022-04-05T05:26:59.713Z"
   },
   {
    "duration": 1306,
    "start_time": "2022-04-05T05:26:59.730Z"
   },
   {
    "duration": 6,
    "start_time": "2022-04-05T05:27:01.038Z"
   },
   {
    "duration": 3,
    "start_time": "2022-04-05T05:27:01.101Z"
   },
   {
    "duration": 34,
    "start_time": "2022-04-05T05:27:01.106Z"
   },
   {
    "duration": 36,
    "start_time": "2022-04-05T05:27:33.109Z"
   },
   {
    "duration": 35,
    "start_time": "2022-04-05T05:29:18.276Z"
   },
   {
    "duration": 4,
    "start_time": "2022-04-05T05:54:44.679Z"
   },
   {
    "duration": 395,
    "start_time": "2022-04-05T05:54:44.685Z"
   },
   {
    "duration": 79,
    "start_time": "2022-04-05T05:54:45.082Z"
   },
   {
    "duration": 16,
    "start_time": "2022-04-05T05:54:45.163Z"
   },
   {
    "duration": 140,
    "start_time": "2022-04-05T05:54:45.181Z"
   },
   {
    "duration": 10,
    "start_time": "2022-04-05T05:54:45.323Z"
   },
   {
    "duration": 56,
    "start_time": "2022-04-05T05:54:45.336Z"
   },
   {
    "duration": 58,
    "start_time": "2022-04-05T05:54:45.403Z"
   },
   {
    "duration": 12,
    "start_time": "2022-04-05T05:54:45.464Z"
   },
   {
    "duration": 555,
    "start_time": "2022-04-05T05:54:45.500Z"
   },
   {
    "duration": 7,
    "start_time": "2022-04-05T05:54:46.057Z"
   },
   {
    "duration": 23,
    "start_time": "2022-04-05T05:54:46.065Z"
   },
   {
    "duration": 39,
    "start_time": "2022-04-05T05:54:46.090Z"
   },
   {
    "duration": 35,
    "start_time": "2022-04-05T05:54:46.131Z"
   },
   {
    "duration": 9,
    "start_time": "2022-04-05T05:54:46.168Z"
   },
   {
    "duration": 616,
    "start_time": "2022-04-05T05:54:46.179Z"
   },
   {
    "duration": 6,
    "start_time": "2022-04-05T05:54:46.801Z"
   },
   {
    "duration": 19,
    "start_time": "2022-04-05T05:54:46.809Z"
   },
   {
    "duration": 32,
    "start_time": "2022-04-05T05:54:46.830Z"
   },
   {
    "duration": 55,
    "start_time": "2022-04-05T05:54:46.864Z"
   },
   {
    "duration": 123,
    "start_time": "2022-04-05T05:54:46.921Z"
   },
   {
    "duration": 75,
    "start_time": "2022-04-05T05:54:47.046Z"
   },
   {
    "duration": 87,
    "start_time": "2022-04-05T05:54:47.123Z"
   },
   {
    "duration": 26,
    "start_time": "2022-04-05T05:54:47.213Z"
   },
   {
    "duration": 7,
    "start_time": "2022-04-05T05:54:47.241Z"
   },
   {
    "duration": 1134,
    "start_time": "2022-04-05T05:54:47.249Z"
   },
   {
    "duration": 25,
    "start_time": "2022-04-05T05:54:48.385Z"
   },
   {
    "duration": 10,
    "start_time": "2022-04-05T05:54:48.411Z"
   },
   {
    "duration": 266,
    "start_time": "2022-04-05T05:54:48.423Z"
   },
   {
    "duration": 126,
    "start_time": "2022-04-05T05:54:48.691Z"
   },
   {
    "duration": 30,
    "start_time": "2022-04-05T05:54:48.819Z"
   },
   {
    "duration": 873,
    "start_time": "2022-04-05T05:54:48.851Z"
   },
   {
    "duration": 177,
    "start_time": "2022-04-05T05:54:49.726Z"
   },
   {
    "duration": 175,
    "start_time": "2022-04-05T05:54:49.905Z"
   },
   {
    "duration": 197,
    "start_time": "2022-04-05T05:54:50.082Z"
   },
   {
    "duration": 22,
    "start_time": "2022-04-05T05:54:50.280Z"
   },
   {
    "duration": 14,
    "start_time": "2022-04-05T05:54:50.305Z"
   },
   {
    "duration": 1162,
    "start_time": "2022-04-05T05:54:50.321Z"
   },
   {
    "duration": 5,
    "start_time": "2022-04-05T05:54:51.485Z"
   },
   {
    "duration": 15,
    "start_time": "2022-04-05T05:54:51.492Z"
   },
   {
    "duration": 18,
    "start_time": "2022-04-05T05:54:51.508Z"
   },
   {
    "duration": 51,
    "start_time": "2022-04-05T06:15:55.331Z"
   },
   {
    "duration": 1251,
    "start_time": "2022-04-05T06:16:09.869Z"
   },
   {
    "duration": 464,
    "start_time": "2022-04-05T06:16:11.122Z"
   },
   {
    "duration": 72,
    "start_time": "2022-04-05T06:16:12.643Z"
   },
   {
    "duration": 72,
    "start_time": "2022-04-05T06:16:24.360Z"
   },
   {
    "duration": 16,
    "start_time": "2022-04-05T06:16:44.715Z"
   },
   {
    "duration": 32,
    "start_time": "2022-04-05T06:17:40.846Z"
   },
   {
    "duration": 79,
    "start_time": "2022-04-05T06:18:04.409Z"
   },
   {
    "duration": 71,
    "start_time": "2022-04-05T06:18:23.344Z"
   },
   {
    "duration": 30,
    "start_time": "2022-04-05T06:18:52.239Z"
   },
   {
    "duration": 83,
    "start_time": "2022-04-05T06:18:55.938Z"
   },
   {
    "duration": 9,
    "start_time": "2022-04-05T06:19:03.998Z"
   },
   {
    "duration": 35,
    "start_time": "2022-04-05T06:19:05.489Z"
   },
   {
    "duration": 52,
    "start_time": "2022-04-05T06:19:07.827Z"
   },
   {
    "duration": 9,
    "start_time": "2022-04-05T06:19:09.174Z"
   },
   {
    "duration": 738,
    "start_time": "2022-04-05T06:19:11.012Z"
   },
   {
    "duration": 7,
    "start_time": "2022-04-05T06:19:46.938Z"
   },
   {
    "duration": 8,
    "start_time": "2022-04-05T06:19:47.659Z"
   },
   {
    "duration": 8,
    "start_time": "2022-04-05T06:20:35.110Z"
   },
   {
    "duration": 30,
    "start_time": "2022-04-05T06:22:13.914Z"
   },
   {
    "duration": 31,
    "start_time": "2022-04-05T06:25:19.045Z"
   },
   {
    "duration": 30,
    "start_time": "2022-04-05T06:25:49.074Z"
   },
   {
    "duration": 10,
    "start_time": "2022-04-05T06:42:52.060Z"
   },
   {
    "duration": 10,
    "start_time": "2022-04-05T06:44:30.642Z"
   },
   {
    "duration": 19,
    "start_time": "2022-04-05T06:46:49.270Z"
   },
   {
    "duration": 3,
    "start_time": "2022-04-05T06:48:56.310Z"
   },
   {
    "duration": 24,
    "start_time": "2022-04-05T06:49:33.202Z"
   },
   {
    "duration": 81,
    "start_time": "2022-04-05T06:49:42.925Z"
   },
   {
    "duration": 111,
    "start_time": "2022-04-05T06:50:26.771Z"
   },
   {
    "duration": 8,
    "start_time": "2022-04-05T06:50:39.116Z"
   },
   {
    "duration": 24,
    "start_time": "2022-04-05T06:50:43.624Z"
   },
   {
    "duration": 114,
    "start_time": "2022-04-05T06:50:49.751Z"
   },
   {
    "duration": 128,
    "start_time": "2022-04-05T06:51:22.023Z"
   },
   {
    "duration": 101,
    "start_time": "2022-04-05T06:52:24.273Z"
   },
   {
    "duration": 59,
    "start_time": "2022-04-05T06:52:28.591Z"
   },
   {
    "duration": 87,
    "start_time": "2022-04-05T06:52:31.824Z"
   },
   {
    "duration": 26,
    "start_time": "2022-04-05T06:52:36.609Z"
   },
   {
    "duration": 94,
    "start_time": "2022-04-05T06:53:01.871Z"
   },
   {
    "duration": 26,
    "start_time": "2022-04-05T06:53:04.636Z"
   },
   {
    "duration": 5,
    "start_time": "2022-04-05T06:54:43.151Z"
   },
   {
    "duration": 4,
    "start_time": "2022-04-05T06:55:11.960Z"
   },
   {
    "duration": 4,
    "start_time": "2022-04-05T06:56:29.601Z"
   },
   {
    "duration": 7,
    "start_time": "2022-04-05T06:57:25.219Z"
   },
   {
    "duration": 24,
    "start_time": "2022-04-05T06:57:27.007Z"
   },
   {
    "duration": 112,
    "start_time": "2022-04-05T06:57:28.216Z"
   },
   {
    "duration": 63,
    "start_time": "2022-04-05T06:57:33.821Z"
   },
   {
    "duration": 74,
    "start_time": "2022-04-05T06:57:35.908Z"
   },
   {
    "duration": 24,
    "start_time": "2022-04-05T06:57:50.265Z"
   },
   {
    "duration": 4,
    "start_time": "2022-04-05T06:57:56.045Z"
   },
   {
    "duration": 6,
    "start_time": "2022-04-05T06:59:00.055Z"
   },
   {
    "duration": 1058,
    "start_time": "2022-04-05T06:59:01.336Z"
   },
   {
    "duration": 20,
    "start_time": "2022-04-05T06:59:02.396Z"
   },
   {
    "duration": 7,
    "start_time": "2022-04-05T06:59:04.752Z"
   },
   {
    "duration": 4,
    "start_time": "2022-04-05T06:59:41.516Z"
   },
   {
    "duration": 4,
    "start_time": "2022-04-05T07:09:37.657Z"
   },
   {
    "duration": 5,
    "start_time": "2022-04-05T07:10:01.327Z"
   },
   {
    "duration": 7,
    "start_time": "2022-04-05T07:10:21.936Z"
   },
   {
    "duration": 24,
    "start_time": "2022-04-05T07:10:25.239Z"
   },
   {
    "duration": 104,
    "start_time": "2022-04-05T07:10:51.008Z"
   },
   {
    "duration": 60,
    "start_time": "2022-04-05T07:10:58.816Z"
   },
   {
    "duration": 73,
    "start_time": "2022-04-05T07:11:13.003Z"
   },
   {
    "duration": 26,
    "start_time": "2022-04-05T07:11:49.444Z"
   },
   {
    "duration": 5,
    "start_time": "2022-04-05T07:11:55.317Z"
   },
   {
    "duration": 4,
    "start_time": "2022-04-05T07:11:56.968Z"
   },
   {
    "duration": 5,
    "start_time": "2022-04-05T07:12:09.668Z"
   },
   {
    "duration": 4,
    "start_time": "2022-04-05T07:12:10.756Z"
   },
   {
    "duration": 194,
    "start_time": "2022-04-05T07:14:15.780Z"
   },
   {
    "duration": 73,
    "start_time": "2022-04-05T07:15:05.745Z"
   },
   {
    "duration": 7,
    "start_time": "2022-04-05T07:15:27.121Z"
   },
   {
    "duration": 24,
    "start_time": "2022-04-05T07:15:29.152Z"
   },
   {
    "duration": 116,
    "start_time": "2022-04-05T07:15:30.574Z"
   },
   {
    "duration": 63,
    "start_time": "2022-04-05T07:15:31.956Z"
   },
   {
    "duration": 79,
    "start_time": "2022-04-05T07:15:33.440Z"
   },
   {
    "duration": 31,
    "start_time": "2022-04-05T07:15:40.324Z"
   },
   {
    "duration": 5,
    "start_time": "2022-04-05T07:15:47.271Z"
   },
   {
    "duration": 4,
    "start_time": "2022-04-05T07:15:48.326Z"
   },
   {
    "duration": 78,
    "start_time": "2022-04-05T07:16:26.778Z"
   },
   {
    "duration": 361,
    "start_time": "2022-04-05T07:19:27.189Z"
   },
   {
    "duration": 64,
    "start_time": "2022-04-05T07:19:32.534Z"
   },
   {
    "duration": 72,
    "start_time": "2022-04-05T07:19:34.015Z"
   },
   {
    "duration": 25,
    "start_time": "2022-04-05T07:19:37.842Z"
   },
   {
    "duration": 5,
    "start_time": "2022-04-05T07:19:39.399Z"
   },
   {
    "duration": 4,
    "start_time": "2022-04-05T07:19:40.007Z"
   },
   {
    "duration": 6,
    "start_time": "2022-04-05T07:20:07.668Z"
   },
   {
    "duration": 6,
    "start_time": "2022-04-05T07:20:35.880Z"
   },
   {
    "duration": 1118,
    "start_time": "2022-04-05T07:20:40.239Z"
   },
   {
    "duration": 19,
    "start_time": "2022-04-05T07:20:41.444Z"
   },
   {
    "duration": 6,
    "start_time": "2022-04-05T07:23:03.561Z"
   },
   {
    "duration": 19,
    "start_time": "2022-04-05T07:23:08.614Z"
   },
   {
    "duration": 6,
    "start_time": "2022-04-05T07:23:22.757Z"
   },
   {
    "duration": 6,
    "start_time": "2022-04-05T07:23:48.183Z"
   },
   {
    "duration": 3553,
    "start_time": "2022-04-05T07:23:49.128Z"
   },
   {
    "duration": 6,
    "start_time": "2022-04-05T07:23:59.474Z"
   },
   {
    "duration": 3745,
    "start_time": "2022-04-05T07:24:36.193Z"
   },
   {
    "duration": 1120,
    "start_time": "2022-04-05T07:25:50.089Z"
   },
   {
    "duration": 482,
    "start_time": "2022-04-05T07:25:51.211Z"
   },
   {
    "duration": 76,
    "start_time": "2022-04-05T07:25:51.695Z"
   },
   {
    "duration": 35,
    "start_time": "2022-04-05T07:25:51.774Z"
   },
   {
    "duration": 86,
    "start_time": "2022-04-05T07:25:51.831Z"
   },
   {
    "duration": 12,
    "start_time": "2022-04-05T07:25:51.919Z"
   },
   {
    "duration": 35,
    "start_time": "2022-04-05T07:25:51.933Z"
   },
   {
    "duration": 68,
    "start_time": "2022-04-05T07:25:51.970Z"
   },
   {
    "duration": 10,
    "start_time": "2022-04-05T07:25:52.040Z"
   },
   {
    "duration": 661,
    "start_time": "2022-04-05T07:25:52.052Z"
   },
   {
    "duration": 19,
    "start_time": "2022-04-05T07:25:52.714Z"
   },
   {
    "duration": 8,
    "start_time": "2022-04-05T07:25:52.735Z"
   },
   {
    "duration": 31,
    "start_time": "2022-04-05T07:25:52.745Z"
   },
   {
    "duration": 55,
    "start_time": "2022-04-05T07:25:52.778Z"
   },
   {
    "duration": 9,
    "start_time": "2022-04-05T07:25:52.835Z"
   },
   {
    "duration": 629,
    "start_time": "2022-04-05T07:25:52.845Z"
   },
   {
    "duration": 10,
    "start_time": "2022-04-05T07:25:53.476Z"
   },
   {
    "duration": 18,
    "start_time": "2022-04-05T07:25:53.487Z"
   },
   {
    "duration": 27,
    "start_time": "2022-04-05T07:25:53.506Z"
   },
   {
    "duration": 27,
    "start_time": "2022-04-05T07:25:53.535Z"
   },
   {
    "duration": 158,
    "start_time": "2022-04-05T07:25:53.565Z"
   },
   {
    "duration": 72,
    "start_time": "2022-04-05T07:25:53.725Z"
   },
   {
    "duration": 108,
    "start_time": "2022-04-05T07:25:53.799Z"
   },
   {
    "duration": 31,
    "start_time": "2022-04-05T07:25:53.909Z"
   },
   {
    "duration": 5,
    "start_time": "2022-04-05T07:25:53.942Z"
   },
   {
    "duration": 7,
    "start_time": "2022-04-05T07:25:53.949Z"
   },
   {
    "duration": 12,
    "start_time": "2022-04-05T07:25:53.958Z"
   },
   {
    "duration": 1119,
    "start_time": "2022-04-05T07:25:53.974Z"
   },
   {
    "duration": 18,
    "start_time": "2022-04-05T07:25:55.095Z"
   },
   {
    "duration": 17,
    "start_time": "2022-04-05T07:25:55.115Z"
   },
   {
    "duration": 5630,
    "start_time": "2022-04-05T07:25:55.133Z"
   },
   {
    "duration": 0,
    "start_time": "2022-04-05T07:26:00.765Z"
   },
   {
    "duration": 0,
    "start_time": "2022-04-05T07:26:00.766Z"
   },
   {
    "duration": 0,
    "start_time": "2022-04-05T07:26:00.767Z"
   },
   {
    "duration": 0,
    "start_time": "2022-04-05T07:26:00.768Z"
   },
   {
    "duration": 0,
    "start_time": "2022-04-05T07:26:00.769Z"
   },
   {
    "duration": 0,
    "start_time": "2022-04-05T07:26:00.770Z"
   },
   {
    "duration": 0,
    "start_time": "2022-04-05T07:26:00.771Z"
   },
   {
    "duration": 0,
    "start_time": "2022-04-05T07:26:00.772Z"
   },
   {
    "duration": 0,
    "start_time": "2022-04-05T07:26:00.773Z"
   },
   {
    "duration": 0,
    "start_time": "2022-04-05T07:26:00.774Z"
   },
   {
    "duration": 0,
    "start_time": "2022-04-05T07:26:00.775Z"
   },
   {
    "duration": 0,
    "start_time": "2022-04-05T07:26:00.776Z"
   },
   {
    "duration": 0,
    "start_time": "2022-04-05T07:26:00.777Z"
   },
   {
    "duration": 8,
    "start_time": "2022-04-05T07:30:13.134Z"
   },
   {
    "duration": 11,
    "start_time": "2022-04-05T07:33:28.301Z"
   },
   {
    "duration": 11,
    "start_time": "2022-04-05T07:33:47.429Z"
   },
   {
    "duration": 7,
    "start_time": "2022-04-05T07:33:48.197Z"
   },
   {
    "duration": 260,
    "start_time": "2022-04-05T07:33:49.536Z"
   },
   {
    "duration": 4,
    "start_time": "2022-04-05T07:33:57.634Z"
   },
   {
    "duration": 4,
    "start_time": "2022-04-05T07:35:13.518Z"
   },
   {
    "duration": 4,
    "start_time": "2022-04-05T07:36:44.644Z"
   },
   {
    "duration": 10,
    "start_time": "2022-04-05T07:37:47.275Z"
   },
   {
    "duration": 17,
    "start_time": "2022-04-05T07:37:56.945Z"
   },
   {
    "duration": 108,
    "start_time": "2022-04-05T07:38:09.523Z"
   },
   {
    "duration": 20,
    "start_time": "2022-04-05T07:45:53.186Z"
   },
   {
    "duration": 21,
    "start_time": "2022-04-05T07:48:12.602Z"
   },
   {
    "duration": 22,
    "start_time": "2022-04-05T07:50:52.963Z"
   },
   {
    "duration": 17,
    "start_time": "2022-04-05T07:54:06.801Z"
   },
   {
    "duration": 21,
    "start_time": "2022-04-05T07:54:25.091Z"
   },
   {
    "duration": 16,
    "start_time": "2022-04-05T07:54:38.092Z"
   },
   {
    "duration": 160,
    "start_time": "2022-04-05T07:56:53.817Z"
   },
   {
    "duration": 6,
    "start_time": "2022-04-05T08:02:31.364Z"
   },
   {
    "duration": 15,
    "start_time": "2022-04-05T08:02:56.434Z"
   },
   {
    "duration": 15,
    "start_time": "2022-04-05T08:03:07.691Z"
   },
   {
    "duration": 14,
    "start_time": "2022-04-05T08:03:30.653Z"
   },
   {
    "duration": 14,
    "start_time": "2022-04-05T08:03:33.726Z"
   },
   {
    "duration": 776,
    "start_time": "2022-04-05T08:09:55.565Z"
   },
   {
    "duration": 836,
    "start_time": "2022-04-05T08:11:21.246Z"
   },
   {
    "duration": 6,
    "start_time": "2022-04-05T08:16:16.284Z"
   },
   {
    "duration": 4,
    "start_time": "2022-04-05T08:20:52.944Z"
   },
   {
    "duration": 8,
    "start_time": "2022-04-05T08:22:52.157Z"
   },
   {
    "duration": 4,
    "start_time": "2022-04-05T08:22:58.098Z"
   },
   {
    "duration": 23,
    "start_time": "2022-04-05T08:26:36.242Z"
   },
   {
    "duration": 332,
    "start_time": "2022-04-05T08:38:13.237Z"
   },
   {
    "duration": 333,
    "start_time": "2022-04-05T08:38:29.245Z"
   },
   {
    "duration": 24,
    "start_time": "2022-04-05T08:39:10.989Z"
   },
   {
    "duration": 341,
    "start_time": "2022-04-05T08:39:11.652Z"
   },
   {
    "duration": 18,
    "start_time": "2022-04-05T08:43:37.454Z"
   },
   {
    "duration": 6,
    "start_time": "2022-04-05T08:47:59.874Z"
   },
   {
    "duration": 3469,
    "start_time": "2022-04-05T08:48:02.076Z"
   },
   {
    "duration": 6,
    "start_time": "2022-04-05T08:48:59.528Z"
   },
   {
    "duration": 6,
    "start_time": "2022-04-05T08:49:42.362Z"
   },
   {
    "duration": 12,
    "start_time": "2022-04-05T08:51:31.747Z"
   },
   {
    "duration": 4,
    "start_time": "2022-04-05T08:53:00.631Z"
   },
   {
    "duration": 18,
    "start_time": "2022-04-05T08:55:04.649Z"
   },
   {
    "duration": 12,
    "start_time": "2022-04-05T09:04:11.497Z"
   },
   {
    "duration": 11,
    "start_time": "2022-04-05T09:05:13.724Z"
   },
   {
    "duration": 12,
    "start_time": "2022-04-05T09:06:45.409Z"
   },
   {
    "duration": 19,
    "start_time": "2022-04-05T09:08:11.370Z"
   },
   {
    "duration": 18,
    "start_time": "2022-04-05T09:08:20.546Z"
   },
   {
    "duration": 16,
    "start_time": "2022-04-05T09:08:24.491Z"
   },
   {
    "duration": 874,
    "start_time": "2022-04-05T09:08:29.099Z"
   },
   {
    "duration": 6,
    "start_time": "2022-04-05T09:08:34.301Z"
   },
   {
    "duration": 23,
    "start_time": "2022-04-05T09:08:37.373Z"
   },
   {
    "duration": 25,
    "start_time": "2022-04-05T09:08:46.026Z"
   },
   {
    "duration": 19,
    "start_time": "2022-04-05T09:09:16.320Z"
   },
   {
    "duration": 6,
    "start_time": "2022-04-05T09:09:21.959Z"
   },
   {
    "duration": 6,
    "start_time": "2022-04-05T09:09:22.488Z"
   },
   {
    "duration": 14,
    "start_time": "2022-04-05T09:09:32.130Z"
   },
   {
    "duration": 33,
    "start_time": "2022-04-05T09:09:39.630Z"
   },
   {
    "duration": 6,
    "start_time": "2022-04-05T09:10:33.996Z"
   },
   {
    "duration": 5,
    "start_time": "2022-04-05T09:10:51.320Z"
   },
   {
    "duration": 32,
    "start_time": "2022-04-05T09:12:43.830Z"
   },
   {
    "duration": 853,
    "start_time": "2022-04-05T09:19:53.203Z"
   },
   {
    "duration": 36,
    "start_time": "2022-04-05T09:20:04.159Z"
   },
   {
    "duration": 872,
    "start_time": "2022-04-05T09:29:50.308Z"
   },
   {
    "duration": 824,
    "start_time": "2022-04-05T09:31:06.063Z"
   },
   {
    "duration": 277,
    "start_time": "2022-04-05T09:31:58.466Z"
   },
   {
    "duration": 184,
    "start_time": "2022-04-05T09:32:45.845Z"
   },
   {
    "duration": 4830,
    "start_time": "2022-04-05T09:32:52.188Z"
   },
   {
    "duration": 206,
    "start_time": "2022-04-05T09:35:59.180Z"
   },
   {
    "duration": 4786,
    "start_time": "2022-04-05T09:39:43.543Z"
   },
   {
    "duration": 166,
    "start_time": "2022-04-05T09:40:04.487Z"
   },
   {
    "duration": 188,
    "start_time": "2022-04-05T09:50:46.104Z"
   },
   {
    "duration": 183,
    "start_time": "2022-04-05T09:52:22.998Z"
   },
   {
    "duration": 166,
    "start_time": "2022-04-05T09:52:27.554Z"
   },
   {
    "duration": 165,
    "start_time": "2022-04-05T09:53:14.229Z"
   },
   {
    "duration": 1192,
    "start_time": "2022-04-05T09:54:31.184Z"
   },
   {
    "duration": 289,
    "start_time": "2022-04-05T09:56:13.332Z"
   },
   {
    "duration": 182,
    "start_time": "2022-04-05T09:56:54.808Z"
   },
   {
    "duration": 1778,
    "start_time": "2022-04-05T13:06:30.694Z"
   },
   {
    "duration": 524,
    "start_time": "2022-04-05T13:06:32.475Z"
   },
   {
    "duration": 101,
    "start_time": "2022-04-05T13:06:33.598Z"
   },
   {
    "duration": 50,
    "start_time": "2022-04-05T13:06:35.167Z"
   },
   {
    "duration": 139,
    "start_time": "2022-04-05T13:06:49.119Z"
   },
   {
    "duration": 13,
    "start_time": "2022-04-05T13:06:51.427Z"
   },
   {
    "duration": 47,
    "start_time": "2022-04-05T13:06:55.665Z"
   },
   {
    "duration": 55,
    "start_time": "2022-04-05T13:06:59.578Z"
   },
   {
    "duration": 13,
    "start_time": "2022-04-05T13:07:02.053Z"
   },
   {
    "duration": 920,
    "start_time": "2022-04-05T13:07:07.654Z"
   },
   {
    "duration": 7,
    "start_time": "2022-04-05T13:07:23.537Z"
   },
   {
    "duration": 10,
    "start_time": "2022-04-05T13:07:23.974Z"
   },
   {
    "duration": 42,
    "start_time": "2022-04-05T13:07:32.424Z"
   },
   {
    "duration": 48,
    "start_time": "2022-04-05T13:07:36.559Z"
   },
   {
    "duration": 13,
    "start_time": "2022-04-05T13:07:42.478Z"
   },
   {
    "duration": 844,
    "start_time": "2022-04-05T13:07:46.887Z"
   },
   {
    "duration": 14,
    "start_time": "2022-04-05T13:07:52.650Z"
   },
   {
    "duration": 40,
    "start_time": "2022-04-05T13:08:04.756Z"
   },
   {
    "duration": 10,
    "start_time": "2022-04-05T13:10:27.255Z"
   },
   {
    "duration": 26,
    "start_time": "2022-04-05T13:10:36.299Z"
   },
   {
    "duration": 26,
    "start_time": "2022-04-05T13:11:01.968Z"
   },
   {
    "duration": 11,
    "start_time": "2022-04-05T13:11:18.563Z"
   },
   {
    "duration": 34,
    "start_time": "2022-04-05T13:11:24.272Z"
   },
   {
    "duration": 202,
    "start_time": "2022-04-05T13:11:28.451Z"
   },
   {
    "duration": 98,
    "start_time": "2022-04-05T13:11:29.577Z"
   },
   {
    "duration": 130,
    "start_time": "2022-04-05T13:11:31.470Z"
   },
   {
    "duration": 37,
    "start_time": "2022-04-05T13:11:33.143Z"
   },
   {
    "duration": 6,
    "start_time": "2022-04-05T13:11:49.713Z"
   },
   {
    "duration": 5,
    "start_time": "2022-04-05T13:11:51.295Z"
   },
   {
    "duration": 8,
    "start_time": "2022-04-05T13:12:25.697Z"
   },
   {
    "duration": 1920,
    "start_time": "2022-04-05T13:12:31.943Z"
   },
   {
    "duration": 35,
    "start_time": "2022-04-05T13:12:33.866Z"
   },
   {
    "duration": 15,
    "start_time": "2022-04-05T13:12:40.438Z"
   },
   {
    "duration": 9,
    "start_time": "2022-04-05T13:12:48.531Z"
   },
   {
    "duration": 474,
    "start_time": "2022-04-05T13:12:50.179Z"
   },
   {
    "duration": 7,
    "start_time": "2022-04-05T13:12:59.192Z"
   },
   {
    "duration": 7,
    "start_time": "2022-04-05T13:13:27.617Z"
   },
   {
    "duration": 39,
    "start_time": "2022-04-05T13:15:57.655Z"
   },
   {
    "duration": 13,
    "start_time": "2022-04-05T13:15:59.318Z"
   },
   {
    "duration": 36,
    "start_time": "2022-04-05T13:16:47.709Z"
   },
   {
    "duration": 13,
    "start_time": "2022-04-05T13:16:48.902Z"
   },
   {
    "duration": 839,
    "start_time": "2022-04-05T13:16:52.091Z"
   },
   {
    "duration": 12,
    "start_time": "2022-04-05T13:17:03.882Z"
   },
   {
    "duration": 28,
    "start_time": "2022-04-05T13:17:14.926Z"
   },
   {
    "duration": 10,
    "start_time": "2022-04-05T13:17:23.864Z"
   },
   {
    "duration": 33,
    "start_time": "2022-04-05T13:17:27.862Z"
   },
   {
    "duration": 177,
    "start_time": "2022-04-05T13:17:32.677Z"
   },
   {
    "duration": 96,
    "start_time": "2022-04-05T13:17:33.718Z"
   },
   {
    "duration": 114,
    "start_time": "2022-04-05T13:17:34.948Z"
   },
   {
    "duration": 36,
    "start_time": "2022-04-05T13:17:38.866Z"
   },
   {
    "duration": 7,
    "start_time": "2022-04-05T13:17:41.010Z"
   },
   {
    "duration": 5,
    "start_time": "2022-04-05T13:17:44.756Z"
   },
   {
    "duration": 31,
    "start_time": "2022-04-05T13:20:44.169Z"
   },
   {
    "duration": 2677,
    "start_time": "2022-04-05T13:20:45.882Z"
   },
   {
    "duration": 38,
    "start_time": "2022-04-05T13:21:10.164Z"
   },
   {
    "duration": 14,
    "start_time": "2022-04-05T13:21:11.785Z"
   },
   {
    "duration": 6,
    "start_time": "2022-04-05T13:29:44.483Z"
   },
   {
    "duration": 6,
    "start_time": "2022-04-05T13:29:45.058Z"
   },
   {
    "duration": 219,
    "start_time": "2022-04-05T13:32:29.739Z"
   },
   {
    "duration": 11,
    "start_time": "2022-04-05T13:32:39.409Z"
   },
   {
    "duration": 27,
    "start_time": "2022-04-05T13:32:47.283Z"
   },
   {
    "duration": 9,
    "start_time": "2022-04-05T13:33:02.702Z"
   },
   {
    "duration": 33,
    "start_time": "2022-04-05T13:33:05.773Z"
   },
   {
    "duration": 173,
    "start_time": "2022-04-05T13:33:07.025Z"
   },
   {
    "duration": 91,
    "start_time": "2022-04-05T13:33:07.883Z"
   },
   {
    "duration": 111,
    "start_time": "2022-04-05T13:33:08.772Z"
   },
   {
    "duration": 34,
    "start_time": "2022-04-05T13:33:09.845Z"
   },
   {
    "duration": 7,
    "start_time": "2022-04-05T13:33:11.549Z"
   },
   {
    "duration": 6,
    "start_time": "2022-04-05T13:33:12.287Z"
   },
   {
    "duration": 5,
    "start_time": "2022-04-05T13:33:21.947Z"
   },
   {
    "duration": 19,
    "start_time": "2022-04-05T13:33:53.999Z"
   },
   {
    "duration": 10,
    "start_time": "2022-04-05T13:33:55.896Z"
   },
   {
    "duration": 27,
    "start_time": "2022-04-05T13:34:10.573Z"
   },
   {
    "duration": 19,
    "start_time": "2022-04-05T13:36:25.848Z"
   },
   {
    "duration": 18,
    "start_time": "2022-04-05T13:39:27.501Z"
   },
   {
    "duration": 14,
    "start_time": "2022-04-05T13:40:20.895Z"
   },
   {
    "duration": 12,
    "start_time": "2022-04-05T13:40:35.289Z"
   },
   {
    "duration": 23,
    "start_time": "2022-04-05T13:40:40.744Z"
   },
   {
    "duration": 18,
    "start_time": "2022-04-05T13:40:51.138Z"
   },
   {
    "duration": 19,
    "start_time": "2022-04-05T13:40:59.484Z"
   },
   {
    "duration": 1745,
    "start_time": "2022-04-05T13:41:37.745Z"
   },
   {
    "duration": 25,
    "start_time": "2022-04-05T13:42:29.296Z"
   },
   {
    "duration": 2903,
    "start_time": "2022-04-05T13:42:43.274Z"
   },
   {
    "duration": 11,
    "start_time": "2022-04-05T13:43:17.198Z"
   },
   {
    "duration": 27,
    "start_time": "2022-04-05T13:43:43.884Z"
   },
   {
    "duration": 11,
    "start_time": "2022-04-05T13:43:55.730Z"
   },
   {
    "duration": 27,
    "start_time": "2022-04-05T13:44:32.205Z"
   },
   {
    "duration": 10,
    "start_time": "2022-04-05T13:44:34.750Z"
   },
   {
    "duration": 33,
    "start_time": "2022-04-05T13:44:37.035Z"
   },
   {
    "duration": 171,
    "start_time": "2022-04-05T13:44:43.076Z"
   },
   {
    "duration": 95,
    "start_time": "2022-04-05T13:44:44.031Z"
   },
   {
    "duration": 113,
    "start_time": "2022-04-05T13:44:45.132Z"
   },
   {
    "duration": 37,
    "start_time": "2022-04-05T13:44:46.480Z"
   },
   {
    "duration": 6,
    "start_time": "2022-04-05T13:45:17.399Z"
   },
   {
    "duration": 6,
    "start_time": "2022-04-05T13:45:18.045Z"
   },
   {
    "duration": 37,
    "start_time": "2022-04-05T13:51:00.498Z"
   },
   {
    "duration": 18,
    "start_time": "2022-04-05T13:51:34.691Z"
   },
   {
    "duration": 24,
    "start_time": "2022-04-05T13:51:36.810Z"
   },
   {
    "duration": 24,
    "start_time": "2022-04-05T13:51:44.881Z"
   },
   {
    "duration": 24,
    "start_time": "2022-04-05T13:52:39.132Z"
   },
   {
    "duration": 17,
    "start_time": "2022-04-05T13:52:45.333Z"
   },
   {
    "duration": 6,
    "start_time": "2022-04-05T13:53:03.464Z"
   },
   {
    "duration": 9,
    "start_time": "2022-04-05T13:54:30.611Z"
   },
   {
    "duration": 5,
    "start_time": "2022-04-05T13:54:44.246Z"
   },
   {
    "duration": 6,
    "start_time": "2022-04-05T13:57:13.161Z"
   },
   {
    "duration": 9,
    "start_time": "2022-04-05T13:57:27.506Z"
   },
   {
    "duration": 6,
    "start_time": "2022-04-05T13:57:31.679Z"
   },
   {
    "duration": 9,
    "start_time": "2022-04-05T13:58:44.705Z"
   },
   {
    "duration": 5,
    "start_time": "2022-04-05T13:59:23.707Z"
   },
   {
    "duration": 12,
    "start_time": "2022-04-05T13:59:27.846Z"
   },
   {
    "duration": 8,
    "start_time": "2022-04-05T14:00:44.180Z"
   },
   {
    "duration": 6,
    "start_time": "2022-04-05T14:01:22.195Z"
   },
   {
    "duration": 5,
    "start_time": "2022-04-05T14:01:26.483Z"
   },
   {
    "duration": 6,
    "start_time": "2022-04-05T14:01:28.379Z"
   },
   {
    "duration": 6,
    "start_time": "2022-04-05T14:01:36.659Z"
   },
   {
    "duration": 8,
    "start_time": "2022-04-05T14:01:41.391Z"
   },
   {
    "duration": 7,
    "start_time": "2022-04-05T14:01:55.355Z"
   },
   {
    "duration": 5,
    "start_time": "2022-04-05T14:02:06.976Z"
   },
   {
    "duration": 7,
    "start_time": "2022-04-05T14:02:07.625Z"
   },
   {
    "duration": 29,
    "start_time": "2022-04-05T14:03:20.921Z"
   },
   {
    "duration": 18,
    "start_time": "2022-04-05T14:03:37.395Z"
   },
   {
    "duration": 7,
    "start_time": "2022-04-05T14:03:37.986Z"
   },
   {
    "duration": 27,
    "start_time": "2022-04-05T14:03:48.229Z"
   },
   {
    "duration": 9,
    "start_time": "2022-04-05T14:03:52.421Z"
   },
   {
    "duration": 7,
    "start_time": "2022-04-05T14:03:57.033Z"
   },
   {
    "duration": 26,
    "start_time": "2022-04-05T14:04:07.687Z"
   },
   {
    "duration": 7,
    "start_time": "2022-04-05T14:04:52.394Z"
   },
   {
    "duration": 9,
    "start_time": "2022-04-05T14:05:01.243Z"
   },
   {
    "duration": 27,
    "start_time": "2022-04-05T14:05:09.619Z"
   },
   {
    "duration": 9,
    "start_time": "2022-04-05T14:05:58.164Z"
   },
   {
    "duration": 42,
    "start_time": "2022-04-05T14:05:58.802Z"
   },
   {
    "duration": 10,
    "start_time": "2022-04-05T14:06:06.630Z"
   },
   {
    "duration": 32,
    "start_time": "2022-04-05T14:06:08.151Z"
   },
   {
    "duration": 152,
    "start_time": "2022-04-05T14:06:09.427Z"
   },
   {
    "duration": 92,
    "start_time": "2022-04-05T14:06:10.656Z"
   },
   {
    "duration": 107,
    "start_time": "2022-04-05T14:06:11.637Z"
   },
   {
    "duration": 34,
    "start_time": "2022-04-05T14:06:12.754Z"
   },
   {
    "duration": 7,
    "start_time": "2022-04-05T14:06:14.041Z"
   },
   {
    "duration": 7,
    "start_time": "2022-04-05T14:10:18.563Z"
   },
   {
    "duration": 8,
    "start_time": "2022-04-05T14:11:07.759Z"
   },
   {
    "duration": 8,
    "start_time": "2022-04-05T14:12:01.515Z"
   },
   {
    "duration": 1950,
    "start_time": "2022-04-05T14:12:02.490Z"
   },
   {
    "duration": 25,
    "start_time": "2022-04-05T14:12:04.443Z"
   },
   {
    "duration": 14,
    "start_time": "2022-04-05T14:12:07.030Z"
   },
   {
    "duration": 10,
    "start_time": "2022-04-05T14:12:07.953Z"
   },
   {
    "duration": 458,
    "start_time": "2022-04-05T14:12:08.963Z"
   },
   {
    "duration": 6,
    "start_time": "2022-04-05T14:12:16.238Z"
   },
   {
    "duration": 5,
    "start_time": "2022-04-05T14:12:16.798Z"
   },
   {
    "duration": 7,
    "start_time": "2022-04-05T14:14:32.473Z"
   },
   {
    "duration": 7,
    "start_time": "2022-04-05T14:14:40.615Z"
   },
   {
    "duration": 8,
    "start_time": "2022-04-05T14:14:51.357Z"
   },
   {
    "duration": 7,
    "start_time": "2022-04-05T14:15:04.608Z"
   },
   {
    "duration": 30,
    "start_time": "2022-04-05T14:18:31.855Z"
   },
   {
    "duration": 27,
    "start_time": "2022-04-05T14:18:33.411Z"
   },
   {
    "duration": 24,
    "start_time": "2022-04-05T14:18:35.338Z"
   },
   {
    "duration": 23,
    "start_time": "2022-04-05T14:18:35.946Z"
   },
   {
    "duration": 1337,
    "start_time": "2022-04-05T14:18:37.493Z"
   },
   {
    "duration": 7,
    "start_time": "2022-04-05T14:18:39.144Z"
   },
   {
    "duration": 32,
    "start_time": "2022-04-05T14:18:40.565Z"
   },
   {
    "duration": 26,
    "start_time": "2022-04-05T14:18:42.451Z"
   },
   {
    "duration": 9,
    "start_time": "2022-04-05T14:18:43.489Z"
   },
   {
    "duration": 9,
    "start_time": "2022-04-05T14:18:54.883Z"
   },
   {
    "duration": 19,
    "start_time": "2022-04-05T14:19:03.144Z"
   },
   {
    "duration": 48,
    "start_time": "2022-04-05T14:19:03.770Z"
   },
   {
    "duration": 1557,
    "start_time": "2022-04-05T14:19:21.082Z"
   },
   {
    "duration": 56,
    "start_time": "2022-04-05T14:26:21.232Z"
   },
   {
    "duration": 2351,
    "start_time": "2022-04-05T14:39:46.134Z"
   },
   {
    "duration": 22,
    "start_time": "2022-04-05T14:41:52.169Z"
   },
   {
    "duration": 23,
    "start_time": "2022-04-05T14:55:39.235Z"
   },
   {
    "duration": 15,
    "start_time": "2022-04-05T14:55:43.082Z"
   },
   {
    "duration": 16,
    "start_time": "2022-04-05T14:56:05.874Z"
   },
   {
    "duration": 2265,
    "start_time": "2022-04-05T14:56:10.740Z"
   },
   {
    "duration": 6,
    "start_time": "2022-04-05T14:56:13.007Z"
   },
   {
    "duration": 4,
    "start_time": "2022-04-05T14:56:20.306Z"
   },
   {
    "duration": 22,
    "start_time": "2022-04-05T14:56:20.948Z"
   },
   {
    "duration": 1507,
    "start_time": "2022-04-05T14:59:06.343Z"
   },
   {
    "duration": 528,
    "start_time": "2022-04-05T14:59:07.853Z"
   },
   {
    "duration": 111,
    "start_time": "2022-04-05T14:59:08.384Z"
   },
   {
    "duration": 52,
    "start_time": "2022-04-05T14:59:08.498Z"
   },
   {
    "duration": 149,
    "start_time": "2022-04-05T14:59:08.552Z"
   },
   {
    "duration": 33,
    "start_time": "2022-04-05T14:59:08.703Z"
   },
   {
    "duration": 53,
    "start_time": "2022-04-05T14:59:08.738Z"
   },
   {
    "duration": 61,
    "start_time": "2022-04-05T14:59:08.793Z"
   },
   {
    "duration": 29,
    "start_time": "2022-04-05T14:59:08.856Z"
   },
   {
    "duration": 897,
    "start_time": "2022-04-05T14:59:08.889Z"
   },
   {
    "duration": 7,
    "start_time": "2022-04-05T14:59:09.788Z"
   },
   {
    "duration": 13,
    "start_time": "2022-04-05T14:59:09.797Z"
   },
   {
    "duration": 24,
    "start_time": "2022-04-05T14:59:09.812Z"
   },
   {
    "duration": 51,
    "start_time": "2022-04-05T14:59:09.838Z"
   },
   {
    "duration": 6,
    "start_time": "2022-04-05T14:59:09.891Z"
   },
   {
    "duration": 32,
    "start_time": "2022-04-05T14:59:09.899Z"
   },
   {
    "duration": 7,
    "start_time": "2022-04-05T14:59:09.934Z"
   },
   {
    "duration": 6,
    "start_time": "2022-04-05T14:59:09.943Z"
   },
   {
    "duration": 38,
    "start_time": "2022-04-05T14:59:09.951Z"
   },
   {
    "duration": 31,
    "start_time": "2022-04-05T14:59:09.991Z"
   },
   {
    "duration": 15,
    "start_time": "2022-04-05T14:59:10.024Z"
   },
   {
    "duration": 61,
    "start_time": "2022-04-05T14:59:10.041Z"
   },
   {
    "duration": 208,
    "start_time": "2022-04-05T14:59:10.104Z"
   },
   {
    "duration": 114,
    "start_time": "2022-04-05T14:59:10.314Z"
   },
   {
    "duration": 143,
    "start_time": "2022-04-05T14:59:10.431Z"
   },
   {
    "duration": 38,
    "start_time": "2022-04-05T14:59:10.576Z"
   },
   {
    "duration": 6,
    "start_time": "2022-04-05T14:59:10.617Z"
   },
   {
    "duration": 7,
    "start_time": "2022-04-05T14:59:10.629Z"
   },
   {
    "duration": 10,
    "start_time": "2022-04-05T14:59:10.638Z"
   },
   {
    "duration": 1824,
    "start_time": "2022-04-05T14:59:10.685Z"
   },
   {
    "duration": 27,
    "start_time": "2022-04-05T14:59:12.511Z"
   },
   {
    "duration": 20,
    "start_time": "2022-04-05T14:59:12.540Z"
   },
   {
    "duration": 10,
    "start_time": "2022-04-05T14:59:12.584Z"
   },
   {
    "duration": 468,
    "start_time": "2022-04-05T14:59:12.596Z"
   },
   {
    "duration": 6,
    "start_time": "2022-04-05T14:59:13.067Z"
   },
   {
    "duration": 15,
    "start_time": "2022-04-05T14:59:13.074Z"
   },
   {
    "duration": 31,
    "start_time": "2022-04-05T14:59:13.092Z"
   },
   {
    "duration": 30,
    "start_time": "2022-04-05T14:59:13.126Z"
   },
   {
    "duration": 45,
    "start_time": "2022-04-05T14:59:13.158Z"
   },
   {
    "duration": 26,
    "start_time": "2022-04-05T14:59:13.206Z"
   },
   {
    "duration": 53,
    "start_time": "2022-04-05T14:59:13.234Z"
   },
   {
    "duration": 1217,
    "start_time": "2022-04-05T14:59:13.289Z"
   },
   {
    "duration": 8,
    "start_time": "2022-04-05T14:59:14.508Z"
   },
   {
    "duration": 64,
    "start_time": "2022-04-05T14:59:14.518Z"
   },
   {
    "duration": 32,
    "start_time": "2022-04-05T14:59:14.584Z"
   },
   {
    "duration": 22,
    "start_time": "2022-04-05T14:59:14.618Z"
   },
   {
    "duration": 36,
    "start_time": "2022-04-05T14:59:14.643Z"
   },
   {
    "duration": 40,
    "start_time": "2022-04-05T14:59:14.681Z"
   },
   {
    "duration": 64,
    "start_time": "2022-04-05T14:59:14.723Z"
   },
   {
    "duration": 1552,
    "start_time": "2022-04-05T14:59:14.789Z"
   },
   {
    "duration": 283,
    "start_time": "2022-04-05T14:59:16.343Z"
   },
   {
    "duration": 277,
    "start_time": "2022-04-05T14:59:16.628Z"
   },
   {
    "duration": 257,
    "start_time": "2022-04-05T14:59:16.908Z"
   },
   {
    "duration": 267,
    "start_time": "2022-04-05T14:59:17.168Z"
   },
   {
    "duration": 22,
    "start_time": "2022-04-05T14:59:17.437Z"
   },
   {
    "duration": 33,
    "start_time": "2022-04-05T14:59:17.462Z"
   },
   {
    "duration": 45,
    "start_time": "2022-04-05T14:59:17.497Z"
   },
   {
    "duration": 2104,
    "start_time": "2022-04-05T14:59:17.544Z"
   },
   {
    "duration": 7,
    "start_time": "2022-04-05T14:59:19.650Z"
   },
   {
    "duration": 11,
    "start_time": "2022-04-05T14:59:19.659Z"
   },
   {
    "duration": 21,
    "start_time": "2022-04-05T14:59:19.684Z"
   },
   {
    "duration": 20,
    "start_time": "2022-04-05T15:07:52.539Z"
   },
   {
    "duration": 21,
    "start_time": "2022-04-05T15:08:00.524Z"
   },
   {
    "duration": 19,
    "start_time": "2022-04-05T15:08:32.973Z"
   },
   {
    "duration": 48,
    "start_time": "2022-04-05T15:09:21.279Z"
   },
   {
    "duration": 1191,
    "start_time": "2022-04-05T15:10:02.776Z"
   },
   {
    "duration": 275,
    "start_time": "2022-04-05T15:10:15.071Z"
   },
   {
    "duration": 245,
    "start_time": "2022-04-05T15:10:41.904Z"
   },
   {
    "duration": 232,
    "start_time": "2022-04-05T15:10:47.946Z"
   },
   {
    "duration": 19,
    "start_time": "2022-04-05T15:11:20.708Z"
   },
   {
    "duration": 20,
    "start_time": "2022-04-05T15:11:22.278Z"
   },
   {
    "duration": 18,
    "start_time": "2022-04-05T15:16:37.695Z"
   },
   {
    "duration": 17,
    "start_time": "2022-04-05T15:18:54.656Z"
   },
   {
    "duration": 15,
    "start_time": "2022-04-05T15:19:32.210Z"
   },
   {
    "duration": 13,
    "start_time": "2022-04-05T15:19:41.526Z"
   },
   {
    "duration": 18,
    "start_time": "2022-04-05T15:20:07.686Z"
   },
   {
    "duration": 1708,
    "start_time": "2022-04-06T05:23:50.234Z"
   },
   {
    "duration": 531,
    "start_time": "2022-04-06T05:23:55.573Z"
   },
   {
    "duration": 105,
    "start_time": "2022-04-06T05:24:00.749Z"
   },
   {
    "duration": 51,
    "start_time": "2022-04-06T05:24:03.011Z"
   },
   {
    "duration": 126,
    "start_time": "2022-04-06T05:24:24.494Z"
   },
   {
    "duration": 30,
    "start_time": "2022-04-06T05:49:40.160Z"
   },
   {
    "duration": 13,
    "start_time": "2022-04-06T05:51:10.251Z"
   },
   {
    "duration": 10,
    "start_time": "2022-04-06T05:51:45.833Z"
   },
   {
    "duration": 152,
    "start_time": "2022-04-06T05:51:51.294Z"
   },
   {
    "duration": 4,
    "start_time": "2022-04-06T05:52:06.547Z"
   },
   {
    "duration": 546,
    "start_time": "2022-04-06T05:52:07.497Z"
   },
   {
    "duration": 111,
    "start_time": "2022-04-06T05:52:08.836Z"
   },
   {
    "duration": 61,
    "start_time": "2022-04-06T05:52:09.857Z"
   },
   {
    "duration": 117,
    "start_time": "2022-04-06T05:52:12.023Z"
   },
   {
    "duration": 11,
    "start_time": "2022-04-06T05:52:13.374Z"
   },
   {
    "duration": 59,
    "start_time": "2022-04-06T05:52:14.375Z"
   },
   {
    "duration": 62,
    "start_time": "2022-04-06T05:52:14.966Z"
   },
   {
    "duration": 13,
    "start_time": "2022-04-06T05:52:16.355Z"
   },
   {
    "duration": 1056,
    "start_time": "2022-04-06T05:52:18.245Z"
   },
   {
    "duration": 8,
    "start_time": "2022-04-06T05:52:22.531Z"
   },
   {
    "duration": 12,
    "start_time": "2022-04-06T05:52:23.645Z"
   },
   {
    "duration": 25,
    "start_time": "2022-04-06T05:52:30.807Z"
   },
   {
    "duration": 17,
    "start_time": "2022-04-06T05:52:32.602Z"
   },
   {
    "duration": 6,
    "start_time": "2022-04-06T05:52:38.388Z"
   },
   {
    "duration": 29,
    "start_time": "2022-04-06T05:52:41.312Z"
   },
   {
    "duration": 9,
    "start_time": "2022-04-06T05:52:45.918Z"
   },
   {
    "duration": 6,
    "start_time": "2022-04-06T05:52:50.201Z"
   },
   {
    "duration": 7,
    "start_time": "2022-04-06T05:53:07.033Z"
   },
   {
    "duration": 38,
    "start_time": "2022-04-06T05:53:09.020Z"
   },
   {
    "duration": 9,
    "start_time": "2022-04-06T05:53:37.917Z"
   },
   {
    "duration": 52,
    "start_time": "2022-04-06T05:53:42.534Z"
   },
   {
    "duration": 212,
    "start_time": "2022-04-06T05:53:46.951Z"
   },
   {
    "duration": 118,
    "start_time": "2022-04-06T05:53:51.953Z"
   },
   {
    "duration": 155,
    "start_time": "2022-04-06T05:53:53.388Z"
   },
   {
    "duration": 52,
    "start_time": "2022-04-06T05:54:05.057Z"
   },
   {
    "duration": 6,
    "start_time": "2022-04-06T05:54:10.556Z"
   },
   {
    "duration": 7,
    "start_time": "2022-04-06T05:54:15.234Z"
   },
   {
    "duration": 8,
    "start_time": "2022-04-06T05:54:21.498Z"
   },
   {
    "duration": 2224,
    "start_time": "2022-04-06T05:54:25.214Z"
   },
   {
    "duration": 26,
    "start_time": "2022-04-06T05:54:32.427Z"
   },
   {
    "duration": 14,
    "start_time": "2022-04-06T05:54:42.214Z"
   },
   {
    "duration": 10,
    "start_time": "2022-04-06T05:54:48.665Z"
   },
   {
    "duration": 1079,
    "start_time": "2022-04-06T05:54:49.671Z"
   },
   {
    "duration": 7,
    "start_time": "2022-04-06T05:55:09.546Z"
   },
   {
    "duration": 8,
    "start_time": "2022-04-06T05:55:10.044Z"
   },
   {
    "duration": 6,
    "start_time": "2022-04-06T05:55:10.616Z"
   },
   {
    "duration": 29,
    "start_time": "2022-04-06T05:55:14.942Z"
   },
   {
    "duration": 29,
    "start_time": "2022-04-06T05:55:23.058Z"
   },
   {
    "duration": 34,
    "start_time": "2022-04-06T05:55:45.155Z"
   },
   {
    "duration": 25,
    "start_time": "2022-04-06T05:56:10.916Z"
   },
   {
    "duration": 28,
    "start_time": "2022-04-06T05:56:18.557Z"
   },
   {
    "duration": 1164,
    "start_time": "2022-04-06T05:56:35.333Z"
   },
   {
    "duration": 8,
    "start_time": "2022-04-06T05:56:42.911Z"
   },
   {
    "duration": 34,
    "start_time": "2022-04-06T05:57:14.110Z"
   },
   {
    "duration": 32,
    "start_time": "2022-04-06T05:58:34.383Z"
   },
   {
    "duration": 9,
    "start_time": "2022-04-06T05:58:49.260Z"
   },
   {
    "duration": 9,
    "start_time": "2022-04-06T05:58:53.091Z"
   },
   {
    "duration": 18,
    "start_time": "2022-04-06T06:04:07.853Z"
   },
   {
    "duration": 57,
    "start_time": "2022-04-06T06:04:09.250Z"
   },
   {
    "duration": 1292,
    "start_time": "2022-04-06T06:04:14.536Z"
   },
   {
    "duration": 395,
    "start_time": "2022-04-06T06:04:16.536Z"
   },
   {
    "duration": 311,
    "start_time": "2022-04-06T06:04:53.294Z"
   },
   {
    "duration": 259,
    "start_time": "2022-04-06T06:04:54.919Z"
   },
   {
    "duration": 21,
    "start_time": "2022-04-06T06:04:58.330Z"
   },
   {
    "duration": 17,
    "start_time": "2022-04-06T06:05:03.834Z"
   },
   {
    "duration": 13,
    "start_time": "2022-04-06T06:05:23.490Z"
   },
   {
    "duration": 23,
    "start_time": "2022-04-06T06:05:42.912Z"
   },
   {
    "duration": 2076,
    "start_time": "2022-04-06T06:05:46.719Z"
   },
   {
    "duration": 7,
    "start_time": "2022-04-06T06:05:48.798Z"
   },
   {
    "duration": 4,
    "start_time": "2022-04-06T06:05:52.250Z"
   },
   {
    "duration": 22,
    "start_time": "2022-04-06T06:05:52.797Z"
   },
   {
    "duration": 11,
    "start_time": "2022-04-06T06:27:20.068Z"
   },
   {
    "duration": 38,
    "start_time": "2022-04-06T06:27:21.064Z"
   },
   {
    "duration": 5,
    "start_time": "2022-04-06T06:27:43.835Z"
   },
   {
    "duration": 11,
    "start_time": "2022-04-06T06:27:46.772Z"
   },
   {
    "duration": 2258,
    "start_time": "2022-04-06T06:27:48.186Z"
   },
   {
    "duration": 51,
    "start_time": "2022-04-06T06:27:50.447Z"
   },
   {
    "duration": 15,
    "start_time": "2022-04-06T06:28:04.053Z"
   },
   {
    "duration": 10,
    "start_time": "2022-04-06T06:28:11.511Z"
   },
   {
    "duration": 23,
    "start_time": "2022-04-06T06:28:14.807Z"
   },
   {
    "duration": 6,
    "start_time": "2022-04-06T06:28:23.434Z"
   },
   {
    "duration": 7,
    "start_time": "2022-04-06T06:28:24.530Z"
   },
   {
    "duration": 9,
    "start_time": "2022-04-06T06:29:41.434Z"
   },
   {
    "duration": 2936,
    "start_time": "2022-04-06T06:29:42.592Z"
   },
   {
    "duration": 139,
    "start_time": "2022-04-06T06:32:33.435Z"
   },
   {
    "duration": 38,
    "start_time": "2022-04-06T06:32:38.734Z"
   },
   {
    "duration": 2284,
    "start_time": "2022-04-06T06:32:45.041Z"
   },
   {
    "duration": 25,
    "start_time": "2022-04-06T06:34:09.443Z"
   },
   {
    "duration": 17,
    "start_time": "2022-04-06T06:34:10.387Z"
   },
   {
    "duration": 7,
    "start_time": "2022-04-06T06:34:11.352Z"
   },
   {
    "duration": 32,
    "start_time": "2022-04-06T06:34:15.266Z"
   },
   {
    "duration": 31,
    "start_time": "2022-04-06T06:34:18.854Z"
   },
   {
    "duration": 10,
    "start_time": "2022-04-06T06:35:19.442Z"
   },
   {
    "duration": 32,
    "start_time": "2022-04-06T06:35:24.408Z"
   },
   {
    "duration": 187,
    "start_time": "2022-04-06T06:35:29.064Z"
   },
   {
    "duration": 101,
    "start_time": "2022-04-06T06:35:31.599Z"
   },
   {
    "duration": 114,
    "start_time": "2022-04-06T06:35:32.630Z"
   },
   {
    "duration": 37,
    "start_time": "2022-04-06T06:35:35.193Z"
   },
   {
    "duration": 8,
    "start_time": "2022-04-06T06:35:40.051Z"
   },
   {
    "duration": 2239,
    "start_time": "2022-04-06T06:35:48.024Z"
   },
   {
    "duration": 0,
    "start_time": "2022-04-06T06:35:50.266Z"
   },
   {
    "duration": 0,
    "start_time": "2022-04-06T06:35:50.267Z"
   },
   {
    "duration": 23,
    "start_time": "2022-04-06T06:36:36.604Z"
   },
   {
    "duration": 9,
    "start_time": "2022-04-06T06:36:41.060Z"
   },
   {
    "duration": 2731,
    "start_time": "2022-04-06T06:37:30.386Z"
   },
   {
    "duration": 1452,
    "start_time": "2022-04-06T06:38:54.869Z"
   },
   {
    "duration": 520,
    "start_time": "2022-04-06T06:38:56.324Z"
   },
   {
    "duration": 104,
    "start_time": "2022-04-06T06:38:56.846Z"
   },
   {
    "duration": 64,
    "start_time": "2022-04-06T06:38:56.953Z"
   },
   {
    "duration": 141,
    "start_time": "2022-04-06T06:38:57.019Z"
   },
   {
    "duration": 19,
    "start_time": "2022-04-06T06:38:57.163Z"
   },
   {
    "duration": 49,
    "start_time": "2022-04-06T06:38:57.186Z"
   },
   {
    "duration": 86,
    "start_time": "2022-04-06T06:38:57.237Z"
   },
   {
    "duration": 12,
    "start_time": "2022-04-06T06:38:57.326Z"
   },
   {
    "duration": 912,
    "start_time": "2022-04-06T06:38:57.342Z"
   },
   {
    "duration": 6,
    "start_time": "2022-04-06T06:38:58.256Z"
   },
   {
    "duration": 13,
    "start_time": "2022-04-06T06:38:58.274Z"
   },
   {
    "duration": 28,
    "start_time": "2022-04-06T06:38:58.290Z"
   },
   {
    "duration": 16,
    "start_time": "2022-04-06T06:38:58.320Z"
   },
   {
    "duration": 38,
    "start_time": "2022-04-06T06:38:58.338Z"
   },
   {
    "duration": 33,
    "start_time": "2022-04-06T06:38:58.379Z"
   },
   {
    "duration": 21,
    "start_time": "2022-04-06T06:38:58.415Z"
   },
   {
    "duration": 44,
    "start_time": "2022-04-06T06:38:58.439Z"
   },
   {
    "duration": 38,
    "start_time": "2022-04-06T06:38:58.486Z"
   },
   {
    "duration": 228,
    "start_time": "2022-04-06T06:38:58.526Z"
   },
   {
    "duration": 112,
    "start_time": "2022-04-06T06:38:58.757Z"
   },
   {
    "duration": 144,
    "start_time": "2022-04-06T06:38:58.875Z"
   },
   {
    "duration": 35,
    "start_time": "2022-04-06T06:38:59.021Z"
   },
   {
    "duration": 19,
    "start_time": "2022-04-06T06:38:59.058Z"
   },
   {
    "duration": 2509,
    "start_time": "2022-04-06T06:38:59.080Z"
   },
   {
    "duration": 0,
    "start_time": "2022-04-06T06:39:01.593Z"
   },
   {
    "duration": 0,
    "start_time": "2022-04-06T06:39:01.595Z"
   },
   {
    "duration": 0,
    "start_time": "2022-04-06T06:39:01.596Z"
   },
   {
    "duration": 0,
    "start_time": "2022-04-06T06:39:01.598Z"
   },
   {
    "duration": 0,
    "start_time": "2022-04-06T06:39:01.599Z"
   },
   {
    "duration": 0,
    "start_time": "2022-04-06T06:39:01.600Z"
   },
   {
    "duration": 0,
    "start_time": "2022-04-06T06:39:01.601Z"
   },
   {
    "duration": 0,
    "start_time": "2022-04-06T06:39:01.603Z"
   },
   {
    "duration": 0,
    "start_time": "2022-04-06T06:39:01.604Z"
   },
   {
    "duration": 0,
    "start_time": "2022-04-06T06:39:01.605Z"
   },
   {
    "duration": 0,
    "start_time": "2022-04-06T06:39:01.606Z"
   },
   {
    "duration": 0,
    "start_time": "2022-04-06T06:39:01.608Z"
   },
   {
    "duration": 0,
    "start_time": "2022-04-06T06:39:01.609Z"
   },
   {
    "duration": 0,
    "start_time": "2022-04-06T06:39:01.611Z"
   },
   {
    "duration": 0,
    "start_time": "2022-04-06T06:39:01.612Z"
   },
   {
    "duration": 0,
    "start_time": "2022-04-06T06:39:01.613Z"
   },
   {
    "duration": 0,
    "start_time": "2022-04-06T06:39:01.615Z"
   },
   {
    "duration": 0,
    "start_time": "2022-04-06T06:39:01.616Z"
   },
   {
    "duration": 1,
    "start_time": "2022-04-06T06:39:01.617Z"
   },
   {
    "duration": 0,
    "start_time": "2022-04-06T06:39:01.619Z"
   },
   {
    "duration": 0,
    "start_time": "2022-04-06T06:39:01.620Z"
   },
   {
    "duration": 0,
    "start_time": "2022-04-06T06:39:01.622Z"
   },
   {
    "duration": 0,
    "start_time": "2022-04-06T06:39:01.623Z"
   },
   {
    "duration": 0,
    "start_time": "2022-04-06T06:39:01.624Z"
   },
   {
    "duration": 0,
    "start_time": "2022-04-06T06:39:01.625Z"
   },
   {
    "duration": 0,
    "start_time": "2022-04-06T06:39:01.627Z"
   },
   {
    "duration": 0,
    "start_time": "2022-04-06T06:39:01.628Z"
   },
   {
    "duration": 0,
    "start_time": "2022-04-06T06:39:01.629Z"
   },
   {
    "duration": 0,
    "start_time": "2022-04-06T06:39:01.675Z"
   },
   {
    "duration": 0,
    "start_time": "2022-04-06T06:39:01.678Z"
   },
   {
    "duration": 0,
    "start_time": "2022-04-06T06:39:01.680Z"
   },
   {
    "duration": 0,
    "start_time": "2022-04-06T06:39:01.683Z"
   },
   {
    "duration": 13,
    "start_time": "2022-04-06T06:40:45.566Z"
   },
   {
    "duration": 1904,
    "start_time": "2022-04-06T06:40:50.489Z"
   },
   {
    "duration": 28,
    "start_time": "2022-04-06T06:40:52.395Z"
   },
   {
    "duration": 14,
    "start_time": "2022-04-06T06:41:03.174Z"
   },
   {
    "duration": 27,
    "start_time": "2022-04-06T06:41:05.380Z"
   },
   {
    "duration": 11,
    "start_time": "2022-04-06T06:41:24.997Z"
   },
   {
    "duration": 510,
    "start_time": "2022-04-06T06:41:25.798Z"
   },
   {
    "duration": 2440,
    "start_time": "2022-04-06T06:41:56.880Z"
   },
   {
    "duration": 0,
    "start_time": "2022-04-06T06:41:59.323Z"
   },
   {
    "duration": 6,
    "start_time": "2022-04-06T06:41:59.331Z"
   },
   {
    "duration": 12,
    "start_time": "2022-04-06T06:44:19.822Z"
   },
   {
    "duration": 12,
    "start_time": "2022-04-06T06:46:52.725Z"
   },
   {
    "duration": 9,
    "start_time": "2022-04-06T06:47:02.415Z"
   },
   {
    "duration": 30,
    "start_time": "2022-04-06T06:48:36.003Z"
   },
   {
    "duration": 28,
    "start_time": "2022-04-06T06:48:44.031Z"
   },
   {
    "duration": 21,
    "start_time": "2022-04-06T06:48:55.490Z"
   },
   {
    "duration": 21,
    "start_time": "2022-04-06T06:48:56.190Z"
   },
   {
    "duration": 1241,
    "start_time": "2022-04-06T06:49:04.081Z"
   },
   {
    "duration": 9,
    "start_time": "2022-04-06T06:49:11.186Z"
   },
   {
    "duration": 44,
    "start_time": "2022-04-06T06:52:23.047Z"
   },
   {
    "duration": 27,
    "start_time": "2022-04-06T06:52:58.033Z"
   },
   {
    "duration": 11,
    "start_time": "2022-04-06T06:53:09.805Z"
   },
   {
    "duration": 9,
    "start_time": "2022-04-06T06:53:13.630Z"
   },
   {
    "duration": 20,
    "start_time": "2022-04-06T07:09:53.721Z"
   },
   {
    "duration": 47,
    "start_time": "2022-04-06T07:09:58.928Z"
   },
   {
    "duration": 1236,
    "start_time": "2022-04-06T07:10:23.503Z"
   },
   {
    "duration": 373,
    "start_time": "2022-04-06T07:13:48.052Z"
   },
   {
    "duration": 256,
    "start_time": "2022-04-06T07:13:52.894Z"
   },
   {
    "duration": 264,
    "start_time": "2022-04-06T07:13:53.565Z"
   },
   {
    "duration": 359,
    "start_time": "2022-04-06T07:14:19.452Z"
   },
   {
    "duration": 20,
    "start_time": "2022-04-06T07:14:32.621Z"
   },
   {
    "duration": 18,
    "start_time": "2022-04-06T07:14:35.949Z"
   },
   {
    "duration": 13,
    "start_time": "2022-04-06T07:17:47.787Z"
   },
   {
    "duration": 17,
    "start_time": "2022-04-06T07:17:54.591Z"
   },
   {
    "duration": 2023,
    "start_time": "2022-04-06T07:18:22.627Z"
   },
   {
    "duration": 7,
    "start_time": "2022-04-06T07:18:24.653Z"
   },
   {
    "duration": 5,
    "start_time": "2022-04-06T07:18:30.455Z"
   },
   {
    "duration": 22,
    "start_time": "2022-04-06T07:18:31.263Z"
   },
   {
    "duration": 1273,
    "start_time": "2022-04-06T18:13:54.910Z"
   },
   {
    "duration": 357,
    "start_time": "2022-04-06T18:13:56.185Z"
   },
   {
    "duration": 66,
    "start_time": "2022-04-06T18:13:56.543Z"
   },
   {
    "duration": 34,
    "start_time": "2022-04-06T18:13:56.611Z"
   },
   {
    "duration": 75,
    "start_time": "2022-04-06T18:13:56.646Z"
   },
   {
    "duration": 14,
    "start_time": "2022-04-06T18:13:56.723Z"
   },
   {
    "duration": 29,
    "start_time": "2022-04-06T18:13:56.739Z"
   },
   {
    "duration": 42,
    "start_time": "2022-04-06T18:13:56.770Z"
   },
   {
    "duration": 8,
    "start_time": "2022-04-06T18:13:56.814Z"
   },
   {
    "duration": 760,
    "start_time": "2022-04-06T18:13:56.824Z"
   },
   {
    "duration": 6,
    "start_time": "2022-04-06T18:13:57.586Z"
   },
   {
    "duration": 11,
    "start_time": "2022-04-06T18:13:57.593Z"
   },
   {
    "duration": 16,
    "start_time": "2022-04-06T18:13:57.605Z"
   },
   {
    "duration": 25,
    "start_time": "2022-04-06T18:13:57.623Z"
   },
   {
    "duration": 4,
    "start_time": "2022-04-06T18:13:57.649Z"
   },
   {
    "duration": 23,
    "start_time": "2022-04-06T18:13:57.655Z"
   },
   {
    "duration": 13,
    "start_time": "2022-04-06T18:13:57.679Z"
   },
   {
    "duration": 6,
    "start_time": "2022-04-06T18:13:57.694Z"
   },
   {
    "duration": 48,
    "start_time": "2022-04-06T18:13:57.702Z"
   },
   {
    "duration": 134,
    "start_time": "2022-04-06T18:13:57.751Z"
   },
   {
    "duration": 70,
    "start_time": "2022-04-06T18:13:57.887Z"
   },
   {
    "duration": 84,
    "start_time": "2022-04-06T18:13:57.959Z"
   },
   {
    "duration": 23,
    "start_time": "2022-04-06T18:13:58.045Z"
   },
   {
    "duration": 4,
    "start_time": "2022-04-06T18:13:58.069Z"
   },
   {
    "duration": 9,
    "start_time": "2022-04-06T18:13:58.075Z"
   },
   {
    "duration": 939,
    "start_time": "2022-04-06T18:13:58.086Z"
   },
   {
    "duration": 19,
    "start_time": "2022-04-06T18:13:59.026Z"
   },
   {
    "duration": 5,
    "start_time": "2022-04-06T18:13:59.049Z"
   },
   {
    "duration": 241,
    "start_time": "2022-04-06T18:13:59.056Z"
   },
   {
    "duration": 6,
    "start_time": "2022-04-06T18:13:59.299Z"
   },
   {
    "duration": 32,
    "start_time": "2022-04-06T18:13:59.307Z"
   },
   {
    "duration": 17,
    "start_time": "2022-04-06T18:13:59.341Z"
   },
   {
    "duration": 49,
    "start_time": "2022-04-06T18:13:59.360Z"
   },
   {
    "duration": 16,
    "start_time": "2022-04-06T18:13:59.411Z"
   },
   {
    "duration": 671,
    "start_time": "2022-04-06T18:13:59.429Z"
   },
   {
    "duration": 6,
    "start_time": "2022-04-06T18:14:00.102Z"
   },
   {
    "duration": 37,
    "start_time": "2022-04-06T18:14:00.110Z"
   },
   {
    "duration": 19,
    "start_time": "2022-04-06T18:14:00.149Z"
   },
   {
    "duration": 7,
    "start_time": "2022-04-06T18:14:00.170Z"
   },
   {
    "duration": 12,
    "start_time": "2022-04-06T18:14:00.178Z"
   },
   {
    "duration": 23,
    "start_time": "2022-04-06T18:14:00.191Z"
   },
   {
    "duration": 46,
    "start_time": "2022-04-06T18:14:00.216Z"
   },
   {
    "duration": 793,
    "start_time": "2022-04-06T18:14:00.264Z"
   },
   {
    "duration": 264,
    "start_time": "2022-04-06T18:14:01.060Z"
   },
   {
    "duration": 163,
    "start_time": "2022-04-06T18:14:01.326Z"
   },
   {
    "duration": 166,
    "start_time": "2022-04-06T18:14:01.491Z"
   },
   {
    "duration": 13,
    "start_time": "2022-04-06T18:14:01.659Z"
   },
   {
    "duration": 19,
    "start_time": "2022-04-06T18:14:01.674Z"
   },
   {
    "duration": 22,
    "start_time": "2022-04-06T18:14:01.695Z"
   },
   {
    "duration": 50,
    "start_time": "2022-04-06T18:14:01.719Z"
   },
   {
    "duration": 962,
    "start_time": "2022-04-06T18:14:01.771Z"
   },
   {
    "duration": 5,
    "start_time": "2022-04-06T18:14:02.735Z"
   },
   {
    "duration": 15,
    "start_time": "2022-04-06T18:14:02.742Z"
   },
   {
    "duration": 21,
    "start_time": "2022-04-06T18:14:02.759Z"
   }
  ],
  "kernelspec": {
   "display_name": "Python 3 (ipykernel)",
   "language": "python",
   "name": "python3"
  },
  "language_info": {
   "codemirror_mode": {
    "name": "ipython",
    "version": 3
   },
   "file_extension": ".py",
   "mimetype": "text/x-python",
   "name": "python",
   "nbconvert_exporter": "python",
   "pygments_lexer": "ipython3",
   "version": "3.9.7"
  },
  "toc": {
   "base_numbering": 1,
   "nav_menu": {},
   "number_sections": true,
   "sideBar": true,
   "skip_h1_title": true,
   "title_cell": "Table of Contents",
   "title_sidebar": "Contents",
   "toc_cell": false,
   "toc_position": {
    "height": "calc(100% - 180px)",
    "left": "10px",
    "top": "150px",
    "width": "165px"
   },
   "toc_section_display": true,
   "toc_window_display": true
  }
 },
 "nbformat": 4,
 "nbformat_minor": 2
}
